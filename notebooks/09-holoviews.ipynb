{
 "cells": [
  {
   "cell_type": "markdown",
   "metadata": {
    "collapsed": true
   },
   "source": [
    "Next, let's look at something that actually goes about and implements `bokeh` (and does a bunch of other things besides): `holoviews`. `holoviews` is a high-level plotting library designed for evil geniuses which takes all of the innovations in the current Python plotting stack and turns them all up to 11.\n",
    "\n",
    "It also has JS in it, so we have to enable it first."
   ]
  },
  {
   "cell_type": "code",
   "execution_count": 2,
   "metadata": {
    "collapsed": false
   },
   "outputs": [
    {
     "name": "stderr",
     "output_type": "stream",
     "text": [
      "/home/alex/miniconda3/envs/plotting-tools/lib/python3.6/site-packages/matplotlib/cbook.py:136: MatplotlibDeprecationWarning: The spectral and spectral_r colormap was deprecated in version 2.0. Use nipy_spectral and nipy_spectral_r instead.\n",
      "  warnings.warn(message, mplDeprecation, stacklevel=1)\n"
     ]
    },
    {
     "data": {
      "text/html": [
       "\n",
       "<script src=\"https://code.jquery.com/ui/1.10.4/jquery-ui.min.js\" type=\"text/javascript\"></script>\n",
       "<script type=\"text/javascript\">function HoloViewsWidget(){\n",
       "}\n",
       "\n",
       "HoloViewsWidget.prototype.init_slider = function(init_val){\n",
       "\tif(this.load_json) {\n",
       "\t\tthis.from_json()\n",
       "\t} else {\n",
       "\t\tthis.update_cache();\n",
       "\t}\n",
       "}\n",
       "\n",
       "HoloViewsWidget.prototype.populate_cache = function(idx){\n",
       "    this.cache[idx].html(this.frames[idx]);\n",
       "    if (this.embed) {\n",
       "        delete this.frames[idx];\n",
       "    }\n",
       "}\n",
       "\n",
       "HoloViewsWidget.prototype.process_error = function(msg){\n",
       "\n",
       "}\n",
       "\n",
       "HoloViewsWidget.prototype.from_json = function() {\n",
       "\tvar data_url = this.json_path + this.id + '.json';\n",
       "\t$.getJSON(data_url, $.proxy(function(json_data) {\n",
       "\t\tthis.frames = json_data;\n",
       "\t\tthis.update_cache();\n",
       "\t\tthis.update(0);\n",
       "\t}, this));\n",
       "}\n",
       "\n",
       "HoloViewsWidget.prototype.dynamic_update = function(current){\n",
       "    function callback(msg){\n",
       "        /* This callback receives data from Python as a string\n",
       "         in order to parse it correctly quotes are sliced off*/\n",
       "        var data = msg.content.data['text/plain'].slice(1, -1);\n",
       "        this.frames[current] = data;\n",
       "        this.update_cache();\n",
       "        this.update(current);\n",
       "    }\n",
       "    if(!(current in this.cache)) {\n",
       "        var kernel = IPython.notebook.kernel;\n",
       "        callbacks = {iopub: {output: $.proxy(callback, this)}};\n",
       "        var cmd = \"holoviews.plotting.widgets.NdWidget.widgets['\" + this.id + \"'].update(\" + current + \")\";\n",
       "        kernel.execute(\"import holoviews;\" + cmd, callbacks, {silent : false});\n",
       "    } else {\n",
       "        this.update(current);\n",
       "    }\n",
       "}\n",
       "\n",
       "HoloViewsWidget.prototype.update_cache = function(){\n",
       "    var frame_len = Object.keys(this.frames).length;\n",
       "    for (var i=0; i<frame_len; i++) {\n",
       "        if(!this.load_json || this.dynamic)  {\n",
       "            frame = Object.keys(this.frames)[i];\n",
       "        } else {\n",
       "            frame = i;\n",
       "        }\n",
       "        if(!(frame in this.cache)) {\n",
       "            this.cache[frame] = $('<div />').appendTo(\"#\" + this.img_id).hide();\n",
       "            var cache_id = this.img_id+\"_\"+frame;\n",
       "            this.cache[frame].attr(\"id\", cache_id);\n",
       "            this.populate_cache(frame);\n",
       "        }\n",
       "    }\n",
       "}\n",
       "\n",
       "HoloViewsWidget.prototype.update = function(current){\n",
       "    if(current in this.cache) {\n",
       "        $.each(this.cache, function(index, value) {\n",
       "            value.hide();\n",
       "        });\n",
       "        this.cache[current].show();\n",
       "\t\tthis.wait = false;\n",
       "    }\n",
       "}\n",
       "\n",
       "\n",
       "function SelectionWidget(frames, id, slider_ids, keyMap, dim_vals, notFound, load_json, mode, cached, json_path, dynamic){\n",
       "    this.frames = frames;\n",
       "    this.fig_id = \"fig_\" + id;\n",
       "    this.img_id = \"_anim_img\" + id;\n",
       "    this.id = id;\n",
       "    this.slider_ids = slider_ids;\n",
       "    this.keyMap = keyMap\n",
       "    this.current_frame = 0;\n",
       "    this.current_vals = dim_vals;\n",
       "    this.load_json = load_json;\n",
       "    this.mode = mode;\n",
       "    this.notFound = notFound;\n",
       "    this.cached = cached;\n",
       "    this.dynamic = dynamic;\n",
       "    this.cache = {};\n",
       "\tthis.json_path = json_path;\n",
       "    this.init_slider(this.current_vals[0]);\n",
       "\tthis.queue = [];\n",
       "\tthis.wait = false;\n",
       "}\n",
       "\n",
       "SelectionWidget.prototype = new HoloViewsWidget;\n",
       "\n",
       "\n",
       "SelectionWidget.prototype.get_key = function(current_vals) {\n",
       "\tvar key = \"(\";\n",
       "    for (var i=0; i<this.slider_ids.length; i++)\n",
       "    {\n",
       "        val = this.current_vals[i];\n",
       "        if (!(typeof val === 'string')) {\n",
       "            if (val % 1 === 0) { var fixed = 1;}\n",
       "            else { var fixed = 10;}\n",
       "            val = val.toFixed(fixed)\n",
       "        }\n",
       "        key += \"'\" + val + \"'\";\n",
       "        if(i != this.slider_ids.length-1) { key += ', ';}\n",
       "        else if(this.slider_ids.length == 1) { key += ',';}\n",
       "    }\n",
       "    key += \")\";\n",
       "\treturn this.keyMap[key];\n",
       "}\n",
       "\n",
       "SelectionWidget.prototype.set_frame = function(dim_val, dim_idx){\n",
       "\tthis.current_vals[dim_idx] = dim_val;\n",
       "    var current = this.get_key(this.current_vals);\n",
       "    if(current === undefined && !this.dynamic) {\n",
       "        return\n",
       "    }\n",
       "\tif (this.dynamic || !this.cached) {\n",
       "\t\tif (this.time === undefined) {\n",
       "\t\t\t// Do nothing the first time\n",
       "\t\t} else if ((this.timed === undefined) || ((this.time + this.timed) > Date.now())) {\n",
       "\t\t\tvar key = this.current_vals;\n",
       "\t\t\tif (!this.dynamic) {\n",
       "\t\t\t\tkey = this.get_key(key);\n",
       "\t\t\t}\n",
       "\t\t\tthis.queue.push(key);\n",
       "\t\t\treturn\n",
       "\t\t}\n",
       "\t}\n",
       "\tthis.queue = [];\n",
       "\tthis.time = Date.now();\n",
       "    if(this.dynamic) {\n",
       "        this.dynamic_update(this.current_vals)\n",
       "        return;\n",
       "    }\n",
       "    this.current_frame = current;\n",
       "    if(this.cached) {\n",
       "        this.update(current)\n",
       "    } else {\n",
       "        this.dynamic_update(current)\n",
       "    }\n",
       "}\n",
       "\n",
       "\n",
       "/* Define the ScrubberWidget class */\n",
       "function ScrubberWidget(frames, num_frames, id, interval, load_json, mode, cached, json_path, dynamic){\n",
       "    this.img_id = \"_anim_img\" + id;\n",
       "    this.slider_id = \"_anim_slider\" + id;\n",
       "    this.loop_select_id = \"_anim_loop_select\" + id;\n",
       "    this.id = id;\n",
       "    this.fig_id = \"fig_\" + id;\n",
       "    this.interval = interval;\n",
       "    this.current_frame = 0;\n",
       "    this.direction = 0;\n",
       "    this.dynamic = dynamic;\n",
       "    this.timer = null;\n",
       "    this.load_json = load_json;\n",
       "    this.mode = mode;\n",
       "    this.cached = cached;\n",
       "    this.frames = frames;\n",
       "    this.cache = {};\n",
       "    this.length = num_frames;\n",
       "\tthis.json_path = json_path;\n",
       "    document.getElementById(this.slider_id).max = this.length - 1;\n",
       "    this.init_slider(0);\n",
       "\tthis.wait = false;\n",
       "\tthis.queue = [];\n",
       "}\n",
       "\n",
       "ScrubberWidget.prototype = new HoloViewsWidget;\n",
       "\n",
       "ScrubberWidget.prototype.set_frame = function(frame){\n",
       "\tthis.current_frame = frame;\n",
       "\twidget = document.getElementById(this.slider_id);\n",
       "    if (widget === null) {\n",
       "        this.pause_animation();\n",
       "        return\n",
       "    }\n",
       "    widget.value = this.current_frame;\n",
       "    if(this.cached) {\n",
       "        this.update(frame)\n",
       "    } else {\n",
       "        this.dynamic_update(frame)\n",
       "    }\n",
       "}\n",
       "\n",
       "\n",
       "ScrubberWidget.prototype.process_error = function(msg){\n",
       "\tif (msg.content.ename === 'StopIteration') {\n",
       "\t\tthis.pause_animation();\n",
       "\t\tthis.stopped = true;\n",
       "\t\tvar keys = Object.keys(this.frames)\n",
       "\t\tthis.length = keys.length;\n",
       "\t\tdocument.getElementById(this.slider_id).max = this.length-1;\n",
       "\t\tdocument.getElementById(this.slider_id).value = this.length-1;\n",
       "\t\tthis.current_frame = this.length-1;\n",
       "\t}\n",
       "}\n",
       "\n",
       "\n",
       "ScrubberWidget.prototype.get_loop_state = function(){\n",
       "    var button_group = document[this.loop_select_id].state;\n",
       "    for (var i = 0; i < button_group.length; i++) {\n",
       "        var button = button_group[i];\n",
       "        if (button.checked) {\n",
       "            return button.value;\n",
       "        }\n",
       "    }\n",
       "    return undefined;\n",
       "}\n",
       "\n",
       "\n",
       "ScrubberWidget.prototype.next_frame = function() {\n",
       "\tif (this.dynamic || !this.cached) {\n",
       "\t\tif (this.wait) {\n",
       "\t\t\treturn\n",
       "\t\t}\n",
       "\t\tthis.wait = true;\n",
       "\t}\n",
       "\tif (this.dynamic && this.current_frame + 1 >= this.length) {\n",
       "\t\tthis.length += 1;\n",
       "        document.getElementById(this.slider_id).max = this.length-1;\n",
       "\t}\n",
       "    this.set_frame(Math.min(this.length - 1, this.current_frame + 1));\n",
       "}\n",
       "\n",
       "ScrubberWidget.prototype.previous_frame = function() {\n",
       "    this.set_frame(Math.max(0, this.current_frame - 1));\n",
       "}\n",
       "\n",
       "ScrubberWidget.prototype.first_frame = function() {\n",
       "    this.set_frame(0);\n",
       "}\n",
       "\n",
       "ScrubberWidget.prototype.last_frame = function() {\n",
       "    this.set_frame(this.length - 1);\n",
       "}\n",
       "\n",
       "ScrubberWidget.prototype.slower = function() {\n",
       "    this.interval /= 0.7;\n",
       "    if(this.direction > 0){this.play_animation();}\n",
       "    else if(this.direction < 0){this.reverse_animation();}\n",
       "}\n",
       "\n",
       "ScrubberWidget.prototype.faster = function() {\n",
       "    this.interval *= 0.7;\n",
       "    if(this.direction > 0){this.play_animation();}\n",
       "    else if(this.direction < 0){this.reverse_animation();}\n",
       "}\n",
       "\n",
       "ScrubberWidget.prototype.anim_step_forward = function() {\n",
       "    if(this.current_frame < this.length || (this.dynamic && !this.stopped)){\n",
       "        this.next_frame();\n",
       "    }else{\n",
       "        var loop_state = this.get_loop_state();\n",
       "        if(loop_state == \"loop\"){\n",
       "            this.first_frame();\n",
       "        }else if(loop_state == \"reflect\"){\n",
       "            this.last_frame();\n",
       "            this.reverse_animation();\n",
       "        }else{\n",
       "            this.pause_animation();\n",
       "            this.last_frame();\n",
       "        }\n",
       "    }\n",
       "}\n",
       "\n",
       "ScrubberWidget.prototype.anim_step_reverse = function() {\n",
       "    this.current_frame -= 1;\n",
       "    if(this.current_frame >= 0){\n",
       "        this.set_frame(this.current_frame);\n",
       "    } else {\n",
       "        var loop_state = this.get_loop_state();\n",
       "        if(loop_state == \"loop\"){\n",
       "            this.last_frame();\n",
       "        }else if(loop_state == \"reflect\"){\n",
       "            this.first_frame();\n",
       "            this.play_animation();\n",
       "        }else{\n",
       "            this.pause_animation();\n",
       "            this.first_frame();\n",
       "        }\n",
       "    }\n",
       "}\n",
       "\n",
       "ScrubberWidget.prototype.pause_animation = function() {\n",
       "    this.direction = 0;\n",
       "    if (this.timer){\n",
       "        clearInterval(this.timer);\n",
       "        this.timer = null;\n",
       "    }\n",
       "}\n",
       "\n",
       "ScrubberWidget.prototype.play_animation = function() {\n",
       "    this.pause_animation();\n",
       "    this.direction = 1;\n",
       "    var t = this;\n",
       "    if (!this.timer) this.timer = setInterval(function(){t.anim_step_forward();}, this.interval);\n",
       "}\n",
       "\n",
       "ScrubberWidget.prototype.reverse_animation = function() {\n",
       "    this.pause_animation();\n",
       "    this.direction = -1;\n",
       "    var t = this;\n",
       "    if (!this.timer) this.timer = setInterval(function(){t.anim_step_reverse();}, this.interval);\n",
       "}\n",
       "\n",
       "function extend(destination, source) {\n",
       "    for (var k in source) {\n",
       "        if (source.hasOwnProperty(k)) {\n",
       "            destination[k] = source[k];\n",
       "        }\n",
       "    }\n",
       "    return destination;\n",
       "}\n",
       "\n",
       "function update_widget(widget, values) {\n",
       "\tif (widget.hasClass(\"ui-slider\")) {\n",
       "\t\twidget.slider('option',\n",
       "\t\t\t\t\t  {'min': 0, 'max': values.length-1,\n",
       "\t\t\t\t\t   'dim_vals': values, 'value': 0,\n",
       "\t\t\t\t\t   'dim_labels': values})\n",
       "\t\twidget.slider('option', 'slide').call(widget, event, {'value': 0})\n",
       "\t} else {\n",
       "\t\twidget.empty();\n",
       "\t\tfor (var i=0; i<values.length; i++){\n",
       "\t\t\twidget.append($(\"<option>\", {\n",
       "\t\t\t\tvalue: i,\n",
       "\t\t\t\ttext: values[i]\n",
       "\t\t\t}))};\n",
       "\t\twidget.data('values', values);\n",
       "\t\twidget.data('value', 0);\n",
       "\t\twidget.trigger(\"change\");\n",
       "\t};\n",
       "}\n",
       "\n",
       "// Define MPL specific subclasses\n",
       "function MPLSelectionWidget() {\n",
       "\tSelectionWidget.apply(this, arguments);\n",
       "}\n",
       "\n",
       "function MPLScrubberWidget() {\n",
       "\tScrubberWidget.apply(this, arguments);\n",
       "}\n",
       "\n",
       "// Let them inherit from the baseclasses\n",
       "MPLSelectionWidget.prototype = Object.create(SelectionWidget.prototype);\n",
       "MPLScrubberWidget.prototype = Object.create(ScrubberWidget.prototype);\n",
       "\n",
       "// Define methods to override on widgets\n",
       "var MPLMethods = {\n",
       "\tinit_slider : function(init_val){\n",
       "\t\tif(this.load_json) {\n",
       "\t\t\tthis.from_json()\n",
       "\t\t} else {\n",
       "\t\t\tthis.update_cache();\n",
       "\t\t}\n",
       "\t\tthis.update(0);\n",
       "\t\tif(this.mode == 'nbagg') {\n",
       "\t\t\tthis.set_frame(init_val, 0);\n",
       "\t\t}\n",
       "\t},\n",
       "\tpopulate_cache : function(idx){\n",
       "\t\tvar cache_id = this.img_id+\"_\"+idx;\n",
       "\t\tif(this.mode == 'mpld3') {\n",
       "\t\t\tmpld3.draw_figure(cache_id, this.frames[idx]);\n",
       "\t\t} else {\n",
       "\t\t\tthis.cache[idx].html(this.frames[idx]);\n",
       "\t\t}\n",
       "\t\tif (this.embed) {\n",
       "\t\t\tdelete this.frames[idx];\n",
       "\t\t}\n",
       "\t},\n",
       "\tdynamic_update : function(current){\n",
       "\t\tif (this.dynamic) {\n",
       "\t\t\tcurrent = JSON.stringify(current);\n",
       "\t\t}\n",
       "\t\tfunction callback(msg){\n",
       "\t\t\t/* This callback receives data from Python as a string\n",
       "\t\t\t in order to parse it correctly quotes are sliced off*/\n",
       "\t\t\tif (msg.content.ename != undefined) {\n",
       "\t\t\t\tthis.process_error(msg);\n",
       "\t\t\t}\n",
       "\t\t\tif (msg.msg_type != \"execute_result\") {\n",
       "\t\t\t\tconsole.log(\"Warning: HoloViews callback returned unexpected data for key: (\", current, \") with the following content:\", msg.content)\n",
       "\t\t\t\tthis.time = undefined;\n",
       "\t\t\t\treturn\n",
       "\t\t\t}\n",
       "\t\t\tif (!(this.mode == 'nbagg')) {\n",
       "\t\t\t\tif(!(current in this.cache)) {\n",
       "\t\t\t\t\tvar data = msg.content.data['text/plain'].slice(1, -1);\n",
       "\t\t\t\t\tif(this.mode == 'mpld3'){\n",
       "\t\t\t\t\t\tdata = JSON.parse(data)[0];\n",
       "\t\t\t\t\t}\n",
       "\t\t\t\t\tthis.frames[current] = data;\n",
       "\t\t\t\t\tthis.update_cache();\n",
       "\t\t\t\t}\n",
       "\t\t\t\tthis.update(current);\n",
       "\t\t\t}\n",
       "\t\t\tthis.timed = (Date.now() - this.time) * 1.5;\n",
       "\t\t\tthis.wait = false;\n",
       "\t\t\tif (this.queue.length > 0) {\n",
       "\t\t\t\tvar current_vals = this.queue[this.queue.length-1];\n",
       "\t\t\t\tthis.time = Date.now();\n",
       "\t\t\t\tthis.dynamic_update(current_vals);\n",
       "\t\t\t\tthis.queue = [];\n",
       "\t\t\t}\n",
       "\t\t}\n",
       "\t\tvar kernel = IPython.notebook.kernel;\n",
       "\t\tcallbacks = {iopub: {output: $.proxy(callback, this)}};\n",
       "\t\tvar cmd = \"holoviews.plotting.widgets.NdWidget.widgets['\" + this.id + \"'].update(\" + current + \")\";\n",
       "\t\tkernel.execute(\"import holoviews;\" + cmd, callbacks, {silent : false});\n",
       "\t}\n",
       "}\n",
       "\n",
       "// Extend MPL widgets with backend specific methods\n",
       "extend(MPLSelectionWidget.prototype, MPLMethods);\n",
       "extend(MPLScrubberWidget.prototype, MPLMethods);\n",
       "</script>\n",
       "\n",
       "\n",
       "<link rel=\"stylesheet\" href=\"https://code.jquery.com/ui/1.10.4/themes/smoothness/jquery-ui.css\">\n",
       "<style>div.hololayout {\n",
       "    display: flex;\n",
       "    align-items: center;\n",
       "    margin: 0;\n",
       "}\n",
       "\n",
       "div.holoframe {\n",
       "\twidth: 75%;\n",
       "}\n",
       "\n",
       "div.holowell {\n",
       "    display: flex;\n",
       "    align-items: center;\n",
       "    margin: 0;\n",
       "}\n",
       "\n",
       "form.holoform {\n",
       "    background-color: #fafafa;\n",
       "    border-radius: 5px;\n",
       "    overflow: hidden;\n",
       "\tpadding-left: 0.8em;\n",
       "    padding-right: 0.8em;\n",
       "    padding-top: 0.4em;\n",
       "    padding-bottom: 0.4em;\n",
       "}\n",
       "\n",
       "div.holowidgets {\n",
       "    padding-right: 0;\n",
       "\twidth: 25%;\n",
       "}\n",
       "\n",
       "div.holoslider {\n",
       "    min-height: 0 !important;\n",
       "    height: 0.8em;\n",
       "    width: 60%;\n",
       "}\n",
       "\n",
       "div.holoformgroup {\n",
       "    padding-top: 0.5em;\n",
       "    margin-bottom: 0.5em;\n",
       "}\n",
       "\n",
       "div.hologroup {\n",
       "    padding-left: 0;\n",
       "    padding-right: 0.8em;\n",
       "    width: 50%;\n",
       "}\n",
       "\n",
       ".holoselect {\n",
       "    width: 92%;\n",
       "    margin-left: 0;\n",
       "    margin-right: 0;\n",
       "}\n",
       "\n",
       ".holotext {\n",
       "    width: 100%;\n",
       "    padding-left:  0.5em;\n",
       "    padding-right: 0;\n",
       "}\n",
       "\n",
       ".holowidgets .ui-resizable-se {\n",
       "\tvisibility: hidden\n",
       "}\n",
       "\n",
       ".holoframe > .ui-resizable-se {\n",
       "\tvisibility: hidden\n",
       "}\n",
       "\n",
       ".holowidgets .ui-resizable-s {\n",
       "\tvisibility: hidden\n",
       "}\n",
       "</style>\n",
       "\n",
       "\n",
       "<div>\n",
       "<img src='data:image/png;base64,iVBORw0KGgoAAAANSUhEUgAAABkAAAAZCAIAAABLixI0AAAACXBIWXMAAAsTAAALEwEAmpwYAAAAB3RJTUUH3wkCDDIOi3cusgAABT1JREFUOMtVlclvG2UYh3/fMovHe53FThySNHZomrRJl6QR0AJdpVblQBEHJC4ciipxAgmO3PgPEP8BQkIsRUJUSF1oqGih0JY2CtnjOLGz2Em8xPbMeL6Pw9RJOprLjPT+5tH7Pu83JE7pqeHh8wMD2evfyXMXf/nxB2FZo6dPNzVHvvr6GxMQeOEigARswNzzUgK6x8NagPzS0nqxODQ62nLn1xMnX99/eLC3sGVROj2/IBxHABKgANlzM4ACTuMRAOecNREiAWtzc0NIEu/M37zVMTWeqlrpUDg1M7NTVgdkowwvxqGRRV1CE8jOznq7uhYAi2CpXtdVVQE4QAAdCAAGwAAJyEa9Amh7PsAihBBAABrg1XUfpe3bxTXb8XR0WJa1VSzWGyAcUAEVoIAARIMOQH2HC4AA6lKW8/n9Pm/Ahl4zV8fGTg0PtzQ3K3tA3GId8AO+BqZLt8sFQKE0GouRSkWtFM63KV0Vy1rJhN44k56cFFI6exJ3MBWANACVHS63aw5QtutVVT/4xWfHv/0ylytmHvx56sIFLxACfIABGIAf8ANRn++9y5evXrkS0XWXd5dLJWRfOHwspA1tr4iFtP3gD8/apjCtSDiyQYhZKNA94wOQTCQPhfzm9FTJH8jn84Tz3SyPlEQ4vf0Dt5/MPE5vpVObzQbxqvaDdL731MnWnh5pmsxxdE3rTCZfO3u2FbL6+2+hzpcKwXA2ldrNUgAVII7TMXhkZnzcAQTgAWI6sgV7YmKivLra1tFxMJk4Ho/r5fLy3btsYS7JHL1YoeHQKldKhcLzLNcdlRDOWDgczuVyOtDt4yN9gRYVmc161TTLmYw9P9e8OHcU5dG2fa3EmhNyKjGwROmzZ8+YqlIAKsDd9jtOenIy1t8vgDJQtuvYrjRT0kMQBRIUQxqSXkSDUIO0YAulvdfxGk/u33eVZs2EeBvu6gCjtKW7Oz81xQBhI73mtATQn/BuZ6wTrezsYX+1Jn+aNR8sl9Zb47l4/O+HD2u27QDgnHUQwhvKuFmRaLS2tkZsmwJSQpqIUzHYyynndx5t/1Vy5gXyhMhorEJIKpViQB0QnFNlZzkbdExRhBAckIAFbFXFetkpg94er004WK6jCniamrRAYHlmxhXFtWTXVfW50SQYDjvVKm+YHVMR10G5VAGrcWAohkEVpbC1RRo7QN2mS0BzuQiJHziwMTurAwrgBTo95NVjnshb3XaF9q1MTM7VeWNv6kJQgAISYAAHuARUQAHA2NCZM35KJ27c6KA4YiBXJlpVro5bkaGN2mStsCy8gAXobpyU7iFhAgxQAB40jMHh4WhnJ6nVpsfGVjOZUQMhi40k9K1FqQZI4ogffd3k33GPobTb5kCIFmriEYjgnABao60KwD68eCnz5PH0vXsr4+OsVIpRvNmpnLvQEozRpm5vxAP107dx+RMlvGTcmw7Xle6DwZlsdbZY05qbAq2ta9msCkhAcM4+yv+3uFZWAA+gA5pEaUOUnpaMohb+/BK7+j76r4IliFoyAv9EjsZ4ZbMmyOKqmdvciiWTL4+OUsY8mkY554d7okGyciuHqgQFVIABlkJ9fV44FLFrz8ecuIZ3u6offzD1fSnFmJSgle35mzcdVQ1Eo23B4Eh7lJdWNgZGohM/r5QAjZEoaDzi0TfKPlFDV/KF35mqs0NN1v3iRrqqAT7Xbdti6UXPImKZaf5SQiUBtAIG0OVXXnmnDUJWb9nET7D8VPba7pAJTKRnxPUpI+v0BXlApZPrlgDaCTke1VqaaLZC/wesjSVVF5Ac7QAAAABJRU5ErkJggg=='\n",
       "     style='width:25px;height:25px; border-radius:12px;'/>\n",
       "\n",
       "HoloViewsJS successfully loaded in this cell.\n",
       "</div>\n"
      ],
      "text/plain": [
       "<IPython.core.display.HTML object>"
      ]
     },
     "metadata": {},
     "output_type": "display_data"
    }
   ],
   "source": [
    "import holoviews as hv\n",
    "hv.notebook_extension()"
   ]
  },
  {
   "cell_type": "markdown",
   "metadata": {},
   "source": [
    "Here's our `meat` scatter plot again:"
   ]
  },
  {
   "cell_type": "code",
   "execution_count": 1,
   "metadata": {
    "collapsed": true
   },
   "outputs": [],
   "source": [
    "from ggplot import meat"
   ]
  },
  {
   "cell_type": "code",
   "execution_count": 3,
   "metadata": {
    "collapsed": false,
    "scrolled": false
   },
   "outputs": [
    {
     "data": {
      "text/html": [
       "<div>\n",
       "<table border=\"1\" class=\"dataframe\">\n",
       "  <thead>\n",
       "    <tr style=\"text-align: right;\">\n",
       "      <th></th>\n",
       "      <th>date</th>\n",
       "      <th>beef</th>\n",
       "      <th>veal</th>\n",
       "      <th>pork</th>\n",
       "      <th>lamb_and_mutton</th>\n",
       "      <th>broilers</th>\n",
       "      <th>other_chicken</th>\n",
       "      <th>turkey</th>\n",
       "    </tr>\n",
       "  </thead>\n",
       "  <tbody>\n",
       "    <tr>\n",
       "      <th>0</th>\n",
       "      <td>1944-01-01</td>\n",
       "      <td>751.0</td>\n",
       "      <td>85.0</td>\n",
       "      <td>1280.0</td>\n",
       "      <td>89.0</td>\n",
       "      <td>NaN</td>\n",
       "      <td>NaN</td>\n",
       "      <td>NaN</td>\n",
       "    </tr>\n",
       "    <tr>\n",
       "      <th>1</th>\n",
       "      <td>1944-02-01</td>\n",
       "      <td>713.0</td>\n",
       "      <td>77.0</td>\n",
       "      <td>1169.0</td>\n",
       "      <td>72.0</td>\n",
       "      <td>NaN</td>\n",
       "      <td>NaN</td>\n",
       "      <td>NaN</td>\n",
       "    </tr>\n",
       "    <tr>\n",
       "      <th>2</th>\n",
       "      <td>1944-03-01</td>\n",
       "      <td>741.0</td>\n",
       "      <td>90.0</td>\n",
       "      <td>1128.0</td>\n",
       "      <td>75.0</td>\n",
       "      <td>NaN</td>\n",
       "      <td>NaN</td>\n",
       "      <td>NaN</td>\n",
       "    </tr>\n",
       "    <tr>\n",
       "      <th>3</th>\n",
       "      <td>1944-04-01</td>\n",
       "      <td>650.0</td>\n",
       "      <td>89.0</td>\n",
       "      <td>978.0</td>\n",
       "      <td>66.0</td>\n",
       "      <td>NaN</td>\n",
       "      <td>NaN</td>\n",
       "      <td>NaN</td>\n",
       "    </tr>\n",
       "    <tr>\n",
       "      <th>4</th>\n",
       "      <td>1944-05-01</td>\n",
       "      <td>681.0</td>\n",
       "      <td>106.0</td>\n",
       "      <td>1029.0</td>\n",
       "      <td>78.0</td>\n",
       "      <td>NaN</td>\n",
       "      <td>NaN</td>\n",
       "      <td>NaN</td>\n",
       "    </tr>\n",
       "  </tbody>\n",
       "</table>\n",
       "</div>"
      ],
      "text/plain": [
       "        date   beef   veal    pork  lamb_and_mutton  broilers  other_chicken  \\\n",
       "0 1944-01-01  751.0   85.0  1280.0             89.0       NaN            NaN   \n",
       "1 1944-02-01  713.0   77.0  1169.0             72.0       NaN            NaN   \n",
       "2 1944-03-01  741.0   90.0  1128.0             75.0       NaN            NaN   \n",
       "3 1944-04-01  650.0   89.0   978.0             66.0       NaN            NaN   \n",
       "4 1944-05-01  681.0  106.0  1029.0             78.0       NaN            NaN   \n",
       "\n",
       "   turkey  \n",
       "0     NaN  \n",
       "1     NaN  \n",
       "2     NaN  \n",
       "3     NaN  \n",
       "4     NaN  "
      ]
     },
     "execution_count": 3,
     "metadata": {},
     "output_type": "execute_result"
    }
   ],
   "source": [
    "meat.head()"
   ]
  },
  {
   "cell_type": "code",
   "execution_count": 5,
   "metadata": {
    "collapsed": false
   },
   "outputs": [
    {
     "data": {
      "text/html": [
       "<img src='data:image/png;base64,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' style='max-width:100%; margin: auto; display: block; '/>"
      ],
      "text/plain": [
       "b':Scatter   [x]   (y)'"
      ]
     },
     "execution_count": 5,
     "metadata": {},
     "output_type": "execute_result"
    }
   ],
   "source": [
    "df = meat['beef']\n",
    "\n",
    "hv.Scatter(df)"
   ]
  },
  {
   "cell_type": "markdown",
   "metadata": {},
   "source": [
    "`holoviews` has a grammar of graphic syntax for plot composition. It's implemented differently from `ggpy`, though. The `+` is used for faceting:"
   ]
  },
  {
   "cell_type": "code",
   "execution_count": 6,
   "metadata": {
    "collapsed": false
   },
   "outputs": [
    {
     "data": {
      "text/html": [
       "<img src='data:image/png;base64,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' style='max-width:100%; margin: auto; display: block; '/>"
      ],
      "text/plain": [
       ":Layout\n",
       "   .Scatter.I :Scatter   [x]   (y)\n",
       "   .Curve.I   :Curve   [x]   (y)"
      ]
     },
     "execution_count": 6,
     "metadata": {},
     "output_type": "execute_result"
    }
   ],
   "source": [
    "hv.Scatter(df) + hv.Curve(df)"
   ]
  },
  {
   "cell_type": "markdown",
   "metadata": {},
   "source": [
    "While a `*` is used for composing:"
   ]
  },
  {
   "cell_type": "code",
   "execution_count": 7,
   "metadata": {
    "collapsed": false
   },
   "outputs": [
    {
     "data": {
      "text/html": [
       "<img src='data:image/png;base64,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' style='max-width:100%; margin: auto; display: block; '/>"
      ],
      "text/plain": [
       ":Overlay\n",
       "   .Scatter.I :Scatter   [x]   (y)\n",
       "   .Curve.I   :Curve   [x]   (y)"
      ]
     },
     "execution_count": 7,
     "metadata": {},
     "output_type": "execute_result"
    }
   ],
   "source": [
    "hv.Scatter(df) * hv.Curve(df)"
   ]
  },
  {
   "cell_type": "markdown",
   "metadata": {},
   "source": [
    "This is great because it takes better advantage of the syntax we have available to us for composing the charts. Having a single operator, as in `ggpy`, makes faceting feel like a separate operation from everything else, because it's the only one that requires a lot of tuning...\n",
    "\n",
    "Using another operator for this *feels* right, and I think it's a great API decision."
   ]
  },
  {
   "cell_type": "markdown",
   "metadata": {},
   "source": [
    "Another interesting API feature is the fact that we can use function chaining to set style options:"
   ]
  },
  {
   "cell_type": "code",
   "execution_count": 10,
   "metadata": {
    "collapsed": false
   },
   "outputs": [
    {
     "data": {
      "text/html": [
       "<img src='data:image/png;base64,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' style='max-width:100%; margin: auto; display: block; '/>"
      ],
      "text/plain": [
       ":Overlay\n",
       "   .Scatter.I :Scatter   [x]   (y)\n",
       "   .Curve.I   :Curve   [x]   (y)"
      ]
     },
     "execution_count": 10,
     "metadata": {},
     "output_type": "execute_result"
    }
   ],
   "source": [
    "hv.Scatter(df) * hv.Curve(df)(style={'color': 'lightsteelblue'})"
   ]
  },
  {
   "cell_type": "markdown",
   "metadata": {},
   "source": [
    "However, for this you'll probably want to instead use an interesting feature of `holoviews` that none of the other libraries we've seen so far have taken advantage of: line magic!"
   ]
  },
  {
   "cell_type": "code",
   "execution_count": 11,
   "metadata": {
    "collapsed": false
   },
   "outputs": [
    {
     "data": {
      "text/html": [
       "<img src='data:image/png;base64,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' style='max-width:100%; margin: auto; display: block; '/>"
      ],
      "text/plain": [
       ":Overlay\n",
       "   .Scatter.I :Scatter   [x]   (y)\n",
       "   .Curve.I   :Curve   [x]   (y)"
      ]
     },
     "execution_count": 11,
     "metadata": {},
     "output_type": "execute_result"
    }
   ],
   "source": [
    "%opts Curve style(color='lightsteelblue')\n",
    "\n",
    "hv.Scatter(df) * hv.Curve(df)"
   ]
  },
  {
   "cell_type": "markdown",
   "metadata": {},
   "source": [
    "If you've never seen them before, magics are shebangs provided in the Jupyter notebook environment which can used to modify the code you run in the cell that follows. That's a lot of extensibility that you can take advantage of. \n",
    "\n",
    "Magics are really powerful because they have access to all of the code that comes after them in the cell. They range from relatively simple things, like a cross-platform `%ls` function..."
   ]
  },
  {
   "cell_type": "code",
   "execution_count": 12,
   "metadata": {
    "collapsed": false
   },
   "outputs": [
    {
     "name": "stdout",
     "output_type": "stream",
     "text": [
      "01-pandas.ipynb      07-plotly.ipynb     dev.ipynb\r\n",
      "02-seaborn.ipynb     08-bokeh.ipynb      holoviews-screwball-1.ipynb\r\n",
      "03-matplotlib.ipynb  09-holoviews.ipynb  holoviews-screwball-2.ipynb\r\n",
      "04-ggplot.ipynb      10-bqplot.ipynb     Top 20 Zip Codes Bar Chart.ipynb\r\n",
      "05-pygal.ipynb       11-altair.ipynb\r\n",
      "06-mpld3.ipynb       Bar Chart.ipynb\r\n"
     ]
    }
   ],
   "source": [
    "%ls"
   ]
  },
  {
   "cell_type": "markdown",
   "metadata": {},
   "source": [
    "...to more complicated things like watermarking:"
   ]
  },
  {
   "cell_type": "code",
   "execution_count": 15,
   "metadata": {
    "collapsed": false
   },
   "outputs": [
    {
     "name": "stdout",
     "output_type": "stream",
     "text": [
      "2017-02-20T22:42:45-05:00\n",
      "\n",
      "CPython 3.6.0\n",
      "IPython 5.2.2\n",
      "\n",
      "compiler   : GCC 4.4.7 20120313 (Red Hat 4.4.7-1)\n",
      "system     : Linux\n",
      "release    : 4.8.0-36-generic\n",
      "machine    : x86_64\n",
      "processor  : x86_64\n",
      "CPU cores  : 4\n",
      "interpreter: 64bit\n"
     ]
    }
   ],
   "source": [
    "%load_ext watermark\n",
    "\n",
    "%watermark"
   ]
  },
  {
   "cell_type": "markdown",
   "metadata": {},
   "source": [
    "You can even use it to embed entire other languages in your environment, if you're clever about it.\n",
    "\n",
    "I'm sure there are others, but `holoviews` is the only library I'm personally aware of that uses magics aggressively as part of its own API. That's another interesting innovation that this library implements that's really worth exploring."
   ]
  },
  {
   "cell_type": "markdown",
   "metadata": {},
   "source": [
    "...continue..."
   ]
  }
 ],
 "metadata": {
  "kernelspec": {
   "display_name": "Python 3",
   "language": "python",
   "name": "python3"
  },
  "language_info": {
   "codemirror_mode": {
    "name": "ipython",
    "version": 3
   },
   "file_extension": ".py",
   "mimetype": "text/x-python",
   "name": "python",
   "nbconvert_exporter": "python",
   "pygments_lexer": "ipython3",
   "version": "3.6.0"
  }
 },
 "nbformat": 4,
 "nbformat_minor": 2
}
