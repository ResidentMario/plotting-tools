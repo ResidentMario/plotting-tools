{
 "cells": [
  {
   "cell_type": "markdown",
   "metadata": {},
   "source": [
    "## Load the Data"
   ]
  },
  {
   "cell_type": "code",
   "execution_count": 1,
   "metadata": {
    "collapsed": true
   },
   "outputs": [],
   "source": [
    "import pandas as pd\n",
    "pd.set_option(\"max_columns\", None)"
   ]
  },
  {
   "cell_type": "code",
   "execution_count": 2,
   "metadata": {
    "collapsed": true
   },
   "outputs": [],
   "source": [
    "collisions = pd.read_csv(\"../data/NYPD_Motor_Vehicle_Collisions_2016.csv\", index_col=0)"
   ]
  },
  {
   "cell_type": "code",
   "execution_count": 3,
   "metadata": {
    "collapsed": false
   },
   "outputs": [
    {
     "data": {
      "text/html": [
       "<div>\n",
       "<table border=\"1\" class=\"dataframe\">\n",
       "  <thead>\n",
       "    <tr style=\"text-align: right;\">\n",
       "      <th></th>\n",
       "      <th>DATE</th>\n",
       "      <th>TIME</th>\n",
       "      <th>BOROUGH</th>\n",
       "      <th>ZIP CODE</th>\n",
       "      <th>LATITUDE</th>\n",
       "      <th>LONGITUDE</th>\n",
       "      <th>LOCATION</th>\n",
       "      <th>ON STREET NAME</th>\n",
       "      <th>CROSS STREET NAME</th>\n",
       "      <th>OFF STREET NAME</th>\n",
       "      <th>NUMBER OF PERSONS INJURED</th>\n",
       "      <th>NUMBER OF PERSONS KILLED</th>\n",
       "      <th>NUMBER OF PEDESTRIANS INJURED</th>\n",
       "      <th>NUMBER OF PEDESTRIANS KILLED</th>\n",
       "      <th>NUMBER OF CYCLIST INJURED</th>\n",
       "      <th>NUMBER OF CYCLIST KILLED</th>\n",
       "      <th>NUMBER OF MOTORIST INJURED</th>\n",
       "      <th>NUMBER OF MOTORIST KILLED</th>\n",
       "      <th>CONTRIBUTING FACTOR VEHICLE 1</th>\n",
       "      <th>CONTRIBUTING FACTOR VEHICLE 2</th>\n",
       "      <th>CONTRIBUTING FACTOR VEHICLE 3</th>\n",
       "      <th>CONTRIBUTING FACTOR VEHICLE 4</th>\n",
       "      <th>CONTRIBUTING FACTOR VEHICLE 5</th>\n",
       "      <th>UNIQUE KEY</th>\n",
       "      <th>VEHICLE TYPE CODE 1</th>\n",
       "      <th>VEHICLE TYPE CODE 2</th>\n",
       "      <th>VEHICLE TYPE CODE 3</th>\n",
       "      <th>VEHICLE TYPE CODE 4</th>\n",
       "      <th>VEHICLE TYPE CODE 5</th>\n",
       "    </tr>\n",
       "  </thead>\n",
       "  <tbody>\n",
       "    <tr>\n",
       "      <th>0</th>\n",
       "      <td>11/10/2016</td>\n",
       "      <td>15:11</td>\n",
       "      <td>NaN</td>\n",
       "      <td>NaN</td>\n",
       "      <td>NaN</td>\n",
       "      <td>NaN</td>\n",
       "      <td>NaN</td>\n",
       "      <td>MONROE STREET</td>\n",
       "      <td>NaN</td>\n",
       "      <td>NaN</td>\n",
       "      <td>0</td>\n",
       "      <td>0</td>\n",
       "      <td>0</td>\n",
       "      <td>0</td>\n",
       "      <td>0</td>\n",
       "      <td>0</td>\n",
       "      <td>0</td>\n",
       "      <td>0</td>\n",
       "      <td>Driver Inattention/Distraction</td>\n",
       "      <td>Unspecified</td>\n",
       "      <td>NaN</td>\n",
       "      <td>NaN</td>\n",
       "      <td>NaN</td>\n",
       "      <td>3559084</td>\n",
       "      <td>PASSENGER VEHICLE</td>\n",
       "      <td>NaN</td>\n",
       "      <td>NaN</td>\n",
       "      <td>NaN</td>\n",
       "      <td>NaN</td>\n",
       "    </tr>\n",
       "    <tr>\n",
       "      <th>1</th>\n",
       "      <td>04/16/2016</td>\n",
       "      <td>4:13</td>\n",
       "      <td>NaN</td>\n",
       "      <td>NaN</td>\n",
       "      <td>40.767373</td>\n",
       "      <td>-73.950057</td>\n",
       "      <td>(40.767373, -73.9500574)</td>\n",
       "      <td>EAST 68 STREET</td>\n",
       "      <td>NaN</td>\n",
       "      <td>NaN</td>\n",
       "      <td>1</td>\n",
       "      <td>0</td>\n",
       "      <td>0</td>\n",
       "      <td>0</td>\n",
       "      <td>0</td>\n",
       "      <td>0</td>\n",
       "      <td>1</td>\n",
       "      <td>0</td>\n",
       "      <td>Fatigued/Drowsy</td>\n",
       "      <td>Fatigued/Drowsy</td>\n",
       "      <td>Fatigued/Drowsy</td>\n",
       "      <td>NaN</td>\n",
       "      <td>NaN</td>\n",
       "      <td>3408932</td>\n",
       "      <td>PASSENGER VEHICLE</td>\n",
       "      <td>PASSENGER VEHICLE</td>\n",
       "      <td>PASSENGER VEHICLE</td>\n",
       "      <td>NaN</td>\n",
       "      <td>NaN</td>\n",
       "    </tr>\n",
       "    <tr>\n",
       "      <th>2</th>\n",
       "      <td>04/16/2016</td>\n",
       "      <td>4:22</td>\n",
       "      <td>NaN</td>\n",
       "      <td>NaN</td>\n",
       "      <td>NaN</td>\n",
       "      <td>NaN</td>\n",
       "      <td>NaN</td>\n",
       "      <td>BORDEN AVENUE</td>\n",
       "      <td>58TH STREET</td>\n",
       "      <td>NaN</td>\n",
       "      <td>1</td>\n",
       "      <td>0</td>\n",
       "      <td>1</td>\n",
       "      <td>0</td>\n",
       "      <td>0</td>\n",
       "      <td>0</td>\n",
       "      <td>0</td>\n",
       "      <td>0</td>\n",
       "      <td>Passenger Distraction</td>\n",
       "      <td>NaN</td>\n",
       "      <td>NaN</td>\n",
       "      <td>NaN</td>\n",
       "      <td>NaN</td>\n",
       "      <td>3425902</td>\n",
       "      <td>NaN</td>\n",
       "      <td>NaN</td>\n",
       "      <td>NaN</td>\n",
       "      <td>NaN</td>\n",
       "      <td>NaN</td>\n",
       "    </tr>\n",
       "    <tr>\n",
       "      <th>3</th>\n",
       "      <td>04/16/2016</td>\n",
       "      <td>4:30</td>\n",
       "      <td>BRONX</td>\n",
       "      <td>10468.0</td>\n",
       "      <td>40.862679</td>\n",
       "      <td>-73.909040</td>\n",
       "      <td>(40.8626793, -73.9090397)</td>\n",
       "      <td>SEDGWICK AVENUE</td>\n",
       "      <td>WEST FORDHAM ROAD</td>\n",
       "      <td>NaN</td>\n",
       "      <td>0</td>\n",
       "      <td>0</td>\n",
       "      <td>0</td>\n",
       "      <td>0</td>\n",
       "      <td>0</td>\n",
       "      <td>0</td>\n",
       "      <td>0</td>\n",
       "      <td>0</td>\n",
       "      <td>Alcohol Involvement</td>\n",
       "      <td>NaN</td>\n",
       "      <td>NaN</td>\n",
       "      <td>NaN</td>\n",
       "      <td>NaN</td>\n",
       "      <td>3414396</td>\n",
       "      <td>PASSENGER VEHICLE</td>\n",
       "      <td>NaN</td>\n",
       "      <td>NaN</td>\n",
       "      <td>NaN</td>\n",
       "      <td>NaN</td>\n",
       "    </tr>\n",
       "    <tr>\n",
       "      <th>4</th>\n",
       "      <td>04/16/2016</td>\n",
       "      <td>4:30</td>\n",
       "      <td>BROOKLYN</td>\n",
       "      <td>11249.0</td>\n",
       "      <td>40.716508</td>\n",
       "      <td>-73.961275</td>\n",
       "      <td>(40.7165078, -73.9612751)</td>\n",
       "      <td>NaN</td>\n",
       "      <td>NaN</td>\n",
       "      <td>203 BERRY STREET</td>\n",
       "      <td>0</td>\n",
       "      <td>0</td>\n",
       "      <td>0</td>\n",
       "      <td>0</td>\n",
       "      <td>0</td>\n",
       "      <td>0</td>\n",
       "      <td>0</td>\n",
       "      <td>0</td>\n",
       "      <td>Unspecified</td>\n",
       "      <td>Unspecified</td>\n",
       "      <td>NaN</td>\n",
       "      <td>NaN</td>\n",
       "      <td>NaN</td>\n",
       "      <td>3421852</td>\n",
       "      <td>PASSENGER VEHICLE</td>\n",
       "      <td>PASSENGER VEHICLE</td>\n",
       "      <td>NaN</td>\n",
       "      <td>NaN</td>\n",
       "      <td>NaN</td>\n",
       "    </tr>\n",
       "  </tbody>\n",
       "</table>\n",
       "</div>"
      ],
      "text/plain": [
       "         DATE   TIME   BOROUGH  ZIP CODE   LATITUDE  LONGITUDE  \\\n",
       "0  11/10/2016  15:11       NaN       NaN        NaN        NaN   \n",
       "1  04/16/2016   4:13       NaN       NaN  40.767373 -73.950057   \n",
       "2  04/16/2016   4:22       NaN       NaN        NaN        NaN   \n",
       "3  04/16/2016   4:30     BRONX   10468.0  40.862679 -73.909040   \n",
       "4  04/16/2016   4:30  BROOKLYN   11249.0  40.716508 -73.961275   \n",
       "\n",
       "                    LOCATION   ON STREET NAME  CROSS STREET NAME  \\\n",
       "0                        NaN    MONROE STREET                NaN   \n",
       "1   (40.767373, -73.9500574)   EAST 68 STREET                NaN   \n",
       "2                        NaN    BORDEN AVENUE        58TH STREET   \n",
       "3  (40.8626793, -73.9090397)  SEDGWICK AVENUE  WEST FORDHAM ROAD   \n",
       "4  (40.7165078, -73.9612751)              NaN                NaN   \n",
       "\n",
       "    OFF STREET NAME  NUMBER OF PERSONS INJURED  NUMBER OF PERSONS KILLED  \\\n",
       "0               NaN                          0                         0   \n",
       "1               NaN                          1                         0   \n",
       "2               NaN                          1                         0   \n",
       "3               NaN                          0                         0   \n",
       "4  203 BERRY STREET                          0                         0   \n",
       "\n",
       "   NUMBER OF PEDESTRIANS INJURED  NUMBER OF PEDESTRIANS KILLED  \\\n",
       "0                              0                             0   \n",
       "1                              0                             0   \n",
       "2                              1                             0   \n",
       "3                              0                             0   \n",
       "4                              0                             0   \n",
       "\n",
       "   NUMBER OF CYCLIST INJURED  NUMBER OF CYCLIST KILLED  \\\n",
       "0                          0                         0   \n",
       "1                          0                         0   \n",
       "2                          0                         0   \n",
       "3                          0                         0   \n",
       "4                          0                         0   \n",
       "\n",
       "   NUMBER OF MOTORIST INJURED  NUMBER OF MOTORIST KILLED  \\\n",
       "0                           0                          0   \n",
       "1                           1                          0   \n",
       "2                           0                          0   \n",
       "3                           0                          0   \n",
       "4                           0                          0   \n",
       "\n",
       "    CONTRIBUTING FACTOR VEHICLE 1 CONTRIBUTING FACTOR VEHICLE 2  \\\n",
       "0  Driver Inattention/Distraction                   Unspecified   \n",
       "1                 Fatigued/Drowsy               Fatigued/Drowsy   \n",
       "2           Passenger Distraction                           NaN   \n",
       "3             Alcohol Involvement                           NaN   \n",
       "4                     Unspecified                   Unspecified   \n",
       "\n",
       "  CONTRIBUTING FACTOR VEHICLE 3 CONTRIBUTING FACTOR VEHICLE 4  \\\n",
       "0                           NaN                           NaN   \n",
       "1               Fatigued/Drowsy                           NaN   \n",
       "2                           NaN                           NaN   \n",
       "3                           NaN                           NaN   \n",
       "4                           NaN                           NaN   \n",
       "\n",
       "  CONTRIBUTING FACTOR VEHICLE 5  UNIQUE KEY VEHICLE TYPE CODE 1  \\\n",
       "0                           NaN     3559084   PASSENGER VEHICLE   \n",
       "1                           NaN     3408932   PASSENGER VEHICLE   \n",
       "2                           NaN     3425902                 NaN   \n",
       "3                           NaN     3414396   PASSENGER VEHICLE   \n",
       "4                           NaN     3421852   PASSENGER VEHICLE   \n",
       "\n",
       "  VEHICLE TYPE CODE 2 VEHICLE TYPE CODE 3 VEHICLE TYPE CODE 4  \\\n",
       "0                 NaN                 NaN                 NaN   \n",
       "1   PASSENGER VEHICLE   PASSENGER VEHICLE                 NaN   \n",
       "2                 NaN                 NaN                 NaN   \n",
       "3                 NaN                 NaN                 NaN   \n",
       "4   PASSENGER VEHICLE                 NaN                 NaN   \n",
       "\n",
       "  VEHICLE TYPE CODE 5  \n",
       "0                 NaN  \n",
       "1                 NaN  \n",
       "2                 NaN  \n",
       "3                 NaN  \n",
       "4                 NaN  "
      ]
     },
     "execution_count": 3,
     "metadata": {},
     "output_type": "execute_result"
    }
   ],
   "source": [
    "collisions.head()"
   ]
  },
  {
   "cell_type": "code",
   "execution_count": 4,
   "metadata": {
    "collapsed": true
   },
   "outputs": [],
   "source": [
    "collisions_by_zipcode = collisions[['LOCATION', 'ZIP CODE']].groupby(\"ZIP CODE\").count()"
   ]
  },
  {
   "cell_type": "code",
   "execution_count": 5,
   "metadata": {
    "collapsed": true
   },
   "outputs": [],
   "source": [
    "collisions_by_zipcode = collisions_by_zipcode.sort_values(by='LOCATION', ascending=False)"
   ]
  },
  {
   "cell_type": "code",
   "execution_count": 6,
   "metadata": {
    "collapsed": true
   },
   "outputs": [],
   "source": [
    "collisions_by_zipcode.columns = ['COLLISIONS']"
   ]
  },
  {
   "cell_type": "code",
   "execution_count": 7,
   "metadata": {
    "collapsed": false,
    "scrolled": false
   },
   "outputs": [
    {
     "data": {
      "text/html": [
       "<div>\n",
       "<table border=\"1\" class=\"dataframe\">\n",
       "  <thead>\n",
       "    <tr style=\"text-align: right;\">\n",
       "      <th></th>\n",
       "      <th>COLLISIONS</th>\n",
       "    </tr>\n",
       "    <tr>\n",
       "      <th>ZIP CODE</th>\n",
       "      <th></th>\n",
       "    </tr>\n",
       "  </thead>\n",
       "  <tbody>\n",
       "    <tr>\n",
       "      <th>11207.0</th>\n",
       "      <td>2083</td>\n",
       "    </tr>\n",
       "    <tr>\n",
       "      <th>11101.0</th>\n",
       "      <td>1623</td>\n",
       "    </tr>\n",
       "    <tr>\n",
       "      <th>10019.0</th>\n",
       "      <td>1570</td>\n",
       "    </tr>\n",
       "    <tr>\n",
       "      <th>11201.0</th>\n",
       "      <td>1528</td>\n",
       "    </tr>\n",
       "    <tr>\n",
       "      <th>10016.0</th>\n",
       "      <td>1526</td>\n",
       "    </tr>\n",
       "  </tbody>\n",
       "</table>\n",
       "</div>"
      ],
      "text/plain": [
       "          COLLISIONS\n",
       "ZIP CODE            \n",
       "11207.0         2083\n",
       "11101.0         1623\n",
       "10019.0         1570\n",
       "11201.0         1528\n",
       "10016.0         1526"
      ]
     },
     "execution_count": 7,
     "metadata": {},
     "output_type": "execute_result"
    }
   ],
   "source": [
    "collisions_by_zipcode.head()"
   ]
  },
  {
   "cell_type": "code",
   "execution_count": 8,
   "metadata": {
    "collapsed": false
   },
   "outputs": [],
   "source": [
    "%matplotlib inline"
   ]
  },
  {
   "cell_type": "code",
   "execution_count": 9,
   "metadata": {
    "collapsed": true
   },
   "outputs": [],
   "source": [
    "top_zips = collisions_by_zipcode.head(20)"
   ]
  },
  {
   "cell_type": "markdown",
   "metadata": {},
   "source": [
    "## Pandas (Native)"
   ]
  },
  {
   "cell_type": "code",
   "execution_count": 10,
   "metadata": {
    "collapsed": false,
    "scrolled": true
   },
   "outputs": [
    {
     "data": {
      "text/plain": [
       "<matplotlib.axes._subplots.AxesSubplot at 0x1176fce80>"
      ]
     },
     "execution_count": 10,
     "metadata": {},
     "output_type": "execute_result"
    },
    {
     "data": {
      "image/png": "[encoded data removed]",
      "text/plain": [
       "<matplotlib.figure.Figure at 0x1176fc358>"
      ]
     },
     "metadata": {},
     "output_type": "display_data"
    }
   ],
   "source": [
    "top_zips.plot.bar()"
   ]
  },
  {
   "cell_type": "markdown",
   "metadata": {},
   "source": [
    "## Matplotlib"
   ]
  },
  {
   "cell_type": "code",
   "execution_count": 11,
   "metadata": {
    "collapsed": true
   },
   "outputs": [],
   "source": [
    "import matplotlib.pyplot as plt"
   ]
  },
  {
   "cell_type": "code",
   "execution_count": 12,
   "metadata": {
    "collapsed": false
   },
   "outputs": [
    {
     "data": {
      "text/plain": [
       "<Container object of 20 artists>"
      ]
     },
     "execution_count": 12,
     "metadata": {},
     "output_type": "execute_result"
    },
    {
     "data": {
      "image/png": "[encoded data removed]",
      "text/plain": [
       "<matplotlib.figure.Figure at 0x1179f8a20>"
      ]
     },
     "metadata": {},
     "output_type": "display_data"
    }
   ],
   "source": [
    "plt.bar(top_zips.index, top_zips.values)"
   ]
  },
  {
   "cell_type": "code",
   "execution_count": 13,
   "metadata": {
    "collapsed": false
   },
   "outputs": [
    {
     "data": {
      "text/plain": [
       "<Container object of 20 artists>"
      ]
     },
     "execution_count": 13,
     "metadata": {},
     "output_type": "execute_result"
    },
    {
     "data": {
      "image/png": "[encoded data removed]",
      "text/plain": [
       "<matplotlib.figure.Figure at 0x117bff198>"
      ]
     },
     "metadata": {},
     "output_type": "display_data"
    }
   ],
   "source": [
    "plt.bar(range(len(top_zips.index)), \n",
    "        top_zips.values,\n",
    "        tick_label=top_zips.index)"
   ]
  },
  {
   "cell_type": "code",
   "execution_count": 14,
   "metadata": {
    "collapsed": false
   },
   "outputs": [
    {
     "data": {
      "image/png": "[encoded data removed]",
      "text/plain": [
       "<matplotlib.figure.Figure at 0x117aea278>"
      ]
     },
     "metadata": {},
     "output_type": "display_data"
    }
   ],
   "source": [
    "plt.bar(range(len(top_zips.index)), \n",
    "        top_zips.values,\n",
    "        tick_label=top_zips.index)\n",
    "ax = plt.gca()\n",
    "ax.set_xticklabels(ax.get_xticklabels(), rotation=90)\n",
    "pass"
   ]
  },
  {
   "cell_type": "markdown",
   "metadata": {},
   "source": [
    "## Seaborn"
   ]
  },
  {
   "cell_type": "code",
   "execution_count": 15,
   "metadata": {
    "collapsed": true
   },
   "outputs": [],
   "source": [
    "import seaborn as sns"
   ]
  },
  {
   "cell_type": "code",
   "execution_count": 24,
   "metadata": {
    "collapsed": false,
    "scrolled": false
   },
   "outputs": [
    {
     "data": {
      "text/plain": [
       "<matplotlib.axes._subplots.AxesSubplot at 0x11adf3550>"
      ]
     },
     "execution_count": 24,
     "metadata": {},
     "output_type": "execute_result"
    },
    {
     "data": {
      "image/png": "[encoded data removed]",
      "text/plain": [
       "<matplotlib.figure.Figure at 0x121ced3c8>"
      ]
     },
     "metadata": {},
     "output_type": "display_data"
    }
   ],
   "source": [
    "sns.countplot(x='ZIP CODE', data=collisions[collisions['ZIP CODE'].isin(top_zips.index)])"
   ]
  },
  {
   "cell_type": "markdown",
   "metadata": {},
   "source": [
    "## mpld3"
   ]
  },
  {
   "cell_type": "code",
   "execution_count": 31,
   "metadata": {
    "collapsed": false
   },
   "outputs": [
    {
     "data": {
      "text/html": [
       "\n",
       "\n",
       "<style>\n",
       "\n",
       "</style>\n",
       "\n",
       "<div id=\"fig_el1572349259313604692624711\"></div>\n",
       "<script>\n",
       "function mpld3_load_lib(url, callback){\n",
       "  var s = document.createElement('script');\n",
       "  s.src = url;\n",
       "  s.async = true;\n",
       "  s.onreadystatechange = s.onload = callback;\n",
       "  s.onerror = function(){console.warn(\"failed to load library \" + url);};\n",
       "  document.getElementsByTagName(\"head\")[0].appendChild(s);\n",
       "}\n",
       "\n",
       "if(typeof(mpld3) !== \"undefined\" && mpld3._mpld3IsLoaded){\n",
       "   // already loaded: just create the figure\n",
       "   !function(mpld3){\n",
       "       \n",
       "       mpld3.draw_figure(\"fig_el1572349259313604692624711\", {\"height\": 288.0, \"axes\": [{\"collections\": [], \"paths\": [{\"edgewidth\": 1.0, \"zorder\": 1, \"pathcodes\": [\"M\", \"L\", \"L\", \"L\", \"Z\"], \"dasharray\": \"none\", \"alpha\": 1, \"facecolor\": \"#1F77B4\", \"coordinates\": \"data\", \"xindex\": 0, \"yindex\": 1, \"data\": \"data01\", \"edgecolor\": \"none\", \"id\": \"el157234930876304\"}, {\"edgewidth\": 1.0, \"zorder\": 1, \"pathcodes\": [\"M\", \"L\", \"L\", \"L\", \"Z\"], \"dasharray\": \"none\", \"alpha\": 1, \"facecolor\": \"#1F77B4\", \"coordinates\": \"data\", \"xindex\": 0, \"yindex\": 1, \"data\": \"data02\", \"edgecolor\": \"none\", \"id\": \"el157234931046928\"}, {\"edgewidth\": 1.0, \"zorder\": 1, \"pathcodes\": [\"M\", \"L\", \"L\", \"L\", \"Z\"], \"dasharray\": \"none\", \"alpha\": 1, \"facecolor\": \"#1F77B4\", \"coordinates\": \"data\", \"xindex\": 0, \"yindex\": 1, \"data\": \"data03\", \"edgecolor\": \"none\", \"id\": \"el157234931283824\"}, {\"edgewidth\": 1.0, \"zorder\": 1, \"pathcodes\": [\"M\", \"L\", \"L\", \"L\", \"Z\"], \"dasharray\": \"none\", \"alpha\": 1, \"facecolor\": \"#1F77B4\", \"coordinates\": \"data\", \"xindex\": 0, \"yindex\": 1, \"data\": \"data04\", \"edgecolor\": \"none\", \"id\": \"el157234931404744\"}, {\"edgewidth\": 1.0, \"zorder\": 1, \"pathcodes\": [\"M\", \"L\", \"L\", \"L\", \"Z\"], \"dasharray\": \"none\", \"alpha\": 1, \"facecolor\": \"#1F77B4\", \"coordinates\": \"data\", \"xindex\": 0, \"yindex\": 1, \"data\": \"data05\", \"edgecolor\": \"none\", \"id\": \"el157234928325616\"}, {\"edgewidth\": 1.0, \"zorder\": 1, \"pathcodes\": [\"M\", \"L\", \"L\", \"L\", \"Z\"], \"dasharray\": \"none\", \"alpha\": 1, \"facecolor\": \"#1F77B4\", \"coordinates\": \"data\", \"xindex\": 0, \"yindex\": 1, \"data\": \"data06\", \"edgecolor\": \"none\", \"id\": \"el157234927647024\"}, {\"edgewidth\": 1.0, \"zorder\": 1, \"pathcodes\": [\"M\", \"L\", \"L\", \"L\", \"Z\"], \"dasharray\": \"none\", \"alpha\": 1, \"facecolor\": \"#1F77B4\", \"coordinates\": \"data\", \"xindex\": 0, \"yindex\": 1, \"data\": \"data07\", \"edgecolor\": \"none\", \"id\": \"el157234927511688\"}, {\"edgewidth\": 1.0, \"zorder\": 1, \"pathcodes\": [\"M\", \"L\", \"L\", \"L\", \"Z\"], \"dasharray\": \"none\", \"alpha\": 1, \"facecolor\": \"#1F77B4\", \"coordinates\": \"data\", \"xindex\": 0, \"yindex\": 1, \"data\": \"data08\", \"edgecolor\": \"none\", \"id\": \"el157234927134632\"}, {\"edgewidth\": 1.0, \"zorder\": 1, \"pathcodes\": [\"M\", \"L\", \"L\", \"L\", \"Z\"], \"dasharray\": \"none\", \"alpha\": 1, \"facecolor\": \"#1F77B4\", \"coordinates\": \"data\", \"xindex\": 0, \"yindex\": 1, \"data\": \"data09\", \"edgecolor\": \"none\", \"id\": \"el157234926693272\"}, {\"edgewidth\": 1.0, \"zorder\": 1, \"pathcodes\": [\"M\", \"L\", \"L\", \"L\", \"Z\"], \"dasharray\": \"none\", \"alpha\": 1, \"facecolor\": \"#1F77B4\", \"coordinates\": \"data\", \"xindex\": 0, \"yindex\": 1, \"data\": \"data10\", \"edgecolor\": \"none\", \"id\": \"el157234924956800\"}, {\"edgewidth\": 1.0, \"zorder\": 1, \"pathcodes\": [\"M\", \"L\", \"L\", \"L\", \"Z\"], \"dasharray\": \"none\", \"alpha\": 1, \"facecolor\": \"#1F77B4\", \"coordinates\": \"data\", \"xindex\": 0, \"yindex\": 1, \"data\": \"data11\", \"edgecolor\": \"none\", \"id\": \"el157234924388016\"}, {\"edgewidth\": 1.0, \"zorder\": 1, \"pathcodes\": [\"M\", \"L\", \"L\", \"L\", \"Z\"], \"dasharray\": \"none\", \"alpha\": 1, \"facecolor\": \"#1F77B4\", \"coordinates\": \"data\", \"xindex\": 0, \"yindex\": 1, \"data\": \"data12\", \"edgecolor\": \"none\", \"id\": \"el157234922989200\"}, {\"edgewidth\": 1.0, \"zorder\": 1, \"pathcodes\": [\"M\", \"L\", \"L\", \"L\", \"Z\"], \"dasharray\": \"none\", \"alpha\": 1, \"facecolor\": \"#1F77B4\", \"coordinates\": \"data\", \"xindex\": 0, \"yindex\": 1, \"data\": \"data13\", \"edgecolor\": \"none\", \"id\": \"el157234931768504\"}, {\"edgewidth\": 1.0, \"zorder\": 1, \"pathcodes\": [\"M\", \"L\", \"L\", \"L\", \"Z\"], \"dasharray\": \"none\", \"alpha\": 1, \"facecolor\": \"#1F77B4\", \"coordinates\": \"data\", \"xindex\": 0, \"yindex\": 1, \"data\": \"data14\", \"edgecolor\": \"none\", \"id\": \"el157234931745440\"}, {\"edgewidth\": 1.0, \"zorder\": 1, \"pathcodes\": [\"M\", \"L\", \"L\", \"L\", \"Z\"], \"dasharray\": \"none\", \"alpha\": 1, \"facecolor\": \"#1F77B4\", \"coordinates\": \"data\", \"xindex\": 0, \"yindex\": 1, \"data\": \"data15\", \"edgecolor\": \"none\", \"id\": \"el157234932171760\"}, {\"edgewidth\": 1.0, \"zorder\": 1, \"pathcodes\": [\"M\", \"L\", \"L\", \"L\", \"Z\"], \"dasharray\": \"none\", \"alpha\": 1, \"facecolor\": \"#1F77B4\", \"coordinates\": \"data\", \"xindex\": 0, \"yindex\": 1, \"data\": \"data16\", \"edgecolor\": \"none\", \"id\": \"el157234932357816\"}, {\"edgewidth\": 1.0, \"zorder\": 1, \"pathcodes\": [\"M\", \"L\", \"L\", \"L\", \"Z\"], \"dasharray\": \"none\", \"alpha\": 1, \"facecolor\": \"#1F77B4\", \"coordinates\": \"data\", \"xindex\": 0, \"yindex\": 1, \"data\": \"data17\", \"edgecolor\": \"none\", \"id\": \"el157234932525920\"}, {\"edgewidth\": 1.0, \"zorder\": 1, \"pathcodes\": [\"M\", \"L\", \"L\", \"L\", \"Z\"], \"dasharray\": \"none\", \"alpha\": 1, \"facecolor\": \"#1F77B4\", \"coordinates\": \"data\", \"xindex\": 0, \"yindex\": 1, \"data\": \"data18\", \"edgecolor\": \"none\", \"id\": \"el157234932762704\"}, {\"edgewidth\": 1.0, \"zorder\": 1, \"pathcodes\": [\"M\", \"L\", \"L\", \"L\", \"Z\"], \"dasharray\": \"none\", \"alpha\": 1, \"facecolor\": \"#1F77B4\", \"coordinates\": \"data\", \"xindex\": 0, \"yindex\": 1, \"data\": \"data19\", \"edgecolor\": \"none\", \"id\": \"el157234932964592\"}, {\"edgewidth\": 1.0, \"zorder\": 1, \"pathcodes\": [\"M\", \"L\", \"L\", \"L\", \"Z\"], \"dasharray\": \"none\", \"alpha\": 1, \"facecolor\": \"#1F77B4\", \"coordinates\": \"data\", \"xindex\": 2, \"yindex\": 1, \"data\": \"data19\", \"edgecolor\": \"none\", \"id\": \"el157234933009704\"}], \"axes\": [{\"nticks\": 20, \"scale\": \"linear\", \"grid\": {\"gridOn\": false}, \"tickformat\": [\"11207.0\", \"11101.0\", \"10019.0\", \"11201.0\", \"10016.0\", \"10022.0\", \"10036.0\", \"11236.0\", \"11234.0\", \"10001.0\", \"11226.0\", \"11203.0\", \"11385.0\", \"11434.0\", \"10013.0\", \"10002.0\", \"11208.0\", \"11212.0\", \"11233.0\", \"11206.0\"], \"fontsize\": 10.0, \"position\": \"bottom\", \"tickvalues\": [0, 1, 2, 3, 4, 5, 6, 7, 8, 9, 10, 11, 12, 13, 14, 15, 16, 17, 18, 19], \"visible\": true}, {\"nticks\": 10, \"scale\": \"linear\", \"grid\": {\"gridOn\": false}, \"tickformat\": null, \"fontsize\": 10.0, \"position\": \"left\", \"tickvalues\": null, \"visible\": true}], \"sharex\": [], \"xscale\": \"linear\", \"axesbg\": \"#FFFFFF\", \"yscale\": \"linear\", \"axesbgalpha\": null, \"ydomain\": [0.0, 2187.15], \"sharey\": [], \"bbox\": [0.125, 0.125, 0.775, 0.755], \"images\": [], \"zoomable\": true, \"xdomain\": [-1.3900000000000001, 20.39], \"lines\": [], \"texts\": [], \"markers\": [], \"xlim\": [-1.3900000000000001, 20.39], \"ylim\": [0.0, 2187.15], \"id\": \"el157234926118320\"}], \"data\": {\"data03\": [[1.6, 0.0], [2.4000000000000004, 0.0], [2.4000000000000004, 1570.0], [1.6, 1570.0]], \"data10\": [[8.6, 0.0], [9.4, 0.0], [9.4, 1374.0], [8.6, 1374.0]], \"data07\": [[5.6, 0.0], [6.3999999999999995, 0.0], [6.3999999999999995, 1428.0], [5.6, 1428.0]], \"data18\": [[16.6, 0.0], [17.400000000000002, 0.0], [17.400000000000002, 1217.0], [16.6, 1217.0]], \"data12\": [[10.6, 0.0], [11.4, 0.0], [11.4, 1330.0], [10.6, 1330.0]], \"data04\": [[2.6, 0.0], [3.4000000000000004, 0.0], [3.4000000000000004, 1528.0], [2.6, 1528.0]], \"data11\": [[9.6, 0.0], [10.4, 0.0], [10.4, 1346.0], [9.6, 1346.0]], \"data09\": [[7.6, 0.0], [8.4, 0.0], [8.4, 1387.0], [7.6, 1387.0]], \"data02\": [[0.6, 0.0], [1.4, 0.0], [1.4, 1623.0], [0.6, 1623.0]], \"data05\": [[3.6, 0.0], [4.4, 0.0], [4.4, 1526.0], [3.6, 1526.0]], \"data13\": [[11.6, 0.0], [12.4, 0.0], [12.4, 1290.0], [11.6, 1290.0]], \"data14\": [[12.6, 0.0], [13.4, 0.0], [13.4, 1289.0], [12.6, 1289.0]], \"data01\": [[-0.4, 0.0], [0.4, 0.0], [0.4, 2083.0], [-0.4, 2083.0]], \"data17\": [[15.6, 0.0], [16.4, 0.0], [16.4, 1245.0], [15.6, 1245.0]], \"data15\": [[13.6, 0.0], [14.4, 0.0], [14.4, 1285.0], [13.6, 1285.0]], \"data06\": [[4.6, 0.0], [5.3999999999999995, 0.0], [5.3999999999999995, 1506.0], [4.6, 1506.0]], \"data16\": [[14.6, 0.0], [15.4, 0.0], [15.4, 1253.0], [14.6, 1253.0]], \"data19\": [[17.6, 0.0, 18.6], [18.400000000000002, 0.0, 19.400000000000002], [18.400000000000002, 1157.0, 19.400000000000002], [17.6, 1157.0, 18.6]], \"data08\": [[6.6, 0.0], [7.3999999999999995, 0.0], [7.3999999999999995, 1419.0], [6.6, 1419.0]]}, \"plugins\": [{\"type\": \"reset\"}, {\"enabled\": false, \"type\": \"zoom\", \"button\": true}, {\"enabled\": false, \"type\": \"boxzoom\", \"button\": true}], \"id\": \"el157234925931360\", \"width\": 432.0});\n",
       "   }(mpld3);\n",
       "}else if(typeof define === \"function\" && define.amd){\n",
       "   // require.js is available: use it to load d3/mpld3\n",
       "   require.config({paths: {d3: \"https://mpld3.github.io/js/d3.v3.min\"}});\n",
       "   require([\"d3\"], function(d3){\n",
       "      window.d3 = d3;\n",
       "      mpld3_load_lib(\"https://mpld3.github.io/js/mpld3.v0.3.js\", function(){\n",
       "         \n",
       "         mpld3.draw_figure(\"fig_el1572349259313604692624711\", {\"height\": 288.0, \"axes\": [{\"collections\": [], \"paths\": [{\"edgewidth\": 1.0, \"zorder\": 1, \"pathcodes\": [\"M\", \"L\", \"L\", \"L\", \"Z\"], \"dasharray\": \"none\", \"alpha\": 1, \"facecolor\": \"#1F77B4\", \"coordinates\": \"data\", \"xindex\": 0, \"yindex\": 1, \"data\": \"data01\", \"edgecolor\": \"none\", \"id\": \"el157234930876304\"}, {\"edgewidth\": 1.0, \"zorder\": 1, \"pathcodes\": [\"M\", \"L\", \"L\", \"L\", \"Z\"], \"dasharray\": \"none\", \"alpha\": 1, \"facecolor\": \"#1F77B4\", \"coordinates\": \"data\", \"xindex\": 0, \"yindex\": 1, \"data\": \"data02\", \"edgecolor\": \"none\", \"id\": \"el157234931046928\"}, {\"edgewidth\": 1.0, \"zorder\": 1, \"pathcodes\": [\"M\", \"L\", \"L\", \"L\", \"Z\"], \"dasharray\": \"none\", \"alpha\": 1, \"facecolor\": \"#1F77B4\", \"coordinates\": \"data\", \"xindex\": 0, \"yindex\": 1, \"data\": \"data03\", \"edgecolor\": \"none\", \"id\": \"el157234931283824\"}, {\"edgewidth\": 1.0, \"zorder\": 1, \"pathcodes\": [\"M\", \"L\", \"L\", \"L\", \"Z\"], \"dasharray\": \"none\", \"alpha\": 1, \"facecolor\": \"#1F77B4\", \"coordinates\": \"data\", \"xindex\": 0, \"yindex\": 1, \"data\": \"data04\", \"edgecolor\": \"none\", \"id\": \"el157234931404744\"}, {\"edgewidth\": 1.0, \"zorder\": 1, \"pathcodes\": [\"M\", \"L\", \"L\", \"L\", \"Z\"], \"dasharray\": \"none\", \"alpha\": 1, \"facecolor\": \"#1F77B4\", \"coordinates\": \"data\", \"xindex\": 0, \"yindex\": 1, \"data\": \"data05\", \"edgecolor\": \"none\", \"id\": \"el157234928325616\"}, {\"edgewidth\": 1.0, \"zorder\": 1, \"pathcodes\": [\"M\", \"L\", \"L\", \"L\", \"Z\"], \"dasharray\": \"none\", \"alpha\": 1, \"facecolor\": \"#1F77B4\", \"coordinates\": \"data\", \"xindex\": 0, \"yindex\": 1, \"data\": \"data06\", \"edgecolor\": \"none\", \"id\": \"el157234927647024\"}, {\"edgewidth\": 1.0, \"zorder\": 1, \"pathcodes\": [\"M\", \"L\", \"L\", \"L\", \"Z\"], \"dasharray\": \"none\", \"alpha\": 1, \"facecolor\": \"#1F77B4\", \"coordinates\": \"data\", \"xindex\": 0, \"yindex\": 1, \"data\": \"data07\", \"edgecolor\": \"none\", \"id\": \"el157234927511688\"}, {\"edgewidth\": 1.0, \"zorder\": 1, \"pathcodes\": [\"M\", \"L\", \"L\", \"L\", \"Z\"], \"dasharray\": \"none\", \"alpha\": 1, \"facecolor\": \"#1F77B4\", \"coordinates\": \"data\", \"xindex\": 0, \"yindex\": 1, \"data\": \"data08\", \"edgecolor\": \"none\", \"id\": \"el157234927134632\"}, {\"edgewidth\": 1.0, \"zorder\": 1, \"pathcodes\": [\"M\", \"L\", \"L\", \"L\", \"Z\"], \"dasharray\": \"none\", \"alpha\": 1, \"facecolor\": \"#1F77B4\", \"coordinates\": \"data\", \"xindex\": 0, \"yindex\": 1, \"data\": \"data09\", \"edgecolor\": \"none\", \"id\": \"el157234926693272\"}, {\"edgewidth\": 1.0, \"zorder\": 1, \"pathcodes\": [\"M\", \"L\", \"L\", \"L\", \"Z\"], \"dasharray\": \"none\", \"alpha\": 1, \"facecolor\": \"#1F77B4\", \"coordinates\": \"data\", \"xindex\": 0, \"yindex\": 1, \"data\": \"data10\", \"edgecolor\": \"none\", \"id\": \"el157234924956800\"}, {\"edgewidth\": 1.0, \"zorder\": 1, \"pathcodes\": [\"M\", \"L\", \"L\", \"L\", \"Z\"], \"dasharray\": \"none\", \"alpha\": 1, \"facecolor\": \"#1F77B4\", \"coordinates\": \"data\", \"xindex\": 0, \"yindex\": 1, \"data\": \"data11\", \"edgecolor\": \"none\", \"id\": \"el157234924388016\"}, {\"edgewidth\": 1.0, \"zorder\": 1, \"pathcodes\": [\"M\", \"L\", \"L\", \"L\", \"Z\"], \"dasharray\": \"none\", \"alpha\": 1, \"facecolor\": \"#1F77B4\", \"coordinates\": \"data\", \"xindex\": 0, \"yindex\": 1, \"data\": \"data12\", \"edgecolor\": \"none\", \"id\": \"el157234922989200\"}, {\"edgewidth\": 1.0, \"zorder\": 1, \"pathcodes\": [\"M\", \"L\", \"L\", \"L\", \"Z\"], \"dasharray\": \"none\", \"alpha\": 1, \"facecolor\": \"#1F77B4\", \"coordinates\": \"data\", \"xindex\": 0, \"yindex\": 1, \"data\": \"data13\", \"edgecolor\": \"none\", \"id\": \"el157234931768504\"}, {\"edgewidth\": 1.0, \"zorder\": 1, \"pathcodes\": [\"M\", \"L\", \"L\", \"L\", \"Z\"], \"dasharray\": \"none\", \"alpha\": 1, \"facecolor\": \"#1F77B4\", \"coordinates\": \"data\", \"xindex\": 0, \"yindex\": 1, \"data\": \"data14\", \"edgecolor\": \"none\", \"id\": \"el157234931745440\"}, {\"edgewidth\": 1.0, \"zorder\": 1, \"pathcodes\": [\"M\", \"L\", \"L\", \"L\", \"Z\"], \"dasharray\": \"none\", \"alpha\": 1, \"facecolor\": \"#1F77B4\", \"coordinates\": \"data\", \"xindex\": 0, \"yindex\": 1, \"data\": \"data15\", \"edgecolor\": \"none\", \"id\": \"el157234932171760\"}, {\"edgewidth\": 1.0, \"zorder\": 1, \"pathcodes\": [\"M\", \"L\", \"L\", \"L\", \"Z\"], \"dasharray\": \"none\", \"alpha\": 1, \"facecolor\": \"#1F77B4\", \"coordinates\": \"data\", \"xindex\": 0, \"yindex\": 1, \"data\": \"data16\", \"edgecolor\": \"none\", \"id\": \"el157234932357816\"}, {\"edgewidth\": 1.0, \"zorder\": 1, \"pathcodes\": [\"M\", \"L\", \"L\", \"L\", \"Z\"], \"dasharray\": \"none\", \"alpha\": 1, \"facecolor\": \"#1F77B4\", \"coordinates\": \"data\", \"xindex\": 0, \"yindex\": 1, \"data\": \"data17\", \"edgecolor\": \"none\", \"id\": \"el157234932525920\"}, {\"edgewidth\": 1.0, \"zorder\": 1, \"pathcodes\": [\"M\", \"L\", \"L\", \"L\", \"Z\"], \"dasharray\": \"none\", \"alpha\": 1, \"facecolor\": \"#1F77B4\", \"coordinates\": \"data\", \"xindex\": 0, \"yindex\": 1, \"data\": \"data18\", \"edgecolor\": \"none\", \"id\": \"el157234932762704\"}, {\"edgewidth\": 1.0, \"zorder\": 1, \"pathcodes\": [\"M\", \"L\", \"L\", \"L\", \"Z\"], \"dasharray\": \"none\", \"alpha\": 1, \"facecolor\": \"#1F77B4\", \"coordinates\": \"data\", \"xindex\": 0, \"yindex\": 1, \"data\": \"data19\", \"edgecolor\": \"none\", \"id\": \"el157234932964592\"}, {\"edgewidth\": 1.0, \"zorder\": 1, \"pathcodes\": [\"M\", \"L\", \"L\", \"L\", \"Z\"], \"dasharray\": \"none\", \"alpha\": 1, \"facecolor\": \"#1F77B4\", \"coordinates\": \"data\", \"xindex\": 2, \"yindex\": 1, \"data\": \"data19\", \"edgecolor\": \"none\", \"id\": \"el157234933009704\"}], \"axes\": [{\"nticks\": 20, \"scale\": \"linear\", \"grid\": {\"gridOn\": false}, \"tickformat\": [\"11207.0\", \"11101.0\", \"10019.0\", \"11201.0\", \"10016.0\", \"10022.0\", \"10036.0\", \"11236.0\", \"11234.0\", \"10001.0\", \"11226.0\", \"11203.0\", \"11385.0\", \"11434.0\", \"10013.0\", \"10002.0\", \"11208.0\", \"11212.0\", \"11233.0\", \"11206.0\"], \"fontsize\": 10.0, \"position\": \"bottom\", \"tickvalues\": [0, 1, 2, 3, 4, 5, 6, 7, 8, 9, 10, 11, 12, 13, 14, 15, 16, 17, 18, 19], \"visible\": true}, {\"nticks\": 10, \"scale\": \"linear\", \"grid\": {\"gridOn\": false}, \"tickformat\": null, \"fontsize\": 10.0, \"position\": \"left\", \"tickvalues\": null, \"visible\": true}], \"sharex\": [], \"xscale\": \"linear\", \"axesbg\": \"#FFFFFF\", \"yscale\": \"linear\", \"axesbgalpha\": null, \"ydomain\": [0.0, 2187.15], \"sharey\": [], \"bbox\": [0.125, 0.125, 0.775, 0.755], \"images\": [], \"zoomable\": true, \"xdomain\": [-1.3900000000000001, 20.39], \"lines\": [], \"texts\": [], \"markers\": [], \"xlim\": [-1.3900000000000001, 20.39], \"ylim\": [0.0, 2187.15], \"id\": \"el157234926118320\"}], \"data\": {\"data03\": [[1.6, 0.0], [2.4000000000000004, 0.0], [2.4000000000000004, 1570.0], [1.6, 1570.0]], \"data10\": [[8.6, 0.0], [9.4, 0.0], [9.4, 1374.0], [8.6, 1374.0]], \"data07\": [[5.6, 0.0], [6.3999999999999995, 0.0], [6.3999999999999995, 1428.0], [5.6, 1428.0]], \"data18\": [[16.6, 0.0], [17.400000000000002, 0.0], [17.400000000000002, 1217.0], [16.6, 1217.0]], \"data12\": [[10.6, 0.0], [11.4, 0.0], [11.4, 1330.0], [10.6, 1330.0]], \"data04\": [[2.6, 0.0], [3.4000000000000004, 0.0], [3.4000000000000004, 1528.0], [2.6, 1528.0]], \"data11\": [[9.6, 0.0], [10.4, 0.0], [10.4, 1346.0], [9.6, 1346.0]], \"data09\": [[7.6, 0.0], [8.4, 0.0], [8.4, 1387.0], [7.6, 1387.0]], \"data02\": [[0.6, 0.0], [1.4, 0.0], [1.4, 1623.0], [0.6, 1623.0]], \"data05\": [[3.6, 0.0], [4.4, 0.0], [4.4, 1526.0], [3.6, 1526.0]], \"data13\": [[11.6, 0.0], [12.4, 0.0], [12.4, 1290.0], [11.6, 1290.0]], \"data14\": [[12.6, 0.0], [13.4, 0.0], [13.4, 1289.0], [12.6, 1289.0]], \"data01\": [[-0.4, 0.0], [0.4, 0.0], [0.4, 2083.0], [-0.4, 2083.0]], \"data17\": [[15.6, 0.0], [16.4, 0.0], [16.4, 1245.0], [15.6, 1245.0]], \"data15\": [[13.6, 0.0], [14.4, 0.0], [14.4, 1285.0], [13.6, 1285.0]], \"data06\": [[4.6, 0.0], [5.3999999999999995, 0.0], [5.3999999999999995, 1506.0], [4.6, 1506.0]], \"data16\": [[14.6, 0.0], [15.4, 0.0], [15.4, 1253.0], [14.6, 1253.0]], \"data19\": [[17.6, 0.0, 18.6], [18.400000000000002, 0.0, 19.400000000000002], [18.400000000000002, 1157.0, 19.400000000000002], [17.6, 1157.0, 18.6]], \"data08\": [[6.6, 0.0], [7.3999999999999995, 0.0], [7.3999999999999995, 1419.0], [6.6, 1419.0]]}, \"plugins\": [{\"type\": \"reset\"}, {\"enabled\": false, \"type\": \"zoom\", \"button\": true}, {\"enabled\": false, \"type\": \"boxzoom\", \"button\": true}], \"id\": \"el157234925931360\", \"width\": 432.0});\n",
       "      });\n",
       "    });\n",
       "}else{\n",
       "    // require.js not available: dynamically load d3 & mpld3\n",
       "    mpld3_load_lib(\"https://mpld3.github.io/js/d3.v3.min.js\", function(){\n",
       "         mpld3_load_lib(\"https://mpld3.github.io/js/mpld3.v0.3.js\", function(){\n",
       "                 \n",
       "                 mpld3.draw_figure(\"fig_el1572349259313604692624711\", {\"height\": 288.0, \"axes\": [{\"collections\": [], \"paths\": [{\"edgewidth\": 1.0, \"zorder\": 1, \"pathcodes\": [\"M\", \"L\", \"L\", \"L\", \"Z\"], \"dasharray\": \"none\", \"alpha\": 1, \"facecolor\": \"#1F77B4\", \"coordinates\": \"data\", \"xindex\": 0, \"yindex\": 1, \"data\": \"data01\", \"edgecolor\": \"none\", \"id\": \"el157234930876304\"}, {\"edgewidth\": 1.0, \"zorder\": 1, \"pathcodes\": [\"M\", \"L\", \"L\", \"L\", \"Z\"], \"dasharray\": \"none\", \"alpha\": 1, \"facecolor\": \"#1F77B4\", \"coordinates\": \"data\", \"xindex\": 0, \"yindex\": 1, \"data\": \"data02\", \"edgecolor\": \"none\", \"id\": \"el157234931046928\"}, {\"edgewidth\": 1.0, \"zorder\": 1, \"pathcodes\": [\"M\", \"L\", \"L\", \"L\", \"Z\"], \"dasharray\": \"none\", \"alpha\": 1, \"facecolor\": \"#1F77B4\", \"coordinates\": \"data\", \"xindex\": 0, \"yindex\": 1, \"data\": \"data03\", \"edgecolor\": \"none\", \"id\": \"el157234931283824\"}, {\"edgewidth\": 1.0, \"zorder\": 1, \"pathcodes\": [\"M\", \"L\", \"L\", \"L\", \"Z\"], \"dasharray\": \"none\", \"alpha\": 1, \"facecolor\": \"#1F77B4\", \"coordinates\": \"data\", \"xindex\": 0, \"yindex\": 1, \"data\": \"data04\", \"edgecolor\": \"none\", \"id\": \"el157234931404744\"}, {\"edgewidth\": 1.0, \"zorder\": 1, \"pathcodes\": [\"M\", \"L\", \"L\", \"L\", \"Z\"], \"dasharray\": \"none\", \"alpha\": 1, \"facecolor\": \"#1F77B4\", \"coordinates\": \"data\", \"xindex\": 0, \"yindex\": 1, \"data\": \"data05\", \"edgecolor\": \"none\", \"id\": \"el157234928325616\"}, {\"edgewidth\": 1.0, \"zorder\": 1, \"pathcodes\": [\"M\", \"L\", \"L\", \"L\", \"Z\"], \"dasharray\": \"none\", \"alpha\": 1, \"facecolor\": \"#1F77B4\", \"coordinates\": \"data\", \"xindex\": 0, \"yindex\": 1, \"data\": \"data06\", \"edgecolor\": \"none\", \"id\": \"el157234927647024\"}, {\"edgewidth\": 1.0, \"zorder\": 1, \"pathcodes\": [\"M\", \"L\", \"L\", \"L\", \"Z\"], \"dasharray\": \"none\", \"alpha\": 1, \"facecolor\": \"#1F77B4\", \"coordinates\": \"data\", \"xindex\": 0, \"yindex\": 1, \"data\": \"data07\", \"edgecolor\": \"none\", \"id\": \"el157234927511688\"}, {\"edgewidth\": 1.0, \"zorder\": 1, \"pathcodes\": [\"M\", \"L\", \"L\", \"L\", \"Z\"], \"dasharray\": \"none\", \"alpha\": 1, \"facecolor\": \"#1F77B4\", \"coordinates\": \"data\", \"xindex\": 0, \"yindex\": 1, \"data\": \"data08\", \"edgecolor\": \"none\", \"id\": \"el157234927134632\"}, {\"edgewidth\": 1.0, \"zorder\": 1, \"pathcodes\": [\"M\", \"L\", \"L\", \"L\", \"Z\"], \"dasharray\": \"none\", \"alpha\": 1, \"facecolor\": \"#1F77B4\", \"coordinates\": \"data\", \"xindex\": 0, \"yindex\": 1, \"data\": \"data09\", \"edgecolor\": \"none\", \"id\": \"el157234926693272\"}, {\"edgewidth\": 1.0, \"zorder\": 1, \"pathcodes\": [\"M\", \"L\", \"L\", \"L\", \"Z\"], \"dasharray\": \"none\", \"alpha\": 1, \"facecolor\": \"#1F77B4\", \"coordinates\": \"data\", \"xindex\": 0, \"yindex\": 1, \"data\": \"data10\", \"edgecolor\": \"none\", \"id\": \"el157234924956800\"}, {\"edgewidth\": 1.0, \"zorder\": 1, \"pathcodes\": [\"M\", \"L\", \"L\", \"L\", \"Z\"], \"dasharray\": \"none\", \"alpha\": 1, \"facecolor\": \"#1F77B4\", \"coordinates\": \"data\", \"xindex\": 0, \"yindex\": 1, \"data\": \"data11\", \"edgecolor\": \"none\", \"id\": \"el157234924388016\"}, {\"edgewidth\": 1.0, \"zorder\": 1, \"pathcodes\": [\"M\", \"L\", \"L\", \"L\", \"Z\"], \"dasharray\": \"none\", \"alpha\": 1, \"facecolor\": \"#1F77B4\", \"coordinates\": \"data\", \"xindex\": 0, \"yindex\": 1, \"data\": \"data12\", \"edgecolor\": \"none\", \"id\": \"el157234922989200\"}, {\"edgewidth\": 1.0, \"zorder\": 1, \"pathcodes\": [\"M\", \"L\", \"L\", \"L\", \"Z\"], \"dasharray\": \"none\", \"alpha\": 1, \"facecolor\": \"#1F77B4\", \"coordinates\": \"data\", \"xindex\": 0, \"yindex\": 1, \"data\": \"data13\", \"edgecolor\": \"none\", \"id\": \"el157234931768504\"}, {\"edgewidth\": 1.0, \"zorder\": 1, \"pathcodes\": [\"M\", \"L\", \"L\", \"L\", \"Z\"], \"dasharray\": \"none\", \"alpha\": 1, \"facecolor\": \"#1F77B4\", \"coordinates\": \"data\", \"xindex\": 0, \"yindex\": 1, \"data\": \"data14\", \"edgecolor\": \"none\", \"id\": \"el157234931745440\"}, {\"edgewidth\": 1.0, \"zorder\": 1, \"pathcodes\": [\"M\", \"L\", \"L\", \"L\", \"Z\"], \"dasharray\": \"none\", \"alpha\": 1, \"facecolor\": \"#1F77B4\", \"coordinates\": \"data\", \"xindex\": 0, \"yindex\": 1, \"data\": \"data15\", \"edgecolor\": \"none\", \"id\": \"el157234932171760\"}, {\"edgewidth\": 1.0, \"zorder\": 1, \"pathcodes\": [\"M\", \"L\", \"L\", \"L\", \"Z\"], \"dasharray\": \"none\", \"alpha\": 1, \"facecolor\": \"#1F77B4\", \"coordinates\": \"data\", \"xindex\": 0, \"yindex\": 1, \"data\": \"data16\", \"edgecolor\": \"none\", \"id\": \"el157234932357816\"}, {\"edgewidth\": 1.0, \"zorder\": 1, \"pathcodes\": [\"M\", \"L\", \"L\", \"L\", \"Z\"], \"dasharray\": \"none\", \"alpha\": 1, \"facecolor\": \"#1F77B4\", \"coordinates\": \"data\", \"xindex\": 0, \"yindex\": 1, \"data\": \"data17\", \"edgecolor\": \"none\", \"id\": \"el157234932525920\"}, {\"edgewidth\": 1.0, \"zorder\": 1, \"pathcodes\": [\"M\", \"L\", \"L\", \"L\", \"Z\"], \"dasharray\": \"none\", \"alpha\": 1, \"facecolor\": \"#1F77B4\", \"coordinates\": \"data\", \"xindex\": 0, \"yindex\": 1, \"data\": \"data18\", \"edgecolor\": \"none\", \"id\": \"el157234932762704\"}, {\"edgewidth\": 1.0, \"zorder\": 1, \"pathcodes\": [\"M\", \"L\", \"L\", \"L\", \"Z\"], \"dasharray\": \"none\", \"alpha\": 1, \"facecolor\": \"#1F77B4\", \"coordinates\": \"data\", \"xindex\": 0, \"yindex\": 1, \"data\": \"data19\", \"edgecolor\": \"none\", \"id\": \"el157234932964592\"}, {\"edgewidth\": 1.0, \"zorder\": 1, \"pathcodes\": [\"M\", \"L\", \"L\", \"L\", \"Z\"], \"dasharray\": \"none\", \"alpha\": 1, \"facecolor\": \"#1F77B4\", \"coordinates\": \"data\", \"xindex\": 2, \"yindex\": 1, \"data\": \"data19\", \"edgecolor\": \"none\", \"id\": \"el157234933009704\"}], \"axes\": [{\"nticks\": 20, \"scale\": \"linear\", \"grid\": {\"gridOn\": false}, \"tickformat\": [\"11207.0\", \"11101.0\", \"10019.0\", \"11201.0\", \"10016.0\", \"10022.0\", \"10036.0\", \"11236.0\", \"11234.0\", \"10001.0\", \"11226.0\", \"11203.0\", \"11385.0\", \"11434.0\", \"10013.0\", \"10002.0\", \"11208.0\", \"11212.0\", \"11233.0\", \"11206.0\"], \"fontsize\": 10.0, \"position\": \"bottom\", \"tickvalues\": [0, 1, 2, 3, 4, 5, 6, 7, 8, 9, 10, 11, 12, 13, 14, 15, 16, 17, 18, 19], \"visible\": true}, {\"nticks\": 10, \"scale\": \"linear\", \"grid\": {\"gridOn\": false}, \"tickformat\": null, \"fontsize\": 10.0, \"position\": \"left\", \"tickvalues\": null, \"visible\": true}], \"sharex\": [], \"xscale\": \"linear\", \"axesbg\": \"#FFFFFF\", \"yscale\": \"linear\", \"axesbgalpha\": null, \"ydomain\": [0.0, 2187.15], \"sharey\": [], \"bbox\": [0.125, 0.125, 0.775, 0.755], \"images\": [], \"zoomable\": true, \"xdomain\": [-1.3900000000000001, 20.39], \"lines\": [], \"texts\": [], \"markers\": [], \"xlim\": [-1.3900000000000001, 20.39], \"ylim\": [0.0, 2187.15], \"id\": \"el157234926118320\"}], \"data\": {\"data03\": [[1.6, 0.0], [2.4000000000000004, 0.0], [2.4000000000000004, 1570.0], [1.6, 1570.0]], \"data10\": [[8.6, 0.0], [9.4, 0.0], [9.4, 1374.0], [8.6, 1374.0]], \"data07\": [[5.6, 0.0], [6.3999999999999995, 0.0], [6.3999999999999995, 1428.0], [5.6, 1428.0]], \"data18\": [[16.6, 0.0], [17.400000000000002, 0.0], [17.400000000000002, 1217.0], [16.6, 1217.0]], \"data12\": [[10.6, 0.0], [11.4, 0.0], [11.4, 1330.0], [10.6, 1330.0]], \"data04\": [[2.6, 0.0], [3.4000000000000004, 0.0], [3.4000000000000004, 1528.0], [2.6, 1528.0]], \"data11\": [[9.6, 0.0], [10.4, 0.0], [10.4, 1346.0], [9.6, 1346.0]], \"data09\": [[7.6, 0.0], [8.4, 0.0], [8.4, 1387.0], [7.6, 1387.0]], \"data02\": [[0.6, 0.0], [1.4, 0.0], [1.4, 1623.0], [0.6, 1623.0]], \"data05\": [[3.6, 0.0], [4.4, 0.0], [4.4, 1526.0], [3.6, 1526.0]], \"data13\": [[11.6, 0.0], [12.4, 0.0], [12.4, 1290.0], [11.6, 1290.0]], \"data14\": [[12.6, 0.0], [13.4, 0.0], [13.4, 1289.0], [12.6, 1289.0]], \"data01\": [[-0.4, 0.0], [0.4, 0.0], [0.4, 2083.0], [-0.4, 2083.0]], \"data17\": [[15.6, 0.0], [16.4, 0.0], [16.4, 1245.0], [15.6, 1245.0]], \"data15\": [[13.6, 0.0], [14.4, 0.0], [14.4, 1285.0], [13.6, 1285.0]], \"data06\": [[4.6, 0.0], [5.3999999999999995, 0.0], [5.3999999999999995, 1506.0], [4.6, 1506.0]], \"data16\": [[14.6, 0.0], [15.4, 0.0], [15.4, 1253.0], [14.6, 1253.0]], \"data19\": [[17.6, 0.0, 18.6], [18.400000000000002, 0.0, 19.400000000000002], [18.400000000000002, 1157.0, 19.400000000000002], [17.6, 1157.0, 18.6]], \"data08\": [[6.6, 0.0], [7.3999999999999995, 0.0], [7.3999999999999995, 1419.0], [6.6, 1419.0]]}, \"plugins\": [{\"type\": \"reset\"}, {\"enabled\": false, \"type\": \"zoom\", \"button\": true}, {\"enabled\": false, \"type\": \"boxzoom\", \"button\": true}], \"id\": \"el157234925931360\", \"width\": 432.0});\n",
       "            })\n",
       "         });\n",
       "}\n",
       "</script>"
      ],
      "text/plain": [
       "<IPython.core.display.HTML object>"
      ]
     },
     "execution_count": 31,
     "metadata": {},
     "output_type": "execute_result"
    }
   ],
   "source": [
    "import matplotlib.pyplot as plt\n",
    "import mpld3\n",
    "\n",
    "plt.bar(range(len(top_zips.index)), \n",
    "        top_zips.values,\n",
    "        tick_label=top_zips.index)\n",
    "ax = plt.gca()\n",
    "\n",
    "mpld3.display()"
   ]
  },
  {
   "cell_type": "code",
   "execution_count": 32,
   "metadata": {
    "collapsed": false
   },
   "outputs": [
    {
     "data": {
      "text/html": [
       "\n",
       "\n",
       "<style>\n",
       "\n",
       "</style>\n",
       "\n",
       "<div id=\"fig_el1572349015976484324853266\"></div>\n",
       "<script>\n",
       "function mpld3_load_lib(url, callback){\n",
       "  var s = document.createElement('script');\n",
       "  s.src = url;\n",
       "  s.async = true;\n",
       "  s.onreadystatechange = s.onload = callback;\n",
       "  s.onerror = function(){console.warn(\"failed to load library \" + url);};\n",
       "  document.getElementsByTagName(\"head\")[0].appendChild(s);\n",
       "}\n",
       "\n",
       "if(typeof(mpld3) !== \"undefined\" && mpld3._mpld3IsLoaded){\n",
       "   // already loaded: just create the figure\n",
       "   !function(mpld3){\n",
       "       \n",
       "       mpld3.draw_figure(\"fig_el1572349015976484324853266\", {\"height\": 288.0, \"axes\": [{\"collections\": [], \"paths\": [{\"edgewidth\": 1.0, \"zorder\": 1, \"pathcodes\": [\"M\", \"L\", \"L\", \"L\", \"Z\"], \"dasharray\": \"none\", \"alpha\": 1, \"facecolor\": \"#1F77B4\", \"coordinates\": \"data\", \"xindex\": 0, \"yindex\": 1, \"data\": \"data01\", \"edgecolor\": \"none\", \"id\": \"el157234942412096\"}, {\"edgewidth\": 1.0, \"zorder\": 1, \"pathcodes\": [\"M\", \"L\", \"L\", \"L\", \"Z\"], \"dasharray\": \"none\", \"alpha\": 1, \"facecolor\": \"#1F77B4\", \"coordinates\": \"data\", \"xindex\": 0, \"yindex\": 1, \"data\": \"data02\", \"edgecolor\": \"none\", \"id\": \"el157234942575600\"}, {\"edgewidth\": 1.0, \"zorder\": 1, \"pathcodes\": [\"M\", \"L\", \"L\", \"L\", \"Z\"], \"dasharray\": \"none\", \"alpha\": 1, \"facecolor\": \"#1F77B4\", \"coordinates\": \"data\", \"xindex\": 0, \"yindex\": 1, \"data\": \"data03\", \"edgecolor\": \"none\", \"id\": \"el157234942773776\"}, {\"edgewidth\": 1.0, \"zorder\": 1, \"pathcodes\": [\"M\", \"L\", \"L\", \"L\", \"Z\"], \"dasharray\": \"none\", \"alpha\": 1, \"facecolor\": \"#1F77B4\", \"coordinates\": \"data\", \"xindex\": 0, \"yindex\": 1, \"data\": \"data04\", \"edgecolor\": \"none\", \"id\": \"el157234943003776\"}, {\"edgewidth\": 1.0, \"zorder\": 1, \"pathcodes\": [\"M\", \"L\", \"L\", \"L\", \"Z\"], \"dasharray\": \"none\", \"alpha\": 1, \"facecolor\": \"#1F77B4\", \"coordinates\": \"data\", \"xindex\": 0, \"yindex\": 1, \"data\": \"data05\", \"edgecolor\": \"none\", \"id\": \"el157235111779168\"}, {\"edgewidth\": 1.0, \"zorder\": 1, \"pathcodes\": [\"M\", \"L\", \"L\", \"L\", \"Z\"], \"dasharray\": \"none\", \"alpha\": 1, \"facecolor\": \"#1F77B4\", \"coordinates\": \"data\", \"xindex\": 0, \"yindex\": 1, \"data\": \"data06\", \"edgecolor\": \"none\", \"id\": \"el157234943279944\"}, {\"edgewidth\": 1.0, \"zorder\": 1, \"pathcodes\": [\"M\", \"L\", \"L\", \"L\", \"Z\"], \"dasharray\": \"none\", \"alpha\": 1, \"facecolor\": \"#1F77B4\", \"coordinates\": \"data\", \"xindex\": 0, \"yindex\": 1, \"data\": \"data07\", \"edgecolor\": \"none\", \"id\": \"el157234943444176\"}, {\"edgewidth\": 1.0, \"zorder\": 1, \"pathcodes\": [\"M\", \"L\", \"L\", \"L\", \"Z\"], \"dasharray\": \"none\", \"alpha\": 1, \"facecolor\": \"#1F77B4\", \"coordinates\": \"data\", \"xindex\": 0, \"yindex\": 1, \"data\": \"data08\", \"edgecolor\": \"none\", \"id\": \"el157234943811248\"}, {\"edgewidth\": 1.0, \"zorder\": 1, \"pathcodes\": [\"M\", \"L\", \"L\", \"L\", \"Z\"], \"dasharray\": \"none\", \"alpha\": 1, \"facecolor\": \"#1F77B4\", \"coordinates\": \"data\", \"xindex\": 0, \"yindex\": 1, \"data\": \"data09\", \"edgecolor\": \"none\", \"id\": \"el157234943978224\"}, {\"edgewidth\": 1.0, \"zorder\": 1, \"pathcodes\": [\"M\", \"L\", \"L\", \"L\", \"Z\"], \"dasharray\": \"none\", \"alpha\": 1, \"facecolor\": \"#1F77B4\", \"coordinates\": \"data\", \"xindex\": 0, \"yindex\": 1, \"data\": \"data10\", \"edgecolor\": \"none\", \"id\": \"el157234944187120\"}, {\"edgewidth\": 1.0, \"zorder\": 1, \"pathcodes\": [\"M\", \"L\", \"L\", \"L\", \"Z\"], \"dasharray\": \"none\", \"alpha\": 1, \"facecolor\": \"#1F77B4\", \"coordinates\": \"data\", \"xindex\": 0, \"yindex\": 1, \"data\": \"data11\", \"edgecolor\": \"none\", \"id\": \"el157234944244576\"}, {\"edgewidth\": 1.0, \"zorder\": 1, \"pathcodes\": [\"M\", \"L\", \"L\", \"L\", \"Z\"], \"dasharray\": \"none\", \"alpha\": 1, \"facecolor\": \"#1F77B4\", \"coordinates\": \"data\", \"xindex\": 0, \"yindex\": 1, \"data\": \"data12\", \"edgecolor\": \"none\", \"id\": \"el157234944592176\"}, {\"edgewidth\": 1.0, \"zorder\": 1, \"pathcodes\": [\"M\", \"L\", \"L\", \"L\", \"Z\"], \"dasharray\": \"none\", \"alpha\": 1, \"facecolor\": \"#1F77B4\", \"coordinates\": \"data\", \"xindex\": 0, \"yindex\": 1, \"data\": \"data13\", \"edgecolor\": \"none\", \"id\": \"el157234939717992\"}, {\"edgewidth\": 1.0, \"zorder\": 1, \"pathcodes\": [\"M\", \"L\", \"L\", \"L\", \"Z\"], \"dasharray\": \"none\", \"alpha\": 1, \"facecolor\": \"#1F77B4\", \"coordinates\": \"data\", \"xindex\": 0, \"yindex\": 1, \"data\": \"data14\", \"edgecolor\": \"none\", \"id\": \"el157234939506352\"}, {\"edgewidth\": 1.0, \"zorder\": 1, \"pathcodes\": [\"M\", \"L\", \"L\", \"L\", \"Z\"], \"dasharray\": \"none\", \"alpha\": 1, \"facecolor\": \"#1F77B4\", \"coordinates\": \"data\", \"xindex\": 0, \"yindex\": 1, \"data\": \"data15\", \"edgecolor\": \"none\", \"id\": \"el157234939190848\"}, {\"edgewidth\": 1.0, \"zorder\": 1, \"pathcodes\": [\"M\", \"L\", \"L\", \"L\", \"Z\"], \"dasharray\": \"none\", \"alpha\": 1, \"facecolor\": \"#1F77B4\", \"coordinates\": \"data\", \"xindex\": 0, \"yindex\": 1, \"data\": \"data16\", \"edgecolor\": \"none\", \"id\": \"el157234938130656\"}, {\"edgewidth\": 1.0, \"zorder\": 1, \"pathcodes\": [\"M\", \"L\", \"L\", \"L\", \"Z\"], \"dasharray\": \"none\", \"alpha\": 1, \"facecolor\": \"#1F77B4\", \"coordinates\": \"data\", \"xindex\": 0, \"yindex\": 1, \"data\": \"data17\", \"edgecolor\": \"none\", \"id\": \"el157234937133808\"}, {\"edgewidth\": 1.0, \"zorder\": 1, \"pathcodes\": [\"M\", \"L\", \"L\", \"L\", \"Z\"], \"dasharray\": \"none\", \"alpha\": 1, \"facecolor\": \"#1F77B4\", \"coordinates\": \"data\", \"xindex\": 0, \"yindex\": 1, \"data\": \"data18\", \"edgecolor\": \"none\", \"id\": \"el157234934889712\"}, {\"edgewidth\": 1.0, \"zorder\": 1, \"pathcodes\": [\"M\", \"L\", \"L\", \"L\", \"Z\"], \"dasharray\": \"none\", \"alpha\": 1, \"facecolor\": \"#1F77B4\", \"coordinates\": \"data\", \"xindex\": 0, \"yindex\": 1, \"data\": \"data19\", \"edgecolor\": \"none\", \"id\": \"el157234944802816\"}, {\"edgewidth\": 1.0, \"zorder\": 1, \"pathcodes\": [\"M\", \"L\", \"L\", \"L\", \"Z\"], \"dasharray\": \"none\", \"alpha\": 1, \"facecolor\": \"#1F77B4\", \"coordinates\": \"data\", \"xindex\": 2, \"yindex\": 1, \"data\": \"data19\", \"edgecolor\": \"none\", \"id\": \"el157234945038416\"}, {\"edgewidth\": 1.0, \"zorder\": 1000001.0, \"pathcodes\": [\"M\", \"L\", \"L\", \"L\", \"Z\"], \"dasharray\": \"none\", \"alpha\": 1, \"facecolor\": \"#1F77B4\", \"coordinates\": \"axes\", \"xindex\": 0, \"yindex\": 1, \"data\": \"data20\", \"edgecolor\": \"none\", \"id\": \"el157234945349656\"}, {\"edgewidth\": 1.0, \"zorder\": 1000000.0, \"pathcodes\": [\"M\", \"L\", \"S\", \"L\", \"S\", \"L\", \"S\", \"L\", \"S\", \"Z\"], \"dasharray\": \"none\", \"alpha\": 0.8, \"facecolor\": \"#FFFFFF\", \"coordinates\": \"axes\", \"xindex\": 0, \"yindex\": 1, \"data\": \"data21\", \"edgecolor\": \"#CCCCCC\", \"id\": \"el157234942349928\"}], \"axes\": [{\"nticks\": 20, \"scale\": \"linear\", \"grid\": {\"gridOn\": false}, \"tickformat\": [\"11207.0\", \"11101.0\", \"10019.0\", \"11201.0\", \"10016.0\", \"10022.0\", \"10036.0\", \"11236.0\", \"11234.0\", \"10001.0\", \"11226.0\", \"11203.0\", \"11385.0\", \"11434.0\", \"10013.0\", \"10002.0\", \"11208.0\", \"11212.0\", \"11233.0\", \"11206.0\"], \"fontsize\": 10.0, \"position\": \"bottom\", \"tickvalues\": [0, 1, 2, 3, 4, 5, 6, 7, 8, 9, 10, 11, 12, 13, 14, 15, 16, 17, 18, 19], \"visible\": true}, {\"nticks\": 10, \"scale\": \"linear\", \"grid\": {\"gridOn\": false}, \"tickformat\": null, \"fontsize\": 10.0, \"position\": \"left\", \"tickvalues\": null, \"visible\": true}], \"sharex\": [], \"xscale\": \"linear\", \"axesbg\": \"#FFFFFF\", \"yscale\": \"linear\", \"axesbgalpha\": null, \"ydomain\": [0.0, 2187.15], \"sharey\": [], \"bbox\": [0.125, 0.125, 0.775, 0.755], \"images\": [], \"zoomable\": true, \"xdomain\": [-0.5, 19.5], \"lines\": [], \"texts\": [{\"color\": \"#000000\", \"zorder\": 3, \"text\": \"ZIP CODE\", \"rotation\": -0.0, \"alpha\": 1, \"coordinates\": \"axes\", \"h_anchor\": \"middle\", \"v_baseline\": \"hanging\", \"fontsize\": 10.0, \"position\": [0.49999999999999994, -0.24087104488594557], \"id\": \"el157234919653936\"}, {\"color\": \"#000000\", \"zorder\": 1000003.0, \"text\": \"COLLISIONS\", \"rotation\": -0.0, \"alpha\": 1, \"coordinates\": \"axes\", \"h_anchor\": \"start\", \"v_baseline\": \"auto\", \"fontsize\": 10.0, \"position\": [0.7965203106332138, 0.9218175128771156], \"id\": \"el157234945199232\"}], \"markers\": [], \"xlim\": [-0.5, 19.5], \"ylim\": [0.0, 2187.15], \"id\": \"el157234927959728\"}], \"data\": {\"data03\": [[1.75, 0.0], [2.25, 0.0], [2.25, 1570.0], [1.75, 1570.0]], \"data10\": [[8.75, 0.0], [9.25, 0.0], [9.25, 1374.0], [8.75, 1374.0]], \"data21\": [[0.7069145758661888, 0.8942236938925681], [0.9790919952210274, 0.8942236938925681], [0.9850657108721624, 0.8942236938925681], [0.9850657108721624, 0.9034216335540839], [0.9850657108721624, 0.9678072111846947], [0.9850657108721624, 0.9770051508462105], [0.9790919952210274, 0.9770051508462105], [0.7069145758661888, 0.9770051508462105], [0.7009408602150538, 0.9770051508462105], [0.7009408602150538, 0.9678072111846947], [0.7009408602150538, 0.9034216335540839], [0.7009408602150538, 0.8942236938925681], [0.7069145758661888, 0.8942236938925681]], \"data20\": [[0.7128882915173238, 0.9218175128771156], [0.7726254480286738, 0.9218175128771156], [0.7726254480286738, 0.954010301692421], [0.7128882915173238, 0.954010301692421]], \"data07\": [[5.75, 0.0], [6.25, 0.0], [6.25, 1428.0], [5.75, 1428.0]], \"data18\": [[16.75, 0.0], [17.25, 0.0], [17.25, 1217.0], [16.75, 1217.0]], \"data12\": [[10.75, 0.0], [11.25, 0.0], [11.25, 1330.0], [10.75, 1330.0]], \"data04\": [[2.75, 0.0], [3.25, 0.0], [3.25, 1528.0], [2.75, 1528.0]], \"data11\": [[9.75, 0.0], [10.25, 0.0], [10.25, 1346.0], [9.75, 1346.0]], \"data09\": [[7.75, 0.0], [8.25, 0.0], [8.25, 1387.0], [7.75, 1387.0]], \"data02\": [[0.75, 0.0], [1.25, 0.0], [1.25, 1623.0], [0.75, 1623.0]], \"data05\": [[3.75, 0.0], [4.25, 0.0], [4.25, 1526.0], [3.75, 1526.0]], \"data13\": [[11.75, 0.0], [12.25, 0.0], [12.25, 1290.0], [11.75, 1290.0]], \"data14\": [[12.75, 0.0], [13.25, 0.0], [13.25, 1289.0], [12.75, 1289.0]], \"data01\": [[-0.25, 0.0], [0.25, 0.0], [0.25, 2083.0], [-0.25, 2083.0]], \"data17\": [[15.75, 0.0], [16.25, 0.0], [16.25, 1245.0], [15.75, 1245.0]], \"data15\": [[13.75, 0.0], [14.25, 0.0], [14.25, 1285.0], [13.75, 1285.0]], \"data06\": [[4.75, 0.0], [5.25, 0.0], [5.25, 1506.0], [4.75, 1506.0]], \"data16\": [[14.75, 0.0], [15.25, 0.0], [15.25, 1253.0], [14.75, 1253.0]], \"data19\": [[17.75, 0.0, 18.75], [18.25, 0.0, 19.25], [18.25, 1157.0, 19.25], [17.75, 1157.0, 18.75]], \"data08\": [[6.75, 0.0], [7.25, 0.0], [7.25, 1419.0], [6.75, 1419.0]]}, \"plugins\": [{\"type\": \"reset\"}, {\"enabled\": false, \"type\": \"zoom\", \"button\": true}, {\"enabled\": false, \"type\": \"boxzoom\", \"button\": true}], \"id\": \"el157234901597648\", \"width\": 432.0});\n",
       "   }(mpld3);\n",
       "}else if(typeof define === \"function\" && define.amd){\n",
       "   // require.js is available: use it to load d3/mpld3\n",
       "   require.config({paths: {d3: \"https://mpld3.github.io/js/d3.v3.min\"}});\n",
       "   require([\"d3\"], function(d3){\n",
       "      window.d3 = d3;\n",
       "      mpld3_load_lib(\"https://mpld3.github.io/js/mpld3.v0.3.js\", function(){\n",
       "         \n",
       "         mpld3.draw_figure(\"fig_el1572349015976484324853266\", {\"height\": 288.0, \"axes\": [{\"collections\": [], \"paths\": [{\"edgewidth\": 1.0, \"zorder\": 1, \"pathcodes\": [\"M\", \"L\", \"L\", \"L\", \"Z\"], \"dasharray\": \"none\", \"alpha\": 1, \"facecolor\": \"#1F77B4\", \"coordinates\": \"data\", \"xindex\": 0, \"yindex\": 1, \"data\": \"data01\", \"edgecolor\": \"none\", \"id\": \"el157234942412096\"}, {\"edgewidth\": 1.0, \"zorder\": 1, \"pathcodes\": [\"M\", \"L\", \"L\", \"L\", \"Z\"], \"dasharray\": \"none\", \"alpha\": 1, \"facecolor\": \"#1F77B4\", \"coordinates\": \"data\", \"xindex\": 0, \"yindex\": 1, \"data\": \"data02\", \"edgecolor\": \"none\", \"id\": \"el157234942575600\"}, {\"edgewidth\": 1.0, \"zorder\": 1, \"pathcodes\": [\"M\", \"L\", \"L\", \"L\", \"Z\"], \"dasharray\": \"none\", \"alpha\": 1, \"facecolor\": \"#1F77B4\", \"coordinates\": \"data\", \"xindex\": 0, \"yindex\": 1, \"data\": \"data03\", \"edgecolor\": \"none\", \"id\": \"el157234942773776\"}, {\"edgewidth\": 1.0, \"zorder\": 1, \"pathcodes\": [\"M\", \"L\", \"L\", \"L\", \"Z\"], \"dasharray\": \"none\", \"alpha\": 1, \"facecolor\": \"#1F77B4\", \"coordinates\": \"data\", \"xindex\": 0, \"yindex\": 1, \"data\": \"data04\", \"edgecolor\": \"none\", \"id\": \"el157234943003776\"}, {\"edgewidth\": 1.0, \"zorder\": 1, \"pathcodes\": [\"M\", \"L\", \"L\", \"L\", \"Z\"], \"dasharray\": \"none\", \"alpha\": 1, \"facecolor\": \"#1F77B4\", \"coordinates\": \"data\", \"xindex\": 0, \"yindex\": 1, \"data\": \"data05\", \"edgecolor\": \"none\", \"id\": \"el157235111779168\"}, {\"edgewidth\": 1.0, \"zorder\": 1, \"pathcodes\": [\"M\", \"L\", \"L\", \"L\", \"Z\"], \"dasharray\": \"none\", \"alpha\": 1, \"facecolor\": \"#1F77B4\", \"coordinates\": \"data\", \"xindex\": 0, \"yindex\": 1, \"data\": \"data06\", \"edgecolor\": \"none\", \"id\": \"el157234943279944\"}, {\"edgewidth\": 1.0, \"zorder\": 1, \"pathcodes\": [\"M\", \"L\", \"L\", \"L\", \"Z\"], \"dasharray\": \"none\", \"alpha\": 1, \"facecolor\": \"#1F77B4\", \"coordinates\": \"data\", \"xindex\": 0, \"yindex\": 1, \"data\": \"data07\", \"edgecolor\": \"none\", \"id\": \"el157234943444176\"}, {\"edgewidth\": 1.0, \"zorder\": 1, \"pathcodes\": [\"M\", \"L\", \"L\", \"L\", \"Z\"], \"dasharray\": \"none\", \"alpha\": 1, \"facecolor\": \"#1F77B4\", \"coordinates\": \"data\", \"xindex\": 0, \"yindex\": 1, \"data\": \"data08\", \"edgecolor\": \"none\", \"id\": \"el157234943811248\"}, {\"edgewidth\": 1.0, \"zorder\": 1, \"pathcodes\": [\"M\", \"L\", \"L\", \"L\", \"Z\"], \"dasharray\": \"none\", \"alpha\": 1, \"facecolor\": \"#1F77B4\", \"coordinates\": \"data\", \"xindex\": 0, \"yindex\": 1, \"data\": \"data09\", \"edgecolor\": \"none\", \"id\": \"el157234943978224\"}, {\"edgewidth\": 1.0, \"zorder\": 1, \"pathcodes\": [\"M\", \"L\", \"L\", \"L\", \"Z\"], \"dasharray\": \"none\", \"alpha\": 1, \"facecolor\": \"#1F77B4\", \"coordinates\": \"data\", \"xindex\": 0, \"yindex\": 1, \"data\": \"data10\", \"edgecolor\": \"none\", \"id\": \"el157234944187120\"}, {\"edgewidth\": 1.0, \"zorder\": 1, \"pathcodes\": [\"M\", \"L\", \"L\", \"L\", \"Z\"], \"dasharray\": \"none\", \"alpha\": 1, \"facecolor\": \"#1F77B4\", \"coordinates\": \"data\", \"xindex\": 0, \"yindex\": 1, \"data\": \"data11\", \"edgecolor\": \"none\", \"id\": \"el157234944244576\"}, {\"edgewidth\": 1.0, \"zorder\": 1, \"pathcodes\": [\"M\", \"L\", \"L\", \"L\", \"Z\"], \"dasharray\": \"none\", \"alpha\": 1, \"facecolor\": \"#1F77B4\", \"coordinates\": \"data\", \"xindex\": 0, \"yindex\": 1, \"data\": \"data12\", \"edgecolor\": \"none\", \"id\": \"el157234944592176\"}, {\"edgewidth\": 1.0, \"zorder\": 1, \"pathcodes\": [\"M\", \"L\", \"L\", \"L\", \"Z\"], \"dasharray\": \"none\", \"alpha\": 1, \"facecolor\": \"#1F77B4\", \"coordinates\": \"data\", \"xindex\": 0, \"yindex\": 1, \"data\": \"data13\", \"edgecolor\": \"none\", \"id\": \"el157234939717992\"}, {\"edgewidth\": 1.0, \"zorder\": 1, \"pathcodes\": [\"M\", \"L\", \"L\", \"L\", \"Z\"], \"dasharray\": \"none\", \"alpha\": 1, \"facecolor\": \"#1F77B4\", \"coordinates\": \"data\", \"xindex\": 0, \"yindex\": 1, \"data\": \"data14\", \"edgecolor\": \"none\", \"id\": \"el157234939506352\"}, {\"edgewidth\": 1.0, \"zorder\": 1, \"pathcodes\": [\"M\", \"L\", \"L\", \"L\", \"Z\"], \"dasharray\": \"none\", \"alpha\": 1, \"facecolor\": \"#1F77B4\", \"coordinates\": \"data\", \"xindex\": 0, \"yindex\": 1, \"data\": \"data15\", \"edgecolor\": \"none\", \"id\": \"el157234939190848\"}, {\"edgewidth\": 1.0, \"zorder\": 1, \"pathcodes\": [\"M\", \"L\", \"L\", \"L\", \"Z\"], \"dasharray\": \"none\", \"alpha\": 1, \"facecolor\": \"#1F77B4\", \"coordinates\": \"data\", \"xindex\": 0, \"yindex\": 1, \"data\": \"data16\", \"edgecolor\": \"none\", \"id\": \"el157234938130656\"}, {\"edgewidth\": 1.0, \"zorder\": 1, \"pathcodes\": [\"M\", \"L\", \"L\", \"L\", \"Z\"], \"dasharray\": \"none\", \"alpha\": 1, \"facecolor\": \"#1F77B4\", \"coordinates\": \"data\", \"xindex\": 0, \"yindex\": 1, \"data\": \"data17\", \"edgecolor\": \"none\", \"id\": \"el157234937133808\"}, {\"edgewidth\": 1.0, \"zorder\": 1, \"pathcodes\": [\"M\", \"L\", \"L\", \"L\", \"Z\"], \"dasharray\": \"none\", \"alpha\": 1, \"facecolor\": \"#1F77B4\", \"coordinates\": \"data\", \"xindex\": 0, \"yindex\": 1, \"data\": \"data18\", \"edgecolor\": \"none\", \"id\": \"el157234934889712\"}, {\"edgewidth\": 1.0, \"zorder\": 1, \"pathcodes\": [\"M\", \"L\", \"L\", \"L\", \"Z\"], \"dasharray\": \"none\", \"alpha\": 1, \"facecolor\": \"#1F77B4\", \"coordinates\": \"data\", \"xindex\": 0, \"yindex\": 1, \"data\": \"data19\", \"edgecolor\": \"none\", \"id\": \"el157234944802816\"}, {\"edgewidth\": 1.0, \"zorder\": 1, \"pathcodes\": [\"M\", \"L\", \"L\", \"L\", \"Z\"], \"dasharray\": \"none\", \"alpha\": 1, \"facecolor\": \"#1F77B4\", \"coordinates\": \"data\", \"xindex\": 2, \"yindex\": 1, \"data\": \"data19\", \"edgecolor\": \"none\", \"id\": \"el157234945038416\"}, {\"edgewidth\": 1.0, \"zorder\": 1000001.0, \"pathcodes\": [\"M\", \"L\", \"L\", \"L\", \"Z\"], \"dasharray\": \"none\", \"alpha\": 1, \"facecolor\": \"#1F77B4\", \"coordinates\": \"axes\", \"xindex\": 0, \"yindex\": 1, \"data\": \"data20\", \"edgecolor\": \"none\", \"id\": \"el157234945349656\"}, {\"edgewidth\": 1.0, \"zorder\": 1000000.0, \"pathcodes\": [\"M\", \"L\", \"S\", \"L\", \"S\", \"L\", \"S\", \"L\", \"S\", \"Z\"], \"dasharray\": \"none\", \"alpha\": 0.8, \"facecolor\": \"#FFFFFF\", \"coordinates\": \"axes\", \"xindex\": 0, \"yindex\": 1, \"data\": \"data21\", \"edgecolor\": \"#CCCCCC\", \"id\": \"el157234942349928\"}], \"axes\": [{\"nticks\": 20, \"scale\": \"linear\", \"grid\": {\"gridOn\": false}, \"tickformat\": [\"11207.0\", \"11101.0\", \"10019.0\", \"11201.0\", \"10016.0\", \"10022.0\", \"10036.0\", \"11236.0\", \"11234.0\", \"10001.0\", \"11226.0\", \"11203.0\", \"11385.0\", \"11434.0\", \"10013.0\", \"10002.0\", \"11208.0\", \"11212.0\", \"11233.0\", \"11206.0\"], \"fontsize\": 10.0, \"position\": \"bottom\", \"tickvalues\": [0, 1, 2, 3, 4, 5, 6, 7, 8, 9, 10, 11, 12, 13, 14, 15, 16, 17, 18, 19], \"visible\": true}, {\"nticks\": 10, \"scale\": \"linear\", \"grid\": {\"gridOn\": false}, \"tickformat\": null, \"fontsize\": 10.0, \"position\": \"left\", \"tickvalues\": null, \"visible\": true}], \"sharex\": [], \"xscale\": \"linear\", \"axesbg\": \"#FFFFFF\", \"yscale\": \"linear\", \"axesbgalpha\": null, \"ydomain\": [0.0, 2187.15], \"sharey\": [], \"bbox\": [0.125, 0.125, 0.775, 0.755], \"images\": [], \"zoomable\": true, \"xdomain\": [-0.5, 19.5], \"lines\": [], \"texts\": [{\"color\": \"#000000\", \"zorder\": 3, \"text\": \"ZIP CODE\", \"rotation\": -0.0, \"alpha\": 1, \"coordinates\": \"axes\", \"h_anchor\": \"middle\", \"v_baseline\": \"hanging\", \"fontsize\": 10.0, \"position\": [0.49999999999999994, -0.24087104488594557], \"id\": \"el157234919653936\"}, {\"color\": \"#000000\", \"zorder\": 1000003.0, \"text\": \"COLLISIONS\", \"rotation\": -0.0, \"alpha\": 1, \"coordinates\": \"axes\", \"h_anchor\": \"start\", \"v_baseline\": \"auto\", \"fontsize\": 10.0, \"position\": [0.7965203106332138, 0.9218175128771156], \"id\": \"el157234945199232\"}], \"markers\": [], \"xlim\": [-0.5, 19.5], \"ylim\": [0.0, 2187.15], \"id\": \"el157234927959728\"}], \"data\": {\"data03\": [[1.75, 0.0], [2.25, 0.0], [2.25, 1570.0], [1.75, 1570.0]], \"data10\": [[8.75, 0.0], [9.25, 0.0], [9.25, 1374.0], [8.75, 1374.0]], \"data21\": [[0.7069145758661888, 0.8942236938925681], [0.9790919952210274, 0.8942236938925681], [0.9850657108721624, 0.8942236938925681], [0.9850657108721624, 0.9034216335540839], [0.9850657108721624, 0.9678072111846947], [0.9850657108721624, 0.9770051508462105], [0.9790919952210274, 0.9770051508462105], [0.7069145758661888, 0.9770051508462105], [0.7009408602150538, 0.9770051508462105], [0.7009408602150538, 0.9678072111846947], [0.7009408602150538, 0.9034216335540839], [0.7009408602150538, 0.8942236938925681], [0.7069145758661888, 0.8942236938925681]], \"data20\": [[0.7128882915173238, 0.9218175128771156], [0.7726254480286738, 0.9218175128771156], [0.7726254480286738, 0.954010301692421], [0.7128882915173238, 0.954010301692421]], \"data07\": [[5.75, 0.0], [6.25, 0.0], [6.25, 1428.0], [5.75, 1428.0]], \"data18\": [[16.75, 0.0], [17.25, 0.0], [17.25, 1217.0], [16.75, 1217.0]], \"data12\": [[10.75, 0.0], [11.25, 0.0], [11.25, 1330.0], [10.75, 1330.0]], \"data04\": [[2.75, 0.0], [3.25, 0.0], [3.25, 1528.0], [2.75, 1528.0]], \"data11\": [[9.75, 0.0], [10.25, 0.0], [10.25, 1346.0], [9.75, 1346.0]], \"data09\": [[7.75, 0.0], [8.25, 0.0], [8.25, 1387.0], [7.75, 1387.0]], \"data02\": [[0.75, 0.0], [1.25, 0.0], [1.25, 1623.0], [0.75, 1623.0]], \"data05\": [[3.75, 0.0], [4.25, 0.0], [4.25, 1526.0], [3.75, 1526.0]], \"data13\": [[11.75, 0.0], [12.25, 0.0], [12.25, 1290.0], [11.75, 1290.0]], \"data14\": [[12.75, 0.0], [13.25, 0.0], [13.25, 1289.0], [12.75, 1289.0]], \"data01\": [[-0.25, 0.0], [0.25, 0.0], [0.25, 2083.0], [-0.25, 2083.0]], \"data17\": [[15.75, 0.0], [16.25, 0.0], [16.25, 1245.0], [15.75, 1245.0]], \"data15\": [[13.75, 0.0], [14.25, 0.0], [14.25, 1285.0], [13.75, 1285.0]], \"data06\": [[4.75, 0.0], [5.25, 0.0], [5.25, 1506.0], [4.75, 1506.0]], \"data16\": [[14.75, 0.0], [15.25, 0.0], [15.25, 1253.0], [14.75, 1253.0]], \"data19\": [[17.75, 0.0, 18.75], [18.25, 0.0, 19.25], [18.25, 1157.0, 19.25], [17.75, 1157.0, 18.75]], \"data08\": [[6.75, 0.0], [7.25, 0.0], [7.25, 1419.0], [6.75, 1419.0]]}, \"plugins\": [{\"type\": \"reset\"}, {\"enabled\": false, \"type\": \"zoom\", \"button\": true}, {\"enabled\": false, \"type\": \"boxzoom\", \"button\": true}], \"id\": \"el157234901597648\", \"width\": 432.0});\n",
       "      });\n",
       "    });\n",
       "}else{\n",
       "    // require.js not available: dynamically load d3 & mpld3\n",
       "    mpld3_load_lib(\"https://mpld3.github.io/js/d3.v3.min.js\", function(){\n",
       "         mpld3_load_lib(\"https://mpld3.github.io/js/mpld3.v0.3.js\", function(){\n",
       "                 \n",
       "                 mpld3.draw_figure(\"fig_el1572349015976484324853266\", {\"height\": 288.0, \"axes\": [{\"collections\": [], \"paths\": [{\"edgewidth\": 1.0, \"zorder\": 1, \"pathcodes\": [\"M\", \"L\", \"L\", \"L\", \"Z\"], \"dasharray\": \"none\", \"alpha\": 1, \"facecolor\": \"#1F77B4\", \"coordinates\": \"data\", \"xindex\": 0, \"yindex\": 1, \"data\": \"data01\", \"edgecolor\": \"none\", \"id\": \"el157234942412096\"}, {\"edgewidth\": 1.0, \"zorder\": 1, \"pathcodes\": [\"M\", \"L\", \"L\", \"L\", \"Z\"], \"dasharray\": \"none\", \"alpha\": 1, \"facecolor\": \"#1F77B4\", \"coordinates\": \"data\", \"xindex\": 0, \"yindex\": 1, \"data\": \"data02\", \"edgecolor\": \"none\", \"id\": \"el157234942575600\"}, {\"edgewidth\": 1.0, \"zorder\": 1, \"pathcodes\": [\"M\", \"L\", \"L\", \"L\", \"Z\"], \"dasharray\": \"none\", \"alpha\": 1, \"facecolor\": \"#1F77B4\", \"coordinates\": \"data\", \"xindex\": 0, \"yindex\": 1, \"data\": \"data03\", \"edgecolor\": \"none\", \"id\": \"el157234942773776\"}, {\"edgewidth\": 1.0, \"zorder\": 1, \"pathcodes\": [\"M\", \"L\", \"L\", \"L\", \"Z\"], \"dasharray\": \"none\", \"alpha\": 1, \"facecolor\": \"#1F77B4\", \"coordinates\": \"data\", \"xindex\": 0, \"yindex\": 1, \"data\": \"data04\", \"edgecolor\": \"none\", \"id\": \"el157234943003776\"}, {\"edgewidth\": 1.0, \"zorder\": 1, \"pathcodes\": [\"M\", \"L\", \"L\", \"L\", \"Z\"], \"dasharray\": \"none\", \"alpha\": 1, \"facecolor\": \"#1F77B4\", \"coordinates\": \"data\", \"xindex\": 0, \"yindex\": 1, \"data\": \"data05\", \"edgecolor\": \"none\", \"id\": \"el157235111779168\"}, {\"edgewidth\": 1.0, \"zorder\": 1, \"pathcodes\": [\"M\", \"L\", \"L\", \"L\", \"Z\"], \"dasharray\": \"none\", \"alpha\": 1, \"facecolor\": \"#1F77B4\", \"coordinates\": \"data\", \"xindex\": 0, \"yindex\": 1, \"data\": \"data06\", \"edgecolor\": \"none\", \"id\": \"el157234943279944\"}, {\"edgewidth\": 1.0, \"zorder\": 1, \"pathcodes\": [\"M\", \"L\", \"L\", \"L\", \"Z\"], \"dasharray\": \"none\", \"alpha\": 1, \"facecolor\": \"#1F77B4\", \"coordinates\": \"data\", \"xindex\": 0, \"yindex\": 1, \"data\": \"data07\", \"edgecolor\": \"none\", \"id\": \"el157234943444176\"}, {\"edgewidth\": 1.0, \"zorder\": 1, \"pathcodes\": [\"M\", \"L\", \"L\", \"L\", \"Z\"], \"dasharray\": \"none\", \"alpha\": 1, \"facecolor\": \"#1F77B4\", \"coordinates\": \"data\", \"xindex\": 0, \"yindex\": 1, \"data\": \"data08\", \"edgecolor\": \"none\", \"id\": \"el157234943811248\"}, {\"edgewidth\": 1.0, \"zorder\": 1, \"pathcodes\": [\"M\", \"L\", \"L\", \"L\", \"Z\"], \"dasharray\": \"none\", \"alpha\": 1, \"facecolor\": \"#1F77B4\", \"coordinates\": \"data\", \"xindex\": 0, \"yindex\": 1, \"data\": \"data09\", \"edgecolor\": \"none\", \"id\": \"el157234943978224\"}, {\"edgewidth\": 1.0, \"zorder\": 1, \"pathcodes\": [\"M\", \"L\", \"L\", \"L\", \"Z\"], \"dasharray\": \"none\", \"alpha\": 1, \"facecolor\": \"#1F77B4\", \"coordinates\": \"data\", \"xindex\": 0, \"yindex\": 1, \"data\": \"data10\", \"edgecolor\": \"none\", \"id\": \"el157234944187120\"}, {\"edgewidth\": 1.0, \"zorder\": 1, \"pathcodes\": [\"M\", \"L\", \"L\", \"L\", \"Z\"], \"dasharray\": \"none\", \"alpha\": 1, \"facecolor\": \"#1F77B4\", \"coordinates\": \"data\", \"xindex\": 0, \"yindex\": 1, \"data\": \"data11\", \"edgecolor\": \"none\", \"id\": \"el157234944244576\"}, {\"edgewidth\": 1.0, \"zorder\": 1, \"pathcodes\": [\"M\", \"L\", \"L\", \"L\", \"Z\"], \"dasharray\": \"none\", \"alpha\": 1, \"facecolor\": \"#1F77B4\", \"coordinates\": \"data\", \"xindex\": 0, \"yindex\": 1, \"data\": \"data12\", \"edgecolor\": \"none\", \"id\": \"el157234944592176\"}, {\"edgewidth\": 1.0, \"zorder\": 1, \"pathcodes\": [\"M\", \"L\", \"L\", \"L\", \"Z\"], \"dasharray\": \"none\", \"alpha\": 1, \"facecolor\": \"#1F77B4\", \"coordinates\": \"data\", \"xindex\": 0, \"yindex\": 1, \"data\": \"data13\", \"edgecolor\": \"none\", \"id\": \"el157234939717992\"}, {\"edgewidth\": 1.0, \"zorder\": 1, \"pathcodes\": [\"M\", \"L\", \"L\", \"L\", \"Z\"], \"dasharray\": \"none\", \"alpha\": 1, \"facecolor\": \"#1F77B4\", \"coordinates\": \"data\", \"xindex\": 0, \"yindex\": 1, \"data\": \"data14\", \"edgecolor\": \"none\", \"id\": \"el157234939506352\"}, {\"edgewidth\": 1.0, \"zorder\": 1, \"pathcodes\": [\"M\", \"L\", \"L\", \"L\", \"Z\"], \"dasharray\": \"none\", \"alpha\": 1, \"facecolor\": \"#1F77B4\", \"coordinates\": \"data\", \"xindex\": 0, \"yindex\": 1, \"data\": \"data15\", \"edgecolor\": \"none\", \"id\": \"el157234939190848\"}, {\"edgewidth\": 1.0, \"zorder\": 1, \"pathcodes\": [\"M\", \"L\", \"L\", \"L\", \"Z\"], \"dasharray\": \"none\", \"alpha\": 1, \"facecolor\": \"#1F77B4\", \"coordinates\": \"data\", \"xindex\": 0, \"yindex\": 1, \"data\": \"data16\", \"edgecolor\": \"none\", \"id\": \"el157234938130656\"}, {\"edgewidth\": 1.0, \"zorder\": 1, \"pathcodes\": [\"M\", \"L\", \"L\", \"L\", \"Z\"], \"dasharray\": \"none\", \"alpha\": 1, \"facecolor\": \"#1F77B4\", \"coordinates\": \"data\", \"xindex\": 0, \"yindex\": 1, \"data\": \"data17\", \"edgecolor\": \"none\", \"id\": \"el157234937133808\"}, {\"edgewidth\": 1.0, \"zorder\": 1, \"pathcodes\": [\"M\", \"L\", \"L\", \"L\", \"Z\"], \"dasharray\": \"none\", \"alpha\": 1, \"facecolor\": \"#1F77B4\", \"coordinates\": \"data\", \"xindex\": 0, \"yindex\": 1, \"data\": \"data18\", \"edgecolor\": \"none\", \"id\": \"el157234934889712\"}, {\"edgewidth\": 1.0, \"zorder\": 1, \"pathcodes\": [\"M\", \"L\", \"L\", \"L\", \"Z\"], \"dasharray\": \"none\", \"alpha\": 1, \"facecolor\": \"#1F77B4\", \"coordinates\": \"data\", \"xindex\": 0, \"yindex\": 1, \"data\": \"data19\", \"edgecolor\": \"none\", \"id\": \"el157234944802816\"}, {\"edgewidth\": 1.0, \"zorder\": 1, \"pathcodes\": [\"M\", \"L\", \"L\", \"L\", \"Z\"], \"dasharray\": \"none\", \"alpha\": 1, \"facecolor\": \"#1F77B4\", \"coordinates\": \"data\", \"xindex\": 2, \"yindex\": 1, \"data\": \"data19\", \"edgecolor\": \"none\", \"id\": \"el157234945038416\"}, {\"edgewidth\": 1.0, \"zorder\": 1000001.0, \"pathcodes\": [\"M\", \"L\", \"L\", \"L\", \"Z\"], \"dasharray\": \"none\", \"alpha\": 1, \"facecolor\": \"#1F77B4\", \"coordinates\": \"axes\", \"xindex\": 0, \"yindex\": 1, \"data\": \"data20\", \"edgecolor\": \"none\", \"id\": \"el157234945349656\"}, {\"edgewidth\": 1.0, \"zorder\": 1000000.0, \"pathcodes\": [\"M\", \"L\", \"S\", \"L\", \"S\", \"L\", \"S\", \"L\", \"S\", \"Z\"], \"dasharray\": \"none\", \"alpha\": 0.8, \"facecolor\": \"#FFFFFF\", \"coordinates\": \"axes\", \"xindex\": 0, \"yindex\": 1, \"data\": \"data21\", \"edgecolor\": \"#CCCCCC\", \"id\": \"el157234942349928\"}], \"axes\": [{\"nticks\": 20, \"scale\": \"linear\", \"grid\": {\"gridOn\": false}, \"tickformat\": [\"11207.0\", \"11101.0\", \"10019.0\", \"11201.0\", \"10016.0\", \"10022.0\", \"10036.0\", \"11236.0\", \"11234.0\", \"10001.0\", \"11226.0\", \"11203.0\", \"11385.0\", \"11434.0\", \"10013.0\", \"10002.0\", \"11208.0\", \"11212.0\", \"11233.0\", \"11206.0\"], \"fontsize\": 10.0, \"position\": \"bottom\", \"tickvalues\": [0, 1, 2, 3, 4, 5, 6, 7, 8, 9, 10, 11, 12, 13, 14, 15, 16, 17, 18, 19], \"visible\": true}, {\"nticks\": 10, \"scale\": \"linear\", \"grid\": {\"gridOn\": false}, \"tickformat\": null, \"fontsize\": 10.0, \"position\": \"left\", \"tickvalues\": null, \"visible\": true}], \"sharex\": [], \"xscale\": \"linear\", \"axesbg\": \"#FFFFFF\", \"yscale\": \"linear\", \"axesbgalpha\": null, \"ydomain\": [0.0, 2187.15], \"sharey\": [], \"bbox\": [0.125, 0.125, 0.775, 0.755], \"images\": [], \"zoomable\": true, \"xdomain\": [-0.5, 19.5], \"lines\": [], \"texts\": [{\"color\": \"#000000\", \"zorder\": 3, \"text\": \"ZIP CODE\", \"rotation\": -0.0, \"alpha\": 1, \"coordinates\": \"axes\", \"h_anchor\": \"middle\", \"v_baseline\": \"hanging\", \"fontsize\": 10.0, \"position\": [0.49999999999999994, -0.24087104488594557], \"id\": \"el157234919653936\"}, {\"color\": \"#000000\", \"zorder\": 1000003.0, \"text\": \"COLLISIONS\", \"rotation\": -0.0, \"alpha\": 1, \"coordinates\": \"axes\", \"h_anchor\": \"start\", \"v_baseline\": \"auto\", \"fontsize\": 10.0, \"position\": [0.7965203106332138, 0.9218175128771156], \"id\": \"el157234945199232\"}], \"markers\": [], \"xlim\": [-0.5, 19.5], \"ylim\": [0.0, 2187.15], \"id\": \"el157234927959728\"}], \"data\": {\"data03\": [[1.75, 0.0], [2.25, 0.0], [2.25, 1570.0], [1.75, 1570.0]], \"data10\": [[8.75, 0.0], [9.25, 0.0], [9.25, 1374.0], [8.75, 1374.0]], \"data21\": [[0.7069145758661888, 0.8942236938925681], [0.9790919952210274, 0.8942236938925681], [0.9850657108721624, 0.8942236938925681], [0.9850657108721624, 0.9034216335540839], [0.9850657108721624, 0.9678072111846947], [0.9850657108721624, 0.9770051508462105], [0.9790919952210274, 0.9770051508462105], [0.7069145758661888, 0.9770051508462105], [0.7009408602150538, 0.9770051508462105], [0.7009408602150538, 0.9678072111846947], [0.7009408602150538, 0.9034216335540839], [0.7009408602150538, 0.8942236938925681], [0.7069145758661888, 0.8942236938925681]], \"data20\": [[0.7128882915173238, 0.9218175128771156], [0.7726254480286738, 0.9218175128771156], [0.7726254480286738, 0.954010301692421], [0.7128882915173238, 0.954010301692421]], \"data07\": [[5.75, 0.0], [6.25, 0.0], [6.25, 1428.0], [5.75, 1428.0]], \"data18\": [[16.75, 0.0], [17.25, 0.0], [17.25, 1217.0], [16.75, 1217.0]], \"data12\": [[10.75, 0.0], [11.25, 0.0], [11.25, 1330.0], [10.75, 1330.0]], \"data04\": [[2.75, 0.0], [3.25, 0.0], [3.25, 1528.0], [2.75, 1528.0]], \"data11\": [[9.75, 0.0], [10.25, 0.0], [10.25, 1346.0], [9.75, 1346.0]], \"data09\": [[7.75, 0.0], [8.25, 0.0], [8.25, 1387.0], [7.75, 1387.0]], \"data02\": [[0.75, 0.0], [1.25, 0.0], [1.25, 1623.0], [0.75, 1623.0]], \"data05\": [[3.75, 0.0], [4.25, 0.0], [4.25, 1526.0], [3.75, 1526.0]], \"data13\": [[11.75, 0.0], [12.25, 0.0], [12.25, 1290.0], [11.75, 1290.0]], \"data14\": [[12.75, 0.0], [13.25, 0.0], [13.25, 1289.0], [12.75, 1289.0]], \"data01\": [[-0.25, 0.0], [0.25, 0.0], [0.25, 2083.0], [-0.25, 2083.0]], \"data17\": [[15.75, 0.0], [16.25, 0.0], [16.25, 1245.0], [15.75, 1245.0]], \"data15\": [[13.75, 0.0], [14.25, 0.0], [14.25, 1285.0], [13.75, 1285.0]], \"data06\": [[4.75, 0.0], [5.25, 0.0], [5.25, 1506.0], [4.75, 1506.0]], \"data16\": [[14.75, 0.0], [15.25, 0.0], [15.25, 1253.0], [14.75, 1253.0]], \"data19\": [[17.75, 0.0, 18.75], [18.25, 0.0, 19.25], [18.25, 1157.0, 19.25], [17.75, 1157.0, 18.75]], \"data08\": [[6.75, 0.0], [7.25, 0.0], [7.25, 1419.0], [6.75, 1419.0]]}, \"plugins\": [{\"type\": \"reset\"}, {\"enabled\": false, \"type\": \"zoom\", \"button\": true}, {\"enabled\": false, \"type\": \"boxzoom\", \"button\": true}], \"id\": \"el157234901597648\", \"width\": 432.0});\n",
       "            })\n",
       "         });\n",
       "}\n",
       "</script>"
      ],
      "text/plain": [
       "<IPython.core.display.HTML object>"
      ]
     },
     "execution_count": 32,
     "metadata": {},
     "output_type": "execute_result"
    }
   ],
   "source": [
    "top_zips.plot.bar()\n",
    "mpld3.display()"
   ]
  },
  {
   "cell_type": "markdown",
   "metadata": {},
   "source": [
    "## Bokeh"
   ]
  },
  {
   "cell_type": "code",
   "execution_count": 39,
   "metadata": {
    "collapsed": false
   },
   "outputs": [
    {
     "data": {
      "text/html": [
       "\n",
       "    <div class=\"bk-root\">\n",
       "        <a href=\"http://bokeh.pydata.org\" target=\"_blank\" class=\"bk-logo bk-logo-small bk-logo-notebook\"></a>\n",
       "        <span id=\"8f223737-a01c-49c0-9fa0-3bb1a9551df8\">Loading BokehJS ...</span>\n",
       "    </div>"
      ]
     },
     "metadata": {},
     "output_type": "display_data"
    },
    {
     "data": {
      "application/javascript": [
       "\n",
       "(function(global) {\n",
       "  function now() {\n",
       "    return new Date();\n",
       "  }\n",
       "\n",
       "  var force = true;\n",
       "\n",
       "  if (typeof (window._bokeh_onload_callbacks) === \"undefined\" || force === true) {\n",
       "    window._bokeh_onload_callbacks = [];\n",
       "    window._bokeh_is_loading = undefined;\n",
       "  }\n",
       "\n",
       "\n",
       "  \n",
       "  if (typeof (window._bokeh_timeout) === \"undefined\" || force === true) {\n",
       "    window._bokeh_timeout = Date.now() + 5000;\n",
       "    window._bokeh_failed_load = false;\n",
       "  }\n",
       "\n",
       "  var NB_LOAD_WARNING = {'data': {'text/html':\n",
       "     \"<div style='background-color: #fdd'>\\n\"+\n",
       "     \"<p>\\n\"+\n",
       "     \"BokehJS does not appear to have successfully loaded. If loading BokehJS from CDN, this \\n\"+\n",
       "     \"may be due to a slow or bad network connection. Possible fixes:\\n\"+\n",
       "     \"</p>\\n\"+\n",
       "     \"<ul>\\n\"+\n",
       "     \"<li>re-rerun `output_notebook()` to attempt to load from CDN again, or</li>\\n\"+\n",
       "     \"<li>use INLINE resources instead, as so:</li>\\n\"+\n",
       "     \"</ul>\\n\"+\n",
       "     \"<code>\\n\"+\n",
       "     \"from bokeh.resources import INLINE\\n\"+\n",
       "     \"output_notebook(resources=INLINE)\\n\"+\n",
       "     \"</code>\\n\"+\n",
       "     \"</div>\"}};\n",
       "\n",
       "  function display_loaded() {\n",
       "    if (window.Bokeh !== undefined) {\n",
       "      document.getElementById(\"8f223737-a01c-49c0-9fa0-3bb1a9551df8\").textContent = \"BokehJS successfully loaded.\";\n",
       "    } else if (Date.now() < window._bokeh_timeout) {\n",
       "      setTimeout(display_loaded, 100)\n",
       "    }\n",
       "  }\n",
       "\n",
       "  function run_callbacks() {\n",
       "    window._bokeh_onload_callbacks.forEach(function(callback) { callback() });\n",
       "    delete window._bokeh_onload_callbacks\n",
       "    console.info(\"Bokeh: all callbacks have finished\");\n",
       "  }\n",
       "\n",
       "  function load_libs(js_urls, callback) {\n",
       "    window._bokeh_onload_callbacks.push(callback);\n",
       "    if (window._bokeh_is_loading > 0) {\n",
       "      console.log(\"Bokeh: BokehJS is being loaded, scheduling callback at\", now());\n",
       "      return null;\n",
       "    }\n",
       "    if (js_urls == null || js_urls.length === 0) {\n",
       "      run_callbacks();\n",
       "      return null;\n",
       "    }\n",
       "    console.log(\"Bokeh: BokehJS not loaded, scheduling load and callback at\", now());\n",
       "    window._bokeh_is_loading = js_urls.length;\n",
       "    for (var i = 0; i < js_urls.length; i++) {\n",
       "      var url = js_urls[i];\n",
       "      var s = document.createElement('script');\n",
       "      s.src = url;\n",
       "      s.async = false;\n",
       "      s.onreadystatechange = s.onload = function() {\n",
       "        window._bokeh_is_loading--;\n",
       "        if (window._bokeh_is_loading === 0) {\n",
       "          console.log(\"Bokeh: all BokehJS libraries loaded\");\n",
       "          run_callbacks()\n",
       "        }\n",
       "      };\n",
       "      s.onerror = function() {\n",
       "        console.warn(\"failed to load library \" + url);\n",
       "      };\n",
       "      console.log(\"Bokeh: injecting script tag for BokehJS library: \", url);\n",
       "      document.getElementsByTagName(\"head\")[0].appendChild(s);\n",
       "    }\n",
       "  };var element = document.getElementById(\"8f223737-a01c-49c0-9fa0-3bb1a9551df8\");\n",
       "  if (element == null) {\n",
       "    console.log(\"Bokeh: ERROR: autoload.js configured with elementid '8f223737-a01c-49c0-9fa0-3bb1a9551df8' but no matching script tag was found. \")\n",
       "    return false;\n",
       "  }\n",
       "\n",
       "  var js_urls = [\"https://cdn.pydata.org/bokeh/release/bokeh-0.12.4.min.js\", \"https://cdn.pydata.org/bokeh/release/bokeh-widgets-0.12.4.min.js\"];\n",
       "\n",
       "  var inline_js = [\n",
       "    function(Bokeh) {\n",
       "      Bokeh.set_log_level(\"info\");\n",
       "    },\n",
       "    \n",
       "    function(Bokeh) {\n",
       "      \n",
       "      document.getElementById(\"8f223737-a01c-49c0-9fa0-3bb1a9551df8\").textContent = \"BokehJS is loading...\";\n",
       "    },\n",
       "    function(Bokeh) {\n",
       "      console.log(\"Bokeh: injecting CSS: https://cdn.pydata.org/bokeh/release/bokeh-0.12.4.min.css\");\n",
       "      Bokeh.embed.inject_css(\"https://cdn.pydata.org/bokeh/release/bokeh-0.12.4.min.css\");\n",
       "      console.log(\"Bokeh: injecting CSS: https://cdn.pydata.org/bokeh/release/bokeh-widgets-0.12.4.min.css\");\n",
       "      Bokeh.embed.inject_css(\"https://cdn.pydata.org/bokeh/release/bokeh-widgets-0.12.4.min.css\");\n",
       "    }\n",
       "  ];\n",
       "\n",
       "  function run_inline_js() {\n",
       "    \n",
       "    if ((window.Bokeh !== undefined) || (force === true)) {\n",
       "      for (var i = 0; i < inline_js.length; i++) {\n",
       "        inline_js[i](window.Bokeh);\n",
       "      }if (force === true) {\n",
       "        display_loaded();\n",
       "      }} else if (Date.now() < window._bokeh_timeout) {\n",
       "      setTimeout(run_inline_js, 100);\n",
       "    } else if (!window._bokeh_failed_load) {\n",
       "      console.log(\"Bokeh: BokehJS failed to load within specified timeout.\");\n",
       "      window._bokeh_failed_load = true;\n",
       "    } else if (force !== true) {\n",
       "      var cell = $(document.getElementById(\"8f223737-a01c-49c0-9fa0-3bb1a9551df8\")).parents('.cell').data().cell;\n",
       "      cell.output_area.append_execute_result(NB_LOAD_WARNING)\n",
       "    }\n",
       "\n",
       "  }\n",
       "\n",
       "  if (window._bokeh_is_loading === 0) {\n",
       "    console.log(\"Bokeh: BokehJS loaded, going straight to plotting\");\n",
       "    run_inline_js();\n",
       "  } else {\n",
       "    load_libs(js_urls, function() {\n",
       "      console.log(\"Bokeh: BokehJS plotting callback run at\", now());\n",
       "      run_inline_js();\n",
       "    });\n",
       "  }\n",
       "}(this));"
      ]
     },
     "metadata": {},
     "output_type": "display_data"
    }
   ],
   "source": [
    "from bokeh.charts import Bar\n",
    "from bokeh.io import output_notebook\n",
    "from bokeh.plotting import show\n",
    "\n",
    "output_notebook()"
   ]
  },
  {
   "cell_type": "code",
   "execution_count": 59,
   "metadata": {
    "collapsed": true
   },
   "outputs": [],
   "source": [
    "Bar?"
   ]
  },
  {
   "cell_type": "code",
   "execution_count": 58,
   "metadata": {
    "collapsed": false
   },
   "outputs": [
    {
     "data": {
      "text/html": [
       "\n",
       "\n",
       "    <div class=\"bk-root\">\n",
       "        <div class=\"bk-plotdiv\" id=\"ac5869c3-64f5-44d8-9eb7-a3bfd3895618\"></div>\n",
       "    </div>\n",
       "<script type=\"text/javascript\">\n",
       "  \n",
       "  (function(global) {\n",
       "    function now() {\n",
       "      return new Date();\n",
       "    }\n",
       "  \n",
       "    var force = false;\n",
       "  \n",
       "    if (typeof (window._bokeh_onload_callbacks) === \"undefined\" || force === true) {\n",
       "      window._bokeh_onload_callbacks = [];\n",
       "      window._bokeh_is_loading = undefined;\n",
       "    }\n",
       "  \n",
       "  \n",
       "    \n",
       "    if (typeof (window._bokeh_timeout) === \"undefined\" || force === true) {\n",
       "      window._bokeh_timeout = Date.now() + 0;\n",
       "      window._bokeh_failed_load = false;\n",
       "    }\n",
       "  \n",
       "    var NB_LOAD_WARNING = {'data': {'text/html':\n",
       "       \"<div style='background-color: #fdd'>\\n\"+\n",
       "       \"<p>\\n\"+\n",
       "       \"BokehJS does not appear to have successfully loaded. If loading BokehJS from CDN, this \\n\"+\n",
       "       \"may be due to a slow or bad network connection. Possible fixes:\\n\"+\n",
       "       \"</p>\\n\"+\n",
       "       \"<ul>\\n\"+\n",
       "       \"<li>re-rerun `output_notebook()` to attempt to load from CDN again, or</li>\\n\"+\n",
       "       \"<li>use INLINE resources instead, as so:</li>\\n\"+\n",
       "       \"</ul>\\n\"+\n",
       "       \"<code>\\n\"+\n",
       "       \"from bokeh.resources import INLINE\\n\"+\n",
       "       \"output_notebook(resources=INLINE)\\n\"+\n",
       "       \"</code>\\n\"+\n",
       "       \"</div>\"}};\n",
       "  \n",
       "    function display_loaded() {\n",
       "      if (window.Bokeh !== undefined) {\n",
       "        document.getElementById(\"ac5869c3-64f5-44d8-9eb7-a3bfd3895618\").textContent = \"BokehJS successfully loaded.\";\n",
       "      } else if (Date.now() < window._bokeh_timeout) {\n",
       "        setTimeout(display_loaded, 100)\n",
       "      }\n",
       "    }\n",
       "  \n",
       "    function run_callbacks() {\n",
       "      window._bokeh_onload_callbacks.forEach(function(callback) { callback() });\n",
       "      delete window._bokeh_onload_callbacks\n",
       "      console.info(\"Bokeh: all callbacks have finished\");\n",
       "    }\n",
       "  \n",
       "    function load_libs(js_urls, callback) {\n",
       "      window._bokeh_onload_callbacks.push(callback);\n",
       "      if (window._bokeh_is_loading > 0) {\n",
       "        console.log(\"Bokeh: BokehJS is being loaded, scheduling callback at\", now());\n",
       "        return null;\n",
       "      }\n",
       "      if (js_urls == null || js_urls.length === 0) {\n",
       "        run_callbacks();\n",
       "        return null;\n",
       "      }\n",
       "      console.log(\"Bokeh: BokehJS not loaded, scheduling load and callback at\", now());\n",
       "      window._bokeh_is_loading = js_urls.length;\n",
       "      for (var i = 0; i < js_urls.length; i++) {\n",
       "        var url = js_urls[i];\n",
       "        var s = document.createElement('script');\n",
       "        s.src = url;\n",
       "        s.async = false;\n",
       "        s.onreadystatechange = s.onload = function() {\n",
       "          window._bokeh_is_loading--;\n",
       "          if (window._bokeh_is_loading === 0) {\n",
       "            console.log(\"Bokeh: all BokehJS libraries loaded\");\n",
       "            run_callbacks()\n",
       "          }\n",
       "        };\n",
       "        s.onerror = function() {\n",
       "          console.warn(\"failed to load library \" + url);\n",
       "        };\n",
       "        console.log(\"Bokeh: injecting script tag for BokehJS library: \", url);\n",
       "        document.getElementsByTagName(\"head\")[0].appendChild(s);\n",
       "      }\n",
       "    };var element = document.getElementById(\"ac5869c3-64f5-44d8-9eb7-a3bfd3895618\");\n",
       "    if (element == null) {\n",
       "      console.log(\"Bokeh: ERROR: autoload.js configured with elementid 'ac5869c3-64f5-44d8-9eb7-a3bfd3895618' but no matching script tag was found. \")\n",
       "      return false;\n",
       "    }\n",
       "  \n",
       "    var js_urls = [];\n",
       "  \n",
       "    var inline_js = [\n",
       "      function(Bokeh) {\n",
       "        (function() {\n",
       "          var fn = function() {\n",
       "            var docs_json = {\"123366ed-9013-474c-b57b-938ff73bd6be\":{\"roots\":{\"references\":[{\"attributes\":{\"data_source\":{\"id\":\"d2801582-a94a-4cf8-84ff-853532e43295\",\"type\":\"ColumnDataSource\"},\"glyph\":{\"id\":\"1edb1ba4-33a3-4837-9d10-803e0ef50d01\",\"type\":\"Rect\"},\"hover_glyph\":null,\"nonselection_glyph\":null,\"selection_glyph\":null},\"id\":\"71f62048-50f6-44ac-b381-84422e64d9e4\",\"type\":\"GlyphRenderer\"},{\"attributes\":{\"fill_alpha\":{\"field\":\"fill_alpha\"},\"fill_color\":{\"field\":\"color\"},\"height\":{\"field\":\"height\",\"units\":\"data\"},\"line_color\":{\"field\":\"line_color\"},\"width\":{\"field\":\"width\",\"units\":\"data\"},\"x\":{\"field\":\"x\"},\"y\":{\"field\":\"y\"}},\"id\":\"dc942e26-1ed6-40cc-9d0e-8b159d8fd82e\",\"type\":\"Rect\"},{\"attributes\":{\"callback\":null,\"column_names\":[\"color\",\"line_alpha\",\"height\",\"label\",\"y\",\"width\",\"x\",\"fill_alpha\",\"line_color\"],\"data\":{\"chart_index\":[{\"index\":10019.0}],\"color\":[\"#f22c40\"],\"fill_alpha\":[0.8],\"height\":[1570.0],\"index\":[10019.0],\"label\":[{\"index\":10019.0}],\"line_alpha\":[1.0],\"line_color\":[\"white\"],\"width\":[0.8],\"x\":[\"10019.0\"],\"y\":[785.0]}},\"id\":\"dd25f5bf-d743-45ac-908e-315f36b909a1\",\"type\":\"ColumnDataSource\"},{\"attributes\":{\"fill_alpha\":{\"field\":\"fill_alpha\"},\"fill_color\":{\"field\":\"color\"},\"height\":{\"field\":\"height\",\"units\":\"data\"},\"line_color\":{\"field\":\"line_color\"},\"width\":{\"field\":\"width\",\"units\":\"data\"},\"x\":{\"field\":\"x\"},\"y\":{\"field\":\"y\"}},\"id\":\"686c9be7-61c2-4bcb-b860-726100cd529f\",\"type\":\"Rect\"},{\"attributes\":{\"data_source\":{\"id\":\"37c1ccd5-55a7-479f-bce7-2ad93f619550\",\"type\":\"ColumnDataSource\"},\"glyph\":{\"id\":\"7070bcee-42b4-47e0-aaad-761fcbf21752\",\"type\":\"Rect\"},\"hover_glyph\":null,\"nonselection_glyph\":null,\"selection_glyph\":null},\"id\":\"5a0c561f-5fc4-4223-9502-067a236ef472\",\"type\":\"GlyphRenderer\"},{\"attributes\":{\"callback\":null,\"factors\":[\"10001.0\",\"10002.0\",\"10013.0\",\"10016.0\",\"10019.0\",\"10022.0\",\"10036.0\",\"11101.0\",\"11201.0\",\"11203.0\",\"11206.0\",\"11207.0\",\"11208.0\",\"11212.0\",\"11226.0\",\"11233.0\",\"11234.0\",\"11236.0\",\"11385.0\",\"11434.0\"]},\"id\":\"5993f446-d8c8-4ea5-9ba5-de52643404fd\",\"type\":\"FactorRange\"},{\"attributes\":{\"overlay\":{\"id\":\"c7c7ff55-0598-472e-ab28-69c0ec596877\",\"type\":\"BoxAnnotation\"},\"plot\":{\"id\":\"0707c1af-8d74-4232-b551-3f9d98f4c4f3\",\"subtype\":\"Chart\",\"type\":\"Plot\"}},\"id\":\"c721e2b3-3945-4833-a2e5-d293f65fd9f2\",\"type\":\"BoxZoomTool\"},{\"attributes\":{\"data_source\":{\"id\":\"5a439b8d-5b11-464e-b58b-ff9564138baa\",\"type\":\"ColumnDataSource\"},\"glyph\":{\"id\":\"452b8f70-df63-4182-a97e-c04f90b93414\",\"type\":\"Rect\"},\"hover_glyph\":null,\"nonselection_glyph\":null,\"selection_glyph\":null},\"id\":\"a237bf27-fe35-4b6e-ab21-a5150232c72f\",\"type\":\"GlyphRenderer\"},{\"attributes\":{},\"id\":\"a6d36b9d-c954-4f80-ba6d-b2be0834705e\",\"type\":\"ToolEvents\"},{\"attributes\":{\"data_source\":{\"id\":\"0c53f54d-1cea-4a6c-adb2-8a699bcb1c27\",\"type\":\"ColumnDataSource\"},\"glyph\":{\"id\":\"26d84c16-b3c1-4c13-aba9-f606d9a9e7f1\",\"type\":\"Rect\"},\"hover_glyph\":null,\"nonselection_glyph\":null,\"selection_glyph\":null},\"id\":\"f8567bb0-ec7a-4116-830a-2c637e2e7bea\",\"type\":\"GlyphRenderer\"},{\"attributes\":{\"formatter\":{\"id\":\"0e9cb204-fb81-42e5-9357-7f8fd2f5ffa3\",\"type\":\"CategoricalTickFormatter\"},\"major_label_orientation\":0.7853981633974483,\"plot\":{\"id\":\"0707c1af-8d74-4232-b551-3f9d98f4c4f3\",\"subtype\":\"Chart\",\"type\":\"Plot\"},\"ticker\":{\"id\":\"fe43838c-5ff5-40df-8925-e45349ff358a\",\"type\":\"CategoricalTicker\"}},\"id\":\"a56fe696-996a-49d5-aeb7-64f1c207feca\",\"type\":\"CategoricalAxis\"},{\"attributes\":{\"data_source\":{\"id\":\"a6b62412-9cf9-4a3b-8164-bf3246b0d8f9\",\"type\":\"ColumnDataSource\"},\"glyph\":{\"id\":\"c58c10b2-6795-491f-9a3f-a7e78ced0398\",\"type\":\"Rect\"},\"hover_glyph\":null,\"nonselection_glyph\":null,\"selection_glyph\":null},\"id\":\"42ad4155-f7de-4e1c-9414-1dba7c4cfd94\",\"type\":\"GlyphRenderer\"},{\"attributes\":{\"axis_label\":\"Sum( Collisions )\",\"formatter\":{\"id\":\"e601f842-dbe0-465e-95c4-99864950bcb6\",\"type\":\"BasicTickFormatter\"},\"plot\":{\"id\":\"0707c1af-8d74-4232-b551-3f9d98f4c4f3\",\"subtype\":\"Chart\",\"type\":\"Plot\"},\"ticker\":{\"id\":\"2e58efb3-aee8-4ade-b62d-d32a067cb427\",\"type\":\"BasicTicker\"}},\"id\":\"9ef60ec5-2028-4139-9822-3d2e329fdcec\",\"type\":\"LinearAxis\"},{\"attributes\":{\"fill_alpha\":{\"field\":\"fill_alpha\"},\"fill_color\":{\"field\":\"color\"},\"height\":{\"field\":\"height\",\"units\":\"data\"},\"line_color\":{\"field\":\"line_color\"},\"width\":{\"field\":\"width\",\"units\":\"data\"},\"x\":{\"field\":\"x\"},\"y\":{\"field\":\"y\"}},\"id\":\"1edb1ba4-33a3-4837-9d10-803e0ef50d01\",\"type\":\"Rect\"},{\"attributes\":{\"plot\":{\"id\":\"0707c1af-8d74-4232-b551-3f9d98f4c4f3\",\"subtype\":\"Chart\",\"type\":\"Plot\"}},\"id\":\"af93eb2a-de48-41a4-8553-deaa6a3489eb\",\"type\":\"WheelZoomTool\"},{\"attributes\":{},\"id\":\"2e58efb3-aee8-4ade-b62d-d32a067cb427\",\"type\":\"BasicTicker\"},{\"attributes\":{\"fill_alpha\":{\"field\":\"fill_alpha\"},\"fill_color\":{\"field\":\"color\"},\"height\":{\"field\":\"height\",\"units\":\"data\"},\"line_color\":{\"field\":\"line_color\"},\"width\":{\"field\":\"width\",\"units\":\"data\"},\"x\":{\"field\":\"x\"},\"y\":{\"field\":\"y\"}},\"id\":\"17c18d07-d3e0-4df2-a531-86de503fb598\",\"type\":\"Rect\"},{\"attributes\":{\"callback\":null,\"column_names\":[\"color\",\"line_alpha\",\"height\",\"label\",\"y\",\"width\",\"x\",\"fill_alpha\",\"line_color\"],\"data\":{\"chart_index\":[{\"index\":11226.0}],\"color\":[\"#f22c40\"],\"fill_alpha\":[0.8],\"height\":[1346.0],\"index\":[11226.0],\"label\":[{\"index\":11226.0}],\"line_alpha\":[1.0],\"line_color\":[\"white\"],\"width\":[0.8],\"x\":[\"11226.0\"],\"y\":[673.0]}},\"id\":\"f3202cb2-3e4e-4234-bfca-5cd6de1a05a3\",\"type\":\"ColumnDataSource\"},{\"attributes\":{\"fill_alpha\":{\"field\":\"fill_alpha\"},\"fill_color\":{\"field\":\"color\"},\"height\":{\"field\":\"height\",\"units\":\"data\"},\"line_color\":{\"field\":\"line_color\"},\"width\":{\"field\":\"width\",\"units\":\"data\"},\"x\":{\"field\":\"x\"},\"y\":{\"field\":\"y\"}},\"id\":\"7070bcee-42b4-47e0-aaad-761fcbf21752\",\"type\":\"Rect\"},{\"attributes\":{\"data_source\":{\"id\":\"70254bf8-aee3-461b-bd7e-a8a5892351b1\",\"type\":\"ColumnDataSource\"},\"glyph\":{\"id\":\"5915a5d6-0564-43e9-a53f-b4644bb99584\",\"type\":\"Rect\"},\"hover_glyph\":null,\"nonselection_glyph\":null,\"selection_glyph\":null},\"id\":\"a2a8fafa-27f3-4291-9f81-385eeb13448b\",\"type\":\"GlyphRenderer\"},{\"attributes\":{\"fill_alpha\":{\"field\":\"fill_alpha\"},\"fill_color\":{\"field\":\"color\"},\"height\":{\"field\":\"height\",\"units\":\"data\"},\"line_color\":{\"field\":\"line_color\"},\"width\":{\"field\":\"width\",\"units\":\"data\"},\"x\":{\"field\":\"x\"},\"y\":{\"field\":\"y\"}},\"id\":\"a4fcbefc-55a0-47d6-a701-44814679350b\",\"type\":\"Rect\"},{\"attributes\":{\"plot\":{\"id\":\"0707c1af-8d74-4232-b551-3f9d98f4c4f3\",\"subtype\":\"Chart\",\"type\":\"Plot\"}},\"id\":\"6cc18d0c-8c03-47f1-bdc7-9df1560ab769\",\"type\":\"SaveTool\"},{\"attributes\":{\"dimension\":1,\"plot\":{\"id\":\"0707c1af-8d74-4232-b551-3f9d98f4c4f3\",\"subtype\":\"Chart\",\"type\":\"Plot\"},\"ticker\":{\"id\":\"2e58efb3-aee8-4ade-b62d-d32a067cb427\",\"type\":\"BasicTicker\"}},\"id\":\"8dde4b4e-4d9d-4d8f-9f0c-44da9d04da59\",\"type\":\"Grid\"},{\"attributes\":{\"bottom_units\":\"screen\",\"fill_alpha\":{\"value\":0.5},\"fill_color\":{\"value\":\"lightgrey\"},\"left_units\":\"screen\",\"level\":\"overlay\",\"line_alpha\":{\"value\":1.0},\"line_color\":{\"value\":\"black\"},\"line_dash\":[4,4],\"line_width\":{\"value\":2},\"plot\":null,\"render_mode\":\"css\",\"right_units\":\"screen\",\"top_units\":\"screen\"},\"id\":\"c7c7ff55-0598-472e-ab28-69c0ec596877\",\"type\":\"BoxAnnotation\"},{\"attributes\":{\"fill_alpha\":{\"field\":\"fill_alpha\"},\"fill_color\":{\"field\":\"color\"},\"height\":{\"field\":\"height\",\"units\":\"data\"},\"line_color\":{\"field\":\"line_color\"},\"width\":{\"field\":\"width\",\"units\":\"data\"},\"x\":{\"field\":\"x\"},\"y\":{\"field\":\"y\"}},\"id\":\"35e1d2f4-49ac-4dd6-ace4-7e6032214371\",\"type\":\"Rect\"},{\"attributes\":{\"data_source\":{\"id\":\"7e84dd33-adc1-4214-82c3-5309c8646a64\",\"type\":\"ColumnDataSource\"},\"glyph\":{\"id\":\"cf37202c-4b66-4c60-9be9-ab80141b4f31\",\"type\":\"Rect\"},\"hover_glyph\":null,\"nonselection_glyph\":null,\"selection_glyph\":null},\"id\":\"9dceb825-d247-4842-8ea1-ce493c755327\",\"type\":\"GlyphRenderer\"},{\"attributes\":{\"callback\":null,\"column_names\":[\"color\",\"line_alpha\",\"height\",\"label\",\"y\",\"width\",\"x\",\"fill_alpha\",\"line_color\"],\"data\":{\"chart_index\":[{\"index\":11101.0}],\"color\":[\"#f22c40\"],\"fill_alpha\":[0.8],\"height\":[1623.0],\"index\":[11101.0],\"label\":[{\"index\":11101.0}],\"line_alpha\":[1.0],\"line_color\":[\"white\"],\"width\":[0.8],\"x\":[\"11101.0\"],\"y\":[811.5]}},\"id\":\"7cc509de-af88-4b57-805e-0c7a18e4daa4\",\"type\":\"ColumnDataSource\"},{\"attributes\":{\"callback\":null,\"column_names\":[\"color\",\"line_alpha\",\"height\",\"label\",\"y\",\"width\",\"x\",\"fill_alpha\",\"line_color\"],\"data\":{\"chart_index\":[{\"index\":11233.0}],\"color\":[\"#f22c40\"],\"fill_alpha\":[0.8],\"height\":[1157.0],\"index\":[11233.0],\"label\":[{\"index\":11233.0}],\"line_alpha\":[1.0],\"line_color\":[\"white\"],\"width\":[0.8],\"x\":[\"11233.0\"],\"y\":[578.5]}},\"id\":\"85e7f3bd-e8eb-42c4-bd36-ba5856b56df8\",\"type\":\"ColumnDataSource\"},{\"attributes\":{\"plot\":null,\"text\":null},\"id\":\"4403c7fb-f4c9-45d1-99a5-1ba3d6903bcc\",\"type\":\"Title\"},{\"attributes\":{\"callback\":null,\"column_names\":[\"color\",\"line_alpha\",\"height\",\"label\",\"y\",\"width\",\"x\",\"fill_alpha\",\"line_color\"],\"data\":{\"chart_index\":[{\"index\":10001.0}],\"color\":[\"#f22c40\"],\"fill_alpha\":[0.8],\"height\":[1374.0],\"index\":[10001.0],\"label\":[{\"index\":10001.0}],\"line_alpha\":[1.0],\"line_color\":[\"white\"],\"width\":[0.8],\"x\":[\"10001.0\"],\"y\":[687.0]}},\"id\":\"70254bf8-aee3-461b-bd7e-a8a5892351b1\",\"type\":\"ColumnDataSource\"},{\"attributes\":{\"data_source\":{\"id\":\"fc602103-0811-43c0-9d03-4be45beabf7e\",\"type\":\"ColumnDataSource\"},\"glyph\":{\"id\":\"b997e949-68cd-4336-b100-4cfedab69f4e\",\"type\":\"Rect\"},\"hover_glyph\":null,\"nonselection_glyph\":null,\"selection_glyph\":null},\"id\":\"fc282534-6fef-445f-a606-518c919d7112\",\"type\":\"GlyphRenderer\"},{\"attributes\":{\"data_source\":{\"id\":\"a06a9b52-15b7-416c-836a-b5ba61224443\",\"type\":\"ColumnDataSource\"},\"glyph\":{\"id\":\"00ad0fc1-7bad-4fde-ac4c-dfd501934d5d\",\"type\":\"Rect\"},\"hover_glyph\":null,\"nonselection_glyph\":null,\"selection_glyph\":null},\"id\":\"f11fef4c-8e4a-48fe-aefe-087b5576343e\",\"type\":\"GlyphRenderer\"},{\"attributes\":{\"callback\":null,\"column_names\":[\"color\",\"line_alpha\",\"height\",\"label\",\"y\",\"width\",\"x\",\"fill_alpha\",\"line_color\"],\"data\":{\"chart_index\":[{\"index\":11201.0}],\"color\":[\"#f22c40\"],\"fill_alpha\":[0.8],\"height\":[1528.0],\"index\":[11201.0],\"label\":[{\"index\":11201.0}],\"line_alpha\":[1.0],\"line_color\":[\"white\"],\"width\":[0.8],\"x\":[\"11201.0\"],\"y\":[764.0]}},\"id\":\"37c1ccd5-55a7-479f-bce7-2ad93f619550\",\"type\":\"ColumnDataSource\"},{\"attributes\":{\"fill_alpha\":{\"field\":\"fill_alpha\"},\"fill_color\":{\"field\":\"color\"},\"height\":{\"field\":\"height\",\"units\":\"data\"},\"line_color\":{\"field\":\"line_color\"},\"width\":{\"field\":\"width\",\"units\":\"data\"},\"x\":{\"field\":\"x\"},\"y\":{\"field\":\"y\"}},\"id\":\"eecdd0d7-7e1b-413d-83a2-2dbdf5603f70\",\"type\":\"Rect\"},{\"attributes\":{\"active_drag\":\"auto\",\"active_scroll\":\"auto\",\"active_tap\":\"auto\",\"tools\":[{\"id\":\"bd362723-fb26-4d1a-bbf9-79000e08faab\",\"type\":\"PanTool\"},{\"id\":\"af93eb2a-de48-41a4-8553-deaa6a3489eb\",\"type\":\"WheelZoomTool\"},{\"id\":\"c721e2b3-3945-4833-a2e5-d293f65fd9f2\",\"type\":\"BoxZoomTool\"},{\"id\":\"6cc18d0c-8c03-47f1-bdc7-9df1560ab769\",\"type\":\"SaveTool\"},{\"id\":\"2450896d-1a72-4926-a9f8-69406122831d\",\"type\":\"ResetTool\"},{\"id\":\"127fd9fb-2ed1-4a6f-8bdf-ffd3ac36d7a9\",\"type\":\"HelpTool\"}]},\"id\":\"f47958ae-f226-44b3-baf7-9c8f80fd65aa\",\"type\":\"Toolbar\"},{\"attributes\":{\"below\":[{\"id\":\"a56fe696-996a-49d5-aeb7-64f1c207feca\",\"type\":\"CategoricalAxis\"}],\"css_classes\":null,\"left\":[{\"id\":\"9ef60ec5-2028-4139-9822-3d2e329fdcec\",\"type\":\"LinearAxis\"}],\"renderers\":[{\"id\":\"c7c7ff55-0598-472e-ab28-69c0ec596877\",\"type\":\"BoxAnnotation\"},{\"id\":\"7deee91b-8d7c-401d-b46e-7965a937c22f\",\"type\":\"GlyphRenderer\"},{\"id\":\"71bf7925-c8ce-4425-b9ce-d0ae33aa4091\",\"type\":\"GlyphRenderer\"},{\"id\":\"c9c8eead-9e1a-420a-b130-1b640db0a6db\",\"type\":\"GlyphRenderer\"},{\"id\":\"5a0c561f-5fc4-4223-9502-067a236ef472\",\"type\":\"GlyphRenderer\"},{\"id\":\"71f62048-50f6-44ac-b381-84422e64d9e4\",\"type\":\"GlyphRenderer\"},{\"id\":\"42ad4155-f7de-4e1c-9414-1dba7c4cfd94\",\"type\":\"GlyphRenderer\"},{\"id\":\"5c543eb8-57e1-4759-b032-21e5c7b8ec63\",\"type\":\"GlyphRenderer\"},{\"id\":\"fc282534-6fef-445f-a606-518c919d7112\",\"type\":\"GlyphRenderer\"},{\"id\":\"f02fa2d9-672a-42fb-9cdf-509ed36194c8\",\"type\":\"GlyphRenderer\"},{\"id\":\"a2a8fafa-27f3-4291-9f81-385eeb13448b\",\"type\":\"GlyphRenderer\"},{\"id\":\"8d4e6c06-c6b9-47e6-8ee4-45b994f31ad4\",\"type\":\"GlyphRenderer\"},{\"id\":\"f11fef4c-8e4a-48fe-aefe-087b5576343e\",\"type\":\"GlyphRenderer\"},{\"id\":\"ee748518-75b6-4e27-a31e-1b95babbff53\",\"type\":\"GlyphRenderer\"},{\"id\":\"a237bf27-fe35-4b6e-ab21-a5150232c72f\",\"type\":\"GlyphRenderer\"},{\"id\":\"94745cb2-ef79-4022-b3b2-bc72e346ecc4\",\"type\":\"GlyphRenderer\"},{\"id\":\"a888c987-6582-4543-a67d-ada5715c9d89\",\"type\":\"GlyphRenderer\"},{\"id\":\"9dceb825-d247-4842-8ea1-ce493c755327\",\"type\":\"GlyphRenderer\"},{\"id\":\"3ad8fc1f-1004-48b0-a51b-d1de4d0ccba2\",\"type\":\"GlyphRenderer\"},{\"id\":\"2afb042a-9b1b-4b55-8371-7ded83b681a1\",\"type\":\"GlyphRenderer\"},{\"id\":\"f8567bb0-ec7a-4116-830a-2c637e2e7bea\",\"type\":\"GlyphRenderer\"},{\"id\":\"a56fe696-996a-49d5-aeb7-64f1c207feca\",\"type\":\"CategoricalAxis\"},{\"id\":\"9ef60ec5-2028-4139-9822-3d2e329fdcec\",\"type\":\"LinearAxis\"},{\"id\":\"8dde4b4e-4d9d-4d8f-9f0c-44da9d04da59\",\"type\":\"Grid\"}],\"title\":{\"id\":\"4403c7fb-f4c9-45d1-99a5-1ba3d6903bcc\",\"type\":\"Title\"},\"tool_events\":{\"id\":\"a6d36b9d-c954-4f80-ba6d-b2be0834705e\",\"type\":\"ToolEvents\"},\"toolbar\":{\"id\":\"f47958ae-f226-44b3-baf7-9c8f80fd65aa\",\"type\":\"Toolbar\"},\"x_mapper_type\":\"auto\",\"x_range\":{\"id\":\"5993f446-d8c8-4ea5-9ba5-de52643404fd\",\"type\":\"FactorRange\"},\"y_mapper_type\":\"auto\",\"y_range\":{\"id\":\"d22e551c-dbc6-4a20-b75f-576dfb7d3158\",\"type\":\"Range1d\"}},\"id\":\"0707c1af-8d74-4232-b551-3f9d98f4c4f3\",\"subtype\":\"Chart\",\"type\":\"Plot\"},{\"attributes\":{\"fill_alpha\":{\"field\":\"fill_alpha\"},\"fill_color\":{\"field\":\"color\"},\"height\":{\"field\":\"height\",\"units\":\"data\"},\"line_color\":{\"field\":\"line_color\"},\"width\":{\"field\":\"width\",\"units\":\"data\"},\"x\":{\"field\":\"x\"},\"y\":{\"field\":\"y\"}},\"id\":\"ac9f6617-ab23-4da4-a141-23955ff27c19\",\"type\":\"Rect\"},{\"attributes\":{\"data_source\":{\"id\":\"85e7f3bd-e8eb-42c4-bd36-ba5856b56df8\",\"type\":\"ColumnDataSource\"},\"glyph\":{\"id\":\"ac9f6617-ab23-4da4-a141-23955ff27c19\",\"type\":\"Rect\"},\"hover_glyph\":null,\"nonselection_glyph\":null,\"selection_glyph\":null},\"id\":\"2afb042a-9b1b-4b55-8371-7ded83b681a1\",\"type\":\"GlyphRenderer\"},{\"attributes\":{\"callback\":null,\"column_names\":[\"color\",\"line_alpha\",\"height\",\"label\",\"y\",\"width\",\"x\",\"fill_alpha\",\"line_color\"],\"data\":{\"chart_index\":[{\"index\":10036.0}],\"color\":[\"#f22c40\"],\"fill_alpha\":[0.8],\"height\":[1428.0],\"index\":[10036.0],\"label\":[{\"index\":10036.0}],\"line_alpha\":[1.0],\"line_color\":[\"white\"],\"width\":[0.8],\"x\":[\"10036.0\"],\"y\":[714.0]}},\"id\":\"2370bb93-c01e-4ff7-b4e7-f1a99e154f2e\",\"type\":\"ColumnDataSource\"},{\"attributes\":{\"fill_alpha\":{\"field\":\"fill_alpha\"},\"fill_color\":{\"field\":\"color\"},\"height\":{\"field\":\"height\",\"units\":\"data\"},\"line_color\":{\"field\":\"line_color\"},\"width\":{\"field\":\"width\",\"units\":\"data\"},\"x\":{\"field\":\"x\"},\"y\":{\"field\":\"y\"}},\"id\":\"452b8f70-df63-4182-a97e-c04f90b93414\",\"type\":\"Rect\"},{\"attributes\":{\"callback\":null,\"end\":2187.15},\"id\":\"d22e551c-dbc6-4a20-b75f-576dfb7d3158\",\"type\":\"Range1d\"},{\"attributes\":{\"data_source\":{\"id\":\"2e77686f-3cf1-4727-ac3f-45123557913f\",\"type\":\"ColumnDataSource\"},\"glyph\":{\"id\":\"dc942e26-1ed6-40cc-9d0e-8b159d8fd82e\",\"type\":\"Rect\"},\"hover_glyph\":null,\"nonselection_glyph\":null,\"selection_glyph\":null},\"id\":\"a888c987-6582-4543-a67d-ada5715c9d89\",\"type\":\"GlyphRenderer\"},{\"attributes\":{\"callback\":null,\"column_names\":[\"color\",\"line_alpha\",\"height\",\"label\",\"y\",\"width\",\"x\",\"fill_alpha\",\"line_color\"],\"data\":{\"chart_index\":[{\"index\":10016.0}],\"color\":[\"#f22c40\"],\"fill_alpha\":[0.8],\"height\":[1526.0],\"index\":[10016.0],\"label\":[{\"index\":10016.0}],\"line_alpha\":[1.0],\"line_color\":[\"white\"],\"width\":[0.8],\"x\":[\"10016.0\"],\"y\":[763.0]}},\"id\":\"d2801582-a94a-4cf8-84ff-853532e43295\",\"type\":\"ColumnDataSource\"},{\"attributes\":{\"data_source\":{\"id\":\"2370bb93-c01e-4ff7-b4e7-f1a99e154f2e\",\"type\":\"ColumnDataSource\"},\"glyph\":{\"id\":\"35e1d2f4-49ac-4dd6-ace4-7e6032214371\",\"type\":\"Rect\"},\"hover_glyph\":null,\"nonselection_glyph\":null,\"selection_glyph\":null},\"id\":\"5c543eb8-57e1-4759-b032-21e5c7b8ec63\",\"type\":\"GlyphRenderer\"},{\"attributes\":{\"callback\":null,\"column_names\":[\"color\",\"line_alpha\",\"height\",\"label\",\"y\",\"width\",\"x\",\"fill_alpha\",\"line_color\"],\"data\":{\"chart_index\":[{\"index\":11212.0}],\"color\":[\"#f22c40\"],\"fill_alpha\":[0.8],\"height\":[1217.0],\"index\":[11212.0],\"label\":[{\"index\":11212.0}],\"line_alpha\":[1.0],\"line_color\":[\"white\"],\"width\":[0.8],\"x\":[\"11212.0\"],\"y\":[608.5]}},\"id\":\"a176d468-f723-4367-af6f-821d0741106a\",\"type\":\"ColumnDataSource\"},{\"attributes\":{\"callback\":null,\"column_names\":[\"color\",\"line_alpha\",\"height\",\"label\",\"y\",\"width\",\"x\",\"fill_alpha\",\"line_color\"],\"data\":{\"chart_index\":[{\"index\":10002.0}],\"color\":[\"#f22c40\"],\"fill_alpha\":[0.8],\"height\":[1253.0],\"index\":[10002.0],\"label\":[{\"index\":10002.0}],\"line_alpha\":[1.0],\"line_color\":[\"white\"],\"width\":[0.8],\"x\":[\"10002.0\"],\"y\":[626.5]}},\"id\":\"2e77686f-3cf1-4727-ac3f-45123557913f\",\"type\":\"ColumnDataSource\"},{\"attributes\":{\"callback\":null,\"column_names\":[\"color\",\"line_alpha\",\"height\",\"label\",\"y\",\"width\",\"x\",\"fill_alpha\",\"line_color\"],\"data\":{\"chart_index\":[{\"index\":11434.0}],\"color\":[\"#f22c40\"],\"fill_alpha\":[0.8],\"height\":[1289.0],\"index\":[11434.0],\"label\":[{\"index\":11434.0}],\"line_alpha\":[1.0],\"line_color\":[\"white\"],\"width\":[0.8],\"x\":[\"11434.0\"],\"y\":[644.5]}},\"id\":\"5a439b8d-5b11-464e-b58b-ff9564138baa\",\"type\":\"ColumnDataSource\"},{\"attributes\":{\"callback\":null,\"column_names\":[\"color\",\"line_alpha\",\"height\",\"label\",\"y\",\"width\",\"x\",\"fill_alpha\",\"line_color\"],\"data\":{\"chart_index\":[{\"index\":11206.0}],\"color\":[\"#f22c40\"],\"fill_alpha\":[0.8],\"height\":[1157.0],\"index\":[11206.0],\"label\":[{\"index\":11206.0}],\"line_alpha\":[1.0],\"line_color\":[\"white\"],\"width\":[0.8],\"x\":[\"11206.0\"],\"y\":[578.5]}},\"id\":\"0c53f54d-1cea-4a6c-adb2-8a699bcb1c27\",\"type\":\"ColumnDataSource\"},{\"attributes\":{\"callback\":null,\"column_names\":[\"color\",\"line_alpha\",\"height\",\"label\",\"y\",\"width\",\"x\",\"fill_alpha\",\"line_color\"],\"data\":{\"chart_index\":[{\"index\":10013.0}],\"color\":[\"#f22c40\"],\"fill_alpha\":[0.8],\"height\":[1285.0],\"index\":[10013.0],\"label\":[{\"index\":10013.0}],\"line_alpha\":[1.0],\"line_color\":[\"white\"],\"width\":[0.8],\"x\":[\"10013.0\"],\"y\":[642.5]}},\"id\":\"999e0a4a-d32f-4d3a-8196-59d9c9caa7ff\",\"type\":\"ColumnDataSource\"},{\"attributes\":{\"plot\":{\"id\":\"0707c1af-8d74-4232-b551-3f9d98f4c4f3\",\"subtype\":\"Chart\",\"type\":\"Plot\"}},\"id\":\"2450896d-1a72-4926-a9f8-69406122831d\",\"type\":\"ResetTool\"},{\"attributes\":{\"fill_alpha\":{\"field\":\"fill_alpha\"},\"fill_color\":{\"field\":\"color\"},\"height\":{\"field\":\"height\",\"units\":\"data\"},\"line_color\":{\"field\":\"line_color\"},\"width\":{\"field\":\"width\",\"units\":\"data\"},\"x\":{\"field\":\"x\"},\"y\":{\"field\":\"y\"}},\"id\":\"b997e949-68cd-4336-b100-4cfedab69f4e\",\"type\":\"Rect\"},{\"attributes\":{\"plot\":{\"id\":\"0707c1af-8d74-4232-b551-3f9d98f4c4f3\",\"subtype\":\"Chart\",\"type\":\"Plot\"}},\"id\":\"127fd9fb-2ed1-4a6f-8bdf-ffd3ac36d7a9\",\"type\":\"HelpTool\"},{\"attributes\":{\"callback\":null,\"column_names\":[\"color\",\"line_alpha\",\"height\",\"label\",\"y\",\"width\",\"x\",\"fill_alpha\",\"line_color\"],\"data\":{\"chart_index\":[{\"index\":11208.0}],\"color\":[\"#f22c40\"],\"fill_alpha\":[0.8],\"height\":[1245.0],\"index\":[11208.0],\"label\":[{\"index\":11208.0}],\"line_alpha\":[1.0],\"line_color\":[\"white\"],\"width\":[0.8],\"x\":[\"11208.0\"],\"y\":[622.5]}},\"id\":\"7e84dd33-adc1-4214-82c3-5309c8646a64\",\"type\":\"ColumnDataSource\"},{\"attributes\":{\"fill_alpha\":{\"field\":\"fill_alpha\"},\"fill_color\":{\"field\":\"color\"},\"height\":{\"field\":\"height\",\"units\":\"data\"},\"line_color\":{\"field\":\"line_color\"},\"width\":{\"field\":\"width\",\"units\":\"data\"},\"x\":{\"field\":\"x\"},\"y\":{\"field\":\"y\"}},\"id\":\"5915a5d6-0564-43e9-a53f-b4644bb99584\",\"type\":\"Rect\"},{\"attributes\":{\"data_source\":{\"id\":\"7cc509de-af88-4b57-805e-0c7a18e4daa4\",\"type\":\"ColumnDataSource\"},\"glyph\":{\"id\":\"deb332f3-b9c6-4109-89a5-c1c27517c225\",\"type\":\"Rect\"},\"hover_glyph\":null,\"nonselection_glyph\":null,\"selection_glyph\":null},\"id\":\"71bf7925-c8ce-4425-b9ce-d0ae33aa4091\",\"type\":\"GlyphRenderer\"},{\"attributes\":{\"fill_alpha\":{\"field\":\"fill_alpha\"},\"fill_color\":{\"field\":\"color\"},\"height\":{\"field\":\"height\",\"units\":\"data\"},\"line_color\":{\"field\":\"line_color\"},\"width\":{\"field\":\"width\",\"units\":\"data\"},\"x\":{\"field\":\"x\"},\"y\":{\"field\":\"y\"}},\"id\":\"c58c10b2-6795-491f-9a3f-a7e78ced0398\",\"type\":\"Rect\"},{\"attributes\":{\"data_source\":{\"id\":\"999e0a4a-d32f-4d3a-8196-59d9c9caa7ff\",\"type\":\"ColumnDataSource\"},\"glyph\":{\"id\":\"eecdd0d7-7e1b-413d-83a2-2dbdf5603f70\",\"type\":\"Rect\"},\"hover_glyph\":null,\"nonselection_glyph\":null,\"selection_glyph\":null},\"id\":\"94745cb2-ef79-4022-b3b2-bc72e346ecc4\",\"type\":\"GlyphRenderer\"},{\"attributes\":{\"data_source\":{\"id\":\"a176d468-f723-4367-af6f-821d0741106a\",\"type\":\"ColumnDataSource\"},\"glyph\":{\"id\":\"5171c3dd-29b0-4167-bd01-c0afe5e583ea\",\"type\":\"Rect\"},\"hover_glyph\":null,\"nonselection_glyph\":null,\"selection_glyph\":null},\"id\":\"3ad8fc1f-1004-48b0-a51b-d1de4d0ccba2\",\"type\":\"GlyphRenderer\"},{\"attributes\":{\"callback\":null,\"column_names\":[\"color\",\"line_alpha\",\"height\",\"label\",\"y\",\"width\",\"x\",\"fill_alpha\",\"line_color\"],\"data\":{\"chart_index\":[{\"index\":10022.0}],\"color\":[\"#f22c40\"],\"fill_alpha\":[0.8],\"height\":[1506.0],\"index\":[10022.0],\"label\":[{\"index\":10022.0}],\"line_alpha\":[1.0],\"line_color\":[\"white\"],\"width\":[0.8],\"x\":[\"10022.0\"],\"y\":[753.0]}},\"id\":\"a6b62412-9cf9-4a3b-8164-bf3246b0d8f9\",\"type\":\"ColumnDataSource\"},{\"attributes\":{\"fill_alpha\":{\"field\":\"fill_alpha\"},\"fill_color\":{\"field\":\"color\"},\"height\":{\"field\":\"height\",\"units\":\"data\"},\"line_color\":{\"field\":\"line_color\"},\"width\":{\"field\":\"width\",\"units\":\"data\"},\"x\":{\"field\":\"x\"},\"y\":{\"field\":\"y\"}},\"id\":\"deb332f3-b9c6-4109-89a5-c1c27517c225\",\"type\":\"Rect\"},{\"attributes\":{\"fill_alpha\":{\"field\":\"fill_alpha\"},\"fill_color\":{\"field\":\"color\"},\"height\":{\"field\":\"height\",\"units\":\"data\"},\"line_color\":{\"field\":\"line_color\"},\"width\":{\"field\":\"width\",\"units\":\"data\"},\"x\":{\"field\":\"x\"},\"y\":{\"field\":\"y\"}},\"id\":\"dd7d8b28-735a-48c4-8137-299db1f3cb48\",\"type\":\"Rect\"},{\"attributes\":{\"fill_alpha\":{\"field\":\"fill_alpha\"},\"fill_color\":{\"field\":\"color\"},\"height\":{\"field\":\"height\",\"units\":\"data\"},\"line_color\":{\"field\":\"line_color\"},\"width\":{\"field\":\"width\",\"units\":\"data\"},\"x\":{\"field\":\"x\"},\"y\":{\"field\":\"y\"}},\"id\":\"5171c3dd-29b0-4167-bd01-c0afe5e583ea\",\"type\":\"Rect\"},{\"attributes\":{\"data_source\":{\"id\":\"f3202cb2-3e4e-4234-bfca-5cd6de1a05a3\",\"type\":\"ColumnDataSource\"},\"glyph\":{\"id\":\"4936f742-6c12-474c-868a-3f041b7001ee\",\"type\":\"Rect\"},\"hover_glyph\":null,\"nonselection_glyph\":null,\"selection_glyph\":null},\"id\":\"8d4e6c06-c6b9-47e6-8ee4-45b994f31ad4\",\"type\":\"GlyphRenderer\"},{\"attributes\":{\"callback\":null,\"column_names\":[\"color\",\"line_alpha\",\"height\",\"label\",\"y\",\"width\",\"x\",\"fill_alpha\",\"line_color\"],\"data\":{\"chart_index\":[{\"index\":11203.0}],\"color\":[\"#f22c40\"],\"fill_alpha\":[0.8],\"height\":[1330.0],\"index\":[11203.0],\"label\":[{\"index\":11203.0}],\"line_alpha\":[1.0],\"line_color\":[\"white\"],\"width\":[0.8],\"x\":[\"11203.0\"],\"y\":[665.0]}},\"id\":\"a06a9b52-15b7-416c-836a-b5ba61224443\",\"type\":\"ColumnDataSource\"},{\"attributes\":{\"plot\":{\"id\":\"0707c1af-8d74-4232-b551-3f9d98f4c4f3\",\"subtype\":\"Chart\",\"type\":\"Plot\"}},\"id\":\"bd362723-fb26-4d1a-bbf9-79000e08faab\",\"type\":\"PanTool\"},{\"attributes\":{\"fill_alpha\":{\"field\":\"fill_alpha\"},\"fill_color\":{\"field\":\"color\"},\"height\":{\"field\":\"height\",\"units\":\"data\"},\"line_color\":{\"field\":\"line_color\"},\"width\":{\"field\":\"width\",\"units\":\"data\"},\"x\":{\"field\":\"x\"},\"y\":{\"field\":\"y\"}},\"id\":\"00ad0fc1-7bad-4fde-ac4c-dfd501934d5d\",\"type\":\"Rect\"},{\"attributes\":{\"callback\":null,\"column_names\":[\"color\",\"line_alpha\",\"height\",\"label\",\"y\",\"width\",\"x\",\"fill_alpha\",\"line_color\"],\"data\":{\"chart_index\":[{\"index\":11236.0}],\"color\":[\"#f22c40\"],\"fill_alpha\":[0.8],\"height\":[1419.0],\"index\":[11236.0],\"label\":[{\"index\":11236.0}],\"line_alpha\":[1.0],\"line_color\":[\"white\"],\"width\":[0.8],\"x\":[\"11236.0\"],\"y\":[709.5]}},\"id\":\"fc602103-0811-43c0-9d03-4be45beabf7e\",\"type\":\"ColumnDataSource\"},{\"attributes\":{\"data_source\":{\"id\":\"4ba5012f-61a3-428a-99e5-cb04723e81e3\",\"type\":\"ColumnDataSource\"},\"glyph\":{\"id\":\"a4fcbefc-55a0-47d6-a701-44814679350b\",\"type\":\"Rect\"},\"hover_glyph\":null,\"nonselection_glyph\":null,\"selection_glyph\":null},\"id\":\"ee748518-75b6-4e27-a31e-1b95babbff53\",\"type\":\"GlyphRenderer\"},{\"attributes\":{\"fill_alpha\":{\"field\":\"fill_alpha\"},\"fill_color\":{\"field\":\"color\"},\"height\":{\"field\":\"height\",\"units\":\"data\"},\"line_color\":{\"field\":\"line_color\"},\"width\":{\"field\":\"width\",\"units\":\"data\"},\"x\":{\"field\":\"x\"},\"y\":{\"field\":\"y\"}},\"id\":\"26d84c16-b3c1-4c13-aba9-f606d9a9e7f1\",\"type\":\"Rect\"},{\"attributes\":{},\"id\":\"fe43838c-5ff5-40df-8925-e45349ff358a\",\"type\":\"CategoricalTicker\"},{\"attributes\":{\"callback\":null,\"column_names\":[\"color\",\"line_alpha\",\"height\",\"label\",\"y\",\"width\",\"x\",\"fill_alpha\",\"line_color\"],\"data\":{\"chart_index\":[{\"index\":11385.0}],\"color\":[\"#f22c40\"],\"fill_alpha\":[0.8],\"height\":[1290.0],\"index\":[11385.0],\"label\":[{\"index\":11385.0}],\"line_alpha\":[1.0],\"line_color\":[\"white\"],\"width\":[0.8],\"x\":[\"11385.0\"],\"y\":[645.0]}},\"id\":\"4ba5012f-61a3-428a-99e5-cb04723e81e3\",\"type\":\"ColumnDataSource\"},{\"attributes\":{\"fill_alpha\":{\"field\":\"fill_alpha\"},\"fill_color\":{\"field\":\"color\"},\"height\":{\"field\":\"height\",\"units\":\"data\"},\"line_color\":{\"field\":\"line_color\"},\"width\":{\"field\":\"width\",\"units\":\"data\"},\"x\":{\"field\":\"x\"},\"y\":{\"field\":\"y\"}},\"id\":\"4936f742-6c12-474c-868a-3f041b7001ee\",\"type\":\"Rect\"},{\"attributes\":{},\"id\":\"e601f842-dbe0-465e-95c4-99864950bcb6\",\"type\":\"BasicTickFormatter\"},{\"attributes\":{},\"id\":\"0e9cb204-fb81-42e5-9357-7f8fd2f5ffa3\",\"type\":\"CategoricalTickFormatter\"},{\"attributes\":{\"data_source\":{\"id\":\"cf772484-6a3d-4dac-880c-4fd81581daef\",\"type\":\"ColumnDataSource\"},\"glyph\":{\"id\":\"17c18d07-d3e0-4df2-a531-86de503fb598\",\"type\":\"Rect\"},\"hover_glyph\":null,\"nonselection_glyph\":null,\"selection_glyph\":null},\"id\":\"f02fa2d9-672a-42fb-9cdf-509ed36194c8\",\"type\":\"GlyphRenderer\"},{\"attributes\":{\"callback\":null,\"column_names\":[\"color\",\"line_alpha\",\"height\",\"label\",\"y\",\"width\",\"x\",\"fill_alpha\",\"line_color\"],\"data\":{\"chart_index\":[{\"index\":11234.0}],\"color\":[\"#f22c40\"],\"fill_alpha\":[0.8],\"height\":[1387.0],\"index\":[11234.0],\"label\":[{\"index\":11234.0}],\"line_alpha\":[1.0],\"line_color\":[\"white\"],\"width\":[0.8],\"x\":[\"11234.0\"],\"y\":[693.5]}},\"id\":\"cf772484-6a3d-4dac-880c-4fd81581daef\",\"type\":\"ColumnDataSource\"},{\"attributes\":{\"data_source\":{\"id\":\"dd25f5bf-d743-45ac-908e-315f36b909a1\",\"type\":\"ColumnDataSource\"},\"glyph\":{\"id\":\"dd7d8b28-735a-48c4-8137-299db1f3cb48\",\"type\":\"Rect\"},\"hover_glyph\":null,\"nonselection_glyph\":null,\"selection_glyph\":null},\"id\":\"c9c8eead-9e1a-420a-b130-1b640db0a6db\",\"type\":\"GlyphRenderer\"},{\"attributes\":{\"data_source\":{\"id\":\"906776b5-ba14-4017-841a-ec2ed72ecd75\",\"type\":\"ColumnDataSource\"},\"glyph\":{\"id\":\"686c9be7-61c2-4bcb-b860-726100cd529f\",\"type\":\"Rect\"},\"hover_glyph\":null,\"nonselection_glyph\":null,\"selection_glyph\":null},\"id\":\"7deee91b-8d7c-401d-b46e-7965a937c22f\",\"type\":\"GlyphRenderer\"},{\"attributes\":{\"callback\":null,\"column_names\":[\"color\",\"line_alpha\",\"height\",\"label\",\"y\",\"width\",\"x\",\"fill_alpha\",\"line_color\"],\"data\":{\"chart_index\":[{\"index\":11207.0}],\"color\":[\"#f22c40\"],\"fill_alpha\":[0.8],\"height\":[2083.0],\"index\":[11207.0],\"label\":[{\"index\":11207.0}],\"line_alpha\":[1.0],\"line_color\":[\"white\"],\"width\":[0.8],\"x\":[\"11207.0\"],\"y\":[1041.5]}},\"id\":\"906776b5-ba14-4017-841a-ec2ed72ecd75\",\"type\":\"ColumnDataSource\"},{\"attributes\":{\"fill_alpha\":{\"field\":\"fill_alpha\"},\"fill_color\":{\"field\":\"color\"},\"height\":{\"field\":\"height\",\"units\":\"data\"},\"line_color\":{\"field\":\"line_color\"},\"width\":{\"field\":\"width\",\"units\":\"data\"},\"x\":{\"field\":\"x\"},\"y\":{\"field\":\"y\"}},\"id\":\"cf37202c-4b66-4c60-9be9-ab80141b4f31\",\"type\":\"Rect\"}],\"root_ids\":[\"0707c1af-8d74-4232-b551-3f9d98f4c4f3\"]},\"title\":\"Bokeh Application\",\"version\":\"0.12.4\"}};\n",
       "            var render_items = [{\"docid\":\"123366ed-9013-474c-b57b-938ff73bd6be\",\"elementid\":\"ac5869c3-64f5-44d8-9eb7-a3bfd3895618\",\"modelid\":\"0707c1af-8d74-4232-b551-3f9d98f4c4f3\"}];\n",
       "            \n",
       "            Bokeh.embed.embed_items(docs_json, render_items);\n",
       "          };\n",
       "          if (document.readyState != \"loading\") fn();\n",
       "          else document.addEventListener(\"DOMContentLoaded\", fn);\n",
       "        })();\n",
       "      },\n",
       "      function(Bokeh) {\n",
       "      }\n",
       "    ];\n",
       "  \n",
       "    function run_inline_js() {\n",
       "      \n",
       "      if ((window.Bokeh !== undefined) || (force === true)) {\n",
       "        for (var i = 0; i < inline_js.length; i++) {\n",
       "          inline_js[i](window.Bokeh);\n",
       "        }if (force === true) {\n",
       "          display_loaded();\n",
       "        }} else if (Date.now() < window._bokeh_timeout) {\n",
       "        setTimeout(run_inline_js, 100);\n",
       "      } else if (!window._bokeh_failed_load) {\n",
       "        console.log(\"Bokeh: BokehJS failed to load within specified timeout.\");\n",
       "        window._bokeh_failed_load = true;\n",
       "      } else if (force !== true) {\n",
       "        var cell = $(document.getElementById(\"ac5869c3-64f5-44d8-9eb7-a3bfd3895618\")).parents('.cell').data().cell;\n",
       "        cell.output_area.append_execute_result(NB_LOAD_WARNING)\n",
       "      }\n",
       "  \n",
       "    }\n",
       "  \n",
       "    if (window._bokeh_is_loading === 0) {\n",
       "      console.log(\"Bokeh: BokehJS loaded, going straight to plotting\");\n",
       "      run_inline_js();\n",
       "    } else {\n",
       "      load_libs(js_urls, function() {\n",
       "        console.log(\"Bokeh: BokehJS plotting callback run at\", now());\n",
       "        run_inline_js();\n",
       "      });\n",
       "    }\n",
       "  }(this));\n",
       "</script>"
      ]
     },
     "metadata": {},
     "output_type": "display_data"
    }
   ],
   "source": [
    "plot = Bar(top_zips, values='COLLISIONS', legend=False)\n",
    "show(plot)"
   ]
  },
  {
   "cell_type": "markdown",
   "metadata": {},
   "source": [
    "Note: no easy way to sort the columns yourself...?"
   ]
  },
  {
   "cell_type": "code",
   "execution_count": 61,
   "metadata": {
    "collapsed": false
   },
   "outputs": [
    {
     "data": {
      "text/html": [
       "<div>\n",
       "<table border=\"1\" class=\"dataframe\">\n",
       "  <thead>\n",
       "    <tr style=\"text-align: right;\">\n",
       "      <th></th>\n",
       "      <th>COLLISIONS</th>\n",
       "    </tr>\n",
       "    <tr>\n",
       "      <th>ZIP CODE</th>\n",
       "      <th></th>\n",
       "    </tr>\n",
       "  </thead>\n",
       "  <tbody>\n",
       "    <tr>\n",
       "      <th>11207.0</th>\n",
       "      <td>2083</td>\n",
       "    </tr>\n",
       "    <tr>\n",
       "      <th>11101.0</th>\n",
       "      <td>1623</td>\n",
       "    </tr>\n",
       "    <tr>\n",
       "      <th>10019.0</th>\n",
       "      <td>1570</td>\n",
       "    </tr>\n",
       "    <tr>\n",
       "      <th>11201.0</th>\n",
       "      <td>1528</td>\n",
       "    </tr>\n",
       "    <tr>\n",
       "      <th>10016.0</th>\n",
       "      <td>1526</td>\n",
       "    </tr>\n",
       "    <tr>\n",
       "      <th>10022.0</th>\n",
       "      <td>1506</td>\n",
       "    </tr>\n",
       "    <tr>\n",
       "      <th>10036.0</th>\n",
       "      <td>1428</td>\n",
       "    </tr>\n",
       "    <tr>\n",
       "      <th>11236.0</th>\n",
       "      <td>1419</td>\n",
       "    </tr>\n",
       "    <tr>\n",
       "      <th>11234.0</th>\n",
       "      <td>1387</td>\n",
       "    </tr>\n",
       "    <tr>\n",
       "      <th>10001.0</th>\n",
       "      <td>1374</td>\n",
       "    </tr>\n",
       "    <tr>\n",
       "      <th>11226.0</th>\n",
       "      <td>1346</td>\n",
       "    </tr>\n",
       "    <tr>\n",
       "      <th>11203.0</th>\n",
       "      <td>1330</td>\n",
       "    </tr>\n",
       "    <tr>\n",
       "      <th>11385.0</th>\n",
       "      <td>1290</td>\n",
       "    </tr>\n",
       "    <tr>\n",
       "      <th>11434.0</th>\n",
       "      <td>1289</td>\n",
       "    </tr>\n",
       "    <tr>\n",
       "      <th>10013.0</th>\n",
       "      <td>1285</td>\n",
       "    </tr>\n",
       "    <tr>\n",
       "      <th>10002.0</th>\n",
       "      <td>1253</td>\n",
       "    </tr>\n",
       "    <tr>\n",
       "      <th>11208.0</th>\n",
       "      <td>1245</td>\n",
       "    </tr>\n",
       "    <tr>\n",
       "      <th>11212.0</th>\n",
       "      <td>1217</td>\n",
       "    </tr>\n",
       "    <tr>\n",
       "      <th>11233.0</th>\n",
       "      <td>1157</td>\n",
       "    </tr>\n",
       "    <tr>\n",
       "      <th>11206.0</th>\n",
       "      <td>1157</td>\n",
       "    </tr>\n",
       "  </tbody>\n",
       "</table>\n",
       "</div>"
      ],
      "text/plain": [
       "          COLLISIONS\n",
       "ZIP CODE            \n",
       "11207.0         2083\n",
       "11101.0         1623\n",
       "10019.0         1570\n",
       "11201.0         1528\n",
       "10016.0         1526\n",
       "10022.0         1506\n",
       "10036.0         1428\n",
       "11236.0         1419\n",
       "11234.0         1387\n",
       "10001.0         1374\n",
       "11226.0         1346\n",
       "11203.0         1330\n",
       "11385.0         1290\n",
       "11434.0         1289\n",
       "10013.0         1285\n",
       "10002.0         1253\n",
       "11208.0         1245\n",
       "11212.0         1217\n",
       "11233.0         1157\n",
       "11206.0         1157"
      ]
     },
     "execution_count": 61,
     "metadata": {},
     "output_type": "execute_result"
    }
   ],
   "source": [
    "top_zips"
   ]
  },
  {
   "cell_type": "code",
   "execution_count": 67,
   "metadata": {
    "collapsed": true
   },
   "outputs": [],
   "source": [
    "figure?"
   ]
  },
  {
   "cell_type": "code",
   "execution_count": 86,
   "metadata": {
    "collapsed": false
   },
   "outputs": [
    {
     "data": {
      "text/html": [
       "\n",
       "\n",
       "    <div class=\"bk-root\">\n",
       "        <div class=\"bk-plotdiv\" id=\"b613b08a-e6e1-4d5f-a12f-182b0ca581cb\"></div>\n",
       "    </div>\n",
       "<script type=\"text/javascript\">\n",
       "  \n",
       "  (function(global) {\n",
       "    function now() {\n",
       "      return new Date();\n",
       "    }\n",
       "  \n",
       "    var force = false;\n",
       "  \n",
       "    if (typeof (window._bokeh_onload_callbacks) === \"undefined\" || force === true) {\n",
       "      window._bokeh_onload_callbacks = [];\n",
       "      window._bokeh_is_loading = undefined;\n",
       "    }\n",
       "  \n",
       "  \n",
       "    \n",
       "    if (typeof (window._bokeh_timeout) === \"undefined\" || force === true) {\n",
       "      window._bokeh_timeout = Date.now() + 0;\n",
       "      window._bokeh_failed_load = false;\n",
       "    }\n",
       "  \n",
       "    var NB_LOAD_WARNING = {'data': {'text/html':\n",
       "       \"<div style='background-color: #fdd'>\\n\"+\n",
       "       \"<p>\\n\"+\n",
       "       \"BokehJS does not appear to have successfully loaded. If loading BokehJS from CDN, this \\n\"+\n",
       "       \"may be due to a slow or bad network connection. Possible fixes:\\n\"+\n",
       "       \"</p>\\n\"+\n",
       "       \"<ul>\\n\"+\n",
       "       \"<li>re-rerun `output_notebook()` to attempt to load from CDN again, or</li>\\n\"+\n",
       "       \"<li>use INLINE resources instead, as so:</li>\\n\"+\n",
       "       \"</ul>\\n\"+\n",
       "       \"<code>\\n\"+\n",
       "       \"from bokeh.resources import INLINE\\n\"+\n",
       "       \"output_notebook(resources=INLINE)\\n\"+\n",
       "       \"</code>\\n\"+\n",
       "       \"</div>\"}};\n",
       "  \n",
       "    function display_loaded() {\n",
       "      if (window.Bokeh !== undefined) {\n",
       "        document.getElementById(\"b613b08a-e6e1-4d5f-a12f-182b0ca581cb\").textContent = \"BokehJS successfully loaded.\";\n",
       "      } else if (Date.now() < window._bokeh_timeout) {\n",
       "        setTimeout(display_loaded, 100)\n",
       "      }\n",
       "    }\n",
       "  \n",
       "    function run_callbacks() {\n",
       "      window._bokeh_onload_callbacks.forEach(function(callback) { callback() });\n",
       "      delete window._bokeh_onload_callbacks\n",
       "      console.info(\"Bokeh: all callbacks have finished\");\n",
       "    }\n",
       "  \n",
       "    function load_libs(js_urls, callback) {\n",
       "      window._bokeh_onload_callbacks.push(callback);\n",
       "      if (window._bokeh_is_loading > 0) {\n",
       "        console.log(\"Bokeh: BokehJS is being loaded, scheduling callback at\", now());\n",
       "        return null;\n",
       "      }\n",
       "      if (js_urls == null || js_urls.length === 0) {\n",
       "        run_callbacks();\n",
       "        return null;\n",
       "      }\n",
       "      console.log(\"Bokeh: BokehJS not loaded, scheduling load and callback at\", now());\n",
       "      window._bokeh_is_loading = js_urls.length;\n",
       "      for (var i = 0; i < js_urls.length; i++) {\n",
       "        var url = js_urls[i];\n",
       "        var s = document.createElement('script');\n",
       "        s.src = url;\n",
       "        s.async = false;\n",
       "        s.onreadystatechange = s.onload = function() {\n",
       "          window._bokeh_is_loading--;\n",
       "          if (window._bokeh_is_loading === 0) {\n",
       "            console.log(\"Bokeh: all BokehJS libraries loaded\");\n",
       "            run_callbacks()\n",
       "          }\n",
       "        };\n",
       "        s.onerror = function() {\n",
       "          console.warn(\"failed to load library \" + url);\n",
       "        };\n",
       "        console.log(\"Bokeh: injecting script tag for BokehJS library: \", url);\n",
       "        document.getElementsByTagName(\"head\")[0].appendChild(s);\n",
       "      }\n",
       "    };var element = document.getElementById(\"b613b08a-e6e1-4d5f-a12f-182b0ca581cb\");\n",
       "    if (element == null) {\n",
       "      console.log(\"Bokeh: ERROR: autoload.js configured with elementid 'b613b08a-e6e1-4d5f-a12f-182b0ca581cb' but no matching script tag was found. \")\n",
       "      return false;\n",
       "    }\n",
       "  \n",
       "    var js_urls = [];\n",
       "  \n",
       "    var inline_js = [\n",
       "      function(Bokeh) {\n",
       "        (function() {\n",
       "          var fn = function() {\n",
       "            var docs_json = {\"473b727d-99ca-4796-af98-0545bd059275\":{\"roots\":{\"references\":[{\"attributes\":{\"fill_color\":{\"value\":\"steelblue\"},\"height\":{\"field\":\"height\",\"units\":\"data\"},\"line_color\":{\"value\":\"steelblue\"},\"width\":{\"units\":\"data\",\"value\":0.5},\"x\":{\"field\":\"x\"},\"y\":{\"field\":\"y\"}},\"id\":\"292d0e4d-2092-41fb-a4e5-a15519691de1\",\"type\":\"Rect\"},{\"attributes\":{\"active_drag\":\"auto\",\"active_scroll\":\"auto\",\"active_tap\":\"auto\",\"tools\":[{\"id\":\"7bdd2b96-de12-409a-a99e-85e4bb6a4557\",\"type\":\"PanTool\"},{\"id\":\"5d9eca03-3e07-4beb-8039-9a57eb2a11d2\",\"type\":\"WheelZoomTool\"},{\"id\":\"64979f2d-98d2-497c-b316-4d54a08ca258\",\"type\":\"BoxZoomTool\"},{\"id\":\"d6b3d59f-11b2-436c-a5e8-87e293f08716\",\"type\":\"SaveTool\"},{\"id\":\"69f3a06b-49a1-4bb2-981a-71f39712ce87\",\"type\":\"ResetTool\"},{\"id\":\"d8249673-3c84-4591-b5ce-c54bba84161b\",\"type\":\"HelpTool\"}]},\"id\":\"bd3d785e-c982-4704-8481-6c18fd7fd12d\",\"type\":\"Toolbar\"},{\"attributes\":{},\"id\":\"b575da24-4399-473a-a7bc-67798453498a\",\"type\":\"ToolEvents\"},{\"attributes\":{\"plot\":{\"id\":\"1d499002-741a-438b-b427-1f6503fd7595\",\"subtype\":\"Figure\",\"type\":\"Plot\"}},\"id\":\"d8249673-3c84-4591-b5ce-c54bba84161b\",\"type\":\"HelpTool\"},{\"attributes\":{\"plot\":{\"id\":\"1d499002-741a-438b-b427-1f6503fd7595\",\"subtype\":\"Figure\",\"type\":\"Plot\"},\"ticker\":{\"id\":\"efda9639-cc35-4ab4-a91c-41f78d764e22\",\"type\":\"BasicTicker\"}},\"id\":\"d9dad4e6-1950-4009-9d12-7af45ef6428f\",\"type\":\"Grid\"},{\"attributes\":{\"callback\":null,\"end\":20,\"start\":-1},\"id\":\"3cb7201a-12b8-449c-861c-be0bc31a41be\",\"type\":\"Range1d\"},{\"attributes\":{\"plot\":{\"id\":\"1d499002-741a-438b-b427-1f6503fd7595\",\"subtype\":\"Figure\",\"type\":\"Plot\"}},\"id\":\"7bdd2b96-de12-409a-a99e-85e4bb6a4557\",\"type\":\"PanTool\"},{\"attributes\":{\"plot\":{\"id\":\"1d499002-741a-438b-b427-1f6503fd7595\",\"subtype\":\"Figure\",\"type\":\"Plot\"}},\"id\":\"d6b3d59f-11b2-436c-a5e8-87e293f08716\",\"type\":\"SaveTool\"},{\"attributes\":{},\"id\":\"94f55a5c-4118-44db-b973-3d924f6cf466\",\"type\":\"BasicTickFormatter\"},{\"attributes\":{\"plot\":{\"id\":\"1d499002-741a-438b-b427-1f6503fd7595\",\"subtype\":\"Figure\",\"type\":\"Plot\"}},\"id\":\"5d9eca03-3e07-4beb-8039-9a57eb2a11d2\",\"type\":\"WheelZoomTool\"},{\"attributes\":{\"callback\":null,\"end\":2200},\"id\":\"c6653c7b-096b-49ac-8a7b-a64c5388dcd8\",\"type\":\"Range1d\"},{\"attributes\":{\"callback\":null,\"column_names\":[\"height\",\"x\",\"y\"],\"data\":{\"height\":[2083,1623,1570,1528,1526,1506,1428,1419,1387,1374,1346,1330,1290,1289,1285,1253,1245,1217,1157,1157],\"x\":[0,1,2,3,4,5,6,7,8,9,10,11,12,13,14,15,16,17,18,19],\"y\":{\"__ndarray__\":\"AAAAAABGkEAAAAAAAFyJQAAAAAAAiIhAAAAAAADgh0AAAAAAANiHQAAAAAAAiIdAAAAAAABQhkAAAAAAACyGQAAAAAAArIVAAAAAAAB4hUAAAAAAAAiFQAAAAAAAyIRAAAAAAAAohEAAAAAAACSEQAAAAAAAFIRAAAAAAACUg0AAAAAAAHSDQAAAAAAABINAAAAAAAAUgkAAAAAAABSCQA==\",\"dtype\":\"float64\",\"shape\":[20]}}},\"id\":\"d3a91230-223f-4dc8-93e6-caf98a0d212d\",\"type\":\"ColumnDataSource\"},{\"attributes\":{\"fill_alpha\":{\"value\":0.1},\"fill_color\":{\"value\":\"#1f77b4\"},\"height\":{\"field\":\"height\",\"units\":\"data\"},\"line_alpha\":{\"value\":0.1},\"line_color\":{\"value\":\"#1f77b4\"},\"width\":{\"units\":\"data\",\"value\":0.5},\"x\":{\"field\":\"x\"},\"y\":{\"field\":\"y\"}},\"id\":\"d87674f9-59d9-452a-9d21-b2b45e28b1f4\",\"type\":\"Rect\"},{\"attributes\":{\"plot\":{\"id\":\"1d499002-741a-438b-b427-1f6503fd7595\",\"subtype\":\"Figure\",\"type\":\"Plot\"}},\"id\":\"69f3a06b-49a1-4bb2-981a-71f39712ce87\",\"type\":\"ResetTool\"},{\"attributes\":{},\"id\":\"7603e269-4976-49a0-b499-1b44de8b07ee\",\"type\":\"BasicTickFormatter\"},{\"attributes\":{\"data_source\":{\"id\":\"d3a91230-223f-4dc8-93e6-caf98a0d212d\",\"type\":\"ColumnDataSource\"},\"glyph\":{\"id\":\"292d0e4d-2092-41fb-a4e5-a15519691de1\",\"type\":\"Rect\"},\"hover_glyph\":null,\"nonselection_glyph\":{\"id\":\"d87674f9-59d9-452a-9d21-b2b45e28b1f4\",\"type\":\"Rect\"},\"selection_glyph\":null},\"id\":\"f8ab8134-6173-47e0-8283-9f9a15c3dd1d\",\"type\":\"GlyphRenderer\"},{\"attributes\":{},\"id\":\"efda9639-cc35-4ab4-a91c-41f78d764e22\",\"type\":\"BasicTicker\"},{\"attributes\":{\"overlay\":{\"id\":\"0741c19c-58ed-49f7-a64f-a8871b14adec\",\"type\":\"BoxAnnotation\"},\"plot\":{\"id\":\"1d499002-741a-438b-b427-1f6503fd7595\",\"subtype\":\"Figure\",\"type\":\"Plot\"}},\"id\":\"64979f2d-98d2-497c-b316-4d54a08ca258\",\"type\":\"BoxZoomTool\"},{\"attributes\":{\"formatter\":{\"id\":\"94f55a5c-4118-44db-b973-3d924f6cf466\",\"type\":\"BasicTickFormatter\"},\"plot\":{\"id\":\"1d499002-741a-438b-b427-1f6503fd7595\",\"subtype\":\"Figure\",\"type\":\"Plot\"},\"ticker\":{\"id\":\"4d47233d-8d72-4b62-bf1b-93a56e260e1b\",\"type\":\"BasicTicker\"}},\"id\":\"7b65dba9-2bed-4493-9612-f90a63743adb\",\"type\":\"LinearAxis\"},{\"attributes\":{\"bottom_units\":\"screen\",\"fill_alpha\":{\"value\":0.5},\"fill_color\":{\"value\":\"lightgrey\"},\"left_units\":\"screen\",\"level\":\"overlay\",\"line_alpha\":{\"value\":1.0},\"line_color\":{\"value\":\"black\"},\"line_dash\":[4,4],\"line_width\":{\"value\":2},\"plot\":null,\"render_mode\":\"css\",\"right_units\":\"screen\",\"top_units\":\"screen\"},\"id\":\"0741c19c-58ed-49f7-a64f-a8871b14adec\",\"type\":\"BoxAnnotation\"},{\"attributes\":{\"plot\":null,\"text\":\"\"},\"id\":\"ccc08354-f66f-4691-9746-d7a0d9b12f9a\",\"type\":\"Title\"},{\"attributes\":{\"dimension\":1,\"plot\":{\"id\":\"1d499002-741a-438b-b427-1f6503fd7595\",\"subtype\":\"Figure\",\"type\":\"Plot\"},\"ticker\":{\"id\":\"4d47233d-8d72-4b62-bf1b-93a56e260e1b\",\"type\":\"BasicTicker\"}},\"id\":\"0a96a2dd-bb30-4dd0-b199-5cb86355481d\",\"type\":\"Grid\"},{\"attributes\":{\"formatter\":{\"id\":\"7603e269-4976-49a0-b499-1b44de8b07ee\",\"type\":\"BasicTickFormatter\"},\"plot\":{\"id\":\"1d499002-741a-438b-b427-1f6503fd7595\",\"subtype\":\"Figure\",\"type\":\"Plot\"},\"ticker\":{\"id\":\"efda9639-cc35-4ab4-a91c-41f78d764e22\",\"type\":\"BasicTicker\"}},\"id\":\"7888b04b-62f5-42c4-b1c9-6df9dced0de8\",\"type\":\"LinearAxis\"},{\"attributes\":{},\"id\":\"4d47233d-8d72-4b62-bf1b-93a56e260e1b\",\"type\":\"BasicTicker\"},{\"attributes\":{\"below\":[{\"id\":\"7888b04b-62f5-42c4-b1c9-6df9dced0de8\",\"type\":\"LinearAxis\"}],\"left\":[{\"id\":\"7b65dba9-2bed-4493-9612-f90a63743adb\",\"type\":\"LinearAxis\"}],\"renderers\":[{\"id\":\"7888b04b-62f5-42c4-b1c9-6df9dced0de8\",\"type\":\"LinearAxis\"},{\"id\":\"d9dad4e6-1950-4009-9d12-7af45ef6428f\",\"type\":\"Grid\"},{\"id\":\"7b65dba9-2bed-4493-9612-f90a63743adb\",\"type\":\"LinearAxis\"},{\"id\":\"0a96a2dd-bb30-4dd0-b199-5cb86355481d\",\"type\":\"Grid\"},{\"id\":\"0741c19c-58ed-49f7-a64f-a8871b14adec\",\"type\":\"BoxAnnotation\"},{\"id\":\"f8ab8134-6173-47e0-8283-9f9a15c3dd1d\",\"type\":\"GlyphRenderer\"}],\"title\":{\"id\":\"ccc08354-f66f-4691-9746-d7a0d9b12f9a\",\"type\":\"Title\"},\"tool_events\":{\"id\":\"b575da24-4399-473a-a7bc-67798453498a\",\"type\":\"ToolEvents\"},\"toolbar\":{\"id\":\"bd3d785e-c982-4704-8481-6c18fd7fd12d\",\"type\":\"Toolbar\"},\"x_range\":{\"id\":\"3cb7201a-12b8-449c-861c-be0bc31a41be\",\"type\":\"Range1d\"},\"y_range\":{\"id\":\"c6653c7b-096b-49ac-8a7b-a64c5388dcd8\",\"type\":\"Range1d\"}},\"id\":\"1d499002-741a-438b-b427-1f6503fd7595\",\"subtype\":\"Figure\",\"type\":\"Plot\"}],\"root_ids\":[\"1d499002-741a-438b-b427-1f6503fd7595\"]},\"title\":\"Bokeh Application\",\"version\":\"0.12.4\"}};\n",
       "            var render_items = [{\"docid\":\"473b727d-99ca-4796-af98-0545bd059275\",\"elementid\":\"b613b08a-e6e1-4d5f-a12f-182b0ca581cb\",\"modelid\":\"1d499002-741a-438b-b427-1f6503fd7595\"}];\n",
       "            \n",
       "            Bokeh.embed.embed_items(docs_json, render_items);\n",
       "          };\n",
       "          if (document.readyState != \"loading\") fn();\n",
       "          else document.addEventListener(\"DOMContentLoaded\", fn);\n",
       "        })();\n",
       "      },\n",
       "      function(Bokeh) {\n",
       "      }\n",
       "    ];\n",
       "  \n",
       "    function run_inline_js() {\n",
       "      \n",
       "      if ((window.Bokeh !== undefined) || (force === true)) {\n",
       "        for (var i = 0; i < inline_js.length; i++) {\n",
       "          inline_js[i](window.Bokeh);\n",
       "        }if (force === true) {\n",
       "          display_loaded();\n",
       "        }} else if (Date.now() < window._bokeh_timeout) {\n",
       "        setTimeout(run_inline_js, 100);\n",
       "      } else if (!window._bokeh_failed_load) {\n",
       "        console.log(\"Bokeh: BokehJS failed to load within specified timeout.\");\n",
       "        window._bokeh_failed_load = true;\n",
       "      } else if (force !== true) {\n",
       "        var cell = $(document.getElementById(\"b613b08a-e6e1-4d5f-a12f-182b0ca581cb\")).parents('.cell').data().cell;\n",
       "        cell.output_area.append_execute_result(NB_LOAD_WARNING)\n",
       "      }\n",
       "  \n",
       "    }\n",
       "  \n",
       "    if (window._bokeh_is_loading === 0) {\n",
       "      console.log(\"Bokeh: BokehJS loaded, going straight to plotting\");\n",
       "      run_inline_js();\n",
       "    } else {\n",
       "      load_libs(js_urls, function() {\n",
       "        console.log(\"Bokeh: BokehJS plotting callback run at\", now());\n",
       "        run_inline_js();\n",
       "      });\n",
       "    }\n",
       "  }(this));\n",
       "</script>"
      ]
     },
     "metadata": {},
     "output_type": "display_data"
    }
   ],
   "source": [
    "from bokeh.plotting import show, figure\n",
    "from bokeh.io import output_notebook\n",
    "from bokeh.models import Range1d\n",
    "\n",
    "r = list(range(0, len(top_zips)))\n",
    "\n",
    "plot = figure(x_range=Range1d(-1, len(top_zips)), y_range=(0, 2200))\n",
    "plot.rect(r, \n",
    "          top_zips['COLLISIONS'].values / 2,  # y coordinate of the center of the rectangle\n",
    "          width=0.5,\n",
    "          height=top_zips['COLLISIONS'].values, \n",
    "          color =\"steelblue\")\n",
    "\n",
    "show(plot)"
   ]
  },
  {
   "cell_type": "code",
   "execution_count": 89,
   "metadata": {
    "collapsed": true
   },
   "outputs": [],
   "source": [
    "# https://github.com/bokeh/bokeh/issues/1671"
   ]
  },
  {
   "cell_type": "code",
   "execution_count": 88,
   "metadata": {
    "collapsed": true,
    "deletable": true,
    "editable": true
   },
   "outputs": [],
   "source": [
    "from bokeh.models import FixedTicker"
   ]
  },
  {
   "cell_type": "code",
   "execution_count": null,
   "metadata": {
    "collapsed": true
   },
   "outputs": [],
   "source": [
    "from bokeh.plotting import show, figure\n",
    "from bokeh.io import output_notebook\n",
    "from bokeh.models import Range1d\n",
    "from bokeh.models import FixedTicker, TickFormatter\n",
    "\n",
    "r = list(range(0, len(top_zips)))\n",
    "\n",
    "plot = figure(x_range=Range1d(-1, len(top_zips)), y_range=(0, 2200))\n",
    "plot.rect(r, \n",
    "          top_zips['COLLISIONS'].values / 2,  # y coordinate of the center of the rectangle\n",
    "          width=0.5,\n",
    "          height=top_zips['COLLISIONS'].values, \n",
    "          color =\"steelblue\")\n",
    "\n",
    "ticker = FixedTicker(ticks=[5,15,25,35,45,55])\n",
    "formatter = FixedTickFormatter(labels={5: '0-10', 15: '10-20', 25: '20-30', 35: '30-40', 45: '40-50', 55: '50+'})\n",
    "\n",
    "show(plot)"
   ]
  }
 ],
 "metadata": {
  "kernelspec": {
   "display_name": "Python 3",
   "language": "python",
   "name": "python3"
  },
  "language_info": {
   "codemirror_mode": {
    "name": "ipython",
    "version": 3
   },
   "file_extension": ".py",
   "mimetype": "text/x-python",
   "name": "python",
   "nbconvert_exporter": "python",
   "pygments_lexer": "ipython3",
   "version": "3.5.3"
  }
 },
 "nbformat": 4,
 "nbformat_minor": 2
}
