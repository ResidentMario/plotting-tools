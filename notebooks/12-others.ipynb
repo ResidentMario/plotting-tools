{
 "cells": [
  {
   "cell_type": "markdown",
   "metadata": {},
   "source": [
    "General\n",
    "\n",
    "* `Lightning`: http://lightning-viz.org/visualizations/matrix/\n",
    "* `PyGAL`: http://pygal.org/en/stable/\n",
    "* `Glue`: http://glueviz.org/en/stable/faq.html\n",
    "* `Leather`: http://leather.readthedocs.io/en/0.3.3/\n",
    "\n",
    "Speciality\n",
    "* `Geoviews`: http://geo.holoviews.org/\n",
    "* `Geoplot`: http://www.residentmar.io/geoplot/index.html\n",
    "\n",
    "...others..."
   ]
  }
 ],
 "metadata": {
  "kernelspec": {
   "display_name": "Python 3",
   "language": "python",
   "name": "python3"
  },
  "language_info": {
   "codemirror_mode": {
    "name": "ipython",
    "version": 3
   },
   "file_extension": ".py",
   "mimetype": "text/x-python",
   "name": "python",
   "nbconvert_exporter": "python",
   "pygments_lexer": "ipython3",
   "version": "3.5.3"
  }
 },
 "nbformat": 4,
 "nbformat_minor": 2
}
