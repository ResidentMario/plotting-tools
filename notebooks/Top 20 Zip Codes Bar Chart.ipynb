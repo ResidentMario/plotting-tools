{
 "cells": [
  {
   "cell_type": "markdown",
   "metadata": {
    "deletable": true,
    "editable": true
   },
   "source": [
    "## Load the Data"
   ]
  },
  {
   "cell_type": "code",
   "execution_count": 3,
   "metadata": {
    "collapsed": true,
    "deletable": true,
    "editable": true
   },
   "outputs": [],
   "source": [
    "import pandas as pd\n",
    "pd.set_option(\"max_columns\", None)"
   ]
  },
  {
   "cell_type": "code",
   "execution_count": 4,
   "metadata": {
    "collapsed": true,
    "deletable": true,
    "editable": true
   },
   "outputs": [],
   "source": [
    "collisions = pd.read_csv(\"../data/NYPD_Motor_Vehicle_Collisions_2016.csv\", index_col=0)"
   ]
  },
  {
   "cell_type": "code",
   "execution_count": 5,
   "metadata": {
    "collapsed": false,
    "deletable": true,
    "editable": true
   },
   "outputs": [
    {
     "data": {
      "text/html": [
       "<div>\n",
       "<table border=\"1\" class=\"dataframe\">\n",
       "  <thead>\n",
       "    <tr style=\"text-align: right;\">\n",
       "      <th></th>\n",
       "      <th>DATE</th>\n",
       "      <th>TIME</th>\n",
       "      <th>BOROUGH</th>\n",
       "      <th>ZIP CODE</th>\n",
       "      <th>LATITUDE</th>\n",
       "      <th>LONGITUDE</th>\n",
       "      <th>LOCATION</th>\n",
       "      <th>ON STREET NAME</th>\n",
       "      <th>CROSS STREET NAME</th>\n",
       "      <th>OFF STREET NAME</th>\n",
       "      <th>NUMBER OF PERSONS INJURED</th>\n",
       "      <th>NUMBER OF PERSONS KILLED</th>\n",
       "      <th>NUMBER OF PEDESTRIANS INJURED</th>\n",
       "      <th>NUMBER OF PEDESTRIANS KILLED</th>\n",
       "      <th>NUMBER OF CYCLIST INJURED</th>\n",
       "      <th>NUMBER OF CYCLIST KILLED</th>\n",
       "      <th>NUMBER OF MOTORIST INJURED</th>\n",
       "      <th>NUMBER OF MOTORIST KILLED</th>\n",
       "      <th>CONTRIBUTING FACTOR VEHICLE 1</th>\n",
       "      <th>CONTRIBUTING FACTOR VEHICLE 2</th>\n",
       "      <th>CONTRIBUTING FACTOR VEHICLE 3</th>\n",
       "      <th>CONTRIBUTING FACTOR VEHICLE 4</th>\n",
       "      <th>CONTRIBUTING FACTOR VEHICLE 5</th>\n",
       "      <th>UNIQUE KEY</th>\n",
       "      <th>VEHICLE TYPE CODE 1</th>\n",
       "      <th>VEHICLE TYPE CODE 2</th>\n",
       "      <th>VEHICLE TYPE CODE 3</th>\n",
       "      <th>VEHICLE TYPE CODE 4</th>\n",
       "      <th>VEHICLE TYPE CODE 5</th>\n",
       "    </tr>\n",
       "  </thead>\n",
       "  <tbody>\n",
       "    <tr>\n",
       "      <th>0</th>\n",
       "      <td>11/10/2016</td>\n",
       "      <td>15:11</td>\n",
       "      <td>NaN</td>\n",
       "      <td>NaN</td>\n",
       "      <td>NaN</td>\n",
       "      <td>NaN</td>\n",
       "      <td>NaN</td>\n",
       "      <td>MONROE STREET</td>\n",
       "      <td>NaN</td>\n",
       "      <td>NaN</td>\n",
       "      <td>0</td>\n",
       "      <td>0</td>\n",
       "      <td>0</td>\n",
       "      <td>0</td>\n",
       "      <td>0</td>\n",
       "      <td>0</td>\n",
       "      <td>0</td>\n",
       "      <td>0</td>\n",
       "      <td>Driver Inattention/Distraction</td>\n",
       "      <td>Unspecified</td>\n",
       "      <td>NaN</td>\n",
       "      <td>NaN</td>\n",
       "      <td>NaN</td>\n",
       "      <td>3559084</td>\n",
       "      <td>PASSENGER VEHICLE</td>\n",
       "      <td>NaN</td>\n",
       "      <td>NaN</td>\n",
       "      <td>NaN</td>\n",
       "      <td>NaN</td>\n",
       "    </tr>\n",
       "    <tr>\n",
       "      <th>1</th>\n",
       "      <td>04/16/2016</td>\n",
       "      <td>4:13</td>\n",
       "      <td>NaN</td>\n",
       "      <td>NaN</td>\n",
       "      <td>40.767373</td>\n",
       "      <td>-73.950057</td>\n",
       "      <td>(40.767373, -73.9500574)</td>\n",
       "      <td>EAST 68 STREET</td>\n",
       "      <td>NaN</td>\n",
       "      <td>NaN</td>\n",
       "      <td>1</td>\n",
       "      <td>0</td>\n",
       "      <td>0</td>\n",
       "      <td>0</td>\n",
       "      <td>0</td>\n",
       "      <td>0</td>\n",
       "      <td>1</td>\n",
       "      <td>0</td>\n",
       "      <td>Fatigued/Drowsy</td>\n",
       "      <td>Fatigued/Drowsy</td>\n",
       "      <td>Fatigued/Drowsy</td>\n",
       "      <td>NaN</td>\n",
       "      <td>NaN</td>\n",
       "      <td>3408932</td>\n",
       "      <td>PASSENGER VEHICLE</td>\n",
       "      <td>PASSENGER VEHICLE</td>\n",
       "      <td>PASSENGER VEHICLE</td>\n",
       "      <td>NaN</td>\n",
       "      <td>NaN</td>\n",
       "    </tr>\n",
       "    <tr>\n",
       "      <th>2</th>\n",
       "      <td>04/16/2016</td>\n",
       "      <td>4:22</td>\n",
       "      <td>NaN</td>\n",
       "      <td>NaN</td>\n",
       "      <td>NaN</td>\n",
       "      <td>NaN</td>\n",
       "      <td>NaN</td>\n",
       "      <td>BORDEN AVENUE</td>\n",
       "      <td>58TH STREET</td>\n",
       "      <td>NaN</td>\n",
       "      <td>1</td>\n",
       "      <td>0</td>\n",
       "      <td>1</td>\n",
       "      <td>0</td>\n",
       "      <td>0</td>\n",
       "      <td>0</td>\n",
       "      <td>0</td>\n",
       "      <td>0</td>\n",
       "      <td>Passenger Distraction</td>\n",
       "      <td>NaN</td>\n",
       "      <td>NaN</td>\n",
       "      <td>NaN</td>\n",
       "      <td>NaN</td>\n",
       "      <td>3425902</td>\n",
       "      <td>NaN</td>\n",
       "      <td>NaN</td>\n",
       "      <td>NaN</td>\n",
       "      <td>NaN</td>\n",
       "      <td>NaN</td>\n",
       "    </tr>\n",
       "    <tr>\n",
       "      <th>3</th>\n",
       "      <td>04/16/2016</td>\n",
       "      <td>4:30</td>\n",
       "      <td>BRONX</td>\n",
       "      <td>10468.0</td>\n",
       "      <td>40.862679</td>\n",
       "      <td>-73.909040</td>\n",
       "      <td>(40.8626793, -73.9090397)</td>\n",
       "      <td>SEDGWICK AVENUE</td>\n",
       "      <td>WEST FORDHAM ROAD</td>\n",
       "      <td>NaN</td>\n",
       "      <td>0</td>\n",
       "      <td>0</td>\n",
       "      <td>0</td>\n",
       "      <td>0</td>\n",
       "      <td>0</td>\n",
       "      <td>0</td>\n",
       "      <td>0</td>\n",
       "      <td>0</td>\n",
       "      <td>Alcohol Involvement</td>\n",
       "      <td>NaN</td>\n",
       "      <td>NaN</td>\n",
       "      <td>NaN</td>\n",
       "      <td>NaN</td>\n",
       "      <td>3414396</td>\n",
       "      <td>PASSENGER VEHICLE</td>\n",
       "      <td>NaN</td>\n",
       "      <td>NaN</td>\n",
       "      <td>NaN</td>\n",
       "      <td>NaN</td>\n",
       "    </tr>\n",
       "    <tr>\n",
       "      <th>4</th>\n",
       "      <td>04/16/2016</td>\n",
       "      <td>4:30</td>\n",
       "      <td>BROOKLYN</td>\n",
       "      <td>11249.0</td>\n",
       "      <td>40.716508</td>\n",
       "      <td>-73.961275</td>\n",
       "      <td>(40.7165078, -73.9612751)</td>\n",
       "      <td>NaN</td>\n",
       "      <td>NaN</td>\n",
       "      <td>203 BERRY STREET</td>\n",
       "      <td>0</td>\n",
       "      <td>0</td>\n",
       "      <td>0</td>\n",
       "      <td>0</td>\n",
       "      <td>0</td>\n",
       "      <td>0</td>\n",
       "      <td>0</td>\n",
       "      <td>0</td>\n",
       "      <td>Unspecified</td>\n",
       "      <td>Unspecified</td>\n",
       "      <td>NaN</td>\n",
       "      <td>NaN</td>\n",
       "      <td>NaN</td>\n",
       "      <td>3421852</td>\n",
       "      <td>PASSENGER VEHICLE</td>\n",
       "      <td>PASSENGER VEHICLE</td>\n",
       "      <td>NaN</td>\n",
       "      <td>NaN</td>\n",
       "      <td>NaN</td>\n",
       "    </tr>\n",
       "  </tbody>\n",
       "</table>\n",
       "</div>"
      ],
      "text/plain": [
       "         DATE   TIME   BOROUGH  ZIP CODE   LATITUDE  LONGITUDE  \\\n",
       "0  11/10/2016  15:11       NaN       NaN        NaN        NaN   \n",
       "1  04/16/2016   4:13       NaN       NaN  40.767373 -73.950057   \n",
       "2  04/16/2016   4:22       NaN       NaN        NaN        NaN   \n",
       "3  04/16/2016   4:30     BRONX   10468.0  40.862679 -73.909040   \n",
       "4  04/16/2016   4:30  BROOKLYN   11249.0  40.716508 -73.961275   \n",
       "\n",
       "                    LOCATION   ON STREET NAME  CROSS STREET NAME  \\\n",
       "0                        NaN    MONROE STREET                NaN   \n",
       "1   (40.767373, -73.9500574)   EAST 68 STREET                NaN   \n",
       "2                        NaN    BORDEN AVENUE        58TH STREET   \n",
       "3  (40.8626793, -73.9090397)  SEDGWICK AVENUE  WEST FORDHAM ROAD   \n",
       "4  (40.7165078, -73.9612751)              NaN                NaN   \n",
       "\n",
       "    OFF STREET NAME  NUMBER OF PERSONS INJURED  NUMBER OF PERSONS KILLED  \\\n",
       "0               NaN                          0                         0   \n",
       "1               NaN                          1                         0   \n",
       "2               NaN                          1                         0   \n",
       "3               NaN                          0                         0   \n",
       "4  203 BERRY STREET                          0                         0   \n",
       "\n",
       "   NUMBER OF PEDESTRIANS INJURED  NUMBER OF PEDESTRIANS KILLED  \\\n",
       "0                              0                             0   \n",
       "1                              0                             0   \n",
       "2                              1                             0   \n",
       "3                              0                             0   \n",
       "4                              0                             0   \n",
       "\n",
       "   NUMBER OF CYCLIST INJURED  NUMBER OF CYCLIST KILLED  \\\n",
       "0                          0                         0   \n",
       "1                          0                         0   \n",
       "2                          0                         0   \n",
       "3                          0                         0   \n",
       "4                          0                         0   \n",
       "\n",
       "   NUMBER OF MOTORIST INJURED  NUMBER OF MOTORIST KILLED  \\\n",
       "0                           0                          0   \n",
       "1                           1                          0   \n",
       "2                           0                          0   \n",
       "3                           0                          0   \n",
       "4                           0                          0   \n",
       "\n",
       "    CONTRIBUTING FACTOR VEHICLE 1 CONTRIBUTING FACTOR VEHICLE 2  \\\n",
       "0  Driver Inattention/Distraction                   Unspecified   \n",
       "1                 Fatigued/Drowsy               Fatigued/Drowsy   \n",
       "2           Passenger Distraction                           NaN   \n",
       "3             Alcohol Involvement                           NaN   \n",
       "4                     Unspecified                   Unspecified   \n",
       "\n",
       "  CONTRIBUTING FACTOR VEHICLE 3 CONTRIBUTING FACTOR VEHICLE 4  \\\n",
       "0                           NaN                           NaN   \n",
       "1               Fatigued/Drowsy                           NaN   \n",
       "2                           NaN                           NaN   \n",
       "3                           NaN                           NaN   \n",
       "4                           NaN                           NaN   \n",
       "\n",
       "  CONTRIBUTING FACTOR VEHICLE 5  UNIQUE KEY VEHICLE TYPE CODE 1  \\\n",
       "0                           NaN     3559084   PASSENGER VEHICLE   \n",
       "1                           NaN     3408932   PASSENGER VEHICLE   \n",
       "2                           NaN     3425902                 NaN   \n",
       "3                           NaN     3414396   PASSENGER VEHICLE   \n",
       "4                           NaN     3421852   PASSENGER VEHICLE   \n",
       "\n",
       "  VEHICLE TYPE CODE 2 VEHICLE TYPE CODE 3 VEHICLE TYPE CODE 4  \\\n",
       "0                 NaN                 NaN                 NaN   \n",
       "1   PASSENGER VEHICLE   PASSENGER VEHICLE                 NaN   \n",
       "2                 NaN                 NaN                 NaN   \n",
       "3                 NaN                 NaN                 NaN   \n",
       "4   PASSENGER VEHICLE                 NaN                 NaN   \n",
       "\n",
       "  VEHICLE TYPE CODE 5  \n",
       "0                 NaN  \n",
       "1                 NaN  \n",
       "2                 NaN  \n",
       "3                 NaN  \n",
       "4                 NaN  "
      ]
     },
     "execution_count": 5,
     "metadata": {},
     "output_type": "execute_result"
    }
   ],
   "source": [
    "collisions.head()"
   ]
  },
  {
   "cell_type": "code",
   "execution_count": 6,
   "metadata": {
    "collapsed": true,
    "deletable": true,
    "editable": true
   },
   "outputs": [],
   "source": [
    "collisions_by_zipcode = collisions[['LOCATION', 'ZIP CODE']].groupby(\"ZIP CODE\").count()"
   ]
  },
  {
   "cell_type": "code",
   "execution_count": 7,
   "metadata": {
    "collapsed": true,
    "deletable": true,
    "editable": true
   },
   "outputs": [],
   "source": [
    "collisions_by_zipcode = collisions_by_zipcode.sort_values(by='LOCATION', ascending=False)"
   ]
  },
  {
   "cell_type": "code",
   "execution_count": 8,
   "metadata": {
    "collapsed": true,
    "deletable": true,
    "editable": true
   },
   "outputs": [],
   "source": [
    "collisions_by_zipcode.columns = ['COLLISIONS']"
   ]
  },
  {
   "cell_type": "code",
   "execution_count": 9,
   "metadata": {
    "collapsed": false,
    "deletable": true,
    "editable": true,
    "scrolled": false
   },
   "outputs": [
    {
     "data": {
      "text/html": [
       "<div>\n",
       "<table border=\"1\" class=\"dataframe\">\n",
       "  <thead>\n",
       "    <tr style=\"text-align: right;\">\n",
       "      <th></th>\n",
       "      <th>COLLISIONS</th>\n",
       "    </tr>\n",
       "    <tr>\n",
       "      <th>ZIP CODE</th>\n",
       "      <th></th>\n",
       "    </tr>\n",
       "  </thead>\n",
       "  <tbody>\n",
       "    <tr>\n",
       "      <th>11207.0</th>\n",
       "      <td>2083</td>\n",
       "    </tr>\n",
       "    <tr>\n",
       "      <th>11101.0</th>\n",
       "      <td>1623</td>\n",
       "    </tr>\n",
       "    <tr>\n",
       "      <th>10019.0</th>\n",
       "      <td>1570</td>\n",
       "    </tr>\n",
       "    <tr>\n",
       "      <th>11201.0</th>\n",
       "      <td>1528</td>\n",
       "    </tr>\n",
       "    <tr>\n",
       "      <th>10016.0</th>\n",
       "      <td>1526</td>\n",
       "    </tr>\n",
       "  </tbody>\n",
       "</table>\n",
       "</div>"
      ],
      "text/plain": [
       "          COLLISIONS\n",
       "ZIP CODE            \n",
       "11207.0         2083\n",
       "11101.0         1623\n",
       "10019.0         1570\n",
       "11201.0         1528\n",
       "10016.0         1526"
      ]
     },
     "execution_count": 9,
     "metadata": {},
     "output_type": "execute_result"
    }
   ],
   "source": [
    "collisions_by_zipcode.head()"
   ]
  },
  {
   "cell_type": "code",
   "execution_count": 10,
   "metadata": {
    "collapsed": false,
    "deletable": true,
    "editable": true
   },
   "outputs": [],
   "source": [
    "%matplotlib inline"
   ]
  },
  {
   "cell_type": "code",
   "execution_count": 11,
   "metadata": {
    "collapsed": true,
    "deletable": true,
    "editable": true
   },
   "outputs": [],
   "source": [
    "top_zips = collisions_by_zipcode.head(20)"
   ]
  },
  {
   "cell_type": "markdown",
   "metadata": {
    "deletable": true,
    "editable": true
   },
   "source": [
    "## pandas"
   ]
  },
  {
   "cell_type": "code",
   "execution_count": 10,
   "metadata": {
    "collapsed": false,
    "deletable": true,
    "editable": true,
    "scrolled": true
   },
   "outputs": [
    {
     "data": {
      "text/plain": [
       "<matplotlib.axes._subplots.AxesSubplot at 0x1176fce80>"
      ]
     },
     "execution_count": 10,
     "metadata": {},
     "output_type": "execute_result"
    },
    {
     "data": {
      "image/png": "[encoded data removed]",
      "text/plain": [
       "<matplotlib.figure.Figure at 0x1176fc358>"
      ]
     },
     "metadata": {},
     "output_type": "display_data"
    }
   ],
   "source": [
    "top_zips.plot.bar()"
   ]
  },
  {
   "cell_type": "markdown",
   "metadata": {
    "deletable": true,
    "editable": true
   },
   "source": [
    "**Pandas Plotting** (High Level)\n",
    "\n",
    "Advantages:\n",
    "* Immediately available&mdash;doesn't require additional imports to work.\n",
    "\n",
    "Disadvantages:\n",
    "* You must get the data into the right shape yourself.\n",
    "\n",
    "Backend: `matplotlib`"
   ]
  },
  {
   "cell_type": "markdown",
   "metadata": {
    "deletable": true,
    "editable": true
   },
   "source": [
    "## matplotlib"
   ]
  },
  {
   "cell_type": "code",
   "execution_count": 11,
   "metadata": {
    "collapsed": true,
    "deletable": true,
    "editable": true
   },
   "outputs": [],
   "source": [
    "import matplotlib.pyplot as plt"
   ]
  },
  {
   "cell_type": "code",
   "execution_count": 12,
   "metadata": {
    "collapsed": false,
    "deletable": true,
    "editable": true
   },
   "outputs": [
    {
     "data": {
      "text/plain": [
       "<Container object of 20 artists>"
      ]
     },
     "execution_count": 12,
     "metadata": {},
     "output_type": "execute_result"
    },
    {
     "data": {
      "image/png": "[encoded data removed]",
      "text/plain": [
       "<matplotlib.figure.Figure at 0x1179f8a20>"
      ]
     },
     "metadata": {},
     "output_type": "display_data"
    }
   ],
   "source": [
    "plt.bar(top_zips.index, top_zips.values)"
   ]
  },
  {
   "cell_type": "code",
   "execution_count": 14,
   "metadata": {
    "collapsed": false,
    "deletable": true,
    "editable": true
   },
   "outputs": [
    {
     "data": {
      "image/png": "[encoded data removed]",
      "text/plain": [
       "<matplotlib.figure.Figure at 0x117aea278>"
      ]
     },
     "metadata": {},
     "output_type": "display_data"
    }
   ],
   "source": [
    "plt.bar(range(len(top_zips.index)), \n",
    "        top_zips.values,\n",
    "        tick_label=top_zips.index)\n",
    "ax = plt.gca()\n",
    "ax.set_xticklabels(ax.get_xticklabels(), rotation=90)\n",
    "pass"
   ]
  },
  {
   "cell_type": "markdown",
   "metadata": {
    "deletable": true,
    "editable": true
   },
   "source": [
    "`matplotlib`\n",
    "\n",
    "Advantages:\n",
    "* Stable do-everything API.\n",
    "* Enourmous amount of examples to learn from."
   ]
  },
  {
   "cell_type": "markdown",
   "metadata": {
    "deletable": true,
    "editable": true
   },
   "source": [
    "## seaborn"
   ]
  },
  {
   "cell_type": "code",
   "execution_count": 15,
   "metadata": {
    "collapsed": true,
    "deletable": true,
    "editable": true
   },
   "outputs": [],
   "source": [
    "import seaborn as sns"
   ]
  },
  {
   "cell_type": "code",
   "execution_count": 24,
   "metadata": {
    "collapsed": false,
    "deletable": true,
    "editable": true,
    "scrolled": false
   },
   "outputs": [
    {
     "data": {
      "text/plain": [
       "<matplotlib.axes._subplots.AxesSubplot at 0x11adf3550>"
      ]
     },
     "execution_count": 24,
     "metadata": {},
     "output_type": "execute_result"
    },
    {
     "data": {
      "image/png": "[encoded data removed]",
      "text/plain": [
       "<matplotlib.figure.Figure at 0x121ced3c8>"
      ]
     },
     "metadata": {},
     "output_type": "display_data"
    }
   ],
   "source": [
    "sns.countplot(x='ZIP CODE', data=collisions[collisions['ZIP CODE'].isin(top_zips.index)])"
   ]
  },
  {
   "cell_type": "markdown",
   "metadata": {
    "deletable": true,
    "editable": true
   },
   "source": [
    "`seaborn`\n",
    "\n",
    "Advantages:\n",
    "* Aggregates your data for you.\n",
    "* Creates nice default visuals.\n",
    "\n",
    "Backend: `matplotlib`"
   ]
  },
  {
   "cell_type": "markdown",
   "metadata": {
    "deletable": true,
    "editable": true
   },
   "source": [
    "## mpld3"
   ]
  },
  {
   "cell_type": "code",
   "execution_count": 31,
   "metadata": {
    "collapsed": false,
    "deletable": true,
    "editable": true
   },
   "outputs": [
    {
     "data": {
      "text/html": [
       "\n",
       "\n",
       "<style>\n",
       "\n",
       "</style>\n",
       "\n",
       "<div id=\"fig_el1572349259313604692624711\"></div>\n",
       "<script>\n",
       "function mpld3_load_lib(url, callback){\n",
       "  var s = document.createElement('script');\n",
       "  s.src = url;\n",
       "  s.async = true;\n",
       "  s.onreadystatechange = s.onload = callback;\n",
       "  s.onerror = function(){console.warn(\"failed to load library \" + url);};\n",
       "  document.getElementsByTagName(\"head\")[0].appendChild(s);\n",
       "}\n",
       "\n",
       "if(typeof(mpld3) !== \"undefined\" && mpld3._mpld3IsLoaded){\n",
       "   // already loaded: just create the figure\n",
       "   !function(mpld3){\n",
       "       \n",
       "       mpld3.draw_figure(\"fig_el1572349259313604692624711\", {\"height\": 288.0, \"axes\": [{\"collections\": [], \"paths\": [{\"edgewidth\": 1.0, \"zorder\": 1, \"pathcodes\": [\"M\", \"L\", \"L\", \"L\", \"Z\"], \"dasharray\": \"none\", \"alpha\": 1, \"facecolor\": \"#1F77B4\", \"coordinates\": \"data\", \"xindex\": 0, \"yindex\": 1, \"data\": \"data01\", \"edgecolor\": \"none\", \"id\": \"el157234930876304\"}, {\"edgewidth\": 1.0, \"zorder\": 1, \"pathcodes\": [\"M\", \"L\", \"L\", \"L\", \"Z\"], \"dasharray\": \"none\", \"alpha\": 1, \"facecolor\": \"#1F77B4\", \"coordinates\": \"data\", \"xindex\": 0, \"yindex\": 1, \"data\": \"data02\", \"edgecolor\": \"none\", \"id\": \"el157234931046928\"}, {\"edgewidth\": 1.0, \"zorder\": 1, \"pathcodes\": [\"M\", \"L\", \"L\", \"L\", \"Z\"], \"dasharray\": \"none\", \"alpha\": 1, \"facecolor\": \"#1F77B4\", \"coordinates\": \"data\", \"xindex\": 0, \"yindex\": 1, \"data\": \"data03\", \"edgecolor\": \"none\", \"id\": \"el157234931283824\"}, {\"edgewidth\": 1.0, \"zorder\": 1, \"pathcodes\": [\"M\", \"L\", \"L\", \"L\", \"Z\"], \"dasharray\": \"none\", \"alpha\": 1, \"facecolor\": \"#1F77B4\", \"coordinates\": \"data\", \"xindex\": 0, \"yindex\": 1, \"data\": \"data04\", \"edgecolor\": \"none\", \"id\": \"el157234931404744\"}, {\"edgewidth\": 1.0, \"zorder\": 1, \"pathcodes\": [\"M\", \"L\", \"L\", \"L\", \"Z\"], \"dasharray\": \"none\", \"alpha\": 1, \"facecolor\": \"#1F77B4\", \"coordinates\": \"data\", \"xindex\": 0, \"yindex\": 1, \"data\": \"data05\", \"edgecolor\": \"none\", \"id\": \"el157234928325616\"}, {\"edgewidth\": 1.0, \"zorder\": 1, \"pathcodes\": [\"M\", \"L\", \"L\", \"L\", \"Z\"], \"dasharray\": \"none\", \"alpha\": 1, \"facecolor\": \"#1F77B4\", \"coordinates\": \"data\", \"xindex\": 0, \"yindex\": 1, \"data\": \"data06\", \"edgecolor\": \"none\", \"id\": \"el157234927647024\"}, {\"edgewidth\": 1.0, \"zorder\": 1, \"pathcodes\": [\"M\", \"L\", \"L\", \"L\", \"Z\"], \"dasharray\": \"none\", \"alpha\": 1, \"facecolor\": \"#1F77B4\", \"coordinates\": \"data\", \"xindex\": 0, \"yindex\": 1, \"data\": \"data07\", \"edgecolor\": \"none\", \"id\": \"el157234927511688\"}, {\"edgewidth\": 1.0, \"zorder\": 1, \"pathcodes\": [\"M\", \"L\", \"L\", \"L\", \"Z\"], \"dasharray\": \"none\", \"alpha\": 1, \"facecolor\": \"#1F77B4\", \"coordinates\": \"data\", \"xindex\": 0, \"yindex\": 1, \"data\": \"data08\", \"edgecolor\": \"none\", \"id\": \"el157234927134632\"}, {\"edgewidth\": 1.0, \"zorder\": 1, \"pathcodes\": [\"M\", \"L\", \"L\", \"L\", \"Z\"], \"dasharray\": \"none\", \"alpha\": 1, \"facecolor\": \"#1F77B4\", \"coordinates\": \"data\", \"xindex\": 0, \"yindex\": 1, \"data\": \"data09\", \"edgecolor\": \"none\", \"id\": \"el157234926693272\"}, {\"edgewidth\": 1.0, \"zorder\": 1, \"pathcodes\": [\"M\", \"L\", \"L\", \"L\", \"Z\"], \"dasharray\": \"none\", \"alpha\": 1, \"facecolor\": \"#1F77B4\", \"coordinates\": \"data\", \"xindex\": 0, \"yindex\": 1, \"data\": \"data10\", \"edgecolor\": \"none\", \"id\": \"el157234924956800\"}, {\"edgewidth\": 1.0, \"zorder\": 1, \"pathcodes\": [\"M\", \"L\", \"L\", \"L\", \"Z\"], \"dasharray\": \"none\", \"alpha\": 1, \"facecolor\": \"#1F77B4\", \"coordinates\": \"data\", \"xindex\": 0, \"yindex\": 1, \"data\": \"data11\", \"edgecolor\": \"none\", \"id\": \"el157234924388016\"}, {\"edgewidth\": 1.0, \"zorder\": 1, \"pathcodes\": [\"M\", \"L\", \"L\", \"L\", \"Z\"], \"dasharray\": \"none\", \"alpha\": 1, \"facecolor\": \"#1F77B4\", \"coordinates\": \"data\", \"xindex\": 0, \"yindex\": 1, \"data\": \"data12\", \"edgecolor\": \"none\", \"id\": \"el157234922989200\"}, {\"edgewidth\": 1.0, \"zorder\": 1, \"pathcodes\": [\"M\", \"L\", \"L\", \"L\", \"Z\"], \"dasharray\": \"none\", \"alpha\": 1, \"facecolor\": \"#1F77B4\", \"coordinates\": \"data\", \"xindex\": 0, \"yindex\": 1, \"data\": \"data13\", \"edgecolor\": \"none\", \"id\": \"el157234931768504\"}, {\"edgewidth\": 1.0, \"zorder\": 1, \"pathcodes\": [\"M\", \"L\", \"L\", \"L\", \"Z\"], \"dasharray\": \"none\", \"alpha\": 1, \"facecolor\": \"#1F77B4\", \"coordinates\": \"data\", \"xindex\": 0, \"yindex\": 1, \"data\": \"data14\", \"edgecolor\": \"none\", \"id\": \"el157234931745440\"}, {\"edgewidth\": 1.0, \"zorder\": 1, \"pathcodes\": [\"M\", \"L\", \"L\", \"L\", \"Z\"], \"dasharray\": \"none\", \"alpha\": 1, \"facecolor\": \"#1F77B4\", \"coordinates\": \"data\", \"xindex\": 0, \"yindex\": 1, \"data\": \"data15\", \"edgecolor\": \"none\", \"id\": \"el157234932171760\"}, {\"edgewidth\": 1.0, \"zorder\": 1, \"pathcodes\": [\"M\", \"L\", \"L\", \"L\", \"Z\"], \"dasharray\": \"none\", \"alpha\": 1, \"facecolor\": \"#1F77B4\", \"coordinates\": \"data\", \"xindex\": 0, \"yindex\": 1, \"data\": \"data16\", \"edgecolor\": \"none\", \"id\": \"el157234932357816\"}, {\"edgewidth\": 1.0, \"zorder\": 1, \"pathcodes\": [\"M\", \"L\", \"L\", \"L\", \"Z\"], \"dasharray\": \"none\", \"alpha\": 1, \"facecolor\": \"#1F77B4\", \"coordinates\": \"data\", \"xindex\": 0, \"yindex\": 1, \"data\": \"data17\", \"edgecolor\": \"none\", \"id\": \"el157234932525920\"}, {\"edgewidth\": 1.0, \"zorder\": 1, \"pathcodes\": [\"M\", \"L\", \"L\", \"L\", \"Z\"], \"dasharray\": \"none\", \"alpha\": 1, \"facecolor\": \"#1F77B4\", \"coordinates\": \"data\", \"xindex\": 0, \"yindex\": 1, \"data\": \"data18\", \"edgecolor\": \"none\", \"id\": \"el157234932762704\"}, {\"edgewidth\": 1.0, \"zorder\": 1, \"pathcodes\": [\"M\", \"L\", \"L\", \"L\", \"Z\"], \"dasharray\": \"none\", \"alpha\": 1, \"facecolor\": \"#1F77B4\", \"coordinates\": \"data\", \"xindex\": 0, \"yindex\": 1, \"data\": \"data19\", \"edgecolor\": \"none\", \"id\": \"el157234932964592\"}, {\"edgewidth\": 1.0, \"zorder\": 1, \"pathcodes\": [\"M\", \"L\", \"L\", \"L\", \"Z\"], \"dasharray\": \"none\", \"alpha\": 1, \"facecolor\": \"#1F77B4\", \"coordinates\": \"data\", \"xindex\": 2, \"yindex\": 1, \"data\": \"data19\", \"edgecolor\": \"none\", \"id\": \"el157234933009704\"}], \"axes\": [{\"nticks\": 20, \"scale\": \"linear\", \"grid\": {\"gridOn\": false}, \"tickformat\": [\"11207.0\", \"11101.0\", \"10019.0\", \"11201.0\", \"10016.0\", \"10022.0\", \"10036.0\", \"11236.0\", \"11234.0\", \"10001.0\", \"11226.0\", \"11203.0\", \"11385.0\", \"11434.0\", \"10013.0\", \"10002.0\", \"11208.0\", \"11212.0\", \"11233.0\", \"11206.0\"], \"fontsize\": 10.0, \"position\": \"bottom\", \"tickvalues\": [0, 1, 2, 3, 4, 5, 6, 7, 8, 9, 10, 11, 12, 13, 14, 15, 16, 17, 18, 19], \"visible\": true}, {\"nticks\": 10, \"scale\": \"linear\", \"grid\": {\"gridOn\": false}, \"tickformat\": null, \"fontsize\": 10.0, \"position\": \"left\", \"tickvalues\": null, \"visible\": true}], \"sharex\": [], \"xscale\": \"linear\", \"axesbg\": \"#FFFFFF\", \"yscale\": \"linear\", \"axesbgalpha\": null, \"ydomain\": [0.0, 2187.15], \"sharey\": [], \"bbox\": [0.125, 0.125, 0.775, 0.755], \"images\": [], \"zoomable\": true, \"xdomain\": [-1.3900000000000001, 20.39], \"lines\": [], \"texts\": [], \"markers\": [], \"xlim\": [-1.3900000000000001, 20.39], \"ylim\": [0.0, 2187.15], \"id\": \"el157234926118320\"}], \"data\": {\"data03\": [[1.6, 0.0], [2.4000000000000004, 0.0], [2.4000000000000004, 1570.0], [1.6, 1570.0]], \"data10\": [[8.6, 0.0], [9.4, 0.0], [9.4, 1374.0], [8.6, 1374.0]], \"data07\": [[5.6, 0.0], [6.3999999999999995, 0.0], [6.3999999999999995, 1428.0], [5.6, 1428.0]], \"data18\": [[16.6, 0.0], [17.400000000000002, 0.0], [17.400000000000002, 1217.0], [16.6, 1217.0]], \"data12\": [[10.6, 0.0], [11.4, 0.0], [11.4, 1330.0], [10.6, 1330.0]], \"data04\": [[2.6, 0.0], [3.4000000000000004, 0.0], [3.4000000000000004, 1528.0], [2.6, 1528.0]], \"data11\": [[9.6, 0.0], [10.4, 0.0], [10.4, 1346.0], [9.6, 1346.0]], \"data09\": [[7.6, 0.0], [8.4, 0.0], [8.4, 1387.0], [7.6, 1387.0]], \"data02\": [[0.6, 0.0], [1.4, 0.0], [1.4, 1623.0], [0.6, 1623.0]], \"data05\": [[3.6, 0.0], [4.4, 0.0], [4.4, 1526.0], [3.6, 1526.0]], \"data13\": [[11.6, 0.0], [12.4, 0.0], [12.4, 1290.0], [11.6, 1290.0]], \"data14\": [[12.6, 0.0], [13.4, 0.0], [13.4, 1289.0], [12.6, 1289.0]], \"data01\": [[-0.4, 0.0], [0.4, 0.0], [0.4, 2083.0], [-0.4, 2083.0]], \"data17\": [[15.6, 0.0], [16.4, 0.0], [16.4, 1245.0], [15.6, 1245.0]], \"data15\": [[13.6, 0.0], [14.4, 0.0], [14.4, 1285.0], [13.6, 1285.0]], \"data06\": [[4.6, 0.0], [5.3999999999999995, 0.0], [5.3999999999999995, 1506.0], [4.6, 1506.0]], \"data16\": [[14.6, 0.0], [15.4, 0.0], [15.4, 1253.0], [14.6, 1253.0]], \"data19\": [[17.6, 0.0, 18.6], [18.400000000000002, 0.0, 19.400000000000002], [18.400000000000002, 1157.0, 19.400000000000002], [17.6, 1157.0, 18.6]], \"data08\": [[6.6, 0.0], [7.3999999999999995, 0.0], [7.3999999999999995, 1419.0], [6.6, 1419.0]]}, \"plugins\": [{\"type\": \"reset\"}, {\"enabled\": false, \"type\": \"zoom\", \"button\": true}, {\"enabled\": false, \"type\": \"boxzoom\", \"button\": true}], \"id\": \"el157234925931360\", \"width\": 432.0});\n",
       "   }(mpld3);\n",
       "}else if(typeof define === \"function\" && define.amd){\n",
       "   // require.js is available: use it to load d3/mpld3\n",
       "   require.config({paths: {d3: \"https://mpld3.github.io/js/d3.v3.min\"}});\n",
       "   require([\"d3\"], function(d3){\n",
       "      window.d3 = d3;\n",
       "      mpld3_load_lib(\"https://mpld3.github.io/js/mpld3.v0.3.js\", function(){\n",
       "         \n",
       "         mpld3.draw_figure(\"fig_el1572349259313604692624711\", {\"height\": 288.0, \"axes\": [{\"collections\": [], \"paths\": [{\"edgewidth\": 1.0, \"zorder\": 1, \"pathcodes\": [\"M\", \"L\", \"L\", \"L\", \"Z\"], \"dasharray\": \"none\", \"alpha\": 1, \"facecolor\": \"#1F77B4\", \"coordinates\": \"data\", \"xindex\": 0, \"yindex\": 1, \"data\": \"data01\", \"edgecolor\": \"none\", \"id\": \"el157234930876304\"}, {\"edgewidth\": 1.0, \"zorder\": 1, \"pathcodes\": [\"M\", \"L\", \"L\", \"L\", \"Z\"], \"dasharray\": \"none\", \"alpha\": 1, \"facecolor\": \"#1F77B4\", \"coordinates\": \"data\", \"xindex\": 0, \"yindex\": 1, \"data\": \"data02\", \"edgecolor\": \"none\", \"id\": \"el157234931046928\"}, {\"edgewidth\": 1.0, \"zorder\": 1, \"pathcodes\": [\"M\", \"L\", \"L\", \"L\", \"Z\"], \"dasharray\": \"none\", \"alpha\": 1, \"facecolor\": \"#1F77B4\", \"coordinates\": \"data\", \"xindex\": 0, \"yindex\": 1, \"data\": \"data03\", \"edgecolor\": \"none\", \"id\": \"el157234931283824\"}, {\"edgewidth\": 1.0, \"zorder\": 1, \"pathcodes\": [\"M\", \"L\", \"L\", \"L\", \"Z\"], \"dasharray\": \"none\", \"alpha\": 1, \"facecolor\": \"#1F77B4\", \"coordinates\": \"data\", \"xindex\": 0, \"yindex\": 1, \"data\": \"data04\", \"edgecolor\": \"none\", \"id\": \"el157234931404744\"}, {\"edgewidth\": 1.0, \"zorder\": 1, \"pathcodes\": [\"M\", \"L\", \"L\", \"L\", \"Z\"], \"dasharray\": \"none\", \"alpha\": 1, \"facecolor\": \"#1F77B4\", \"coordinates\": \"data\", \"xindex\": 0, \"yindex\": 1, \"data\": \"data05\", \"edgecolor\": \"none\", \"id\": \"el157234928325616\"}, {\"edgewidth\": 1.0, \"zorder\": 1, \"pathcodes\": [\"M\", \"L\", \"L\", \"L\", \"Z\"], \"dasharray\": \"none\", \"alpha\": 1, \"facecolor\": \"#1F77B4\", \"coordinates\": \"data\", \"xindex\": 0, \"yindex\": 1, \"data\": \"data06\", \"edgecolor\": \"none\", \"id\": \"el157234927647024\"}, {\"edgewidth\": 1.0, \"zorder\": 1, \"pathcodes\": [\"M\", \"L\", \"L\", \"L\", \"Z\"], \"dasharray\": \"none\", \"alpha\": 1, \"facecolor\": \"#1F77B4\", \"coordinates\": \"data\", \"xindex\": 0, \"yindex\": 1, \"data\": \"data07\", \"edgecolor\": \"none\", \"id\": \"el157234927511688\"}, {\"edgewidth\": 1.0, \"zorder\": 1, \"pathcodes\": [\"M\", \"L\", \"L\", \"L\", \"Z\"], \"dasharray\": \"none\", \"alpha\": 1, \"facecolor\": \"#1F77B4\", \"coordinates\": \"data\", \"xindex\": 0, \"yindex\": 1, \"data\": \"data08\", \"edgecolor\": \"none\", \"id\": \"el157234927134632\"}, {\"edgewidth\": 1.0, \"zorder\": 1, \"pathcodes\": [\"M\", \"L\", \"L\", \"L\", \"Z\"], \"dasharray\": \"none\", \"alpha\": 1, \"facecolor\": \"#1F77B4\", \"coordinates\": \"data\", \"xindex\": 0, \"yindex\": 1, \"data\": \"data09\", \"edgecolor\": \"none\", \"id\": \"el157234926693272\"}, {\"edgewidth\": 1.0, \"zorder\": 1, \"pathcodes\": [\"M\", \"L\", \"L\", \"L\", \"Z\"], \"dasharray\": \"none\", \"alpha\": 1, \"facecolor\": \"#1F77B4\", \"coordinates\": \"data\", \"xindex\": 0, \"yindex\": 1, \"data\": \"data10\", \"edgecolor\": \"none\", \"id\": \"el157234924956800\"}, {\"edgewidth\": 1.0, \"zorder\": 1, \"pathcodes\": [\"M\", \"L\", \"L\", \"L\", \"Z\"], \"dasharray\": \"none\", \"alpha\": 1, \"facecolor\": \"#1F77B4\", \"coordinates\": \"data\", \"xindex\": 0, \"yindex\": 1, \"data\": \"data11\", \"edgecolor\": \"none\", \"id\": \"el157234924388016\"}, {\"edgewidth\": 1.0, \"zorder\": 1, \"pathcodes\": [\"M\", \"L\", \"L\", \"L\", \"Z\"], \"dasharray\": \"none\", \"alpha\": 1, \"facecolor\": \"#1F77B4\", \"coordinates\": \"data\", \"xindex\": 0, \"yindex\": 1, \"data\": \"data12\", \"edgecolor\": \"none\", \"id\": \"el157234922989200\"}, {\"edgewidth\": 1.0, \"zorder\": 1, \"pathcodes\": [\"M\", \"L\", \"L\", \"L\", \"Z\"], \"dasharray\": \"none\", \"alpha\": 1, \"facecolor\": \"#1F77B4\", \"coordinates\": \"data\", \"xindex\": 0, \"yindex\": 1, \"data\": \"data13\", \"edgecolor\": \"none\", \"id\": \"el157234931768504\"}, {\"edgewidth\": 1.0, \"zorder\": 1, \"pathcodes\": [\"M\", \"L\", \"L\", \"L\", \"Z\"], \"dasharray\": \"none\", \"alpha\": 1, \"facecolor\": \"#1F77B4\", \"coordinates\": \"data\", \"xindex\": 0, \"yindex\": 1, \"data\": \"data14\", \"edgecolor\": \"none\", \"id\": \"el157234931745440\"}, {\"edgewidth\": 1.0, \"zorder\": 1, \"pathcodes\": [\"M\", \"L\", \"L\", \"L\", \"Z\"], \"dasharray\": \"none\", \"alpha\": 1, \"facecolor\": \"#1F77B4\", \"coordinates\": \"data\", \"xindex\": 0, \"yindex\": 1, \"data\": \"data15\", \"edgecolor\": \"none\", \"id\": \"el157234932171760\"}, {\"edgewidth\": 1.0, \"zorder\": 1, \"pathcodes\": [\"M\", \"L\", \"L\", \"L\", \"Z\"], \"dasharray\": \"none\", \"alpha\": 1, \"facecolor\": \"#1F77B4\", \"coordinates\": \"data\", \"xindex\": 0, \"yindex\": 1, \"data\": \"data16\", \"edgecolor\": \"none\", \"id\": \"el157234932357816\"}, {\"edgewidth\": 1.0, \"zorder\": 1, \"pathcodes\": [\"M\", \"L\", \"L\", \"L\", \"Z\"], \"dasharray\": \"none\", \"alpha\": 1, \"facecolor\": \"#1F77B4\", \"coordinates\": \"data\", \"xindex\": 0, \"yindex\": 1, \"data\": \"data17\", \"edgecolor\": \"none\", \"id\": \"el157234932525920\"}, {\"edgewidth\": 1.0, \"zorder\": 1, \"pathcodes\": [\"M\", \"L\", \"L\", \"L\", \"Z\"], \"dasharray\": \"none\", \"alpha\": 1, \"facecolor\": \"#1F77B4\", \"coordinates\": \"data\", \"xindex\": 0, \"yindex\": 1, \"data\": \"data18\", \"edgecolor\": \"none\", \"id\": \"el157234932762704\"}, {\"edgewidth\": 1.0, \"zorder\": 1, \"pathcodes\": [\"M\", \"L\", \"L\", \"L\", \"Z\"], \"dasharray\": \"none\", \"alpha\": 1, \"facecolor\": \"#1F77B4\", \"coordinates\": \"data\", \"xindex\": 0, \"yindex\": 1, \"data\": \"data19\", \"edgecolor\": \"none\", \"id\": \"el157234932964592\"}, {\"edgewidth\": 1.0, \"zorder\": 1, \"pathcodes\": [\"M\", \"L\", \"L\", \"L\", \"Z\"], \"dasharray\": \"none\", \"alpha\": 1, \"facecolor\": \"#1F77B4\", \"coordinates\": \"data\", \"xindex\": 2, \"yindex\": 1, \"data\": \"data19\", \"edgecolor\": \"none\", \"id\": \"el157234933009704\"}], \"axes\": [{\"nticks\": 20, \"scale\": \"linear\", \"grid\": {\"gridOn\": false}, \"tickformat\": [\"11207.0\", \"11101.0\", \"10019.0\", \"11201.0\", \"10016.0\", \"10022.0\", \"10036.0\", \"11236.0\", \"11234.0\", \"10001.0\", \"11226.0\", \"11203.0\", \"11385.0\", \"11434.0\", \"10013.0\", \"10002.0\", \"11208.0\", \"11212.0\", \"11233.0\", \"11206.0\"], \"fontsize\": 10.0, \"position\": \"bottom\", \"tickvalues\": [0, 1, 2, 3, 4, 5, 6, 7, 8, 9, 10, 11, 12, 13, 14, 15, 16, 17, 18, 19], \"visible\": true}, {\"nticks\": 10, \"scale\": \"linear\", \"grid\": {\"gridOn\": false}, \"tickformat\": null, \"fontsize\": 10.0, \"position\": \"left\", \"tickvalues\": null, \"visible\": true}], \"sharex\": [], \"xscale\": \"linear\", \"axesbg\": \"#FFFFFF\", \"yscale\": \"linear\", \"axesbgalpha\": null, \"ydomain\": [0.0, 2187.15], \"sharey\": [], \"bbox\": [0.125, 0.125, 0.775, 0.755], \"images\": [], \"zoomable\": true, \"xdomain\": [-1.3900000000000001, 20.39], \"lines\": [], \"texts\": [], \"markers\": [], \"xlim\": [-1.3900000000000001, 20.39], \"ylim\": [0.0, 2187.15], \"id\": \"el157234926118320\"}], \"data\": {\"data03\": [[1.6, 0.0], [2.4000000000000004, 0.0], [2.4000000000000004, 1570.0], [1.6, 1570.0]], \"data10\": [[8.6, 0.0], [9.4, 0.0], [9.4, 1374.0], [8.6, 1374.0]], \"data07\": [[5.6, 0.0], [6.3999999999999995, 0.0], [6.3999999999999995, 1428.0], [5.6, 1428.0]], \"data18\": [[16.6, 0.0], [17.400000000000002, 0.0], [17.400000000000002, 1217.0], [16.6, 1217.0]], \"data12\": [[10.6, 0.0], [11.4, 0.0], [11.4, 1330.0], [10.6, 1330.0]], \"data04\": [[2.6, 0.0], [3.4000000000000004, 0.0], [3.4000000000000004, 1528.0], [2.6, 1528.0]], \"data11\": [[9.6, 0.0], [10.4, 0.0], [10.4, 1346.0], [9.6, 1346.0]], \"data09\": [[7.6, 0.0], [8.4, 0.0], [8.4, 1387.0], [7.6, 1387.0]], \"data02\": [[0.6, 0.0], [1.4, 0.0], [1.4, 1623.0], [0.6, 1623.0]], \"data05\": [[3.6, 0.0], [4.4, 0.0], [4.4, 1526.0], [3.6, 1526.0]], \"data13\": [[11.6, 0.0], [12.4, 0.0], [12.4, 1290.0], [11.6, 1290.0]], \"data14\": [[12.6, 0.0], [13.4, 0.0], [13.4, 1289.0], [12.6, 1289.0]], \"data01\": [[-0.4, 0.0], [0.4, 0.0], [0.4, 2083.0], [-0.4, 2083.0]], \"data17\": [[15.6, 0.0], [16.4, 0.0], [16.4, 1245.0], [15.6, 1245.0]], \"data15\": [[13.6, 0.0], [14.4, 0.0], [14.4, 1285.0], [13.6, 1285.0]], \"data06\": [[4.6, 0.0], [5.3999999999999995, 0.0], [5.3999999999999995, 1506.0], [4.6, 1506.0]], \"data16\": [[14.6, 0.0], [15.4, 0.0], [15.4, 1253.0], [14.6, 1253.0]], \"data19\": [[17.6, 0.0, 18.6], [18.400000000000002, 0.0, 19.400000000000002], [18.400000000000002, 1157.0, 19.400000000000002], [17.6, 1157.0, 18.6]], \"data08\": [[6.6, 0.0], [7.3999999999999995, 0.0], [7.3999999999999995, 1419.0], [6.6, 1419.0]]}, \"plugins\": [{\"type\": \"reset\"}, {\"enabled\": false, \"type\": \"zoom\", \"button\": true}, {\"enabled\": false, \"type\": \"boxzoom\", \"button\": true}], \"id\": \"el157234925931360\", \"width\": 432.0});\n",
       "      });\n",
       "    });\n",
       "}else{\n",
       "    // require.js not available: dynamically load d3 & mpld3\n",
       "    mpld3_load_lib(\"https://mpld3.github.io/js/d3.v3.min.js\", function(){\n",
       "         mpld3_load_lib(\"https://mpld3.github.io/js/mpld3.v0.3.js\", function(){\n",
       "                 \n",
       "                 mpld3.draw_figure(\"fig_el1572349259313604692624711\", {\"height\": 288.0, \"axes\": [{\"collections\": [], \"paths\": [{\"edgewidth\": 1.0, \"zorder\": 1, \"pathcodes\": [\"M\", \"L\", \"L\", \"L\", \"Z\"], \"dasharray\": \"none\", \"alpha\": 1, \"facecolor\": \"#1F77B4\", \"coordinates\": \"data\", \"xindex\": 0, \"yindex\": 1, \"data\": \"data01\", \"edgecolor\": \"none\", \"id\": \"el157234930876304\"}, {\"edgewidth\": 1.0, \"zorder\": 1, \"pathcodes\": [\"M\", \"L\", \"L\", \"L\", \"Z\"], \"dasharray\": \"none\", \"alpha\": 1, \"facecolor\": \"#1F77B4\", \"coordinates\": \"data\", \"xindex\": 0, \"yindex\": 1, \"data\": \"data02\", \"edgecolor\": \"none\", \"id\": \"el157234931046928\"}, {\"edgewidth\": 1.0, \"zorder\": 1, \"pathcodes\": [\"M\", \"L\", \"L\", \"L\", \"Z\"], \"dasharray\": \"none\", \"alpha\": 1, \"facecolor\": \"#1F77B4\", \"coordinates\": \"data\", \"xindex\": 0, \"yindex\": 1, \"data\": \"data03\", \"edgecolor\": \"none\", \"id\": \"el157234931283824\"}, {\"edgewidth\": 1.0, \"zorder\": 1, \"pathcodes\": [\"M\", \"L\", \"L\", \"L\", \"Z\"], \"dasharray\": \"none\", \"alpha\": 1, \"facecolor\": \"#1F77B4\", \"coordinates\": \"data\", \"xindex\": 0, \"yindex\": 1, \"data\": \"data04\", \"edgecolor\": \"none\", \"id\": \"el157234931404744\"}, {\"edgewidth\": 1.0, \"zorder\": 1, \"pathcodes\": [\"M\", \"L\", \"L\", \"L\", \"Z\"], \"dasharray\": \"none\", \"alpha\": 1, \"facecolor\": \"#1F77B4\", \"coordinates\": \"data\", \"xindex\": 0, \"yindex\": 1, \"data\": \"data05\", \"edgecolor\": \"none\", \"id\": \"el157234928325616\"}, {\"edgewidth\": 1.0, \"zorder\": 1, \"pathcodes\": [\"M\", \"L\", \"L\", \"L\", \"Z\"], \"dasharray\": \"none\", \"alpha\": 1, \"facecolor\": \"#1F77B4\", \"coordinates\": \"data\", \"xindex\": 0, \"yindex\": 1, \"data\": \"data06\", \"edgecolor\": \"none\", \"id\": \"el157234927647024\"}, {\"edgewidth\": 1.0, \"zorder\": 1, \"pathcodes\": [\"M\", \"L\", \"L\", \"L\", \"Z\"], \"dasharray\": \"none\", \"alpha\": 1, \"facecolor\": \"#1F77B4\", \"coordinates\": \"data\", \"xindex\": 0, \"yindex\": 1, \"data\": \"data07\", \"edgecolor\": \"none\", \"id\": \"el157234927511688\"}, {\"edgewidth\": 1.0, \"zorder\": 1, \"pathcodes\": [\"M\", \"L\", \"L\", \"L\", \"Z\"], \"dasharray\": \"none\", \"alpha\": 1, \"facecolor\": \"#1F77B4\", \"coordinates\": \"data\", \"xindex\": 0, \"yindex\": 1, \"data\": \"data08\", \"edgecolor\": \"none\", \"id\": \"el157234927134632\"}, {\"edgewidth\": 1.0, \"zorder\": 1, \"pathcodes\": [\"M\", \"L\", \"L\", \"L\", \"Z\"], \"dasharray\": \"none\", \"alpha\": 1, \"facecolor\": \"#1F77B4\", \"coordinates\": \"data\", \"xindex\": 0, \"yindex\": 1, \"data\": \"data09\", \"edgecolor\": \"none\", \"id\": \"el157234926693272\"}, {\"edgewidth\": 1.0, \"zorder\": 1, \"pathcodes\": [\"M\", \"L\", \"L\", \"L\", \"Z\"], \"dasharray\": \"none\", \"alpha\": 1, \"facecolor\": \"#1F77B4\", \"coordinates\": \"data\", \"xindex\": 0, \"yindex\": 1, \"data\": \"data10\", \"edgecolor\": \"none\", \"id\": \"el157234924956800\"}, {\"edgewidth\": 1.0, \"zorder\": 1, \"pathcodes\": [\"M\", \"L\", \"L\", \"L\", \"Z\"], \"dasharray\": \"none\", \"alpha\": 1, \"facecolor\": \"#1F77B4\", \"coordinates\": \"data\", \"xindex\": 0, \"yindex\": 1, \"data\": \"data11\", \"edgecolor\": \"none\", \"id\": \"el157234924388016\"}, {\"edgewidth\": 1.0, \"zorder\": 1, \"pathcodes\": [\"M\", \"L\", \"L\", \"L\", \"Z\"], \"dasharray\": \"none\", \"alpha\": 1, \"facecolor\": \"#1F77B4\", \"coordinates\": \"data\", \"xindex\": 0, \"yindex\": 1, \"data\": \"data12\", \"edgecolor\": \"none\", \"id\": \"el157234922989200\"}, {\"edgewidth\": 1.0, \"zorder\": 1, \"pathcodes\": [\"M\", \"L\", \"L\", \"L\", \"Z\"], \"dasharray\": \"none\", \"alpha\": 1, \"facecolor\": \"#1F77B4\", \"coordinates\": \"data\", \"xindex\": 0, \"yindex\": 1, \"data\": \"data13\", \"edgecolor\": \"none\", \"id\": \"el157234931768504\"}, {\"edgewidth\": 1.0, \"zorder\": 1, \"pathcodes\": [\"M\", \"L\", \"L\", \"L\", \"Z\"], \"dasharray\": \"none\", \"alpha\": 1, \"facecolor\": \"#1F77B4\", \"coordinates\": \"data\", \"xindex\": 0, \"yindex\": 1, \"data\": \"data14\", \"edgecolor\": \"none\", \"id\": \"el157234931745440\"}, {\"edgewidth\": 1.0, \"zorder\": 1, \"pathcodes\": [\"M\", \"L\", \"L\", \"L\", \"Z\"], \"dasharray\": \"none\", \"alpha\": 1, \"facecolor\": \"#1F77B4\", \"coordinates\": \"data\", \"xindex\": 0, \"yindex\": 1, \"data\": \"data15\", \"edgecolor\": \"none\", \"id\": \"el157234932171760\"}, {\"edgewidth\": 1.0, \"zorder\": 1, \"pathcodes\": [\"M\", \"L\", \"L\", \"L\", \"Z\"], \"dasharray\": \"none\", \"alpha\": 1, \"facecolor\": \"#1F77B4\", \"coordinates\": \"data\", \"xindex\": 0, \"yindex\": 1, \"data\": \"data16\", \"edgecolor\": \"none\", \"id\": \"el157234932357816\"}, {\"edgewidth\": 1.0, \"zorder\": 1, \"pathcodes\": [\"M\", \"L\", \"L\", \"L\", \"Z\"], \"dasharray\": \"none\", \"alpha\": 1, \"facecolor\": \"#1F77B4\", \"coordinates\": \"data\", \"xindex\": 0, \"yindex\": 1, \"data\": \"data17\", \"edgecolor\": \"none\", \"id\": \"el157234932525920\"}, {\"edgewidth\": 1.0, \"zorder\": 1, \"pathcodes\": [\"M\", \"L\", \"L\", \"L\", \"Z\"], \"dasharray\": \"none\", \"alpha\": 1, \"facecolor\": \"#1F77B4\", \"coordinates\": \"data\", \"xindex\": 0, \"yindex\": 1, \"data\": \"data18\", \"edgecolor\": \"none\", \"id\": \"el157234932762704\"}, {\"edgewidth\": 1.0, \"zorder\": 1, \"pathcodes\": [\"M\", \"L\", \"L\", \"L\", \"Z\"], \"dasharray\": \"none\", \"alpha\": 1, \"facecolor\": \"#1F77B4\", \"coordinates\": \"data\", \"xindex\": 0, \"yindex\": 1, \"data\": \"data19\", \"edgecolor\": \"none\", \"id\": \"el157234932964592\"}, {\"edgewidth\": 1.0, \"zorder\": 1, \"pathcodes\": [\"M\", \"L\", \"L\", \"L\", \"Z\"], \"dasharray\": \"none\", \"alpha\": 1, \"facecolor\": \"#1F77B4\", \"coordinates\": \"data\", \"xindex\": 2, \"yindex\": 1, \"data\": \"data19\", \"edgecolor\": \"none\", \"id\": \"el157234933009704\"}], \"axes\": [{\"nticks\": 20, \"scale\": \"linear\", \"grid\": {\"gridOn\": false}, \"tickformat\": [\"11207.0\", \"11101.0\", \"10019.0\", \"11201.0\", \"10016.0\", \"10022.0\", \"10036.0\", \"11236.0\", \"11234.0\", \"10001.0\", \"11226.0\", \"11203.0\", \"11385.0\", \"11434.0\", \"10013.0\", \"10002.0\", \"11208.0\", \"11212.0\", \"11233.0\", \"11206.0\"], \"fontsize\": 10.0, \"position\": \"bottom\", \"tickvalues\": [0, 1, 2, 3, 4, 5, 6, 7, 8, 9, 10, 11, 12, 13, 14, 15, 16, 17, 18, 19], \"visible\": true}, {\"nticks\": 10, \"scale\": \"linear\", \"grid\": {\"gridOn\": false}, \"tickformat\": null, \"fontsize\": 10.0, \"position\": \"left\", \"tickvalues\": null, \"visible\": true}], \"sharex\": [], \"xscale\": \"linear\", \"axesbg\": \"#FFFFFF\", \"yscale\": \"linear\", \"axesbgalpha\": null, \"ydomain\": [0.0, 2187.15], \"sharey\": [], \"bbox\": [0.125, 0.125, 0.775, 0.755], \"images\": [], \"zoomable\": true, \"xdomain\": [-1.3900000000000001, 20.39], \"lines\": [], \"texts\": [], \"markers\": [], \"xlim\": [-1.3900000000000001, 20.39], \"ylim\": [0.0, 2187.15], \"id\": \"el157234926118320\"}], \"data\": {\"data03\": [[1.6, 0.0], [2.4000000000000004, 0.0], [2.4000000000000004, 1570.0], [1.6, 1570.0]], \"data10\": [[8.6, 0.0], [9.4, 0.0], [9.4, 1374.0], [8.6, 1374.0]], \"data07\": [[5.6, 0.0], [6.3999999999999995, 0.0], [6.3999999999999995, 1428.0], [5.6, 1428.0]], \"data18\": [[16.6, 0.0], [17.400000000000002, 0.0], [17.400000000000002, 1217.0], [16.6, 1217.0]], \"data12\": [[10.6, 0.0], [11.4, 0.0], [11.4, 1330.0], [10.6, 1330.0]], \"data04\": [[2.6, 0.0], [3.4000000000000004, 0.0], [3.4000000000000004, 1528.0], [2.6, 1528.0]], \"data11\": [[9.6, 0.0], [10.4, 0.0], [10.4, 1346.0], [9.6, 1346.0]], \"data09\": [[7.6, 0.0], [8.4, 0.0], [8.4, 1387.0], [7.6, 1387.0]], \"data02\": [[0.6, 0.0], [1.4, 0.0], [1.4, 1623.0], [0.6, 1623.0]], \"data05\": [[3.6, 0.0], [4.4, 0.0], [4.4, 1526.0], [3.6, 1526.0]], \"data13\": [[11.6, 0.0], [12.4, 0.0], [12.4, 1290.0], [11.6, 1290.0]], \"data14\": [[12.6, 0.0], [13.4, 0.0], [13.4, 1289.0], [12.6, 1289.0]], \"data01\": [[-0.4, 0.0], [0.4, 0.0], [0.4, 2083.0], [-0.4, 2083.0]], \"data17\": [[15.6, 0.0], [16.4, 0.0], [16.4, 1245.0], [15.6, 1245.0]], \"data15\": [[13.6, 0.0], [14.4, 0.0], [14.4, 1285.0], [13.6, 1285.0]], \"data06\": [[4.6, 0.0], [5.3999999999999995, 0.0], [5.3999999999999995, 1506.0], [4.6, 1506.0]], \"data16\": [[14.6, 0.0], [15.4, 0.0], [15.4, 1253.0], [14.6, 1253.0]], \"data19\": [[17.6, 0.0, 18.6], [18.400000000000002, 0.0, 19.400000000000002], [18.400000000000002, 1157.0, 19.400000000000002], [17.6, 1157.0, 18.6]], \"data08\": [[6.6, 0.0], [7.3999999999999995, 0.0], [7.3999999999999995, 1419.0], [6.6, 1419.0]]}, \"plugins\": [{\"type\": \"reset\"}, {\"enabled\": false, \"type\": \"zoom\", \"button\": true}, {\"enabled\": false, \"type\": \"boxzoom\", \"button\": true}], \"id\": \"el157234925931360\", \"width\": 432.0});\n",
       "            })\n",
       "         });\n",
       "}\n",
       "</script>"
      ],
      "text/plain": [
       "<IPython.core.display.HTML object>"
      ]
     },
     "execution_count": 31,
     "metadata": {},
     "output_type": "execute_result"
    }
   ],
   "source": [
    "import matplotlib.pyplot as plt\n",
    "import mpld3\n",
    "\n",
    "plt.bar(range(len(top_zips.index)), \n",
    "        top_zips.values,\n",
    "        tick_label=top_zips.index)\n",
    "ax = plt.gca()\n",
    "\n",
    "mpld3.display()"
   ]
  },
  {
   "cell_type": "markdown",
   "metadata": {
    "deletable": true,
    "editable": true
   },
   "source": [
    "`mpld3`\n",
    "\n",
    "Advantages:\n",
    "* Drop-in interactivity.\n",
    "\n",
    "Disadvantages:\n",
    "* Doesn't respect all `mpl` settings; breaks on more complex plots.\n",
    "\n",
    "Backend:\n",
    "`d3`"
   ]
  },
  {
   "cell_type": "code",
   "execution_count": 32,
   "metadata": {
    "collapsed": false,
    "deletable": true,
    "editable": true
   },
   "outputs": [
    {
     "data": {
      "text/html": [
       "\n",
       "\n",
       "<style>\n",
       "\n",
       "</style>\n",
       "\n",
       "<div id=\"fig_el1572349015976484324853266\"></div>\n",
       "<script>\n",
       "function mpld3_load_lib(url, callback){\n",
       "  var s = document.createElement('script');\n",
       "  s.src = url;\n",
       "  s.async = true;\n",
       "  s.onreadystatechange = s.onload = callback;\n",
       "  s.onerror = function(){console.warn(\"failed to load library \" + url);};\n",
       "  document.getElementsByTagName(\"head\")[0].appendChild(s);\n",
       "}\n",
       "\n",
       "if(typeof(mpld3) !== \"undefined\" && mpld3._mpld3IsLoaded){\n",
       "   // already loaded: just create the figure\n",
       "   !function(mpld3){\n",
       "       \n",
       "       mpld3.draw_figure(\"fig_el1572349015976484324853266\", {\"height\": 288.0, \"axes\": [{\"collections\": [], \"paths\": [{\"edgewidth\": 1.0, \"zorder\": 1, \"pathcodes\": [\"M\", \"L\", \"L\", \"L\", \"Z\"], \"dasharray\": \"none\", \"alpha\": 1, \"facecolor\": \"#1F77B4\", \"coordinates\": \"data\", \"xindex\": 0, \"yindex\": 1, \"data\": \"data01\", \"edgecolor\": \"none\", \"id\": \"el157234942412096\"}, {\"edgewidth\": 1.0, \"zorder\": 1, \"pathcodes\": [\"M\", \"L\", \"L\", \"L\", \"Z\"], \"dasharray\": \"none\", \"alpha\": 1, \"facecolor\": \"#1F77B4\", \"coordinates\": \"data\", \"xindex\": 0, \"yindex\": 1, \"data\": \"data02\", \"edgecolor\": \"none\", \"id\": \"el157234942575600\"}, {\"edgewidth\": 1.0, \"zorder\": 1, \"pathcodes\": [\"M\", \"L\", \"L\", \"L\", \"Z\"], \"dasharray\": \"none\", \"alpha\": 1, \"facecolor\": \"#1F77B4\", \"coordinates\": \"data\", \"xindex\": 0, \"yindex\": 1, \"data\": \"data03\", \"edgecolor\": \"none\", \"id\": \"el157234942773776\"}, {\"edgewidth\": 1.0, \"zorder\": 1, \"pathcodes\": [\"M\", \"L\", \"L\", \"L\", \"Z\"], \"dasharray\": \"none\", \"alpha\": 1, \"facecolor\": \"#1F77B4\", \"coordinates\": \"data\", \"xindex\": 0, \"yindex\": 1, \"data\": \"data04\", \"edgecolor\": \"none\", \"id\": \"el157234943003776\"}, {\"edgewidth\": 1.0, \"zorder\": 1, \"pathcodes\": [\"M\", \"L\", \"L\", \"L\", \"Z\"], \"dasharray\": \"none\", \"alpha\": 1, \"facecolor\": \"#1F77B4\", \"coordinates\": \"data\", \"xindex\": 0, \"yindex\": 1, \"data\": \"data05\", \"edgecolor\": \"none\", \"id\": \"el157235111779168\"}, {\"edgewidth\": 1.0, \"zorder\": 1, \"pathcodes\": [\"M\", \"L\", \"L\", \"L\", \"Z\"], \"dasharray\": \"none\", \"alpha\": 1, \"facecolor\": \"#1F77B4\", \"coordinates\": \"data\", \"xindex\": 0, \"yindex\": 1, \"data\": \"data06\", \"edgecolor\": \"none\", \"id\": \"el157234943279944\"}, {\"edgewidth\": 1.0, \"zorder\": 1, \"pathcodes\": [\"M\", \"L\", \"L\", \"L\", \"Z\"], \"dasharray\": \"none\", \"alpha\": 1, \"facecolor\": \"#1F77B4\", \"coordinates\": \"data\", \"xindex\": 0, \"yindex\": 1, \"data\": \"data07\", \"edgecolor\": \"none\", \"id\": \"el157234943444176\"}, {\"edgewidth\": 1.0, \"zorder\": 1, \"pathcodes\": [\"M\", \"L\", \"L\", \"L\", \"Z\"], \"dasharray\": \"none\", \"alpha\": 1, \"facecolor\": \"#1F77B4\", \"coordinates\": \"data\", \"xindex\": 0, \"yindex\": 1, \"data\": \"data08\", \"edgecolor\": \"none\", \"id\": \"el157234943811248\"}, {\"edgewidth\": 1.0, \"zorder\": 1, \"pathcodes\": [\"M\", \"L\", \"L\", \"L\", \"Z\"], \"dasharray\": \"none\", \"alpha\": 1, \"facecolor\": \"#1F77B4\", \"coordinates\": \"data\", \"xindex\": 0, \"yindex\": 1, \"data\": \"data09\", \"edgecolor\": \"none\", \"id\": \"el157234943978224\"}, {\"edgewidth\": 1.0, \"zorder\": 1, \"pathcodes\": [\"M\", \"L\", \"L\", \"L\", \"Z\"], \"dasharray\": \"none\", \"alpha\": 1, \"facecolor\": \"#1F77B4\", \"coordinates\": \"data\", \"xindex\": 0, \"yindex\": 1, \"data\": \"data10\", \"edgecolor\": \"none\", \"id\": \"el157234944187120\"}, {\"edgewidth\": 1.0, \"zorder\": 1, \"pathcodes\": [\"M\", \"L\", \"L\", \"L\", \"Z\"], \"dasharray\": \"none\", \"alpha\": 1, \"facecolor\": \"#1F77B4\", \"coordinates\": \"data\", \"xindex\": 0, \"yindex\": 1, \"data\": \"data11\", \"edgecolor\": \"none\", \"id\": \"el157234944244576\"}, {\"edgewidth\": 1.0, \"zorder\": 1, \"pathcodes\": [\"M\", \"L\", \"L\", \"L\", \"Z\"], \"dasharray\": \"none\", \"alpha\": 1, \"facecolor\": \"#1F77B4\", \"coordinates\": \"data\", \"xindex\": 0, \"yindex\": 1, \"data\": \"data12\", \"edgecolor\": \"none\", \"id\": \"el157234944592176\"}, {\"edgewidth\": 1.0, \"zorder\": 1, \"pathcodes\": [\"M\", \"L\", \"L\", \"L\", \"Z\"], \"dasharray\": \"none\", \"alpha\": 1, \"facecolor\": \"#1F77B4\", \"coordinates\": \"data\", \"xindex\": 0, \"yindex\": 1, \"data\": \"data13\", \"edgecolor\": \"none\", \"id\": \"el157234939717992\"}, {\"edgewidth\": 1.0, \"zorder\": 1, \"pathcodes\": [\"M\", \"L\", \"L\", \"L\", \"Z\"], \"dasharray\": \"none\", \"alpha\": 1, \"facecolor\": \"#1F77B4\", \"coordinates\": \"data\", \"xindex\": 0, \"yindex\": 1, \"data\": \"data14\", \"edgecolor\": \"none\", \"id\": \"el157234939506352\"}, {\"edgewidth\": 1.0, \"zorder\": 1, \"pathcodes\": [\"M\", \"L\", \"L\", \"L\", \"Z\"], \"dasharray\": \"none\", \"alpha\": 1, \"facecolor\": \"#1F77B4\", \"coordinates\": \"data\", \"xindex\": 0, \"yindex\": 1, \"data\": \"data15\", \"edgecolor\": \"none\", \"id\": \"el157234939190848\"}, {\"edgewidth\": 1.0, \"zorder\": 1, \"pathcodes\": [\"M\", \"L\", \"L\", \"L\", \"Z\"], \"dasharray\": \"none\", \"alpha\": 1, \"facecolor\": \"#1F77B4\", \"coordinates\": \"data\", \"xindex\": 0, \"yindex\": 1, \"data\": \"data16\", \"edgecolor\": \"none\", \"id\": \"el157234938130656\"}, {\"edgewidth\": 1.0, \"zorder\": 1, \"pathcodes\": [\"M\", \"L\", \"L\", \"L\", \"Z\"], \"dasharray\": \"none\", \"alpha\": 1, \"facecolor\": \"#1F77B4\", \"coordinates\": \"data\", \"xindex\": 0, \"yindex\": 1, \"data\": \"data17\", \"edgecolor\": \"none\", \"id\": \"el157234937133808\"}, {\"edgewidth\": 1.0, \"zorder\": 1, \"pathcodes\": [\"M\", \"L\", \"L\", \"L\", \"Z\"], \"dasharray\": \"none\", \"alpha\": 1, \"facecolor\": \"#1F77B4\", \"coordinates\": \"data\", \"xindex\": 0, \"yindex\": 1, \"data\": \"data18\", \"edgecolor\": \"none\", \"id\": \"el157234934889712\"}, {\"edgewidth\": 1.0, \"zorder\": 1, \"pathcodes\": [\"M\", \"L\", \"L\", \"L\", \"Z\"], \"dasharray\": \"none\", \"alpha\": 1, \"facecolor\": \"#1F77B4\", \"coordinates\": \"data\", \"xindex\": 0, \"yindex\": 1, \"data\": \"data19\", \"edgecolor\": \"none\", \"id\": \"el157234944802816\"}, {\"edgewidth\": 1.0, \"zorder\": 1, \"pathcodes\": [\"M\", \"L\", \"L\", \"L\", \"Z\"], \"dasharray\": \"none\", \"alpha\": 1, \"facecolor\": \"#1F77B4\", \"coordinates\": \"data\", \"xindex\": 2, \"yindex\": 1, \"data\": \"data19\", \"edgecolor\": \"none\", \"id\": \"el157234945038416\"}, {\"edgewidth\": 1.0, \"zorder\": 1000001.0, \"pathcodes\": [\"M\", \"L\", \"L\", \"L\", \"Z\"], \"dasharray\": \"none\", \"alpha\": 1, \"facecolor\": \"#1F77B4\", \"coordinates\": \"axes\", \"xindex\": 0, \"yindex\": 1, \"data\": \"data20\", \"edgecolor\": \"none\", \"id\": \"el157234945349656\"}, {\"edgewidth\": 1.0, \"zorder\": 1000000.0, \"pathcodes\": [\"M\", \"L\", \"S\", \"L\", \"S\", \"L\", \"S\", \"L\", \"S\", \"Z\"], \"dasharray\": \"none\", \"alpha\": 0.8, \"facecolor\": \"#FFFFFF\", \"coordinates\": \"axes\", \"xindex\": 0, \"yindex\": 1, \"data\": \"data21\", \"edgecolor\": \"#CCCCCC\", \"id\": \"el157234942349928\"}], \"axes\": [{\"nticks\": 20, \"scale\": \"linear\", \"grid\": {\"gridOn\": false}, \"tickformat\": [\"11207.0\", \"11101.0\", \"10019.0\", \"11201.0\", \"10016.0\", \"10022.0\", \"10036.0\", \"11236.0\", \"11234.0\", \"10001.0\", \"11226.0\", \"11203.0\", \"11385.0\", \"11434.0\", \"10013.0\", \"10002.0\", \"11208.0\", \"11212.0\", \"11233.0\", \"11206.0\"], \"fontsize\": 10.0, \"position\": \"bottom\", \"tickvalues\": [0, 1, 2, 3, 4, 5, 6, 7, 8, 9, 10, 11, 12, 13, 14, 15, 16, 17, 18, 19], \"visible\": true}, {\"nticks\": 10, \"scale\": \"linear\", \"grid\": {\"gridOn\": false}, \"tickformat\": null, \"fontsize\": 10.0, \"position\": \"left\", \"tickvalues\": null, \"visible\": true}], \"sharex\": [], \"xscale\": \"linear\", \"axesbg\": \"#FFFFFF\", \"yscale\": \"linear\", \"axesbgalpha\": null, \"ydomain\": [0.0, 2187.15], \"sharey\": [], \"bbox\": [0.125, 0.125, 0.775, 0.755], \"images\": [], \"zoomable\": true, \"xdomain\": [-0.5, 19.5], \"lines\": [], \"texts\": [{\"color\": \"#000000\", \"zorder\": 3, \"text\": \"ZIP CODE\", \"rotation\": -0.0, \"alpha\": 1, \"coordinates\": \"axes\", \"h_anchor\": \"middle\", \"v_baseline\": \"hanging\", \"fontsize\": 10.0, \"position\": [0.49999999999999994, -0.24087104488594557], \"id\": \"el157234919653936\"}, {\"color\": \"#000000\", \"zorder\": 1000003.0, \"text\": \"COLLISIONS\", \"rotation\": -0.0, \"alpha\": 1, \"coordinates\": \"axes\", \"h_anchor\": \"start\", \"v_baseline\": \"auto\", \"fontsize\": 10.0, \"position\": [0.7965203106332138, 0.9218175128771156], \"id\": \"el157234945199232\"}], \"markers\": [], \"xlim\": [-0.5, 19.5], \"ylim\": [0.0, 2187.15], \"id\": \"el157234927959728\"}], \"data\": {\"data03\": [[1.75, 0.0], [2.25, 0.0], [2.25, 1570.0], [1.75, 1570.0]], \"data10\": [[8.75, 0.0], [9.25, 0.0], [9.25, 1374.0], [8.75, 1374.0]], \"data21\": [[0.7069145758661888, 0.8942236938925681], [0.9790919952210274, 0.8942236938925681], [0.9850657108721624, 0.8942236938925681], [0.9850657108721624, 0.9034216335540839], [0.9850657108721624, 0.9678072111846947], [0.9850657108721624, 0.9770051508462105], [0.9790919952210274, 0.9770051508462105], [0.7069145758661888, 0.9770051508462105], [0.7009408602150538, 0.9770051508462105], [0.7009408602150538, 0.9678072111846947], [0.7009408602150538, 0.9034216335540839], [0.7009408602150538, 0.8942236938925681], [0.7069145758661888, 0.8942236938925681]], \"data20\": [[0.7128882915173238, 0.9218175128771156], [0.7726254480286738, 0.9218175128771156], [0.7726254480286738, 0.954010301692421], [0.7128882915173238, 0.954010301692421]], \"data07\": [[5.75, 0.0], [6.25, 0.0], [6.25, 1428.0], [5.75, 1428.0]], \"data18\": [[16.75, 0.0], [17.25, 0.0], [17.25, 1217.0], [16.75, 1217.0]], \"data12\": [[10.75, 0.0], [11.25, 0.0], [11.25, 1330.0], [10.75, 1330.0]], \"data04\": [[2.75, 0.0], [3.25, 0.0], [3.25, 1528.0], [2.75, 1528.0]], \"data11\": [[9.75, 0.0], [10.25, 0.0], [10.25, 1346.0], [9.75, 1346.0]], \"data09\": [[7.75, 0.0], [8.25, 0.0], [8.25, 1387.0], [7.75, 1387.0]], \"data02\": [[0.75, 0.0], [1.25, 0.0], [1.25, 1623.0], [0.75, 1623.0]], \"data05\": [[3.75, 0.0], [4.25, 0.0], [4.25, 1526.0], [3.75, 1526.0]], \"data13\": [[11.75, 0.0], [12.25, 0.0], [12.25, 1290.0], [11.75, 1290.0]], \"data14\": [[12.75, 0.0], [13.25, 0.0], [13.25, 1289.0], [12.75, 1289.0]], \"data01\": [[-0.25, 0.0], [0.25, 0.0], [0.25, 2083.0], [-0.25, 2083.0]], \"data17\": [[15.75, 0.0], [16.25, 0.0], [16.25, 1245.0], [15.75, 1245.0]], \"data15\": [[13.75, 0.0], [14.25, 0.0], [14.25, 1285.0], [13.75, 1285.0]], \"data06\": [[4.75, 0.0], [5.25, 0.0], [5.25, 1506.0], [4.75, 1506.0]], \"data16\": [[14.75, 0.0], [15.25, 0.0], [15.25, 1253.0], [14.75, 1253.0]], \"data19\": [[17.75, 0.0, 18.75], [18.25, 0.0, 19.25], [18.25, 1157.0, 19.25], [17.75, 1157.0, 18.75]], \"data08\": [[6.75, 0.0], [7.25, 0.0], [7.25, 1419.0], [6.75, 1419.0]]}, \"plugins\": [{\"type\": \"reset\"}, {\"enabled\": false, \"type\": \"zoom\", \"button\": true}, {\"enabled\": false, \"type\": \"boxzoom\", \"button\": true}], \"id\": \"el157234901597648\", \"width\": 432.0});\n",
       "   }(mpld3);\n",
       "}else if(typeof define === \"function\" && define.amd){\n",
       "   // require.js is available: use it to load d3/mpld3\n",
       "   require.config({paths: {d3: \"https://mpld3.github.io/js/d3.v3.min\"}});\n",
       "   require([\"d3\"], function(d3){\n",
       "      window.d3 = d3;\n",
       "      mpld3_load_lib(\"https://mpld3.github.io/js/mpld3.v0.3.js\", function(){\n",
       "         \n",
       "         mpld3.draw_figure(\"fig_el1572349015976484324853266\", {\"height\": 288.0, \"axes\": [{\"collections\": [], \"paths\": [{\"edgewidth\": 1.0, \"zorder\": 1, \"pathcodes\": [\"M\", \"L\", \"L\", \"L\", \"Z\"], \"dasharray\": \"none\", \"alpha\": 1, \"facecolor\": \"#1F77B4\", \"coordinates\": \"data\", \"xindex\": 0, \"yindex\": 1, \"data\": \"data01\", \"edgecolor\": \"none\", \"id\": \"el157234942412096\"}, {\"edgewidth\": 1.0, \"zorder\": 1, \"pathcodes\": [\"M\", \"L\", \"L\", \"L\", \"Z\"], \"dasharray\": \"none\", \"alpha\": 1, \"facecolor\": \"#1F77B4\", \"coordinates\": \"data\", \"xindex\": 0, \"yindex\": 1, \"data\": \"data02\", \"edgecolor\": \"none\", \"id\": \"el157234942575600\"}, {\"edgewidth\": 1.0, \"zorder\": 1, \"pathcodes\": [\"M\", \"L\", \"L\", \"L\", \"Z\"], \"dasharray\": \"none\", \"alpha\": 1, \"facecolor\": \"#1F77B4\", \"coordinates\": \"data\", \"xindex\": 0, \"yindex\": 1, \"data\": \"data03\", \"edgecolor\": \"none\", \"id\": \"el157234942773776\"}, {\"edgewidth\": 1.0, \"zorder\": 1, \"pathcodes\": [\"M\", \"L\", \"L\", \"L\", \"Z\"], \"dasharray\": \"none\", \"alpha\": 1, \"facecolor\": \"#1F77B4\", \"coordinates\": \"data\", \"xindex\": 0, \"yindex\": 1, \"data\": \"data04\", \"edgecolor\": \"none\", \"id\": \"el157234943003776\"}, {\"edgewidth\": 1.0, \"zorder\": 1, \"pathcodes\": [\"M\", \"L\", \"L\", \"L\", \"Z\"], \"dasharray\": \"none\", \"alpha\": 1, \"facecolor\": \"#1F77B4\", \"coordinates\": \"data\", \"xindex\": 0, \"yindex\": 1, \"data\": \"data05\", \"edgecolor\": \"none\", \"id\": \"el157235111779168\"}, {\"edgewidth\": 1.0, \"zorder\": 1, \"pathcodes\": [\"M\", \"L\", \"L\", \"L\", \"Z\"], \"dasharray\": \"none\", \"alpha\": 1, \"facecolor\": \"#1F77B4\", \"coordinates\": \"data\", \"xindex\": 0, \"yindex\": 1, \"data\": \"data06\", \"edgecolor\": \"none\", \"id\": \"el157234943279944\"}, {\"edgewidth\": 1.0, \"zorder\": 1, \"pathcodes\": [\"M\", \"L\", \"L\", \"L\", \"Z\"], \"dasharray\": \"none\", \"alpha\": 1, \"facecolor\": \"#1F77B4\", \"coordinates\": \"data\", \"xindex\": 0, \"yindex\": 1, \"data\": \"data07\", \"edgecolor\": \"none\", \"id\": \"el157234943444176\"}, {\"edgewidth\": 1.0, \"zorder\": 1, \"pathcodes\": [\"M\", \"L\", \"L\", \"L\", \"Z\"], \"dasharray\": \"none\", \"alpha\": 1, \"facecolor\": \"#1F77B4\", \"coordinates\": \"data\", \"xindex\": 0, \"yindex\": 1, \"data\": \"data08\", \"edgecolor\": \"none\", \"id\": \"el157234943811248\"}, {\"edgewidth\": 1.0, \"zorder\": 1, \"pathcodes\": [\"M\", \"L\", \"L\", \"L\", \"Z\"], \"dasharray\": \"none\", \"alpha\": 1, \"facecolor\": \"#1F77B4\", \"coordinates\": \"data\", \"xindex\": 0, \"yindex\": 1, \"data\": \"data09\", \"edgecolor\": \"none\", \"id\": \"el157234943978224\"}, {\"edgewidth\": 1.0, \"zorder\": 1, \"pathcodes\": [\"M\", \"L\", \"L\", \"L\", \"Z\"], \"dasharray\": \"none\", \"alpha\": 1, \"facecolor\": \"#1F77B4\", \"coordinates\": \"data\", \"xindex\": 0, \"yindex\": 1, \"data\": \"data10\", \"edgecolor\": \"none\", \"id\": \"el157234944187120\"}, {\"edgewidth\": 1.0, \"zorder\": 1, \"pathcodes\": [\"M\", \"L\", \"L\", \"L\", \"Z\"], \"dasharray\": \"none\", \"alpha\": 1, \"facecolor\": \"#1F77B4\", \"coordinates\": \"data\", \"xindex\": 0, \"yindex\": 1, \"data\": \"data11\", \"edgecolor\": \"none\", \"id\": \"el157234944244576\"}, {\"edgewidth\": 1.0, \"zorder\": 1, \"pathcodes\": [\"M\", \"L\", \"L\", \"L\", \"Z\"], \"dasharray\": \"none\", \"alpha\": 1, \"facecolor\": \"#1F77B4\", \"coordinates\": \"data\", \"xindex\": 0, \"yindex\": 1, \"data\": \"data12\", \"edgecolor\": \"none\", \"id\": \"el157234944592176\"}, {\"edgewidth\": 1.0, \"zorder\": 1, \"pathcodes\": [\"M\", \"L\", \"L\", \"L\", \"Z\"], \"dasharray\": \"none\", \"alpha\": 1, \"facecolor\": \"#1F77B4\", \"coordinates\": \"data\", \"xindex\": 0, \"yindex\": 1, \"data\": \"data13\", \"edgecolor\": \"none\", \"id\": \"el157234939717992\"}, {\"edgewidth\": 1.0, \"zorder\": 1, \"pathcodes\": [\"M\", \"L\", \"L\", \"L\", \"Z\"], \"dasharray\": \"none\", \"alpha\": 1, \"facecolor\": \"#1F77B4\", \"coordinates\": \"data\", \"xindex\": 0, \"yindex\": 1, \"data\": \"data14\", \"edgecolor\": \"none\", \"id\": \"el157234939506352\"}, {\"edgewidth\": 1.0, \"zorder\": 1, \"pathcodes\": [\"M\", \"L\", \"L\", \"L\", \"Z\"], \"dasharray\": \"none\", \"alpha\": 1, \"facecolor\": \"#1F77B4\", \"coordinates\": \"data\", \"xindex\": 0, \"yindex\": 1, \"data\": \"data15\", \"edgecolor\": \"none\", \"id\": \"el157234939190848\"}, {\"edgewidth\": 1.0, \"zorder\": 1, \"pathcodes\": [\"M\", \"L\", \"L\", \"L\", \"Z\"], \"dasharray\": \"none\", \"alpha\": 1, \"facecolor\": \"#1F77B4\", \"coordinates\": \"data\", \"xindex\": 0, \"yindex\": 1, \"data\": \"data16\", \"edgecolor\": \"none\", \"id\": \"el157234938130656\"}, {\"edgewidth\": 1.0, \"zorder\": 1, \"pathcodes\": [\"M\", \"L\", \"L\", \"L\", \"Z\"], \"dasharray\": \"none\", \"alpha\": 1, \"facecolor\": \"#1F77B4\", \"coordinates\": \"data\", \"xindex\": 0, \"yindex\": 1, \"data\": \"data17\", \"edgecolor\": \"none\", \"id\": \"el157234937133808\"}, {\"edgewidth\": 1.0, \"zorder\": 1, \"pathcodes\": [\"M\", \"L\", \"L\", \"L\", \"Z\"], \"dasharray\": \"none\", \"alpha\": 1, \"facecolor\": \"#1F77B4\", \"coordinates\": \"data\", \"xindex\": 0, \"yindex\": 1, \"data\": \"data18\", \"edgecolor\": \"none\", \"id\": \"el157234934889712\"}, {\"edgewidth\": 1.0, \"zorder\": 1, \"pathcodes\": [\"M\", \"L\", \"L\", \"L\", \"Z\"], \"dasharray\": \"none\", \"alpha\": 1, \"facecolor\": \"#1F77B4\", \"coordinates\": \"data\", \"xindex\": 0, \"yindex\": 1, \"data\": \"data19\", \"edgecolor\": \"none\", \"id\": \"el157234944802816\"}, {\"edgewidth\": 1.0, \"zorder\": 1, \"pathcodes\": [\"M\", \"L\", \"L\", \"L\", \"Z\"], \"dasharray\": \"none\", \"alpha\": 1, \"facecolor\": \"#1F77B4\", \"coordinates\": \"data\", \"xindex\": 2, \"yindex\": 1, \"data\": \"data19\", \"edgecolor\": \"none\", \"id\": \"el157234945038416\"}, {\"edgewidth\": 1.0, \"zorder\": 1000001.0, \"pathcodes\": [\"M\", \"L\", \"L\", \"L\", \"Z\"], \"dasharray\": \"none\", \"alpha\": 1, \"facecolor\": \"#1F77B4\", \"coordinates\": \"axes\", \"xindex\": 0, \"yindex\": 1, \"data\": \"data20\", \"edgecolor\": \"none\", \"id\": \"el157234945349656\"}, {\"edgewidth\": 1.0, \"zorder\": 1000000.0, \"pathcodes\": [\"M\", \"L\", \"S\", \"L\", \"S\", \"L\", \"S\", \"L\", \"S\", \"Z\"], \"dasharray\": \"none\", \"alpha\": 0.8, \"facecolor\": \"#FFFFFF\", \"coordinates\": \"axes\", \"xindex\": 0, \"yindex\": 1, \"data\": \"data21\", \"edgecolor\": \"#CCCCCC\", \"id\": \"el157234942349928\"}], \"axes\": [{\"nticks\": 20, \"scale\": \"linear\", \"grid\": {\"gridOn\": false}, \"tickformat\": [\"11207.0\", \"11101.0\", \"10019.0\", \"11201.0\", \"10016.0\", \"10022.0\", \"10036.0\", \"11236.0\", \"11234.0\", \"10001.0\", \"11226.0\", \"11203.0\", \"11385.0\", \"11434.0\", \"10013.0\", \"10002.0\", \"11208.0\", \"11212.0\", \"11233.0\", \"11206.0\"], \"fontsize\": 10.0, \"position\": \"bottom\", \"tickvalues\": [0, 1, 2, 3, 4, 5, 6, 7, 8, 9, 10, 11, 12, 13, 14, 15, 16, 17, 18, 19], \"visible\": true}, {\"nticks\": 10, \"scale\": \"linear\", \"grid\": {\"gridOn\": false}, \"tickformat\": null, \"fontsize\": 10.0, \"position\": \"left\", \"tickvalues\": null, \"visible\": true}], \"sharex\": [], \"xscale\": \"linear\", \"axesbg\": \"#FFFFFF\", \"yscale\": \"linear\", \"axesbgalpha\": null, \"ydomain\": [0.0, 2187.15], \"sharey\": [], \"bbox\": [0.125, 0.125, 0.775, 0.755], \"images\": [], \"zoomable\": true, \"xdomain\": [-0.5, 19.5], \"lines\": [], \"texts\": [{\"color\": \"#000000\", \"zorder\": 3, \"text\": \"ZIP CODE\", \"rotation\": -0.0, \"alpha\": 1, \"coordinates\": \"axes\", \"h_anchor\": \"middle\", \"v_baseline\": \"hanging\", \"fontsize\": 10.0, \"position\": [0.49999999999999994, -0.24087104488594557], \"id\": \"el157234919653936\"}, {\"color\": \"#000000\", \"zorder\": 1000003.0, \"text\": \"COLLISIONS\", \"rotation\": -0.0, \"alpha\": 1, \"coordinates\": \"axes\", \"h_anchor\": \"start\", \"v_baseline\": \"auto\", \"fontsize\": 10.0, \"position\": [0.7965203106332138, 0.9218175128771156], \"id\": \"el157234945199232\"}], \"markers\": [], \"xlim\": [-0.5, 19.5], \"ylim\": [0.0, 2187.15], \"id\": \"el157234927959728\"}], \"data\": {\"data03\": [[1.75, 0.0], [2.25, 0.0], [2.25, 1570.0], [1.75, 1570.0]], \"data10\": [[8.75, 0.0], [9.25, 0.0], [9.25, 1374.0], [8.75, 1374.0]], \"data21\": [[0.7069145758661888, 0.8942236938925681], [0.9790919952210274, 0.8942236938925681], [0.9850657108721624, 0.8942236938925681], [0.9850657108721624, 0.9034216335540839], [0.9850657108721624, 0.9678072111846947], [0.9850657108721624, 0.9770051508462105], [0.9790919952210274, 0.9770051508462105], [0.7069145758661888, 0.9770051508462105], [0.7009408602150538, 0.9770051508462105], [0.7009408602150538, 0.9678072111846947], [0.7009408602150538, 0.9034216335540839], [0.7009408602150538, 0.8942236938925681], [0.7069145758661888, 0.8942236938925681]], \"data20\": [[0.7128882915173238, 0.9218175128771156], [0.7726254480286738, 0.9218175128771156], [0.7726254480286738, 0.954010301692421], [0.7128882915173238, 0.954010301692421]], \"data07\": [[5.75, 0.0], [6.25, 0.0], [6.25, 1428.0], [5.75, 1428.0]], \"data18\": [[16.75, 0.0], [17.25, 0.0], [17.25, 1217.0], [16.75, 1217.0]], \"data12\": [[10.75, 0.0], [11.25, 0.0], [11.25, 1330.0], [10.75, 1330.0]], \"data04\": [[2.75, 0.0], [3.25, 0.0], [3.25, 1528.0], [2.75, 1528.0]], \"data11\": [[9.75, 0.0], [10.25, 0.0], [10.25, 1346.0], [9.75, 1346.0]], \"data09\": [[7.75, 0.0], [8.25, 0.0], [8.25, 1387.0], [7.75, 1387.0]], \"data02\": [[0.75, 0.0], [1.25, 0.0], [1.25, 1623.0], [0.75, 1623.0]], \"data05\": [[3.75, 0.0], [4.25, 0.0], [4.25, 1526.0], [3.75, 1526.0]], \"data13\": [[11.75, 0.0], [12.25, 0.0], [12.25, 1290.0], [11.75, 1290.0]], \"data14\": [[12.75, 0.0], [13.25, 0.0], [13.25, 1289.0], [12.75, 1289.0]], \"data01\": [[-0.25, 0.0], [0.25, 0.0], [0.25, 2083.0], [-0.25, 2083.0]], \"data17\": [[15.75, 0.0], [16.25, 0.0], [16.25, 1245.0], [15.75, 1245.0]], \"data15\": [[13.75, 0.0], [14.25, 0.0], [14.25, 1285.0], [13.75, 1285.0]], \"data06\": [[4.75, 0.0], [5.25, 0.0], [5.25, 1506.0], [4.75, 1506.0]], \"data16\": [[14.75, 0.0], [15.25, 0.0], [15.25, 1253.0], [14.75, 1253.0]], \"data19\": [[17.75, 0.0, 18.75], [18.25, 0.0, 19.25], [18.25, 1157.0, 19.25], [17.75, 1157.0, 18.75]], \"data08\": [[6.75, 0.0], [7.25, 0.0], [7.25, 1419.0], [6.75, 1419.0]]}, \"plugins\": [{\"type\": \"reset\"}, {\"enabled\": false, \"type\": \"zoom\", \"button\": true}, {\"enabled\": false, \"type\": \"boxzoom\", \"button\": true}], \"id\": \"el157234901597648\", \"width\": 432.0});\n",
       "      });\n",
       "    });\n",
       "}else{\n",
       "    // require.js not available: dynamically load d3 & mpld3\n",
       "    mpld3_load_lib(\"https://mpld3.github.io/js/d3.v3.min.js\", function(){\n",
       "         mpld3_load_lib(\"https://mpld3.github.io/js/mpld3.v0.3.js\", function(){\n",
       "                 \n",
       "                 mpld3.draw_figure(\"fig_el1572349015976484324853266\", {\"height\": 288.0, \"axes\": [{\"collections\": [], \"paths\": [{\"edgewidth\": 1.0, \"zorder\": 1, \"pathcodes\": [\"M\", \"L\", \"L\", \"L\", \"Z\"], \"dasharray\": \"none\", \"alpha\": 1, \"facecolor\": \"#1F77B4\", \"coordinates\": \"data\", \"xindex\": 0, \"yindex\": 1, \"data\": \"data01\", \"edgecolor\": \"none\", \"id\": \"el157234942412096\"}, {\"edgewidth\": 1.0, \"zorder\": 1, \"pathcodes\": [\"M\", \"L\", \"L\", \"L\", \"Z\"], \"dasharray\": \"none\", \"alpha\": 1, \"facecolor\": \"#1F77B4\", \"coordinates\": \"data\", \"xindex\": 0, \"yindex\": 1, \"data\": \"data02\", \"edgecolor\": \"none\", \"id\": \"el157234942575600\"}, {\"edgewidth\": 1.0, \"zorder\": 1, \"pathcodes\": [\"M\", \"L\", \"L\", \"L\", \"Z\"], \"dasharray\": \"none\", \"alpha\": 1, \"facecolor\": \"#1F77B4\", \"coordinates\": \"data\", \"xindex\": 0, \"yindex\": 1, \"data\": \"data03\", \"edgecolor\": \"none\", \"id\": \"el157234942773776\"}, {\"edgewidth\": 1.0, \"zorder\": 1, \"pathcodes\": [\"M\", \"L\", \"L\", \"L\", \"Z\"], \"dasharray\": \"none\", \"alpha\": 1, \"facecolor\": \"#1F77B4\", \"coordinates\": \"data\", \"xindex\": 0, \"yindex\": 1, \"data\": \"data04\", \"edgecolor\": \"none\", \"id\": \"el157234943003776\"}, {\"edgewidth\": 1.0, \"zorder\": 1, \"pathcodes\": [\"M\", \"L\", \"L\", \"L\", \"Z\"], \"dasharray\": \"none\", \"alpha\": 1, \"facecolor\": \"#1F77B4\", \"coordinates\": \"data\", \"xindex\": 0, \"yindex\": 1, \"data\": \"data05\", \"edgecolor\": \"none\", \"id\": \"el157235111779168\"}, {\"edgewidth\": 1.0, \"zorder\": 1, \"pathcodes\": [\"M\", \"L\", \"L\", \"L\", \"Z\"], \"dasharray\": \"none\", \"alpha\": 1, \"facecolor\": \"#1F77B4\", \"coordinates\": \"data\", \"xindex\": 0, \"yindex\": 1, \"data\": \"data06\", \"edgecolor\": \"none\", \"id\": \"el157234943279944\"}, {\"edgewidth\": 1.0, \"zorder\": 1, \"pathcodes\": [\"M\", \"L\", \"L\", \"L\", \"Z\"], \"dasharray\": \"none\", \"alpha\": 1, \"facecolor\": \"#1F77B4\", \"coordinates\": \"data\", \"xindex\": 0, \"yindex\": 1, \"data\": \"data07\", \"edgecolor\": \"none\", \"id\": \"el157234943444176\"}, {\"edgewidth\": 1.0, \"zorder\": 1, \"pathcodes\": [\"M\", \"L\", \"L\", \"L\", \"Z\"], \"dasharray\": \"none\", \"alpha\": 1, \"facecolor\": \"#1F77B4\", \"coordinates\": \"data\", \"xindex\": 0, \"yindex\": 1, \"data\": \"data08\", \"edgecolor\": \"none\", \"id\": \"el157234943811248\"}, {\"edgewidth\": 1.0, \"zorder\": 1, \"pathcodes\": [\"M\", \"L\", \"L\", \"L\", \"Z\"], \"dasharray\": \"none\", \"alpha\": 1, \"facecolor\": \"#1F77B4\", \"coordinates\": \"data\", \"xindex\": 0, \"yindex\": 1, \"data\": \"data09\", \"edgecolor\": \"none\", \"id\": \"el157234943978224\"}, {\"edgewidth\": 1.0, \"zorder\": 1, \"pathcodes\": [\"M\", \"L\", \"L\", \"L\", \"Z\"], \"dasharray\": \"none\", \"alpha\": 1, \"facecolor\": \"#1F77B4\", \"coordinates\": \"data\", \"xindex\": 0, \"yindex\": 1, \"data\": \"data10\", \"edgecolor\": \"none\", \"id\": \"el157234944187120\"}, {\"edgewidth\": 1.0, \"zorder\": 1, \"pathcodes\": [\"M\", \"L\", \"L\", \"L\", \"Z\"], \"dasharray\": \"none\", \"alpha\": 1, \"facecolor\": \"#1F77B4\", \"coordinates\": \"data\", \"xindex\": 0, \"yindex\": 1, \"data\": \"data11\", \"edgecolor\": \"none\", \"id\": \"el157234944244576\"}, {\"edgewidth\": 1.0, \"zorder\": 1, \"pathcodes\": [\"M\", \"L\", \"L\", \"L\", \"Z\"], \"dasharray\": \"none\", \"alpha\": 1, \"facecolor\": \"#1F77B4\", \"coordinates\": \"data\", \"xindex\": 0, \"yindex\": 1, \"data\": \"data12\", \"edgecolor\": \"none\", \"id\": \"el157234944592176\"}, {\"edgewidth\": 1.0, \"zorder\": 1, \"pathcodes\": [\"M\", \"L\", \"L\", \"L\", \"Z\"], \"dasharray\": \"none\", \"alpha\": 1, \"facecolor\": \"#1F77B4\", \"coordinates\": \"data\", \"xindex\": 0, \"yindex\": 1, \"data\": \"data13\", \"edgecolor\": \"none\", \"id\": \"el157234939717992\"}, {\"edgewidth\": 1.0, \"zorder\": 1, \"pathcodes\": [\"M\", \"L\", \"L\", \"L\", \"Z\"], \"dasharray\": \"none\", \"alpha\": 1, \"facecolor\": \"#1F77B4\", \"coordinates\": \"data\", \"xindex\": 0, \"yindex\": 1, \"data\": \"data14\", \"edgecolor\": \"none\", \"id\": \"el157234939506352\"}, {\"edgewidth\": 1.0, \"zorder\": 1, \"pathcodes\": [\"M\", \"L\", \"L\", \"L\", \"Z\"], \"dasharray\": \"none\", \"alpha\": 1, \"facecolor\": \"#1F77B4\", \"coordinates\": \"data\", \"xindex\": 0, \"yindex\": 1, \"data\": \"data15\", \"edgecolor\": \"none\", \"id\": \"el157234939190848\"}, {\"edgewidth\": 1.0, \"zorder\": 1, \"pathcodes\": [\"M\", \"L\", \"L\", \"L\", \"Z\"], \"dasharray\": \"none\", \"alpha\": 1, \"facecolor\": \"#1F77B4\", \"coordinates\": \"data\", \"xindex\": 0, \"yindex\": 1, \"data\": \"data16\", \"edgecolor\": \"none\", \"id\": \"el157234938130656\"}, {\"edgewidth\": 1.0, \"zorder\": 1, \"pathcodes\": [\"M\", \"L\", \"L\", \"L\", \"Z\"], \"dasharray\": \"none\", \"alpha\": 1, \"facecolor\": \"#1F77B4\", \"coordinates\": \"data\", \"xindex\": 0, \"yindex\": 1, \"data\": \"data17\", \"edgecolor\": \"none\", \"id\": \"el157234937133808\"}, {\"edgewidth\": 1.0, \"zorder\": 1, \"pathcodes\": [\"M\", \"L\", \"L\", \"L\", \"Z\"], \"dasharray\": \"none\", \"alpha\": 1, \"facecolor\": \"#1F77B4\", \"coordinates\": \"data\", \"xindex\": 0, \"yindex\": 1, \"data\": \"data18\", \"edgecolor\": \"none\", \"id\": \"el157234934889712\"}, {\"edgewidth\": 1.0, \"zorder\": 1, \"pathcodes\": [\"M\", \"L\", \"L\", \"L\", \"Z\"], \"dasharray\": \"none\", \"alpha\": 1, \"facecolor\": \"#1F77B4\", \"coordinates\": \"data\", \"xindex\": 0, \"yindex\": 1, \"data\": \"data19\", \"edgecolor\": \"none\", \"id\": \"el157234944802816\"}, {\"edgewidth\": 1.0, \"zorder\": 1, \"pathcodes\": [\"M\", \"L\", \"L\", \"L\", \"Z\"], \"dasharray\": \"none\", \"alpha\": 1, \"facecolor\": \"#1F77B4\", \"coordinates\": \"data\", \"xindex\": 2, \"yindex\": 1, \"data\": \"data19\", \"edgecolor\": \"none\", \"id\": \"el157234945038416\"}, {\"edgewidth\": 1.0, \"zorder\": 1000001.0, \"pathcodes\": [\"M\", \"L\", \"L\", \"L\", \"Z\"], \"dasharray\": \"none\", \"alpha\": 1, \"facecolor\": \"#1F77B4\", \"coordinates\": \"axes\", \"xindex\": 0, \"yindex\": 1, \"data\": \"data20\", \"edgecolor\": \"none\", \"id\": \"el157234945349656\"}, {\"edgewidth\": 1.0, \"zorder\": 1000000.0, \"pathcodes\": [\"M\", \"L\", \"S\", \"L\", \"S\", \"L\", \"S\", \"L\", \"S\", \"Z\"], \"dasharray\": \"none\", \"alpha\": 0.8, \"facecolor\": \"#FFFFFF\", \"coordinates\": \"axes\", \"xindex\": 0, \"yindex\": 1, \"data\": \"data21\", \"edgecolor\": \"#CCCCCC\", \"id\": \"el157234942349928\"}], \"axes\": [{\"nticks\": 20, \"scale\": \"linear\", \"grid\": {\"gridOn\": false}, \"tickformat\": [\"11207.0\", \"11101.0\", \"10019.0\", \"11201.0\", \"10016.0\", \"10022.0\", \"10036.0\", \"11236.0\", \"11234.0\", \"10001.0\", \"11226.0\", \"11203.0\", \"11385.0\", \"11434.0\", \"10013.0\", \"10002.0\", \"11208.0\", \"11212.0\", \"11233.0\", \"11206.0\"], \"fontsize\": 10.0, \"position\": \"bottom\", \"tickvalues\": [0, 1, 2, 3, 4, 5, 6, 7, 8, 9, 10, 11, 12, 13, 14, 15, 16, 17, 18, 19], \"visible\": true}, {\"nticks\": 10, \"scale\": \"linear\", \"grid\": {\"gridOn\": false}, \"tickformat\": null, \"fontsize\": 10.0, \"position\": \"left\", \"tickvalues\": null, \"visible\": true}], \"sharex\": [], \"xscale\": \"linear\", \"axesbg\": \"#FFFFFF\", \"yscale\": \"linear\", \"axesbgalpha\": null, \"ydomain\": [0.0, 2187.15], \"sharey\": [], \"bbox\": [0.125, 0.125, 0.775, 0.755], \"images\": [], \"zoomable\": true, \"xdomain\": [-0.5, 19.5], \"lines\": [], \"texts\": [{\"color\": \"#000000\", \"zorder\": 3, \"text\": \"ZIP CODE\", \"rotation\": -0.0, \"alpha\": 1, \"coordinates\": \"axes\", \"h_anchor\": \"middle\", \"v_baseline\": \"hanging\", \"fontsize\": 10.0, \"position\": [0.49999999999999994, -0.24087104488594557], \"id\": \"el157234919653936\"}, {\"color\": \"#000000\", \"zorder\": 1000003.0, \"text\": \"COLLISIONS\", \"rotation\": -0.0, \"alpha\": 1, \"coordinates\": \"axes\", \"h_anchor\": \"start\", \"v_baseline\": \"auto\", \"fontsize\": 10.0, \"position\": [0.7965203106332138, 0.9218175128771156], \"id\": \"el157234945199232\"}], \"markers\": [], \"xlim\": [-0.5, 19.5], \"ylim\": [0.0, 2187.15], \"id\": \"el157234927959728\"}], \"data\": {\"data03\": [[1.75, 0.0], [2.25, 0.0], [2.25, 1570.0], [1.75, 1570.0]], \"data10\": [[8.75, 0.0], [9.25, 0.0], [9.25, 1374.0], [8.75, 1374.0]], \"data21\": [[0.7069145758661888, 0.8942236938925681], [0.9790919952210274, 0.8942236938925681], [0.9850657108721624, 0.8942236938925681], [0.9850657108721624, 0.9034216335540839], [0.9850657108721624, 0.9678072111846947], [0.9850657108721624, 0.9770051508462105], [0.9790919952210274, 0.9770051508462105], [0.7069145758661888, 0.9770051508462105], [0.7009408602150538, 0.9770051508462105], [0.7009408602150538, 0.9678072111846947], [0.7009408602150538, 0.9034216335540839], [0.7009408602150538, 0.8942236938925681], [0.7069145758661888, 0.8942236938925681]], \"data20\": [[0.7128882915173238, 0.9218175128771156], [0.7726254480286738, 0.9218175128771156], [0.7726254480286738, 0.954010301692421], [0.7128882915173238, 0.954010301692421]], \"data07\": [[5.75, 0.0], [6.25, 0.0], [6.25, 1428.0], [5.75, 1428.0]], \"data18\": [[16.75, 0.0], [17.25, 0.0], [17.25, 1217.0], [16.75, 1217.0]], \"data12\": [[10.75, 0.0], [11.25, 0.0], [11.25, 1330.0], [10.75, 1330.0]], \"data04\": [[2.75, 0.0], [3.25, 0.0], [3.25, 1528.0], [2.75, 1528.0]], \"data11\": [[9.75, 0.0], [10.25, 0.0], [10.25, 1346.0], [9.75, 1346.0]], \"data09\": [[7.75, 0.0], [8.25, 0.0], [8.25, 1387.0], [7.75, 1387.0]], \"data02\": [[0.75, 0.0], [1.25, 0.0], [1.25, 1623.0], [0.75, 1623.0]], \"data05\": [[3.75, 0.0], [4.25, 0.0], [4.25, 1526.0], [3.75, 1526.0]], \"data13\": [[11.75, 0.0], [12.25, 0.0], [12.25, 1290.0], [11.75, 1290.0]], \"data14\": [[12.75, 0.0], [13.25, 0.0], [13.25, 1289.0], [12.75, 1289.0]], \"data01\": [[-0.25, 0.0], [0.25, 0.0], [0.25, 2083.0], [-0.25, 2083.0]], \"data17\": [[15.75, 0.0], [16.25, 0.0], [16.25, 1245.0], [15.75, 1245.0]], \"data15\": [[13.75, 0.0], [14.25, 0.0], [14.25, 1285.0], [13.75, 1285.0]], \"data06\": [[4.75, 0.0], [5.25, 0.0], [5.25, 1506.0], [4.75, 1506.0]], \"data16\": [[14.75, 0.0], [15.25, 0.0], [15.25, 1253.0], [14.75, 1253.0]], \"data19\": [[17.75, 0.0, 18.75], [18.25, 0.0, 19.25], [18.25, 1157.0, 19.25], [17.75, 1157.0, 18.75]], \"data08\": [[6.75, 0.0], [7.25, 0.0], [7.25, 1419.0], [6.75, 1419.0]]}, \"plugins\": [{\"type\": \"reset\"}, {\"enabled\": false, \"type\": \"zoom\", \"button\": true}, {\"enabled\": false, \"type\": \"boxzoom\", \"button\": true}], \"id\": \"el157234901597648\", \"width\": 432.0});\n",
       "            })\n",
       "         });\n",
       "}\n",
       "</script>"
      ],
      "text/plain": [
       "<IPython.core.display.HTML object>"
      ]
     },
     "execution_count": 32,
     "metadata": {},
     "output_type": "execute_result"
    }
   ],
   "source": [
    "top_zips.plot.bar()\n",
    "mpld3.display()"
   ]
  },
  {
   "cell_type": "markdown",
   "metadata": {
    "deletable": true,
    "editable": true
   },
   "source": [
    "## bokeh"
   ]
  },
  {
   "cell_type": "code",
   "execution_count": 39,
   "metadata": {
    "collapsed": false,
    "deletable": true,
    "editable": true
   },
   "outputs": [
    {
     "data": {
      "text/html": [
       "\n",
       "    <div class=\"bk-root\">\n",
       "        <a href=\"http://bokeh.pydata.org\" target=\"_blank\" class=\"bk-logo bk-logo-small bk-logo-notebook\"></a>\n",
       "        <span id=\"8f223737-a01c-49c0-9fa0-3bb1a9551df8\">Loading BokehJS ...</span>\n",
       "    </div>"
      ]
     },
     "metadata": {},
     "output_type": "display_data"
    },
    {
     "data": {
      "application/javascript": [
       "\n",
       "(function(global) {\n",
       "  function now() {\n",
       "    return new Date();\n",
       "  }\n",
       "\n",
       "  var force = true;\n",
       "\n",
       "  if (typeof (window._bokeh_onload_callbacks) === \"undefined\" || force === true) {\n",
       "    window._bokeh_onload_callbacks = [];\n",
       "    window._bokeh_is_loading = undefined;\n",
       "  }\n",
       "\n",
       "\n",
       "  \n",
       "  if (typeof (window._bokeh_timeout) === \"undefined\" || force === true) {\n",
       "    window._bokeh_timeout = Date.now() + 5000;\n",
       "    window._bokeh_failed_load = false;\n",
       "  }\n",
       "\n",
       "  var NB_LOAD_WARNING = {'data': {'text/html':\n",
       "     \"<div style='background-color: #fdd'>\\n\"+\n",
       "     \"<p>\\n\"+\n",
       "     \"BokehJS does not appear to have successfully loaded. If loading BokehJS from CDN, this \\n\"+\n",
       "     \"may be due to a slow or bad network connection. Possible fixes:\\n\"+\n",
       "     \"</p>\\n\"+\n",
       "     \"<ul>\\n\"+\n",
       "     \"<li>re-rerun `output_notebook()` to attempt to load from CDN again, or</li>\\n\"+\n",
       "     \"<li>use INLINE resources instead, as so:</li>\\n\"+\n",
       "     \"</ul>\\n\"+\n",
       "     \"<code>\\n\"+\n",
       "     \"from bokeh.resources import INLINE\\n\"+\n",
       "     \"output_notebook(resources=INLINE)\\n\"+\n",
       "     \"</code>\\n\"+\n",
       "     \"</div>\"}};\n",
       "\n",
       "  function display_loaded() {\n",
       "    if (window.Bokeh !== undefined) {\n",
       "      document.getElementById(\"8f223737-a01c-49c0-9fa0-3bb1a9551df8\").textContent = \"BokehJS successfully loaded.\";\n",
       "    } else if (Date.now() < window._bokeh_timeout) {\n",
       "      setTimeout(display_loaded, 100)\n",
       "    }\n",
       "  }\n",
       "\n",
       "  function run_callbacks() {\n",
       "    window._bokeh_onload_callbacks.forEach(function(callback) { callback() });\n",
       "    delete window._bokeh_onload_callbacks\n",
       "    console.info(\"Bokeh: all callbacks have finished\");\n",
       "  }\n",
       "\n",
       "  function load_libs(js_urls, callback) {\n",
       "    window._bokeh_onload_callbacks.push(callback);\n",
       "    if (window._bokeh_is_loading > 0) {\n",
       "      console.log(\"Bokeh: BokehJS is being loaded, scheduling callback at\", now());\n",
       "      return null;\n",
       "    }\n",
       "    if (js_urls == null || js_urls.length === 0) {\n",
       "      run_callbacks();\n",
       "      return null;\n",
       "    }\n",
       "    console.log(\"Bokeh: BokehJS not loaded, scheduling load and callback at\", now());\n",
       "    window._bokeh_is_loading = js_urls.length;\n",
       "    for (var i = 0; i < js_urls.length; i++) {\n",
       "      var url = js_urls[i];\n",
       "      var s = document.createElement('script');\n",
       "      s.src = url;\n",
       "      s.async = false;\n",
       "      s.onreadystatechange = s.onload = function() {\n",
       "        window._bokeh_is_loading--;\n",
       "        if (window._bokeh_is_loading === 0) {\n",
       "          console.log(\"Bokeh: all BokehJS libraries loaded\");\n",
       "          run_callbacks()\n",
       "        }\n",
       "      };\n",
       "      s.onerror = function() {\n",
       "        console.warn(\"failed to load library \" + url);\n",
       "      };\n",
       "      console.log(\"Bokeh: injecting script tag for BokehJS library: \", url);\n",
       "      document.getElementsByTagName(\"head\")[0].appendChild(s);\n",
       "    }\n",
       "  };var element = document.getElementById(\"8f223737-a01c-49c0-9fa0-3bb1a9551df8\");\n",
       "  if (element == null) {\n",
       "    console.log(\"Bokeh: ERROR: autoload.js configured with elementid '8f223737-a01c-49c0-9fa0-3bb1a9551df8' but no matching script tag was found. \")\n",
       "    return false;\n",
       "  }\n",
       "\n",
       "  var js_urls = [\"https://cdn.pydata.org/bokeh/release/bokeh-0.12.4.min.js\", \"https://cdn.pydata.org/bokeh/release/bokeh-widgets-0.12.4.min.js\"];\n",
       "\n",
       "  var inline_js = [\n",
       "    function(Bokeh) {\n",
       "      Bokeh.set_log_level(\"info\");\n",
       "    },\n",
       "    \n",
       "    function(Bokeh) {\n",
       "      \n",
       "      document.getElementById(\"8f223737-a01c-49c0-9fa0-3bb1a9551df8\").textContent = \"BokehJS is loading...\";\n",
       "    },\n",
       "    function(Bokeh) {\n",
       "      console.log(\"Bokeh: injecting CSS: https://cdn.pydata.org/bokeh/release/bokeh-0.12.4.min.css\");\n",
       "      Bokeh.embed.inject_css(\"https://cdn.pydata.org/bokeh/release/bokeh-0.12.4.min.css\");\n",
       "      console.log(\"Bokeh: injecting CSS: https://cdn.pydata.org/bokeh/release/bokeh-widgets-0.12.4.min.css\");\n",
       "      Bokeh.embed.inject_css(\"https://cdn.pydata.org/bokeh/release/bokeh-widgets-0.12.4.min.css\");\n",
       "    }\n",
       "  ];\n",
       "\n",
       "  function run_inline_js() {\n",
       "    \n",
       "    if ((window.Bokeh !== undefined) || (force === true)) {\n",
       "      for (var i = 0; i < inline_js.length; i++) {\n",
       "        inline_js[i](window.Bokeh);\n",
       "      }if (force === true) {\n",
       "        display_loaded();\n",
       "      }} else if (Date.now() < window._bokeh_timeout) {\n",
       "      setTimeout(run_inline_js, 100);\n",
       "    } else if (!window._bokeh_failed_load) {\n",
       "      console.log(\"Bokeh: BokehJS failed to load within specified timeout.\");\n",
       "      window._bokeh_failed_load = true;\n",
       "    } else if (force !== true) {\n",
       "      var cell = $(document.getElementById(\"8f223737-a01c-49c0-9fa0-3bb1a9551df8\")).parents('.cell').data().cell;\n",
       "      cell.output_area.append_execute_result(NB_LOAD_WARNING)\n",
       "    }\n",
       "\n",
       "  }\n",
       "\n",
       "  if (window._bokeh_is_loading === 0) {\n",
       "    console.log(\"Bokeh: BokehJS loaded, going straight to plotting\");\n",
       "    run_inline_js();\n",
       "  } else {\n",
       "    load_libs(js_urls, function() {\n",
       "      console.log(\"Bokeh: BokehJS plotting callback run at\", now());\n",
       "      run_inline_js();\n",
       "    });\n",
       "  }\n",
       "}(this));"
      ]
     },
     "metadata": {},
     "output_type": "display_data"
    }
   ],
   "source": [
    "from bokeh.charts import Bar\n",
    "from bokeh.io import output_notebook\n",
    "from bokeh.plotting import show\n",
    "\n",
    "output_notebook()"
   ]
  },
  {
   "cell_type": "code",
   "execution_count": 58,
   "metadata": {
    "collapsed": false,
    "deletable": true,
    "editable": true
   },
   "outputs": [
    {
     "data": {
      "text/html": [
       "\n",
       "\n",
       "    <div class=\"bk-root\">\n",
       "        <div class=\"bk-plotdiv\" id=\"ac5869c3-64f5-44d8-9eb7-a3bfd3895618\"></div>\n",
       "    </div>\n",
       "<script type=\"text/javascript\">\n",
       "  \n",
       "  (function(global) {\n",
       "    function now() {\n",
       "      return new Date();\n",
       "    }\n",
       "  \n",
       "    var force = false;\n",
       "  \n",
       "    if (typeof (window._bokeh_onload_callbacks) === \"undefined\" || force === true) {\n",
       "      window._bokeh_onload_callbacks = [];\n",
       "      window._bokeh_is_loading = undefined;\n",
       "    }\n",
       "  \n",
       "  \n",
       "    \n",
       "    if (typeof (window._bokeh_timeout) === \"undefined\" || force === true) {\n",
       "      window._bokeh_timeout = Date.now() + 0;\n",
       "      window._bokeh_failed_load = false;\n",
       "    }\n",
       "  \n",
       "    var NB_LOAD_WARNING = {'data': {'text/html':\n",
       "       \"<div style='background-color: #fdd'>\\n\"+\n",
       "       \"<p>\\n\"+\n",
       "       \"BokehJS does not appear to have successfully loaded. If loading BokehJS from CDN, this \\n\"+\n",
       "       \"may be due to a slow or bad network connection. Possible fixes:\\n\"+\n",
       "       \"</p>\\n\"+\n",
       "       \"<ul>\\n\"+\n",
       "       \"<li>re-rerun `output_notebook()` to attempt to load from CDN again, or</li>\\n\"+\n",
       "       \"<li>use INLINE resources instead, as so:</li>\\n\"+\n",
       "       \"</ul>\\n\"+\n",
       "       \"<code>\\n\"+\n",
       "       \"from bokeh.resources import INLINE\\n\"+\n",
       "       \"output_notebook(resources=INLINE)\\n\"+\n",
       "       \"</code>\\n\"+\n",
       "       \"</div>\"}};\n",
       "  \n",
       "    function display_loaded() {\n",
       "      if (window.Bokeh !== undefined) {\n",
       "        document.getElementById(\"ac5869c3-64f5-44d8-9eb7-a3bfd3895618\").textContent = \"BokehJS successfully loaded.\";\n",
       "      } else if (Date.now() < window._bokeh_timeout) {\n",
       "        setTimeout(display_loaded, 100)\n",
       "      }\n",
       "    }\n",
       "  \n",
       "    function run_callbacks() {\n",
       "      window._bokeh_onload_callbacks.forEach(function(callback) { callback() });\n",
       "      delete window._bokeh_onload_callbacks\n",
       "      console.info(\"Bokeh: all callbacks have finished\");\n",
       "    }\n",
       "  \n",
       "    function load_libs(js_urls, callback) {\n",
       "      window._bokeh_onload_callbacks.push(callback);\n",
       "      if (window._bokeh_is_loading > 0) {\n",
       "        console.log(\"Bokeh: BokehJS is being loaded, scheduling callback at\", now());\n",
       "        return null;\n",
       "      }\n",
       "      if (js_urls == null || js_urls.length === 0) {\n",
       "        run_callbacks();\n",
       "        return null;\n",
       "      }\n",
       "      console.log(\"Bokeh: BokehJS not loaded, scheduling load and callback at\", now());\n",
       "      window._bokeh_is_loading = js_urls.length;\n",
       "      for (var i = 0; i < js_urls.length; i++) {\n",
       "        var url = js_urls[i];\n",
       "        var s = document.createElement('script');\n",
       "        s.src = url;\n",
       "        s.async = false;\n",
       "        s.onreadystatechange = s.onload = function() {\n",
       "          window._bokeh_is_loading--;\n",
       "          if (window._bokeh_is_loading === 0) {\n",
       "            console.log(\"Bokeh: all BokehJS libraries loaded\");\n",
       "            run_callbacks()\n",
       "          }\n",
       "        };\n",
       "        s.onerror = function() {\n",
       "          console.warn(\"failed to load library \" + url);\n",
       "        };\n",
       "        console.log(\"Bokeh: injecting script tag for BokehJS library: \", url);\n",
       "        document.getElementsByTagName(\"head\")[0].appendChild(s);\n",
       "      }\n",
       "    };var element = document.getElementById(\"ac5869c3-64f5-44d8-9eb7-a3bfd3895618\");\n",
       "    if (element == null) {\n",
       "      console.log(\"Bokeh: ERROR: autoload.js configured with elementid 'ac5869c3-64f5-44d8-9eb7-a3bfd3895618' but no matching script tag was found. \")\n",
       "      return false;\n",
       "    }\n",
       "  \n",
       "    var js_urls = [];\n",
       "  \n",
       "    var inline_js = [\n",
       "      function(Bokeh) {\n",
       "        (function() {\n",
       "          var fn = function() {\n",
       "            var docs_json = {\"123366ed-9013-474c-b57b-938ff73bd6be\":{\"roots\":{\"references\":[{\"attributes\":{\"data_source\":{\"id\":\"d2801582-a94a-4cf8-84ff-853532e43295\",\"type\":\"ColumnDataSource\"},\"glyph\":{\"id\":\"1edb1ba4-33a3-4837-9d10-803e0ef50d01\",\"type\":\"Rect\"},\"hover_glyph\":null,\"nonselection_glyph\":null,\"selection_glyph\":null},\"id\":\"71f62048-50f6-44ac-b381-84422e64d9e4\",\"type\":\"GlyphRenderer\"},{\"attributes\":{\"fill_alpha\":{\"field\":\"fill_alpha\"},\"fill_color\":{\"field\":\"color\"},\"height\":{\"field\":\"height\",\"units\":\"data\"},\"line_color\":{\"field\":\"line_color\"},\"width\":{\"field\":\"width\",\"units\":\"data\"},\"x\":{\"field\":\"x\"},\"y\":{\"field\":\"y\"}},\"id\":\"dc942e26-1ed6-40cc-9d0e-8b159d8fd82e\",\"type\":\"Rect\"},{\"attributes\":{\"callback\":null,\"column_names\":[\"color\",\"line_alpha\",\"height\",\"label\",\"y\",\"width\",\"x\",\"fill_alpha\",\"line_color\"],\"data\":{\"chart_index\":[{\"index\":10019.0}],\"color\":[\"#f22c40\"],\"fill_alpha\":[0.8],\"height\":[1570.0],\"index\":[10019.0],\"label\":[{\"index\":10019.0}],\"line_alpha\":[1.0],\"line_color\":[\"white\"],\"width\":[0.8],\"x\":[\"10019.0\"],\"y\":[785.0]}},\"id\":\"dd25f5bf-d743-45ac-908e-315f36b909a1\",\"type\":\"ColumnDataSource\"},{\"attributes\":{\"fill_alpha\":{\"field\":\"fill_alpha\"},\"fill_color\":{\"field\":\"color\"},\"height\":{\"field\":\"height\",\"units\":\"data\"},\"line_color\":{\"field\":\"line_color\"},\"width\":{\"field\":\"width\",\"units\":\"data\"},\"x\":{\"field\":\"x\"},\"y\":{\"field\":\"y\"}},\"id\":\"686c9be7-61c2-4bcb-b860-726100cd529f\",\"type\":\"Rect\"},{\"attributes\":{\"data_source\":{\"id\":\"37c1ccd5-55a7-479f-bce7-2ad93f619550\",\"type\":\"ColumnDataSource\"},\"glyph\":{\"id\":\"7070bcee-42b4-47e0-aaad-761fcbf21752\",\"type\":\"Rect\"},\"hover_glyph\":null,\"nonselection_glyph\":null,\"selection_glyph\":null},\"id\":\"5a0c561f-5fc4-4223-9502-067a236ef472\",\"type\":\"GlyphRenderer\"},{\"attributes\":{\"callback\":null,\"factors\":[\"10001.0\",\"10002.0\",\"10013.0\",\"10016.0\",\"10019.0\",\"10022.0\",\"10036.0\",\"11101.0\",\"11201.0\",\"11203.0\",\"11206.0\",\"11207.0\",\"11208.0\",\"11212.0\",\"11226.0\",\"11233.0\",\"11234.0\",\"11236.0\",\"11385.0\",\"11434.0\"]},\"id\":\"5993f446-d8c8-4ea5-9ba5-de52643404fd\",\"type\":\"FactorRange\"},{\"attributes\":{\"overlay\":{\"id\":\"c7c7ff55-0598-472e-ab28-69c0ec596877\",\"type\":\"BoxAnnotation\"},\"plot\":{\"id\":\"0707c1af-8d74-4232-b551-3f9d98f4c4f3\",\"subtype\":\"Chart\",\"type\":\"Plot\"}},\"id\":\"c721e2b3-3945-4833-a2e5-d293f65fd9f2\",\"type\":\"BoxZoomTool\"},{\"attributes\":{\"data_source\":{\"id\":\"5a439b8d-5b11-464e-b58b-ff9564138baa\",\"type\":\"ColumnDataSource\"},\"glyph\":{\"id\":\"452b8f70-df63-4182-a97e-c04f90b93414\",\"type\":\"Rect\"},\"hover_glyph\":null,\"nonselection_glyph\":null,\"selection_glyph\":null},\"id\":\"a237bf27-fe35-4b6e-ab21-a5150232c72f\",\"type\":\"GlyphRenderer\"},{\"attributes\":{},\"id\":\"a6d36b9d-c954-4f80-ba6d-b2be0834705e\",\"type\":\"ToolEvents\"},{\"attributes\":{\"data_source\":{\"id\":\"0c53f54d-1cea-4a6c-adb2-8a699bcb1c27\",\"type\":\"ColumnDataSource\"},\"glyph\":{\"id\":\"26d84c16-b3c1-4c13-aba9-f606d9a9e7f1\",\"type\":\"Rect\"},\"hover_glyph\":null,\"nonselection_glyph\":null,\"selection_glyph\":null},\"id\":\"f8567bb0-ec7a-4116-830a-2c637e2e7bea\",\"type\":\"GlyphRenderer\"},{\"attributes\":{\"formatter\":{\"id\":\"0e9cb204-fb81-42e5-9357-7f8fd2f5ffa3\",\"type\":\"CategoricalTickFormatter\"},\"major_label_orientation\":0.7853981633974483,\"plot\":{\"id\":\"0707c1af-8d74-4232-b551-3f9d98f4c4f3\",\"subtype\":\"Chart\",\"type\":\"Plot\"},\"ticker\":{\"id\":\"fe43838c-5ff5-40df-8925-e45349ff358a\",\"type\":\"CategoricalTicker\"}},\"id\":\"a56fe696-996a-49d5-aeb7-64f1c207feca\",\"type\":\"CategoricalAxis\"},{\"attributes\":{\"data_source\":{\"id\":\"a6b62412-9cf9-4a3b-8164-bf3246b0d8f9\",\"type\":\"ColumnDataSource\"},\"glyph\":{\"id\":\"c58c10b2-6795-491f-9a3f-a7e78ced0398\",\"type\":\"Rect\"},\"hover_glyph\":null,\"nonselection_glyph\":null,\"selection_glyph\":null},\"id\":\"42ad4155-f7de-4e1c-9414-1dba7c4cfd94\",\"type\":\"GlyphRenderer\"},{\"attributes\":{\"axis_label\":\"Sum( Collisions )\",\"formatter\":{\"id\":\"e601f842-dbe0-465e-95c4-99864950bcb6\",\"type\":\"BasicTickFormatter\"},\"plot\":{\"id\":\"0707c1af-8d74-4232-b551-3f9d98f4c4f3\",\"subtype\":\"Chart\",\"type\":\"Plot\"},\"ticker\":{\"id\":\"2e58efb3-aee8-4ade-b62d-d32a067cb427\",\"type\":\"BasicTicker\"}},\"id\":\"9ef60ec5-2028-4139-9822-3d2e329fdcec\",\"type\":\"LinearAxis\"},{\"attributes\":{\"fill_alpha\":{\"field\":\"fill_alpha\"},\"fill_color\":{\"field\":\"color\"},\"height\":{\"field\":\"height\",\"units\":\"data\"},\"line_color\":{\"field\":\"line_color\"},\"width\":{\"field\":\"width\",\"units\":\"data\"},\"x\":{\"field\":\"x\"},\"y\":{\"field\":\"y\"}},\"id\":\"1edb1ba4-33a3-4837-9d10-803e0ef50d01\",\"type\":\"Rect\"},{\"attributes\":{\"plot\":{\"id\":\"0707c1af-8d74-4232-b551-3f9d98f4c4f3\",\"subtype\":\"Chart\",\"type\":\"Plot\"}},\"id\":\"af93eb2a-de48-41a4-8553-deaa6a3489eb\",\"type\":\"WheelZoomTool\"},{\"attributes\":{},\"id\":\"2e58efb3-aee8-4ade-b62d-d32a067cb427\",\"type\":\"BasicTicker\"},{\"attributes\":{\"fill_alpha\":{\"field\":\"fill_alpha\"},\"fill_color\":{\"field\":\"color\"},\"height\":{\"field\":\"height\",\"units\":\"data\"},\"line_color\":{\"field\":\"line_color\"},\"width\":{\"field\":\"width\",\"units\":\"data\"},\"x\":{\"field\":\"x\"},\"y\":{\"field\":\"y\"}},\"id\":\"17c18d07-d3e0-4df2-a531-86de503fb598\",\"type\":\"Rect\"},{\"attributes\":{\"callback\":null,\"column_names\":[\"color\",\"line_alpha\",\"height\",\"label\",\"y\",\"width\",\"x\",\"fill_alpha\",\"line_color\"],\"data\":{\"chart_index\":[{\"index\":11226.0}],\"color\":[\"#f22c40\"],\"fill_alpha\":[0.8],\"height\":[1346.0],\"index\":[11226.0],\"label\":[{\"index\":11226.0}],\"line_alpha\":[1.0],\"line_color\":[\"white\"],\"width\":[0.8],\"x\":[\"11226.0\"],\"y\":[673.0]}},\"id\":\"f3202cb2-3e4e-4234-bfca-5cd6de1a05a3\",\"type\":\"ColumnDataSource\"},{\"attributes\":{\"fill_alpha\":{\"field\":\"fill_alpha\"},\"fill_color\":{\"field\":\"color\"},\"height\":{\"field\":\"height\",\"units\":\"data\"},\"line_color\":{\"field\":\"line_color\"},\"width\":{\"field\":\"width\",\"units\":\"data\"},\"x\":{\"field\":\"x\"},\"y\":{\"field\":\"y\"}},\"id\":\"7070bcee-42b4-47e0-aaad-761fcbf21752\",\"type\":\"Rect\"},{\"attributes\":{\"data_source\":{\"id\":\"70254bf8-aee3-461b-bd7e-a8a5892351b1\",\"type\":\"ColumnDataSource\"},\"glyph\":{\"id\":\"5915a5d6-0564-43e9-a53f-b4644bb99584\",\"type\":\"Rect\"},\"hover_glyph\":null,\"nonselection_glyph\":null,\"selection_glyph\":null},\"id\":\"a2a8fafa-27f3-4291-9f81-385eeb13448b\",\"type\":\"GlyphRenderer\"},{\"attributes\":{\"fill_alpha\":{\"field\":\"fill_alpha\"},\"fill_color\":{\"field\":\"color\"},\"height\":{\"field\":\"height\",\"units\":\"data\"},\"line_color\":{\"field\":\"line_color\"},\"width\":{\"field\":\"width\",\"units\":\"data\"},\"x\":{\"field\":\"x\"},\"y\":{\"field\":\"y\"}},\"id\":\"a4fcbefc-55a0-47d6-a701-44814679350b\",\"type\":\"Rect\"},{\"attributes\":{\"plot\":{\"id\":\"0707c1af-8d74-4232-b551-3f9d98f4c4f3\",\"subtype\":\"Chart\",\"type\":\"Plot\"}},\"id\":\"6cc18d0c-8c03-47f1-bdc7-9df1560ab769\",\"type\":\"SaveTool\"},{\"attributes\":{\"dimension\":1,\"plot\":{\"id\":\"0707c1af-8d74-4232-b551-3f9d98f4c4f3\",\"subtype\":\"Chart\",\"type\":\"Plot\"},\"ticker\":{\"id\":\"2e58efb3-aee8-4ade-b62d-d32a067cb427\",\"type\":\"BasicTicker\"}},\"id\":\"8dde4b4e-4d9d-4d8f-9f0c-44da9d04da59\",\"type\":\"Grid\"},{\"attributes\":{\"bottom_units\":\"screen\",\"fill_alpha\":{\"value\":0.5},\"fill_color\":{\"value\":\"lightgrey\"},\"left_units\":\"screen\",\"level\":\"overlay\",\"line_alpha\":{\"value\":1.0},\"line_color\":{\"value\":\"black\"},\"line_dash\":[4,4],\"line_width\":{\"value\":2},\"plot\":null,\"render_mode\":\"css\",\"right_units\":\"screen\",\"top_units\":\"screen\"},\"id\":\"c7c7ff55-0598-472e-ab28-69c0ec596877\",\"type\":\"BoxAnnotation\"},{\"attributes\":{\"fill_alpha\":{\"field\":\"fill_alpha\"},\"fill_color\":{\"field\":\"color\"},\"height\":{\"field\":\"height\",\"units\":\"data\"},\"line_color\":{\"field\":\"line_color\"},\"width\":{\"field\":\"width\",\"units\":\"data\"},\"x\":{\"field\":\"x\"},\"y\":{\"field\":\"y\"}},\"id\":\"35e1d2f4-49ac-4dd6-ace4-7e6032214371\",\"type\":\"Rect\"},{\"attributes\":{\"data_source\":{\"id\":\"7e84dd33-adc1-4214-82c3-5309c8646a64\",\"type\":\"ColumnDataSource\"},\"glyph\":{\"id\":\"cf37202c-4b66-4c60-9be9-ab80141b4f31\",\"type\":\"Rect\"},\"hover_glyph\":null,\"nonselection_glyph\":null,\"selection_glyph\":null},\"id\":\"9dceb825-d247-4842-8ea1-ce493c755327\",\"type\":\"GlyphRenderer\"},{\"attributes\":{\"callback\":null,\"column_names\":[\"color\",\"line_alpha\",\"height\",\"label\",\"y\",\"width\",\"x\",\"fill_alpha\",\"line_color\"],\"data\":{\"chart_index\":[{\"index\":11101.0}],\"color\":[\"#f22c40\"],\"fill_alpha\":[0.8],\"height\":[1623.0],\"index\":[11101.0],\"label\":[{\"index\":11101.0}],\"line_alpha\":[1.0],\"line_color\":[\"white\"],\"width\":[0.8],\"x\":[\"11101.0\"],\"y\":[811.5]}},\"id\":\"7cc509de-af88-4b57-805e-0c7a18e4daa4\",\"type\":\"ColumnDataSource\"},{\"attributes\":{\"callback\":null,\"column_names\":[\"color\",\"line_alpha\",\"height\",\"label\",\"y\",\"width\",\"x\",\"fill_alpha\",\"line_color\"],\"data\":{\"chart_index\":[{\"index\":11233.0}],\"color\":[\"#f22c40\"],\"fill_alpha\":[0.8],\"height\":[1157.0],\"index\":[11233.0],\"label\":[{\"index\":11233.0}],\"line_alpha\":[1.0],\"line_color\":[\"white\"],\"width\":[0.8],\"x\":[\"11233.0\"],\"y\":[578.5]}},\"id\":\"85e7f3bd-e8eb-42c4-bd36-ba5856b56df8\",\"type\":\"ColumnDataSource\"},{\"attributes\":{\"plot\":null,\"text\":null},\"id\":\"4403c7fb-f4c9-45d1-99a5-1ba3d6903bcc\",\"type\":\"Title\"},{\"attributes\":{\"callback\":null,\"column_names\":[\"color\",\"line_alpha\",\"height\",\"label\",\"y\",\"width\",\"x\",\"fill_alpha\",\"line_color\"],\"data\":{\"chart_index\":[{\"index\":10001.0}],\"color\":[\"#f22c40\"],\"fill_alpha\":[0.8],\"height\":[1374.0],\"index\":[10001.0],\"label\":[{\"index\":10001.0}],\"line_alpha\":[1.0],\"line_color\":[\"white\"],\"width\":[0.8],\"x\":[\"10001.0\"],\"y\":[687.0]}},\"id\":\"70254bf8-aee3-461b-bd7e-a8a5892351b1\",\"type\":\"ColumnDataSource\"},{\"attributes\":{\"data_source\":{\"id\":\"fc602103-0811-43c0-9d03-4be45beabf7e\",\"type\":\"ColumnDataSource\"},\"glyph\":{\"id\":\"b997e949-68cd-4336-b100-4cfedab69f4e\",\"type\":\"Rect\"},\"hover_glyph\":null,\"nonselection_glyph\":null,\"selection_glyph\":null},\"id\":\"fc282534-6fef-445f-a606-518c919d7112\",\"type\":\"GlyphRenderer\"},{\"attributes\":{\"data_source\":{\"id\":\"a06a9b52-15b7-416c-836a-b5ba61224443\",\"type\":\"ColumnDataSource\"},\"glyph\":{\"id\":\"00ad0fc1-7bad-4fde-ac4c-dfd501934d5d\",\"type\":\"Rect\"},\"hover_glyph\":null,\"nonselection_glyph\":null,\"selection_glyph\":null},\"id\":\"f11fef4c-8e4a-48fe-aefe-087b5576343e\",\"type\":\"GlyphRenderer\"},{\"attributes\":{\"callback\":null,\"column_names\":[\"color\",\"line_alpha\",\"height\",\"label\",\"y\",\"width\",\"x\",\"fill_alpha\",\"line_color\"],\"data\":{\"chart_index\":[{\"index\":11201.0}],\"color\":[\"#f22c40\"],\"fill_alpha\":[0.8],\"height\":[1528.0],\"index\":[11201.0],\"label\":[{\"index\":11201.0}],\"line_alpha\":[1.0],\"line_color\":[\"white\"],\"width\":[0.8],\"x\":[\"11201.0\"],\"y\":[764.0]}},\"id\":\"37c1ccd5-55a7-479f-bce7-2ad93f619550\",\"type\":\"ColumnDataSource\"},{\"attributes\":{\"fill_alpha\":{\"field\":\"fill_alpha\"},\"fill_color\":{\"field\":\"color\"},\"height\":{\"field\":\"height\",\"units\":\"data\"},\"line_color\":{\"field\":\"line_color\"},\"width\":{\"field\":\"width\",\"units\":\"data\"},\"x\":{\"field\":\"x\"},\"y\":{\"field\":\"y\"}},\"id\":\"eecdd0d7-7e1b-413d-83a2-2dbdf5603f70\",\"type\":\"Rect\"},{\"attributes\":{\"active_drag\":\"auto\",\"active_scroll\":\"auto\",\"active_tap\":\"auto\",\"tools\":[{\"id\":\"bd362723-fb26-4d1a-bbf9-79000e08faab\",\"type\":\"PanTool\"},{\"id\":\"af93eb2a-de48-41a4-8553-deaa6a3489eb\",\"type\":\"WheelZoomTool\"},{\"id\":\"c721e2b3-3945-4833-a2e5-d293f65fd9f2\",\"type\":\"BoxZoomTool\"},{\"id\":\"6cc18d0c-8c03-47f1-bdc7-9df1560ab769\",\"type\":\"SaveTool\"},{\"id\":\"2450896d-1a72-4926-a9f8-69406122831d\",\"type\":\"ResetTool\"},{\"id\":\"127fd9fb-2ed1-4a6f-8bdf-ffd3ac36d7a9\",\"type\":\"HelpTool\"}]},\"id\":\"f47958ae-f226-44b3-baf7-9c8f80fd65aa\",\"type\":\"Toolbar\"},{\"attributes\":{\"below\":[{\"id\":\"a56fe696-996a-49d5-aeb7-64f1c207feca\",\"type\":\"CategoricalAxis\"}],\"css_classes\":null,\"left\":[{\"id\":\"9ef60ec5-2028-4139-9822-3d2e329fdcec\",\"type\":\"LinearAxis\"}],\"renderers\":[{\"id\":\"c7c7ff55-0598-472e-ab28-69c0ec596877\",\"type\":\"BoxAnnotation\"},{\"id\":\"7deee91b-8d7c-401d-b46e-7965a937c22f\",\"type\":\"GlyphRenderer\"},{\"id\":\"71bf7925-c8ce-4425-b9ce-d0ae33aa4091\",\"type\":\"GlyphRenderer\"},{\"id\":\"c9c8eead-9e1a-420a-b130-1b640db0a6db\",\"type\":\"GlyphRenderer\"},{\"id\":\"5a0c561f-5fc4-4223-9502-067a236ef472\",\"type\":\"GlyphRenderer\"},{\"id\":\"71f62048-50f6-44ac-b381-84422e64d9e4\",\"type\":\"GlyphRenderer\"},{\"id\":\"42ad4155-f7de-4e1c-9414-1dba7c4cfd94\",\"type\":\"GlyphRenderer\"},{\"id\":\"5c543eb8-57e1-4759-b032-21e5c7b8ec63\",\"type\":\"GlyphRenderer\"},{\"id\":\"fc282534-6fef-445f-a606-518c919d7112\",\"type\":\"GlyphRenderer\"},{\"id\":\"f02fa2d9-672a-42fb-9cdf-509ed36194c8\",\"type\":\"GlyphRenderer\"},{\"id\":\"a2a8fafa-27f3-4291-9f81-385eeb13448b\",\"type\":\"GlyphRenderer\"},{\"id\":\"8d4e6c06-c6b9-47e6-8ee4-45b994f31ad4\",\"type\":\"GlyphRenderer\"},{\"id\":\"f11fef4c-8e4a-48fe-aefe-087b5576343e\",\"type\":\"GlyphRenderer\"},{\"id\":\"ee748518-75b6-4e27-a31e-1b95babbff53\",\"type\":\"GlyphRenderer\"},{\"id\":\"a237bf27-fe35-4b6e-ab21-a5150232c72f\",\"type\":\"GlyphRenderer\"},{\"id\":\"94745cb2-ef79-4022-b3b2-bc72e346ecc4\",\"type\":\"GlyphRenderer\"},{\"id\":\"a888c987-6582-4543-a67d-ada5715c9d89\",\"type\":\"GlyphRenderer\"},{\"id\":\"9dceb825-d247-4842-8ea1-ce493c755327\",\"type\":\"GlyphRenderer\"},{\"id\":\"3ad8fc1f-1004-48b0-a51b-d1de4d0ccba2\",\"type\":\"GlyphRenderer\"},{\"id\":\"2afb042a-9b1b-4b55-8371-7ded83b681a1\",\"type\":\"GlyphRenderer\"},{\"id\":\"f8567bb0-ec7a-4116-830a-2c637e2e7bea\",\"type\":\"GlyphRenderer\"},{\"id\":\"a56fe696-996a-49d5-aeb7-64f1c207feca\",\"type\":\"CategoricalAxis\"},{\"id\":\"9ef60ec5-2028-4139-9822-3d2e329fdcec\",\"type\":\"LinearAxis\"},{\"id\":\"8dde4b4e-4d9d-4d8f-9f0c-44da9d04da59\",\"type\":\"Grid\"}],\"title\":{\"id\":\"4403c7fb-f4c9-45d1-99a5-1ba3d6903bcc\",\"type\":\"Title\"},\"tool_events\":{\"id\":\"a6d36b9d-c954-4f80-ba6d-b2be0834705e\",\"type\":\"ToolEvents\"},\"toolbar\":{\"id\":\"f47958ae-f226-44b3-baf7-9c8f80fd65aa\",\"type\":\"Toolbar\"},\"x_mapper_type\":\"auto\",\"x_range\":{\"id\":\"5993f446-d8c8-4ea5-9ba5-de52643404fd\",\"type\":\"FactorRange\"},\"y_mapper_type\":\"auto\",\"y_range\":{\"id\":\"d22e551c-dbc6-4a20-b75f-576dfb7d3158\",\"type\":\"Range1d\"}},\"id\":\"0707c1af-8d74-4232-b551-3f9d98f4c4f3\",\"subtype\":\"Chart\",\"type\":\"Plot\"},{\"attributes\":{\"fill_alpha\":{\"field\":\"fill_alpha\"},\"fill_color\":{\"field\":\"color\"},\"height\":{\"field\":\"height\",\"units\":\"data\"},\"line_color\":{\"field\":\"line_color\"},\"width\":{\"field\":\"width\",\"units\":\"data\"},\"x\":{\"field\":\"x\"},\"y\":{\"field\":\"y\"}},\"id\":\"ac9f6617-ab23-4da4-a141-23955ff27c19\",\"type\":\"Rect\"},{\"attributes\":{\"data_source\":{\"id\":\"85e7f3bd-e8eb-42c4-bd36-ba5856b56df8\",\"type\":\"ColumnDataSource\"},\"glyph\":{\"id\":\"ac9f6617-ab23-4da4-a141-23955ff27c19\",\"type\":\"Rect\"},\"hover_glyph\":null,\"nonselection_glyph\":null,\"selection_glyph\":null},\"id\":\"2afb042a-9b1b-4b55-8371-7ded83b681a1\",\"type\":\"GlyphRenderer\"},{\"attributes\":{\"callback\":null,\"column_names\":[\"color\",\"line_alpha\",\"height\",\"label\",\"y\",\"width\",\"x\",\"fill_alpha\",\"line_color\"],\"data\":{\"chart_index\":[{\"index\":10036.0}],\"color\":[\"#f22c40\"],\"fill_alpha\":[0.8],\"height\":[1428.0],\"index\":[10036.0],\"label\":[{\"index\":10036.0}],\"line_alpha\":[1.0],\"line_color\":[\"white\"],\"width\":[0.8],\"x\":[\"10036.0\"],\"y\":[714.0]}},\"id\":\"2370bb93-c01e-4ff7-b4e7-f1a99e154f2e\",\"type\":\"ColumnDataSource\"},{\"attributes\":{\"fill_alpha\":{\"field\":\"fill_alpha\"},\"fill_color\":{\"field\":\"color\"},\"height\":{\"field\":\"height\",\"units\":\"data\"},\"line_color\":{\"field\":\"line_color\"},\"width\":{\"field\":\"width\",\"units\":\"data\"},\"x\":{\"field\":\"x\"},\"y\":{\"field\":\"y\"}},\"id\":\"452b8f70-df63-4182-a97e-c04f90b93414\",\"type\":\"Rect\"},{\"attributes\":{\"callback\":null,\"end\":2187.15},\"id\":\"d22e551c-dbc6-4a20-b75f-576dfb7d3158\",\"type\":\"Range1d\"},{\"attributes\":{\"data_source\":{\"id\":\"2e77686f-3cf1-4727-ac3f-45123557913f\",\"type\":\"ColumnDataSource\"},\"glyph\":{\"id\":\"dc942e26-1ed6-40cc-9d0e-8b159d8fd82e\",\"type\":\"Rect\"},\"hover_glyph\":null,\"nonselection_glyph\":null,\"selection_glyph\":null},\"id\":\"a888c987-6582-4543-a67d-ada5715c9d89\",\"type\":\"GlyphRenderer\"},{\"attributes\":{\"callback\":null,\"column_names\":[\"color\",\"line_alpha\",\"height\",\"label\",\"y\",\"width\",\"x\",\"fill_alpha\",\"line_color\"],\"data\":{\"chart_index\":[{\"index\":10016.0}],\"color\":[\"#f22c40\"],\"fill_alpha\":[0.8],\"height\":[1526.0],\"index\":[10016.0],\"label\":[{\"index\":10016.0}],\"line_alpha\":[1.0],\"line_color\":[\"white\"],\"width\":[0.8],\"x\":[\"10016.0\"],\"y\":[763.0]}},\"id\":\"d2801582-a94a-4cf8-84ff-853532e43295\",\"type\":\"ColumnDataSource\"},{\"attributes\":{\"data_source\":{\"id\":\"2370bb93-c01e-4ff7-b4e7-f1a99e154f2e\",\"type\":\"ColumnDataSource\"},\"glyph\":{\"id\":\"35e1d2f4-49ac-4dd6-ace4-7e6032214371\",\"type\":\"Rect\"},\"hover_glyph\":null,\"nonselection_glyph\":null,\"selection_glyph\":null},\"id\":\"5c543eb8-57e1-4759-b032-21e5c7b8ec63\",\"type\":\"GlyphRenderer\"},{\"attributes\":{\"callback\":null,\"column_names\":[\"color\",\"line_alpha\",\"height\",\"label\",\"y\",\"width\",\"x\",\"fill_alpha\",\"line_color\"],\"data\":{\"chart_index\":[{\"index\":11212.0}],\"color\":[\"#f22c40\"],\"fill_alpha\":[0.8],\"height\":[1217.0],\"index\":[11212.0],\"label\":[{\"index\":11212.0}],\"line_alpha\":[1.0],\"line_color\":[\"white\"],\"width\":[0.8],\"x\":[\"11212.0\"],\"y\":[608.5]}},\"id\":\"a176d468-f723-4367-af6f-821d0741106a\",\"type\":\"ColumnDataSource\"},{\"attributes\":{\"callback\":null,\"column_names\":[\"color\",\"line_alpha\",\"height\",\"label\",\"y\",\"width\",\"x\",\"fill_alpha\",\"line_color\"],\"data\":{\"chart_index\":[{\"index\":10002.0}],\"color\":[\"#f22c40\"],\"fill_alpha\":[0.8],\"height\":[1253.0],\"index\":[10002.0],\"label\":[{\"index\":10002.0}],\"line_alpha\":[1.0],\"line_color\":[\"white\"],\"width\":[0.8],\"x\":[\"10002.0\"],\"y\":[626.5]}},\"id\":\"2e77686f-3cf1-4727-ac3f-45123557913f\",\"type\":\"ColumnDataSource\"},{\"attributes\":{\"callback\":null,\"column_names\":[\"color\",\"line_alpha\",\"height\",\"label\",\"y\",\"width\",\"x\",\"fill_alpha\",\"line_color\"],\"data\":{\"chart_index\":[{\"index\":11434.0}],\"color\":[\"#f22c40\"],\"fill_alpha\":[0.8],\"height\":[1289.0],\"index\":[11434.0],\"label\":[{\"index\":11434.0}],\"line_alpha\":[1.0],\"line_color\":[\"white\"],\"width\":[0.8],\"x\":[\"11434.0\"],\"y\":[644.5]}},\"id\":\"5a439b8d-5b11-464e-b58b-ff9564138baa\",\"type\":\"ColumnDataSource\"},{\"attributes\":{\"callback\":null,\"column_names\":[\"color\",\"line_alpha\",\"height\",\"label\",\"y\",\"width\",\"x\",\"fill_alpha\",\"line_color\"],\"data\":{\"chart_index\":[{\"index\":11206.0}],\"color\":[\"#f22c40\"],\"fill_alpha\":[0.8],\"height\":[1157.0],\"index\":[11206.0],\"label\":[{\"index\":11206.0}],\"line_alpha\":[1.0],\"line_color\":[\"white\"],\"width\":[0.8],\"x\":[\"11206.0\"],\"y\":[578.5]}},\"id\":\"0c53f54d-1cea-4a6c-adb2-8a699bcb1c27\",\"type\":\"ColumnDataSource\"},{\"attributes\":{\"callback\":null,\"column_names\":[\"color\",\"line_alpha\",\"height\",\"label\",\"y\",\"width\",\"x\",\"fill_alpha\",\"line_color\"],\"data\":{\"chart_index\":[{\"index\":10013.0}],\"color\":[\"#f22c40\"],\"fill_alpha\":[0.8],\"height\":[1285.0],\"index\":[10013.0],\"label\":[{\"index\":10013.0}],\"line_alpha\":[1.0],\"line_color\":[\"white\"],\"width\":[0.8],\"x\":[\"10013.0\"],\"y\":[642.5]}},\"id\":\"999e0a4a-d32f-4d3a-8196-59d9c9caa7ff\",\"type\":\"ColumnDataSource\"},{\"attributes\":{\"plot\":{\"id\":\"0707c1af-8d74-4232-b551-3f9d98f4c4f3\",\"subtype\":\"Chart\",\"type\":\"Plot\"}},\"id\":\"2450896d-1a72-4926-a9f8-69406122831d\",\"type\":\"ResetTool\"},{\"attributes\":{\"fill_alpha\":{\"field\":\"fill_alpha\"},\"fill_color\":{\"field\":\"color\"},\"height\":{\"field\":\"height\",\"units\":\"data\"},\"line_color\":{\"field\":\"line_color\"},\"width\":{\"field\":\"width\",\"units\":\"data\"},\"x\":{\"field\":\"x\"},\"y\":{\"field\":\"y\"}},\"id\":\"b997e949-68cd-4336-b100-4cfedab69f4e\",\"type\":\"Rect\"},{\"attributes\":{\"plot\":{\"id\":\"0707c1af-8d74-4232-b551-3f9d98f4c4f3\",\"subtype\":\"Chart\",\"type\":\"Plot\"}},\"id\":\"127fd9fb-2ed1-4a6f-8bdf-ffd3ac36d7a9\",\"type\":\"HelpTool\"},{\"attributes\":{\"callback\":null,\"column_names\":[\"color\",\"line_alpha\",\"height\",\"label\",\"y\",\"width\",\"x\",\"fill_alpha\",\"line_color\"],\"data\":{\"chart_index\":[{\"index\":11208.0}],\"color\":[\"#f22c40\"],\"fill_alpha\":[0.8],\"height\":[1245.0],\"index\":[11208.0],\"label\":[{\"index\":11208.0}],\"line_alpha\":[1.0],\"line_color\":[\"white\"],\"width\":[0.8],\"x\":[\"11208.0\"],\"y\":[622.5]}},\"id\":\"7e84dd33-adc1-4214-82c3-5309c8646a64\",\"type\":\"ColumnDataSource\"},{\"attributes\":{\"fill_alpha\":{\"field\":\"fill_alpha\"},\"fill_color\":{\"field\":\"color\"},\"height\":{\"field\":\"height\",\"units\":\"data\"},\"line_color\":{\"field\":\"line_color\"},\"width\":{\"field\":\"width\",\"units\":\"data\"},\"x\":{\"field\":\"x\"},\"y\":{\"field\":\"y\"}},\"id\":\"5915a5d6-0564-43e9-a53f-b4644bb99584\",\"type\":\"Rect\"},{\"attributes\":{\"data_source\":{\"id\":\"7cc509de-af88-4b57-805e-0c7a18e4daa4\",\"type\":\"ColumnDataSource\"},\"glyph\":{\"id\":\"deb332f3-b9c6-4109-89a5-c1c27517c225\",\"type\":\"Rect\"},\"hover_glyph\":null,\"nonselection_glyph\":null,\"selection_glyph\":null},\"id\":\"71bf7925-c8ce-4425-b9ce-d0ae33aa4091\",\"type\":\"GlyphRenderer\"},{\"attributes\":{\"fill_alpha\":{\"field\":\"fill_alpha\"},\"fill_color\":{\"field\":\"color\"},\"height\":{\"field\":\"height\",\"units\":\"data\"},\"line_color\":{\"field\":\"line_color\"},\"width\":{\"field\":\"width\",\"units\":\"data\"},\"x\":{\"field\":\"x\"},\"y\":{\"field\":\"y\"}},\"id\":\"c58c10b2-6795-491f-9a3f-a7e78ced0398\",\"type\":\"Rect\"},{\"attributes\":{\"data_source\":{\"id\":\"999e0a4a-d32f-4d3a-8196-59d9c9caa7ff\",\"type\":\"ColumnDataSource\"},\"glyph\":{\"id\":\"eecdd0d7-7e1b-413d-83a2-2dbdf5603f70\",\"type\":\"Rect\"},\"hover_glyph\":null,\"nonselection_glyph\":null,\"selection_glyph\":null},\"id\":\"94745cb2-ef79-4022-b3b2-bc72e346ecc4\",\"type\":\"GlyphRenderer\"},{\"attributes\":{\"data_source\":{\"id\":\"a176d468-f723-4367-af6f-821d0741106a\",\"type\":\"ColumnDataSource\"},\"glyph\":{\"id\":\"5171c3dd-29b0-4167-bd01-c0afe5e583ea\",\"type\":\"Rect\"},\"hover_glyph\":null,\"nonselection_glyph\":null,\"selection_glyph\":null},\"id\":\"3ad8fc1f-1004-48b0-a51b-d1de4d0ccba2\",\"type\":\"GlyphRenderer\"},{\"attributes\":{\"callback\":null,\"column_names\":[\"color\",\"line_alpha\",\"height\",\"label\",\"y\",\"width\",\"x\",\"fill_alpha\",\"line_color\"],\"data\":{\"chart_index\":[{\"index\":10022.0}],\"color\":[\"#f22c40\"],\"fill_alpha\":[0.8],\"height\":[1506.0],\"index\":[10022.0],\"label\":[{\"index\":10022.0}],\"line_alpha\":[1.0],\"line_color\":[\"white\"],\"width\":[0.8],\"x\":[\"10022.0\"],\"y\":[753.0]}},\"id\":\"a6b62412-9cf9-4a3b-8164-bf3246b0d8f9\",\"type\":\"ColumnDataSource\"},{\"attributes\":{\"fill_alpha\":{\"field\":\"fill_alpha\"},\"fill_color\":{\"field\":\"color\"},\"height\":{\"field\":\"height\",\"units\":\"data\"},\"line_color\":{\"field\":\"line_color\"},\"width\":{\"field\":\"width\",\"units\":\"data\"},\"x\":{\"field\":\"x\"},\"y\":{\"field\":\"y\"}},\"id\":\"deb332f3-b9c6-4109-89a5-c1c27517c225\",\"type\":\"Rect\"},{\"attributes\":{\"fill_alpha\":{\"field\":\"fill_alpha\"},\"fill_color\":{\"field\":\"color\"},\"height\":{\"field\":\"height\",\"units\":\"data\"},\"line_color\":{\"field\":\"line_color\"},\"width\":{\"field\":\"width\",\"units\":\"data\"},\"x\":{\"field\":\"x\"},\"y\":{\"field\":\"y\"}},\"id\":\"dd7d8b28-735a-48c4-8137-299db1f3cb48\",\"type\":\"Rect\"},{\"attributes\":{\"fill_alpha\":{\"field\":\"fill_alpha\"},\"fill_color\":{\"field\":\"color\"},\"height\":{\"field\":\"height\",\"units\":\"data\"},\"line_color\":{\"field\":\"line_color\"},\"width\":{\"field\":\"width\",\"units\":\"data\"},\"x\":{\"field\":\"x\"},\"y\":{\"field\":\"y\"}},\"id\":\"5171c3dd-29b0-4167-bd01-c0afe5e583ea\",\"type\":\"Rect\"},{\"attributes\":{\"data_source\":{\"id\":\"f3202cb2-3e4e-4234-bfca-5cd6de1a05a3\",\"type\":\"ColumnDataSource\"},\"glyph\":{\"id\":\"4936f742-6c12-474c-868a-3f041b7001ee\",\"type\":\"Rect\"},\"hover_glyph\":null,\"nonselection_glyph\":null,\"selection_glyph\":null},\"id\":\"8d4e6c06-c6b9-47e6-8ee4-45b994f31ad4\",\"type\":\"GlyphRenderer\"},{\"attributes\":{\"callback\":null,\"column_names\":[\"color\",\"line_alpha\",\"height\",\"label\",\"y\",\"width\",\"x\",\"fill_alpha\",\"line_color\"],\"data\":{\"chart_index\":[{\"index\":11203.0}],\"color\":[\"#f22c40\"],\"fill_alpha\":[0.8],\"height\":[1330.0],\"index\":[11203.0],\"label\":[{\"index\":11203.0}],\"line_alpha\":[1.0],\"line_color\":[\"white\"],\"width\":[0.8],\"x\":[\"11203.0\"],\"y\":[665.0]}},\"id\":\"a06a9b52-15b7-416c-836a-b5ba61224443\",\"type\":\"ColumnDataSource\"},{\"attributes\":{\"plot\":{\"id\":\"0707c1af-8d74-4232-b551-3f9d98f4c4f3\",\"subtype\":\"Chart\",\"type\":\"Plot\"}},\"id\":\"bd362723-fb26-4d1a-bbf9-79000e08faab\",\"type\":\"PanTool\"},{\"attributes\":{\"fill_alpha\":{\"field\":\"fill_alpha\"},\"fill_color\":{\"field\":\"color\"},\"height\":{\"field\":\"height\",\"units\":\"data\"},\"line_color\":{\"field\":\"line_color\"},\"width\":{\"field\":\"width\",\"units\":\"data\"},\"x\":{\"field\":\"x\"},\"y\":{\"field\":\"y\"}},\"id\":\"00ad0fc1-7bad-4fde-ac4c-dfd501934d5d\",\"type\":\"Rect\"},{\"attributes\":{\"callback\":null,\"column_names\":[\"color\",\"line_alpha\",\"height\",\"label\",\"y\",\"width\",\"x\",\"fill_alpha\",\"line_color\"],\"data\":{\"chart_index\":[{\"index\":11236.0}],\"color\":[\"#f22c40\"],\"fill_alpha\":[0.8],\"height\":[1419.0],\"index\":[11236.0],\"label\":[{\"index\":11236.0}],\"line_alpha\":[1.0],\"line_color\":[\"white\"],\"width\":[0.8],\"x\":[\"11236.0\"],\"y\":[709.5]}},\"id\":\"fc602103-0811-43c0-9d03-4be45beabf7e\",\"type\":\"ColumnDataSource\"},{\"attributes\":{\"data_source\":{\"id\":\"4ba5012f-61a3-428a-99e5-cb04723e81e3\",\"type\":\"ColumnDataSource\"},\"glyph\":{\"id\":\"a4fcbefc-55a0-47d6-a701-44814679350b\",\"type\":\"Rect\"},\"hover_glyph\":null,\"nonselection_glyph\":null,\"selection_glyph\":null},\"id\":\"ee748518-75b6-4e27-a31e-1b95babbff53\",\"type\":\"GlyphRenderer\"},{\"attributes\":{\"fill_alpha\":{\"field\":\"fill_alpha\"},\"fill_color\":{\"field\":\"color\"},\"height\":{\"field\":\"height\",\"units\":\"data\"},\"line_color\":{\"field\":\"line_color\"},\"width\":{\"field\":\"width\",\"units\":\"data\"},\"x\":{\"field\":\"x\"},\"y\":{\"field\":\"y\"}},\"id\":\"26d84c16-b3c1-4c13-aba9-f606d9a9e7f1\",\"type\":\"Rect\"},{\"attributes\":{},\"id\":\"fe43838c-5ff5-40df-8925-e45349ff358a\",\"type\":\"CategoricalTicker\"},{\"attributes\":{\"callback\":null,\"column_names\":[\"color\",\"line_alpha\",\"height\",\"label\",\"y\",\"width\",\"x\",\"fill_alpha\",\"line_color\"],\"data\":{\"chart_index\":[{\"index\":11385.0}],\"color\":[\"#f22c40\"],\"fill_alpha\":[0.8],\"height\":[1290.0],\"index\":[11385.0],\"label\":[{\"index\":11385.0}],\"line_alpha\":[1.0],\"line_color\":[\"white\"],\"width\":[0.8],\"x\":[\"11385.0\"],\"y\":[645.0]}},\"id\":\"4ba5012f-61a3-428a-99e5-cb04723e81e3\",\"type\":\"ColumnDataSource\"},{\"attributes\":{\"fill_alpha\":{\"field\":\"fill_alpha\"},\"fill_color\":{\"field\":\"color\"},\"height\":{\"field\":\"height\",\"units\":\"data\"},\"line_color\":{\"field\":\"line_color\"},\"width\":{\"field\":\"width\",\"units\":\"data\"},\"x\":{\"field\":\"x\"},\"y\":{\"field\":\"y\"}},\"id\":\"4936f742-6c12-474c-868a-3f041b7001ee\",\"type\":\"Rect\"},{\"attributes\":{},\"id\":\"e601f842-dbe0-465e-95c4-99864950bcb6\",\"type\":\"BasicTickFormatter\"},{\"attributes\":{},\"id\":\"0e9cb204-fb81-42e5-9357-7f8fd2f5ffa3\",\"type\":\"CategoricalTickFormatter\"},{\"attributes\":{\"data_source\":{\"id\":\"cf772484-6a3d-4dac-880c-4fd81581daef\",\"type\":\"ColumnDataSource\"},\"glyph\":{\"id\":\"17c18d07-d3e0-4df2-a531-86de503fb598\",\"type\":\"Rect\"},\"hover_glyph\":null,\"nonselection_glyph\":null,\"selection_glyph\":null},\"id\":\"f02fa2d9-672a-42fb-9cdf-509ed36194c8\",\"type\":\"GlyphRenderer\"},{\"attributes\":{\"callback\":null,\"column_names\":[\"color\",\"line_alpha\",\"height\",\"label\",\"y\",\"width\",\"x\",\"fill_alpha\",\"line_color\"],\"data\":{\"chart_index\":[{\"index\":11234.0}],\"color\":[\"#f22c40\"],\"fill_alpha\":[0.8],\"height\":[1387.0],\"index\":[11234.0],\"label\":[{\"index\":11234.0}],\"line_alpha\":[1.0],\"line_color\":[\"white\"],\"width\":[0.8],\"x\":[\"11234.0\"],\"y\":[693.5]}},\"id\":\"cf772484-6a3d-4dac-880c-4fd81581daef\",\"type\":\"ColumnDataSource\"},{\"attributes\":{\"data_source\":{\"id\":\"dd25f5bf-d743-45ac-908e-315f36b909a1\",\"type\":\"ColumnDataSource\"},\"glyph\":{\"id\":\"dd7d8b28-735a-48c4-8137-299db1f3cb48\",\"type\":\"Rect\"},\"hover_glyph\":null,\"nonselection_glyph\":null,\"selection_glyph\":null},\"id\":\"c9c8eead-9e1a-420a-b130-1b640db0a6db\",\"type\":\"GlyphRenderer\"},{\"attributes\":{\"data_source\":{\"id\":\"906776b5-ba14-4017-841a-ec2ed72ecd75\",\"type\":\"ColumnDataSource\"},\"glyph\":{\"id\":\"686c9be7-61c2-4bcb-b860-726100cd529f\",\"type\":\"Rect\"},\"hover_glyph\":null,\"nonselection_glyph\":null,\"selection_glyph\":null},\"id\":\"7deee91b-8d7c-401d-b46e-7965a937c22f\",\"type\":\"GlyphRenderer\"},{\"attributes\":{\"callback\":null,\"column_names\":[\"color\",\"line_alpha\",\"height\",\"label\",\"y\",\"width\",\"x\",\"fill_alpha\",\"line_color\"],\"data\":{\"chart_index\":[{\"index\":11207.0}],\"color\":[\"#f22c40\"],\"fill_alpha\":[0.8],\"height\":[2083.0],\"index\":[11207.0],\"label\":[{\"index\":11207.0}],\"line_alpha\":[1.0],\"line_color\":[\"white\"],\"width\":[0.8],\"x\":[\"11207.0\"],\"y\":[1041.5]}},\"id\":\"906776b5-ba14-4017-841a-ec2ed72ecd75\",\"type\":\"ColumnDataSource\"},{\"attributes\":{\"fill_alpha\":{\"field\":\"fill_alpha\"},\"fill_color\":{\"field\":\"color\"},\"height\":{\"field\":\"height\",\"units\":\"data\"},\"line_color\":{\"field\":\"line_color\"},\"width\":{\"field\":\"width\",\"units\":\"data\"},\"x\":{\"field\":\"x\"},\"y\":{\"field\":\"y\"}},\"id\":\"cf37202c-4b66-4c60-9be9-ab80141b4f31\",\"type\":\"Rect\"}],\"root_ids\":[\"0707c1af-8d74-4232-b551-3f9d98f4c4f3\"]},\"title\":\"Bokeh Application\",\"version\":\"0.12.4\"}};\n",
       "            var render_items = [{\"docid\":\"123366ed-9013-474c-b57b-938ff73bd6be\",\"elementid\":\"ac5869c3-64f5-44d8-9eb7-a3bfd3895618\",\"modelid\":\"0707c1af-8d74-4232-b551-3f9d98f4c4f3\"}];\n",
       "            \n",
       "            Bokeh.embed.embed_items(docs_json, render_items);\n",
       "          };\n",
       "          if (document.readyState != \"loading\") fn();\n",
       "          else document.addEventListener(\"DOMContentLoaded\", fn);\n",
       "        })();\n",
       "      },\n",
       "      function(Bokeh) {\n",
       "      }\n",
       "    ];\n",
       "  \n",
       "    function run_inline_js() {\n",
       "      \n",
       "      if ((window.Bokeh !== undefined) || (force === true)) {\n",
       "        for (var i = 0; i < inline_js.length; i++) {\n",
       "          inline_js[i](window.Bokeh);\n",
       "        }if (force === true) {\n",
       "          display_loaded();\n",
       "        }} else if (Date.now() < window._bokeh_timeout) {\n",
       "        setTimeout(run_inline_js, 100);\n",
       "      } else if (!window._bokeh_failed_load) {\n",
       "        console.log(\"Bokeh: BokehJS failed to load within specified timeout.\");\n",
       "        window._bokeh_failed_load = true;\n",
       "      } else if (force !== true) {\n",
       "        var cell = $(document.getElementById(\"ac5869c3-64f5-44d8-9eb7-a3bfd3895618\")).parents('.cell').data().cell;\n",
       "        cell.output_area.append_execute_result(NB_LOAD_WARNING)\n",
       "      }\n",
       "  \n",
       "    }\n",
       "  \n",
       "    if (window._bokeh_is_loading === 0) {\n",
       "      console.log(\"Bokeh: BokehJS loaded, going straight to plotting\");\n",
       "      run_inline_js();\n",
       "    } else {\n",
       "      load_libs(js_urls, function() {\n",
       "        console.log(\"Bokeh: BokehJS plotting callback run at\", now());\n",
       "        run_inline_js();\n",
       "      });\n",
       "    }\n",
       "  }(this));\n",
       "</script>"
      ]
     },
     "metadata": {},
     "output_type": "display_data"
    }
   ],
   "source": [
    "plot = Bar(top_zips, values='COLLISIONS', legend=False)\n",
    "show(plot)"
   ]
  },
  {
   "cell_type": "markdown",
   "metadata": {
    "deletable": true,
    "editable": true
   },
   "source": [
    "Note: no easy way to sort the columns yourself...?"
   ]
  },
  {
   "cell_type": "code",
   "execution_count": 97,
   "metadata": {
    "collapsed": false,
    "deletable": true,
    "editable": true
   },
   "outputs": [
    {
     "data": {
      "text/html": [
       "\n",
       "\n",
       "    <div class=\"bk-root\">\n",
       "        <div class=\"bk-plotdiv\" id=\"b659ce0e-1f21-4cd3-b063-781c8ae29f23\"></div>\n",
       "    </div>\n",
       "<script type=\"text/javascript\">\n",
       "  \n",
       "  (function(global) {\n",
       "    function now() {\n",
       "      return new Date();\n",
       "    }\n",
       "  \n",
       "    var force = false;\n",
       "  \n",
       "    if (typeof (window._bokeh_onload_callbacks) === \"undefined\" || force === true) {\n",
       "      window._bokeh_onload_callbacks = [];\n",
       "      window._bokeh_is_loading = undefined;\n",
       "    }\n",
       "  \n",
       "  \n",
       "    \n",
       "    if (typeof (window._bokeh_timeout) === \"undefined\" || force === true) {\n",
       "      window._bokeh_timeout = Date.now() + 0;\n",
       "      window._bokeh_failed_load = false;\n",
       "    }\n",
       "  \n",
       "    var NB_LOAD_WARNING = {'data': {'text/html':\n",
       "       \"<div style='background-color: #fdd'>\\n\"+\n",
       "       \"<p>\\n\"+\n",
       "       \"BokehJS does not appear to have successfully loaded. If loading BokehJS from CDN, this \\n\"+\n",
       "       \"may be due to a slow or bad network connection. Possible fixes:\\n\"+\n",
       "       \"</p>\\n\"+\n",
       "       \"<ul>\\n\"+\n",
       "       \"<li>re-rerun `output_notebook()` to attempt to load from CDN again, or</li>\\n\"+\n",
       "       \"<li>use INLINE resources instead, as so:</li>\\n\"+\n",
       "       \"</ul>\\n\"+\n",
       "       \"<code>\\n\"+\n",
       "       \"from bokeh.resources import INLINE\\n\"+\n",
       "       \"output_notebook(resources=INLINE)\\n\"+\n",
       "       \"</code>\\n\"+\n",
       "       \"</div>\"}};\n",
       "  \n",
       "    function display_loaded() {\n",
       "      if (window.Bokeh !== undefined) {\n",
       "        document.getElementById(\"b659ce0e-1f21-4cd3-b063-781c8ae29f23\").textContent = \"BokehJS successfully loaded.\";\n",
       "      } else if (Date.now() < window._bokeh_timeout) {\n",
       "        setTimeout(display_loaded, 100)\n",
       "      }\n",
       "    }\n",
       "  \n",
       "    function run_callbacks() {\n",
       "      window._bokeh_onload_callbacks.forEach(function(callback) { callback() });\n",
       "      delete window._bokeh_onload_callbacks\n",
       "      console.info(\"Bokeh: all callbacks have finished\");\n",
       "    }\n",
       "  \n",
       "    function load_libs(js_urls, callback) {\n",
       "      window._bokeh_onload_callbacks.push(callback);\n",
       "      if (window._bokeh_is_loading > 0) {\n",
       "        console.log(\"Bokeh: BokehJS is being loaded, scheduling callback at\", now());\n",
       "        return null;\n",
       "      }\n",
       "      if (js_urls == null || js_urls.length === 0) {\n",
       "        run_callbacks();\n",
       "        return null;\n",
       "      }\n",
       "      console.log(\"Bokeh: BokehJS not loaded, scheduling load and callback at\", now());\n",
       "      window._bokeh_is_loading = js_urls.length;\n",
       "      for (var i = 0; i < js_urls.length; i++) {\n",
       "        var url = js_urls[i];\n",
       "        var s = document.createElement('script');\n",
       "        s.src = url;\n",
       "        s.async = false;\n",
       "        s.onreadystatechange = s.onload = function() {\n",
       "          window._bokeh_is_loading--;\n",
       "          if (window._bokeh_is_loading === 0) {\n",
       "            console.log(\"Bokeh: all BokehJS libraries loaded\");\n",
       "            run_callbacks()\n",
       "          }\n",
       "        };\n",
       "        s.onerror = function() {\n",
       "          console.warn(\"failed to load library \" + url);\n",
       "        };\n",
       "        console.log(\"Bokeh: injecting script tag for BokehJS library: \", url);\n",
       "        document.getElementsByTagName(\"head\")[0].appendChild(s);\n",
       "      }\n",
       "    };var element = document.getElementById(\"b659ce0e-1f21-4cd3-b063-781c8ae29f23\");\n",
       "    if (element == null) {\n",
       "      console.log(\"Bokeh: ERROR: autoload.js configured with elementid 'b659ce0e-1f21-4cd3-b063-781c8ae29f23' but no matching script tag was found. \")\n",
       "      return false;\n",
       "    }\n",
       "  \n",
       "    var js_urls = [];\n",
       "  \n",
       "    var inline_js = [\n",
       "      function(Bokeh) {\n",
       "        \n",
       "        \n",
       "        (function outer(modules, cache, entry) {\n",
       "          if (Bokeh != null) {\n",
       "            for (var name in modules) {\n",
       "              Bokeh.require.modules[name] = modules[name];\n",
       "            }\n",
       "        \n",
       "            for (var i = 0; i < entry.length; i++) {\n",
       "              var plugin = Bokeh.require(entry[i]);\n",
       "              Bokeh.Models.register_models(plugin.models);\n",
       "        \n",
       "              for (var name in plugin) {\n",
       "                if (name !== \"models\") {\n",
       "                  Bokeh[name] = plugin[name];\n",
       "                }\n",
       "              }\n",
       "            }\n",
       "          } else {\n",
       "            throw new Error(\"Cannot find Bokeh. You have to load it prior to loading plugins.\");\n",
       "          }\n",
       "        })\n",
       "        \n",
       "        ({\n",
       "          \"custom/main\": [function(require, module, exports) {\n",
       "            module.exports = {\n",
       "              models: {\n",
       "                \"FixedTickFormatter\": require(\"custom/fixed_tick_formatter\").FixedTickFormatter\n",
       "              }\n",
       "            };\n",
       "          }, {}],\n",
       "          \"custom/fixed_tick_formatter\": [function(require, module, exports) {\n",
       "        \"use strict\";\n",
       "        var extend = function (child, parent) { for (var key in parent) {\n",
       "            if (hasProp.call(parent, key))\n",
       "                child[key] = parent[key];\n",
       "        } function ctor() { this.constructor = child; } ctor.prototype = parent.prototype; child.prototype = new ctor(); child.__super__ = parent.prototype; return child; }, hasProp = {}.hasOwnProperty;\n",
       "        var model_1 = require(\"model\");\n",
       "        var p = require(\"core/properties\");\n",
       "        exports.FixedTickFormatter = (function (superClass) {\n",
       "            extend(FixedTickFormatter, superClass);\n",
       "            function FixedTickFormatter() {\n",
       "                return FixedTickFormatter.__super__.constructor.apply(this, arguments);\n",
       "            }\n",
       "            FixedTickFormatter.prototype.type = 'FixedTickFormatter';\n",
       "            FixedTickFormatter.prototype.doFormat = function (ticks) {\n",
       "                var labels, tick;\n",
       "                labels = this.get(\"labels\");\n",
       "                return (function () {\n",
       "                    var i, len, ref, results;\n",
       "                    results = [];\n",
       "                    for (i = 0, len = ticks.length; i < len; i++) {\n",
       "                        tick = ticks[i];\n",
       "                        results.push((ref = labels[tick]) != null ? ref : \"\");\n",
       "                    }\n",
       "                    return results;\n",
       "                })();\n",
       "            };\n",
       "            FixedTickFormatter.define({\n",
       "                labels: [p.Any]\n",
       "            });\n",
       "            return FixedTickFormatter;\n",
       "        })(model_1.Model);\n",
       "        \n",
       "        }, {}]\n",
       "        }, {}, [\"custom/main\"]);\n",
       "      },\n",
       "      \n",
       "      function(Bokeh) {\n",
       "        (function() {\n",
       "          var fn = function() {\n",
       "            var docs_json = {\"83bbb0f2-ddb0-42dc-acc7-99c414ec6778\":{\"roots\":{\"references\":[{\"attributes\":{},\"id\":\"53677e4d-c9b3-403f-9b7e-0e52f8fbb147\",\"type\":\"BasicTickFormatter\"},{\"attributes\":{\"fill_color\":{\"value\":\"steelblue\"},\"height\":{\"field\":\"height\",\"units\":\"data\"},\"line_color\":{\"value\":\"steelblue\"},\"width\":{\"units\":\"data\",\"value\":0.5},\"x\":{\"field\":\"x\"},\"y\":{\"field\":\"y\"}},\"id\":\"a0828841-3cb8-4796-bde3-3ca275c0f0e3\",\"type\":\"Rect\"},{\"attributes\":{\"plot\":null,\"text\":\"\"},\"id\":\"1637a11e-b932-4695-b6c3-0a09f73e313c\",\"type\":\"Title\"},{\"attributes\":{\"plot\":{\"id\":\"34ded4d7-e5ca-4371-802b-c41b5947c9df\",\"subtype\":\"Figure\",\"type\":\"Plot\"}},\"id\":\"4cb4eab2-2da8-4148-8845-e955f5a00453\",\"type\":\"HelpTool\"},{\"attributes\":{\"plot\":{\"id\":\"34ded4d7-e5ca-4371-802b-c41b5947c9df\",\"subtype\":\"Figure\",\"type\":\"Plot\"},\"ticker\":{\"id\":\"a3f08d7f-8f80-4ee5-9cbf-cd28497bda1b\",\"type\":\"BasicTicker\"}},\"id\":\"7f99a89f-c92a-40f5-972a-df054852d971\",\"type\":\"Grid\"},{\"attributes\":{\"dimension\":1,\"plot\":{\"id\":\"34ded4d7-e5ca-4371-802b-c41b5947c9df\",\"subtype\":\"Figure\",\"type\":\"Plot\"},\"ticker\":{\"id\":\"68c0b312-f26a-4597-881c-c034d0eb727f\",\"type\":\"BasicTicker\"}},\"id\":\"8d229e92-ff20-4386-8074-9f5cb3d7889d\",\"type\":\"Grid\"},{\"attributes\":{},\"id\":\"a3f08d7f-8f80-4ee5-9cbf-cd28497bda1b\",\"type\":\"BasicTicker\"},{\"attributes\":{\"formatter\":{\"id\":\"66858a61-5f8e-4605-86cc-7033610a4ffa\",\"type\":\"BasicTickFormatter\"},\"plot\":{\"id\":\"34ded4d7-e5ca-4371-802b-c41b5947c9df\",\"subtype\":\"Figure\",\"type\":\"Plot\"},\"ticker\":{\"id\":\"a3f08d7f-8f80-4ee5-9cbf-cd28497bda1b\",\"type\":\"BasicTicker\"}},\"id\":\"9f360cdf-8d54-444e-ae72-103dae19c554\",\"type\":\"LinearAxis\"},{\"attributes\":{\"plot\":{\"id\":\"34ded4d7-e5ca-4371-802b-c41b5947c9df\",\"subtype\":\"Figure\",\"type\":\"Plot\"}},\"id\":\"a6ccad59-7791-49d1-99a6-69bdcd3dd7f6\",\"type\":\"PanTool\"},{\"attributes\":{\"plot\":{\"id\":\"34ded4d7-e5ca-4371-802b-c41b5947c9df\",\"subtype\":\"Figure\",\"type\":\"Plot\"}},\"id\":\"8f8adc45-58d1-4151-9b60-12cec54810f9\",\"type\":\"ResetTool\"},{\"attributes\":{\"overlay\":{\"id\":\"1fbf160f-e5ba-4f2c-a877-5aba6df3cf1e\",\"type\":\"BoxAnnotation\"},\"plot\":{\"id\":\"34ded4d7-e5ca-4371-802b-c41b5947c9df\",\"subtype\":\"Figure\",\"type\":\"Plot\"}},\"id\":\"e3fc4425-fcff-44aa-8c81-08ebb37968a1\",\"type\":\"BoxZoomTool\"},{\"attributes\":{\"callback\":null,\"column_names\":[\"height\",\"x\",\"y\"],\"data\":{\"height\":[2083,1623,1570,1528,1526,1506,1428,1419,1387,1374,1346,1330,1290,1289,1285,1253,1245,1217,1157,1157],\"x\":[0,1,2,3,4,5,6,7,8,9,10,11,12,13,14,15,16,17,18,19],\"y\":{\"__ndarray__\":\"AAAAAABGkEAAAAAAAFyJQAAAAAAAiIhAAAAAAADgh0AAAAAAANiHQAAAAAAAiIdAAAAAAABQhkAAAAAAACyGQAAAAAAArIVAAAAAAAB4hUAAAAAAAAiFQAAAAAAAyIRAAAAAAAAohEAAAAAAACSEQAAAAAAAFIRAAAAAAACUg0AAAAAAAHSDQAAAAAAABINAAAAAAAAUgkAAAAAAABSCQA==\",\"dtype\":\"float64\",\"shape\":[20]}}},\"id\":\"44dbf691-06b0-4d8c-b998-9baecee6e77e\",\"type\":\"ColumnDataSource\"},{\"attributes\":{\"formatter\":{\"id\":\"53677e4d-c9b3-403f-9b7e-0e52f8fbb147\",\"type\":\"BasicTickFormatter\"},\"plot\":{\"id\":\"34ded4d7-e5ca-4371-802b-c41b5947c9df\",\"subtype\":\"Figure\",\"type\":\"Plot\"},\"ticker\":{\"id\":\"68c0b312-f26a-4597-881c-c034d0eb727f\",\"type\":\"BasicTicker\"}},\"id\":\"3fae0593-120f-4a0d-9d18-352584017a1f\",\"type\":\"LinearAxis\"},{\"attributes\":{\"bottom_units\":\"screen\",\"fill_alpha\":{\"value\":0.5},\"fill_color\":{\"value\":\"lightgrey\"},\"left_units\":\"screen\",\"level\":\"overlay\",\"line_alpha\":{\"value\":1.0},\"line_color\":{\"value\":\"black\"},\"line_dash\":[4,4],\"line_width\":{\"value\":2},\"plot\":null,\"render_mode\":\"css\",\"right_units\":\"screen\",\"top_units\":\"screen\"},\"id\":\"1fbf160f-e5ba-4f2c-a877-5aba6df3cf1e\",\"type\":\"BoxAnnotation\"},{\"attributes\":{\"plot\":{\"id\":\"34ded4d7-e5ca-4371-802b-c41b5947c9df\",\"subtype\":\"Figure\",\"type\":\"Plot\"}},\"id\":\"66c2e431-c938-42f1-a3e3-fafcf0e77e24\",\"type\":\"WheelZoomTool\"},{\"attributes\":{\"callback\":null,\"end\":20,\"start\":-1},\"id\":\"02a7951d-ce6e-4fa5-818d-ef18794cbc3f\",\"type\":\"Range1d\"},{\"attributes\":{\"callback\":null,\"end\":2200},\"id\":\"970096be-6ccf-4aa1-a3ad-fd235d1454ca\",\"type\":\"Range1d\"},{\"attributes\":{\"plot\":{\"id\":\"34ded4d7-e5ca-4371-802b-c41b5947c9df\",\"subtype\":\"Figure\",\"type\":\"Plot\"}},\"id\":\"a138236a-bff6-4c95-a145-457dfba0b4d7\",\"type\":\"SaveTool\"},{\"attributes\":{\"active_drag\":\"auto\",\"active_scroll\":\"auto\",\"active_tap\":\"auto\",\"tools\":[{\"id\":\"a6ccad59-7791-49d1-99a6-69bdcd3dd7f6\",\"type\":\"PanTool\"},{\"id\":\"66c2e431-c938-42f1-a3e3-fafcf0e77e24\",\"type\":\"WheelZoomTool\"},{\"id\":\"e3fc4425-fcff-44aa-8c81-08ebb37968a1\",\"type\":\"BoxZoomTool\"},{\"id\":\"a138236a-bff6-4c95-a145-457dfba0b4d7\",\"type\":\"SaveTool\"},{\"id\":\"8f8adc45-58d1-4151-9b60-12cec54810f9\",\"type\":\"ResetTool\"},{\"id\":\"4cb4eab2-2da8-4148-8845-e955f5a00453\",\"type\":\"HelpTool\"}]},\"id\":\"5c08b5fb-b7bf-4992-be92-f20b26d92545\",\"type\":\"Toolbar\"},{\"attributes\":{},\"id\":\"66858a61-5f8e-4605-86cc-7033610a4ffa\",\"type\":\"BasicTickFormatter\"},{\"attributes\":{},\"id\":\"68c0b312-f26a-4597-881c-c034d0eb727f\",\"type\":\"BasicTicker\"},{\"attributes\":{},\"id\":\"fed5dbcc-8d0d-4a48-b988-4f7faa0c688e\",\"type\":\"ToolEvents\"},{\"attributes\":{\"below\":[{\"id\":\"9f360cdf-8d54-444e-ae72-103dae19c554\",\"type\":\"LinearAxis\"}],\"left\":[{\"id\":\"3fae0593-120f-4a0d-9d18-352584017a1f\",\"type\":\"LinearAxis\"}],\"renderers\":[{\"id\":\"9f360cdf-8d54-444e-ae72-103dae19c554\",\"type\":\"LinearAxis\"},{\"id\":\"7f99a89f-c92a-40f5-972a-df054852d971\",\"type\":\"Grid\"},{\"id\":\"3fae0593-120f-4a0d-9d18-352584017a1f\",\"type\":\"LinearAxis\"},{\"id\":\"8d229e92-ff20-4386-8074-9f5cb3d7889d\",\"type\":\"Grid\"},{\"id\":\"1fbf160f-e5ba-4f2c-a877-5aba6df3cf1e\",\"type\":\"BoxAnnotation\"},{\"id\":\"2b2faf13-9cf6-4b83-b376-66ac27a42cea\",\"type\":\"GlyphRenderer\"}],\"title\":{\"id\":\"1637a11e-b932-4695-b6c3-0a09f73e313c\",\"type\":\"Title\"},\"tool_events\":{\"id\":\"fed5dbcc-8d0d-4a48-b988-4f7faa0c688e\",\"type\":\"ToolEvents\"},\"toolbar\":{\"id\":\"5c08b5fb-b7bf-4992-be92-f20b26d92545\",\"type\":\"Toolbar\"},\"x_range\":{\"id\":\"02a7951d-ce6e-4fa5-818d-ef18794cbc3f\",\"type\":\"Range1d\"},\"y_range\":{\"id\":\"970096be-6ccf-4aa1-a3ad-fd235d1454ca\",\"type\":\"Range1d\"}},\"id\":\"34ded4d7-e5ca-4371-802b-c41b5947c9df\",\"subtype\":\"Figure\",\"type\":\"Plot\"},{\"attributes\":{\"data_source\":{\"id\":\"44dbf691-06b0-4d8c-b998-9baecee6e77e\",\"type\":\"ColumnDataSource\"},\"glyph\":{\"id\":\"a0828841-3cb8-4796-bde3-3ca275c0f0e3\",\"type\":\"Rect\"},\"hover_glyph\":null,\"nonselection_glyph\":{\"id\":\"00a6f3ae-80a4-4278-aaf7-dfa417ff4fb8\",\"type\":\"Rect\"},\"selection_glyph\":null},\"id\":\"2b2faf13-9cf6-4b83-b376-66ac27a42cea\",\"type\":\"GlyphRenderer\"},{\"attributes\":{\"fill_alpha\":{\"value\":0.1},\"fill_color\":{\"value\":\"#1f77b4\"},\"height\":{\"field\":\"height\",\"units\":\"data\"},\"line_alpha\":{\"value\":0.1},\"line_color\":{\"value\":\"#1f77b4\"},\"width\":{\"units\":\"data\",\"value\":0.5},\"x\":{\"field\":\"x\"},\"y\":{\"field\":\"y\"}},\"id\":\"00a6f3ae-80a4-4278-aaf7-dfa417ff4fb8\",\"type\":\"Rect\"}],\"root_ids\":[\"34ded4d7-e5ca-4371-802b-c41b5947c9df\"]},\"title\":\"Bokeh Application\",\"version\":\"0.12.4\"}};\n",
       "            var render_items = [{\"docid\":\"83bbb0f2-ddb0-42dc-acc7-99c414ec6778\",\"elementid\":\"b659ce0e-1f21-4cd3-b063-781c8ae29f23\",\"modelid\":\"34ded4d7-e5ca-4371-802b-c41b5947c9df\"}];\n",
       "            \n",
       "            Bokeh.embed.embed_items(docs_json, render_items);\n",
       "          };\n",
       "          if (document.readyState != \"loading\") fn();\n",
       "          else document.addEventListener(\"DOMContentLoaded\", fn);\n",
       "        })();\n",
       "      },\n",
       "      function(Bokeh) {\n",
       "      }\n",
       "    ];\n",
       "  \n",
       "    function run_inline_js() {\n",
       "      \n",
       "      if ((window.Bokeh !== undefined) || (force === true)) {\n",
       "        for (var i = 0; i < inline_js.length; i++) {\n",
       "          inline_js[i](window.Bokeh);\n",
       "        }if (force === true) {\n",
       "          display_loaded();\n",
       "        }} else if (Date.now() < window._bokeh_timeout) {\n",
       "        setTimeout(run_inline_js, 100);\n",
       "      } else if (!window._bokeh_failed_load) {\n",
       "        console.log(\"Bokeh: BokehJS failed to load within specified timeout.\");\n",
       "        window._bokeh_failed_load = true;\n",
       "      } else if (force !== true) {\n",
       "        var cell = $(document.getElementById(\"b659ce0e-1f21-4cd3-b063-781c8ae29f23\")).parents('.cell').data().cell;\n",
       "        cell.output_area.append_execute_result(NB_LOAD_WARNING)\n",
       "      }\n",
       "  \n",
       "    }\n",
       "  \n",
       "    if (window._bokeh_is_loading === 0) {\n",
       "      console.log(\"Bokeh: BokehJS loaded, going straight to plotting\");\n",
       "      run_inline_js();\n",
       "    } else {\n",
       "      load_libs(js_urls, function() {\n",
       "        console.log(\"Bokeh: BokehJS plotting callback run at\", now());\n",
       "        run_inline_js();\n",
       "      });\n",
       "    }\n",
       "  }(this));\n",
       "</script>"
      ]
     },
     "metadata": {},
     "output_type": "display_data"
    }
   ],
   "source": [
    "from bokeh.plotting import show, figure\n",
    "from bokeh.io import output_notebook\n",
    "from bokeh.models import Range1d\n",
    "\n",
    "r = list(range(0, len(top_zips)))\n",
    "\n",
    "plot = figure(x_range=Range1d(-1, len(top_zips)), y_range=(0, 2200))\n",
    "plot.rect(r, \n",
    "          top_zips['COLLISIONS'].values / 2,  # y coordinate of the center of the rectangle\n",
    "          width=0.5,\n",
    "          height=top_zips['COLLISIONS'].values, \n",
    "          color =\"steelblue\")\n",
    "\n",
    "show(plot)"
   ]
  },
  {
   "cell_type": "code",
   "execution_count": 89,
   "metadata": {
    "collapsed": true,
    "deletable": true,
    "editable": true
   },
   "outputs": [],
   "source": [
    "# https://github.com/bokeh/bokeh/issues/1671"
   ]
  },
  {
   "cell_type": "code",
   "execution_count": 93,
   "metadata": {
    "collapsed": true,
    "deletable": true,
    "editable": true
   },
   "outputs": [
    {
     "name": "stderr",
     "output_type": "stream",
     "text": [
      "/Users/Honors/anaconda/envs/plotting-tools/lib/python3.5/site-packages/bokeh/util/deprecation.py:34: BokehDeprecationWarning: bokeh.properties was deprecated in Bokeh 0.11.0 and will be removed, use bokeh.core.properties instead.\n",
      "  warn(message)\n"
     ]
    },
    {
     "ename": "AttributeError",
     "evalue": "unexpected attribute 'ticker' to Figure, possible attributes are above, background_fill_alpha, background_fill_color, below, border_fill_alpha, border_fill_color, css_classes, disabled, extra_x_ranges, extra_y_ranges, h_symmetry, height, hidpi, inner_height, inner_width, js_callbacks, left, lod_factor, lod_interval, lod_threshold, lod_timeout, min_border, min_border_bottom, min_border_left, min_border_right, min_border_top, name, outline_line_alpha, outline_line_cap, outline_line_color, outline_line_dash, outline_line_dash_offset, outline_line_join, outline_line_width, plot_height, plot_width, renderers, right, sizing_mode, tags, title, title_location, tool_events, toolbar, toolbar_location, toolbar_sticky, v_symmetry, webgl, width, x_mapper_type, x_range, y_mapper_type or y_range",
     "output_type": "error",
     "traceback": [
      "\u001b[0;31m---------------------------------------------------------------------------\u001b[0m",
      "\u001b[0;31mAttributeError\u001b[0m                            Traceback (most recent call last)",
      "\u001b[0;32m<ipython-input-93-c95733b5826d>\u001b[0m in \u001b[0;36m<module>\u001b[0;34m()\u001b[0m\n\u001b[1;32m     40\u001b[0m               \u001b[0my_range\u001b[0m\u001b[0;34m=\u001b[0m\u001b[0;34m(\u001b[0m\u001b[0;36m0\u001b[0m\u001b[0;34m,\u001b[0m \u001b[0;36m2200\u001b[0m\u001b[0;34m)\u001b[0m\u001b[0;34m,\u001b[0m\u001b[0;34m\u001b[0m\u001b[0m\n\u001b[1;32m     41\u001b[0m               \u001b[0mticker\u001b[0m\u001b[0;34m=\u001b[0m\u001b[0mticker\u001b[0m\u001b[0;34m,\u001b[0m\u001b[0;34m\u001b[0m\u001b[0m\n\u001b[0;32m---> 42\u001b[0;31m               formatter=formatter)\n\u001b[0m\u001b[1;32m     43\u001b[0m plot.rect(r, \n\u001b[1;32m     44\u001b[0m           \u001b[0mtop_zips\u001b[0m\u001b[0;34m[\u001b[0m\u001b[0;34m'COLLISIONS'\u001b[0m\u001b[0;34m]\u001b[0m\u001b[0;34m.\u001b[0m\u001b[0mvalues\u001b[0m \u001b[0;34m/\u001b[0m \u001b[0;36m2\u001b[0m\u001b[0;34m,\u001b[0m  \u001b[0;31m# y coordinate of the center of the rectangle\u001b[0m\u001b[0;34m\u001b[0m\u001b[0m\n",
      "\u001b[0;32m/Users/Honors/anaconda/envs/plotting-tools/lib/python3.5/site-packages/bokeh/plotting/figure.py\u001b[0m in \u001b[0;36mfigure\u001b[0;34m(**kwargs)\u001b[0m\n\u001b[1;32m    653\u001b[0m         \u001b[0;32mdel\u001b[0m \u001b[0mkwargs\u001b[0m\u001b[0;34m[\u001b[0m\u001b[0;34m'responsive'\u001b[0m\u001b[0;34m]\u001b[0m\u001b[0;34m\u001b[0m\u001b[0m\n\u001b[1;32m    654\u001b[0m \u001b[0;34m\u001b[0m\u001b[0m\n\u001b[0;32m--> 655\u001b[0;31m     \u001b[0mfig\u001b[0m \u001b[0;34m=\u001b[0m \u001b[0mFigure\u001b[0m\u001b[0;34m(\u001b[0m\u001b[0;34m**\u001b[0m\u001b[0mkwargs\u001b[0m\u001b[0;34m)\u001b[0m\u001b[0;34m\u001b[0m\u001b[0m\n\u001b[0m\u001b[1;32m    656\u001b[0m     \u001b[0;32mreturn\u001b[0m \u001b[0mfig\u001b[0m\u001b[0;34m\u001b[0m\u001b[0m\n\u001b[1;32m    657\u001b[0m \u001b[0;34m\u001b[0m\u001b[0m\n",
      "\u001b[0;32m/Users/Honors/anaconda/envs/plotting-tools/lib/python3.5/site-packages/bokeh/plotting/figure.py\u001b[0m in \u001b[0;36m__init__\u001b[0;34m(self, *arg, **kw)\u001b[0m\n\u001b[1;32m    102\u001b[0m             \u001b[0mkw\u001b[0m\u001b[0;34m[\u001b[0m\u001b[0;34m'title'\u001b[0m\u001b[0;34m]\u001b[0m \u001b[0;34m=\u001b[0m \u001b[0mTitle\u001b[0m\u001b[0;34m(\u001b[0m\u001b[0mtext\u001b[0m\u001b[0;34m=\u001b[0m\u001b[0mtitle\u001b[0m\u001b[0;34m)\u001b[0m\u001b[0;34m\u001b[0m\u001b[0m\n\u001b[1;32m    103\u001b[0m \u001b[0;34m\u001b[0m\u001b[0m\n\u001b[0;32m--> 104\u001b[0;31m         \u001b[0msuper\u001b[0m\u001b[0;34m(\u001b[0m\u001b[0mFigure\u001b[0m\u001b[0;34m,\u001b[0m \u001b[0mself\u001b[0m\u001b[0;34m)\u001b[0m\u001b[0;34m.\u001b[0m\u001b[0m__init__\u001b[0m\u001b[0;34m(\u001b[0m\u001b[0;34m*\u001b[0m\u001b[0marg\u001b[0m\u001b[0;34m,\u001b[0m \u001b[0;34m**\u001b[0m\u001b[0mkw\u001b[0m\u001b[0;34m)\u001b[0m\u001b[0;34m\u001b[0m\u001b[0m\n\u001b[0m\u001b[1;32m    105\u001b[0m \u001b[0;34m\u001b[0m\u001b[0m\n\u001b[1;32m    106\u001b[0m         \u001b[0mself\u001b[0m\u001b[0;34m.\u001b[0m\u001b[0mx_range\u001b[0m \u001b[0;34m=\u001b[0m \u001b[0m_get_range\u001b[0m\u001b[0;34m(\u001b[0m\u001b[0mopts\u001b[0m\u001b[0;34m.\u001b[0m\u001b[0mx_range\u001b[0m\u001b[0;34m)\u001b[0m\u001b[0;34m\u001b[0m\u001b[0m\n",
      "\u001b[0;32m/Users/Honors/anaconda/envs/plotting-tools/lib/python3.5/site-packages/bokeh/models/plots.py\u001b[0m in \u001b[0;36m__init__\u001b[0;34m(self, **kwargs)\u001b[0m\n\u001b[1;32m     62\u001b[0m             \u001b[0;32mraise\u001b[0m \u001b[0mValueError\u001b[0m\u001b[0;34m(\u001b[0m\u001b[0;34m\"Conflicting properties set on plot: background_fill, background_fill_color.\"\u001b[0m\u001b[0;34m)\u001b[0m\u001b[0;34m\u001b[0m\u001b[0m\n\u001b[1;32m     63\u001b[0m \u001b[0;34m\u001b[0m\u001b[0m\n\u001b[0;32m---> 64\u001b[0;31m         \u001b[0msuper\u001b[0m\u001b[0;34m(\u001b[0m\u001b[0mLayoutDOM\u001b[0m\u001b[0;34m,\u001b[0m \u001b[0mself\u001b[0m\u001b[0;34m)\u001b[0m\u001b[0;34m.\u001b[0m\u001b[0m__init__\u001b[0m\u001b[0;34m(\u001b[0m\u001b[0;34m**\u001b[0m\u001b[0mkwargs\u001b[0m\u001b[0;34m)\u001b[0m\u001b[0;34m\u001b[0m\u001b[0m\n\u001b[0m\u001b[1;32m     65\u001b[0m \u001b[0;34m\u001b[0m\u001b[0m\n\u001b[1;32m     66\u001b[0m     \u001b[0;32mdef\u001b[0m \u001b[0mselect\u001b[0m\u001b[0;34m(\u001b[0m\u001b[0mself\u001b[0m\u001b[0;34m,\u001b[0m \u001b[0;34m*\u001b[0m\u001b[0margs\u001b[0m\u001b[0;34m,\u001b[0m \u001b[0;34m**\u001b[0m\u001b[0mkwargs\u001b[0m\u001b[0;34m)\u001b[0m\u001b[0;34m:\u001b[0m\u001b[0;34m\u001b[0m\u001b[0m\n",
      "\u001b[0;32m/Users/Honors/anaconda/envs/plotting-tools/lib/python3.5/site-packages/bokeh/model.py\u001b[0m in \u001b[0;36m__init__\u001b[0;34m(self, **kwargs)\u001b[0m\n\u001b[1;32m    143\u001b[0m         \u001b[0mself\u001b[0m\u001b[0;34m.\u001b[0m\u001b[0m_id\u001b[0m \u001b[0;34m=\u001b[0m \u001b[0mkwargs\u001b[0m\u001b[0;34m.\u001b[0m\u001b[0mpop\u001b[0m\u001b[0;34m(\u001b[0m\u001b[0;34m\"id\"\u001b[0m\u001b[0;34m,\u001b[0m \u001b[0mmake_id\u001b[0m\u001b[0;34m(\u001b[0m\u001b[0;34m)\u001b[0m\u001b[0;34m)\u001b[0m\u001b[0;34m\u001b[0m\u001b[0m\n\u001b[1;32m    144\u001b[0m         \u001b[0mself\u001b[0m\u001b[0;34m.\u001b[0m\u001b[0m_document\u001b[0m \u001b[0;34m=\u001b[0m \u001b[0;32mNone\u001b[0m\u001b[0;34m\u001b[0m\u001b[0m\n\u001b[0;32m--> 145\u001b[0;31m         \u001b[0msuper\u001b[0m\u001b[0;34m(\u001b[0m\u001b[0mModel\u001b[0m\u001b[0;34m,\u001b[0m \u001b[0mself\u001b[0m\u001b[0;34m)\u001b[0m\u001b[0;34m.\u001b[0m\u001b[0m__init__\u001b[0m\u001b[0;34m(\u001b[0m\u001b[0;34m**\u001b[0m\u001b[0mkwargs\u001b[0m\u001b[0;34m)\u001b[0m\u001b[0;34m\u001b[0m\u001b[0m\n\u001b[0m\u001b[1;32m    146\u001b[0m         \u001b[0mdefault_theme\u001b[0m\u001b[0;34m.\u001b[0m\u001b[0mapply_to_model\u001b[0m\u001b[0;34m(\u001b[0m\u001b[0mself\u001b[0m\u001b[0;34m)\u001b[0m\u001b[0;34m\u001b[0m\u001b[0m\n\u001b[1;32m    147\u001b[0m \u001b[0;34m\u001b[0m\u001b[0m\n",
      "\u001b[0;32m/Users/Honors/anaconda/envs/plotting-tools/lib/python3.5/site-packages/bokeh/core/has_props.py\u001b[0m in \u001b[0;36m__init__\u001b[0;34m(self, **properties)\u001b[0m\n\u001b[1;32m    220\u001b[0m \u001b[0;34m\u001b[0m\u001b[0m\n\u001b[1;32m    221\u001b[0m         \u001b[0;32mfor\u001b[0m \u001b[0mname\u001b[0m\u001b[0;34m,\u001b[0m \u001b[0mvalue\u001b[0m \u001b[0;32min\u001b[0m \u001b[0mproperties\u001b[0m\u001b[0;34m.\u001b[0m\u001b[0mitems\u001b[0m\u001b[0;34m(\u001b[0m\u001b[0;34m)\u001b[0m\u001b[0;34m:\u001b[0m\u001b[0;34m\u001b[0m\u001b[0m\n\u001b[0;32m--> 222\u001b[0;31m             \u001b[0msetattr\u001b[0m\u001b[0;34m(\u001b[0m\u001b[0mself\u001b[0m\u001b[0;34m,\u001b[0m \u001b[0mname\u001b[0m\u001b[0;34m,\u001b[0m \u001b[0mvalue\u001b[0m\u001b[0;34m)\u001b[0m\u001b[0;34m\u001b[0m\u001b[0m\n\u001b[0m\u001b[1;32m    223\u001b[0m \u001b[0;34m\u001b[0m\u001b[0m\n\u001b[1;32m    224\u001b[0m     \u001b[0;32mdef\u001b[0m \u001b[0m__setattr__\u001b[0m\u001b[0;34m(\u001b[0m\u001b[0mself\u001b[0m\u001b[0;34m,\u001b[0m \u001b[0mname\u001b[0m\u001b[0;34m,\u001b[0m \u001b[0mvalue\u001b[0m\u001b[0;34m)\u001b[0m\u001b[0;34m:\u001b[0m\u001b[0;34m\u001b[0m\u001b[0m\n",
      "\u001b[0;32m/Users/Honors/anaconda/envs/plotting-tools/lib/python3.5/site-packages/bokeh/core/has_props.py\u001b[0m in \u001b[0;36m__setattr__\u001b[0;34m(self, name, value)\u001b[0m\n\u001b[1;32m    256\u001b[0m \u001b[0;34m\u001b[0m\u001b[0m\n\u001b[1;32m    257\u001b[0m             raise AttributeError(\"unexpected attribute '%s' to %s, %s attributes are %s\" %\n\u001b[0;32m--> 258\u001b[0;31m                 (name, self.__class__.__name__, text, nice_join(matches)))\n\u001b[0m\u001b[1;32m    259\u001b[0m \u001b[0;34m\u001b[0m\u001b[0m\n\u001b[1;32m    260\u001b[0m     \u001b[0;32mdef\u001b[0m \u001b[0m__str__\u001b[0m\u001b[0;34m(\u001b[0m\u001b[0mself\u001b[0m\u001b[0;34m)\u001b[0m\u001b[0;34m:\u001b[0m\u001b[0;34m\u001b[0m\u001b[0m\n",
      "\u001b[0;31mAttributeError\u001b[0m: unexpected attribute 'ticker' to Figure, possible attributes are above, background_fill_alpha, background_fill_color, below, border_fill_alpha, border_fill_color, css_classes, disabled, extra_x_ranges, extra_y_ranges, h_symmetry, height, hidpi, inner_height, inner_width, js_callbacks, left, lod_factor, lod_interval, lod_threshold, lod_timeout, min_border, min_border_bottom, min_border_left, min_border_right, min_border_top, name, outline_line_alpha, outline_line_cap, outline_line_color, outline_line_dash, outline_line_dash_offset, outline_line_join, outline_line_width, plot_height, plot_width, renderers, right, sizing_mode, tags, title, title_location, tool_events, toolbar, toolbar_location, toolbar_sticky, v_symmetry, webgl, width, x_mapper_type, x_range, y_mapper_type or y_range"
     ]
    }
   ],
   "source": [
    "from bokeh.plotting import show, figure\n",
    "from bokeh.io import output_notebook\n",
    "from bokeh.models import Range1d\n",
    "from bokeh.models import FixedTicker, TickFormatter\n",
    "from bokeh.properties import Dict, Int, String\n",
    "\n",
    "r = list(range(0, len(top_zips)))\n",
    "\n",
    "from bokeh.util.compiler import CoffeeScript\n",
    "\n",
    "class FixedTickFormatter(TickFormatter):\n",
    "    \"\"\"\n",
    "    Class used to allow custom axis tick labels on a bokeh chart\n",
    "    Extends bokeh.model.formatters.TickFormatter\n",
    "    \"\"\"\n",
    "\n",
    "    COFFEESCRIPT =  \"\"\"\n",
    "        import {Model} from \"model\"\n",
    "        import * as p from \"core/properties\"\n",
    "        export class FixedTickFormatter extends Model\n",
    "          type: 'FixedTickFormatter'\n",
    "          doFormat: (ticks) ->\n",
    "            labels = @get(\"labels\")\n",
    "            return (labels[tick] ? \"\" for tick in ticks)\n",
    "          @define {\n",
    "            labels: [ p.Any ]\n",
    "          }\n",
    "    \"\"\"\n",
    "\n",
    "    labels = Dict(Int, String, help=\"\"\"\n",
    "    A mapping of integer ticks values to their labels.\n",
    "    \"\"\")\n",
    "\n",
    "    __implementation__ = CoffeeScript(COFFEESCRIPT)\n",
    "    \n",
    "    \n",
    "ticker = FixedTicker(ticks=[5,15,25,35,45,55])\n",
    "formatter = FixedTickFormatter(labels={5: '0-10', 15: '10-20', 25: '20-30', 35: '30-40', 45: '40-50', 55: '50+'})\n",
    "\n",
    "cbar = ColorBar(color_mapper=color_mapper, ticker=ticker, formatter=formatter,\n",
    "                major_tick_out=0, major_tick_in=0, major_label_text_align='left',\n",
    "                major_label_text_font_size='10pt', label_standoff=2)\n",
    "\n",
    "plot = figure(x_range=Range1d(-1, len(top_zips)), \n",
    "              y_range=(0, 2200))\n",
    "plot.rect(r, \n",
    "          top_zips['COLLISIONS'].values / 2,  # y coordinate of the center of the rectangle\n",
    "          width=0.5,\n",
    "          height=top_zips['COLLISIONS'].values, \n",
    "          color =\"steelblue\")\n",
    "\n",
    "show(plot)"
   ]
  },
  {
   "cell_type": "markdown",
   "metadata": {
    "deletable": true,
    "editable": true
   },
   "source": [
    "`bokeh`\n",
    "\n",
    "Advantages:\n",
    "* Animation and interactivity are first-class.\n",
    "\n",
    "Disadvantages:\n",
    "* Unstable; API has many corner cases and sharp edges.\n",
    "* Documenation is improving, but nowhere near `mpl` good."
   ]
  },
  {
   "cell_type": "markdown",
   "metadata": {
    "deletable": true,
    "editable": true
   },
   "source": [
    "## pygal"
   ]
  },
  {
   "cell_type": "code",
   "execution_count": 100,
   "metadata": {
    "collapsed": true,
    "deletable": true,
    "editable": true
   },
   "outputs": [],
   "source": [
    "import pygal"
   ]
  },
  {
   "cell_type": "code",
   "execution_count": 110,
   "metadata": {
    "collapsed": false,
    "deletable": true,
    "editable": true
   },
   "outputs": [
    {
     "data": {
      "image/png": "[encoded data removed]",
      "image/svg+xml": [
       "<svg xmlns:xlink=\"http://www.w3.org/1999/xlink\" class=\"pygal-chart\" id=\"chart-f1eacba8-6a4e-4061-a425-ed9a75da199d\" viewBox=\"0 0 800 600\" xmlns=\"http://www.w3.org/2000/svg\"><!--Generated with pygal 2.3.1 (etree) ©Kozea 2012-2016 on 2017-02-18--><!--http://pygal.org--><!--http://github.com/Kozea/pygal--><defs><style type=\"text/css\">#chart-f1eacba8-6a4e-4061-a425-ed9a75da199d{-webkit-user-select:none;-webkit-font-smoothing:antialiased;font-family:Consolas,\"Liberation Mono\",Menlo,Courier,monospace}#chart-f1eacba8-6a4e-4061-a425-ed9a75da199d .title{font-family:Consolas,\"Liberation Mono\",Menlo,Courier,monospace;font-size:16px}#chart-f1eacba8-6a4e-4061-a425-ed9a75da199d .legends .legend text{font-family:Consolas,\"Liberation Mono\",Menlo,Courier,monospace;font-size:14px}#chart-f1eacba8-6a4e-4061-a425-ed9a75da199d .axis text{font-family:Consolas,\"Liberation Mono\",Menlo,Courier,monospace;font-size:10px}#chart-f1eacba8-6a4e-4061-a425-ed9a75da199d .axis text.major{font-family:Consolas,\"Liberation Mono\",Menlo,Courier,monospace;font-size:10px}#chart-f1eacba8-6a4e-4061-a425-ed9a75da199d .text-overlay text.value{font-family:Consolas,\"Liberation Mono\",Menlo,Courier,monospace;font-size:16px}#chart-f1eacba8-6a4e-4061-a425-ed9a75da199d .text-overlay text.label{font-family:Consolas,\"Liberation Mono\",Menlo,Courier,monospace;font-size:10px}#chart-f1eacba8-6a4e-4061-a425-ed9a75da199d .tooltip{font-family:Consolas,\"Liberation Mono\",Menlo,Courier,monospace;font-size:14px}#chart-f1eacba8-6a4e-4061-a425-ed9a75da199d text.no_data{font-family:Consolas,\"Liberation Mono\",Menlo,Courier,monospace;font-size:64px}\n",
       "#chart-f1eacba8-6a4e-4061-a425-ed9a75da199d{background-color:rgba(249,249,249,1)}#chart-f1eacba8-6a4e-4061-a425-ed9a75da199d path,#chart-f1eacba8-6a4e-4061-a425-ed9a75da199d line,#chart-f1eacba8-6a4e-4061-a425-ed9a75da199d rect,#chart-f1eacba8-6a4e-4061-a425-ed9a75da199d circle{-webkit-transition:150ms;-moz-transition:150ms;transition:150ms}#chart-f1eacba8-6a4e-4061-a425-ed9a75da199d .graph &gt; .background{fill:rgba(249,249,249,1)}#chart-f1eacba8-6a4e-4061-a425-ed9a75da199d .plot &gt; .background{fill:rgba(255,255,255,1)}#chart-f1eacba8-6a4e-4061-a425-ed9a75da199d .graph{fill:rgba(0,0,0,.87)}#chart-f1eacba8-6a4e-4061-a425-ed9a75da199d text.no_data{fill:rgba(0,0,0,1)}#chart-f1eacba8-6a4e-4061-a425-ed9a75da199d .title{fill:rgba(0,0,0,1)}#chart-f1eacba8-6a4e-4061-a425-ed9a75da199d .legends .legend text{fill:rgba(0,0,0,.87)}#chart-f1eacba8-6a4e-4061-a425-ed9a75da199d .legends .legend:hover text{fill:rgba(0,0,0,1)}#chart-f1eacba8-6a4e-4061-a425-ed9a75da199d .axis .line{stroke:rgba(0,0,0,1)}#chart-f1eacba8-6a4e-4061-a425-ed9a75da199d .axis .guide.line{stroke:rgba(0,0,0,.54)}#chart-f1eacba8-6a4e-4061-a425-ed9a75da199d .axis .major.line{stroke:rgba(0,0,0,.87)}#chart-f1eacba8-6a4e-4061-a425-ed9a75da199d .axis text.major{fill:rgba(0,0,0,1)}#chart-f1eacba8-6a4e-4061-a425-ed9a75da199d .axis.y .guides:hover .guide.line,#chart-f1eacba8-6a4e-4061-a425-ed9a75da199d .line-graph .axis.x .guides:hover .guide.line,#chart-f1eacba8-6a4e-4061-a425-ed9a75da199d .stackedline-graph .axis.x .guides:hover .guide.line,#chart-f1eacba8-6a4e-4061-a425-ed9a75da199d .xy-graph .axis.x .guides:hover .guide.line{stroke:rgba(0,0,0,1)}#chart-f1eacba8-6a4e-4061-a425-ed9a75da199d .axis .guides:hover text{fill:rgba(0,0,0,1)}#chart-f1eacba8-6a4e-4061-a425-ed9a75da199d .reactive{fill-opacity:.7;stroke-opacity:.8}#chart-f1eacba8-6a4e-4061-a425-ed9a75da199d .ci{stroke:rgba(0,0,0,.87)}#chart-f1eacba8-6a4e-4061-a425-ed9a75da199d .reactive.active,#chart-f1eacba8-6a4e-4061-a425-ed9a75da199d .active .reactive{fill-opacity:.8;stroke-opacity:.9;stroke-width:4}#chart-f1eacba8-6a4e-4061-a425-ed9a75da199d .ci .reactive.active{stroke-width:1.5}#chart-f1eacba8-6a4e-4061-a425-ed9a75da199d .series text{fill:rgba(0,0,0,1)}#chart-f1eacba8-6a4e-4061-a425-ed9a75da199d .tooltip rect{fill:rgba(255,255,255,1);stroke:rgba(0,0,0,1);-webkit-transition:opacity 150ms;-moz-transition:opacity 150ms;transition:opacity 150ms}#chart-f1eacba8-6a4e-4061-a425-ed9a75da199d .tooltip .label{fill:rgba(0,0,0,.87)}#chart-f1eacba8-6a4e-4061-a425-ed9a75da199d .tooltip .label{fill:rgba(0,0,0,.87)}#chart-f1eacba8-6a4e-4061-a425-ed9a75da199d .tooltip .legend{font-size:.8em;fill:rgba(0,0,0,.54)}#chart-f1eacba8-6a4e-4061-a425-ed9a75da199d .tooltip .x_label{font-size:.6em;fill:rgba(0,0,0,1)}#chart-f1eacba8-6a4e-4061-a425-ed9a75da199d .tooltip .xlink{font-size:.5em;text-decoration:underline}#chart-f1eacba8-6a4e-4061-a425-ed9a75da199d .tooltip .value{font-size:1.5em}#chart-f1eacba8-6a4e-4061-a425-ed9a75da199d .bound{font-size:.5em}#chart-f1eacba8-6a4e-4061-a425-ed9a75da199d .max-value{font-size:.75em;fill:rgba(0,0,0,.54)}#chart-f1eacba8-6a4e-4061-a425-ed9a75da199d .map-element{fill:rgba(255,255,255,1);stroke:rgba(0,0,0,.54) !important}#chart-f1eacba8-6a4e-4061-a425-ed9a75da199d .map-element .reactive{fill-opacity:inherit;stroke-opacity:inherit}#chart-f1eacba8-6a4e-4061-a425-ed9a75da199d .color-0,#chart-f1eacba8-6a4e-4061-a425-ed9a75da199d .color-0 a:visited{stroke:#F44336;fill:#F44336}#chart-f1eacba8-6a4e-4061-a425-ed9a75da199d .text-overlay .color-0 text{fill:black}\n",
       "#chart-f1eacba8-6a4e-4061-a425-ed9a75da199d text.no_data{text-anchor:middle}#chart-f1eacba8-6a4e-4061-a425-ed9a75da199d .guide.line{fill:none}#chart-f1eacba8-6a4e-4061-a425-ed9a75da199d .centered{text-anchor:middle}#chart-f1eacba8-6a4e-4061-a425-ed9a75da199d .title{text-anchor:middle}#chart-f1eacba8-6a4e-4061-a425-ed9a75da199d .legends .legend text{fill-opacity:1}#chart-f1eacba8-6a4e-4061-a425-ed9a75da199d .axis.x text{text-anchor:middle}#chart-f1eacba8-6a4e-4061-a425-ed9a75da199d .axis.x:not(.web) text[transform]{text-anchor:start}#chart-f1eacba8-6a4e-4061-a425-ed9a75da199d .axis.x:not(.web) text[transform].backwards{text-anchor:end}#chart-f1eacba8-6a4e-4061-a425-ed9a75da199d .axis.y text{text-anchor:end}#chart-f1eacba8-6a4e-4061-a425-ed9a75da199d .axis.y text[transform].backwards{text-anchor:start}#chart-f1eacba8-6a4e-4061-a425-ed9a75da199d .axis.y2 text{text-anchor:start}#chart-f1eacba8-6a4e-4061-a425-ed9a75da199d .axis.y2 text[transform].backwards{text-anchor:end}#chart-f1eacba8-6a4e-4061-a425-ed9a75da199d .axis .guide.line{stroke-dasharray:4,4}#chart-f1eacba8-6a4e-4061-a425-ed9a75da199d .axis .major.guide.line{stroke-dasharray:6,6}#chart-f1eacba8-6a4e-4061-a425-ed9a75da199d .horizontal .axis.y .guide.line,#chart-f1eacba8-6a4e-4061-a425-ed9a75da199d .horizontal .axis.y2 .guide.line,#chart-f1eacba8-6a4e-4061-a425-ed9a75da199d .vertical .axis.x .guide.line{opacity:0}#chart-f1eacba8-6a4e-4061-a425-ed9a75da199d .horizontal .axis.always_show .guide.line,#chart-f1eacba8-6a4e-4061-a425-ed9a75da199d .vertical .axis.always_show .guide.line{opacity:1 !important}#chart-f1eacba8-6a4e-4061-a425-ed9a75da199d .axis.y .guides:hover .guide.line,#chart-f1eacba8-6a4e-4061-a425-ed9a75da199d .axis.y2 .guides:hover .guide.line,#chart-f1eacba8-6a4e-4061-a425-ed9a75da199d .axis.x .guides:hover .guide.line{opacity:1}#chart-f1eacba8-6a4e-4061-a425-ed9a75da199d .axis .guides:hover text{opacity:1}#chart-f1eacba8-6a4e-4061-a425-ed9a75da199d .nofill{fill:none}#chart-f1eacba8-6a4e-4061-a425-ed9a75da199d .subtle-fill{fill-opacity:.2}#chart-f1eacba8-6a4e-4061-a425-ed9a75da199d .dot{stroke-width:1px;fill-opacity:1}#chart-f1eacba8-6a4e-4061-a425-ed9a75da199d .dot.active{stroke-width:5px}#chart-f1eacba8-6a4e-4061-a425-ed9a75da199d .dot.negative{fill:transparent}#chart-f1eacba8-6a4e-4061-a425-ed9a75da199d text,#chart-f1eacba8-6a4e-4061-a425-ed9a75da199d tspan{stroke:none !important}#chart-f1eacba8-6a4e-4061-a425-ed9a75da199d .series text.active{opacity:1}#chart-f1eacba8-6a4e-4061-a425-ed9a75da199d .tooltip rect{fill-opacity:.95;stroke-width:.5}#chart-f1eacba8-6a4e-4061-a425-ed9a75da199d .tooltip text{fill-opacity:1}#chart-f1eacba8-6a4e-4061-a425-ed9a75da199d .showable{visibility:hidden}#chart-f1eacba8-6a4e-4061-a425-ed9a75da199d .showable.shown{visibility:visible}#chart-f1eacba8-6a4e-4061-a425-ed9a75da199d .gauge-background{fill:rgba(229,229,229,1);stroke:none}#chart-f1eacba8-6a4e-4061-a425-ed9a75da199d .bg-lines{stroke:rgba(249,249,249,1);stroke-width:2px}</style><script type=\"text/javascript\">window.pygal = window.pygal || {};window.pygal.config = window.pygal.config || {};window.pygal.config['f1eacba8-6a4e-4061-a425-ed9a75da199d'] = {\"rounded_bars\": null, \"x_label_rotation\": 0, \"min_scale\": 4, \"height\": 600, \"disable_xml_declaration\": true, \"logarithmic\": false, \"show_legend\": true, \"interpolate\": null, \"legend_box_size\": 12, \"print_labels\": false, \"truncate_legend\": null, \"stroke_style\": null, \"show_y_guides\": true, \"y_title\": null, \"force_uri_protocol\": \"https\", \"inverse_y_axis\": false, \"tooltip_border_radius\": 0, \"js\": [\"//kozea.github.io/pygal.js/2.0.x/pygal-tooltips.min.js\"], \"x_labels\": [11207.0, 11101.0, 10019.0, 11201.0, 10016.0, 10022.0, 10036.0, 11236.0, 11234.0, 10001.0, 11226.0, 11203.0, 11385.0, 11434.0, 10013.0, 10002.0, 11208.0, 11212.0, 11233.0, 11206.0], \"margin_bottom\": null, \"spacing\": 10, \"show_x_guides\": false, \"x_labels_major_every\": null, \"y_labels_major_every\": null, \"css\": [\"file://style.css\", \"file://graph.css\"], \"secondary_range\": null, \"xrange\": null, \"half_pie\": false, \"print_zeroes\": true, \"margin_right\": null, \"allow_interruptions\": false, \"style\": {\"tooltip_font_family\": \"Consolas, \\\"Liberation Mono\\\", Menlo, Courier, monospace\", \"stroke_opacity\": \".8\", \"transition\": \"150ms\", \"no_data_font_family\": \"Consolas, \\\"Liberation Mono\\\", Menlo, Courier, monospace\", \"value_colors\": [], \"guide_stroke_dasharray\": \"4,4\", \"opacity\": \".7\", \"major_label_font_size\": 10, \"value_font_size\": 16, \"no_data_font_size\": 64, \"foreground_subtle\": \"rgba(0, 0, 0, .54)\", \"plot_background\": \"rgba(255, 255, 255, 1)\", \"opacity_hover\": \".8\", \"foreground_strong\": \"rgba(0, 0, 0, 1)\", \"value_label_font_size\": 10, \"title_font_size\": 16, \"font_family\": \"Consolas, \\\"Liberation Mono\\\", Menlo, Courier, monospace\", \"tooltip_font_size\": 14, \"background\": \"rgba(249, 249, 249, 1)\", \"label_font_size\": 10, \"value_label_font_family\": \"Consolas, \\\"Liberation Mono\\\", Menlo, Courier, monospace\", \"major_label_font_family\": \"Consolas, \\\"Liberation Mono\\\", Menlo, Courier, monospace\", \"colors\": [\"#F44336\", \"#3F51B5\", \"#009688\", \"#FFC107\", \"#FF5722\", \"#9C27B0\", \"#03A9F4\", \"#8BC34A\", \"#FF9800\", \"#E91E63\", \"#2196F3\", \"#4CAF50\", \"#FFEB3B\", \"#673AB7\", \"#00BCD4\", \"#CDDC39\", \"#9E9E9E\", \"#607D8B\"], \"stroke_opacity_hover\": \".9\", \"value_background\": \"rgba(229, 229, 229, 1)\", \"label_font_family\": \"Consolas, \\\"Liberation Mono\\\", Menlo, Courier, monospace\", \"title_font_family\": \"Consolas, \\\"Liberation Mono\\\", Menlo, Courier, monospace\", \"major_guide_stroke_dasharray\": \"6,6\", \"legend_font_size\": 14, \"foreground\": \"rgba(0, 0, 0, .87)\", \"value_font_family\": \"Consolas, \\\"Liberation Mono\\\", Menlo, Courier, monospace\", \"legend_font_family\": \"Consolas, \\\"Liberation Mono\\\", Menlo, Courier, monospace\", \"ci_colors\": []}, \"formatter\": null, \"classes\": [\"pygal-chart\"], \"order_min\": null, \"interpolation_parameters\": {}, \"show_y_labels\": true, \"range\": null, \"margin\": 20, \"tooltip_fancy_mode\": true, \"no_data_text\": \"No data\", \"dots_size\": 2.5, \"margin_left\": null, \"defs\": [], \"show_minor_x_labels\": true, \"dynamic_print_values\": false, \"show_only_major_dots\": false, \"show_dots\": true, \"missing_value_fill_truncation\": \"x\", \"width\": 800, \"truncate_label\": null, \"pretty_print\": false, \"max_scale\": 16, \"legends\": [\"Zip Code\"], \"include_x_axis\": false, \"y_label_rotation\": 0, \"stack_from_top\": false, \"x_title\": null, \"x_labels_major\": null, \"y_labels\": null, \"y_labels_major\": null, \"box_mode\": \"extremes\", \"zero\": 0, \"inner_radius\": 0, \"strict\": false, \"show_minor_y_labels\": true, \"print_values_position\": \"center\", \"stroke\": true, \"legend_at_bottom\": false, \"interpolation_precision\": 250, \"no_prefix\": false, \"legend_at_bottom_columns\": null, \"x_labels_major_count\": null, \"explicit_size\": false, \"fill\": false, \"print_values\": false, \"y_labels_major_count\": null, \"margin_top\": null, \"title\": null, \"show_x_labels\": true}</script><script type=\"text/javascript\" xlink:href=\"https://kozea.github.io/pygal.js/2.0.x/pygal-tooltips.min.js\" /></defs><title>Pygal</title><g class=\"graph bar-graph vertical\"><rect class=\"background\" height=\"600\" width=\"800\" x=\"0\" y=\"0\" /><g class=\"plot\" transform=\"translate(143, 20)\"><rect class=\"background\" height=\"540\" width=\"636.8\" x=\"0\" y=\"0\" /><g class=\"axis y\"><g class=\"guides\"><path class=\"axis major line\" d=\"M0.000000 529.615385 h636.800000\" /><text class=\"major\" x=\"-5\" y=\"533.115384615\">0</text><title>0</title></g><g class=\"guides\"><path class=\"guide line\" d=\"M0.000000 479.761254 h636.800000\" /><text class=\"\" x=\"-5\" y=\"483.261254108\">200</text><title>200</title></g><g class=\"guides\"><path class=\"guide line\" d=\"M0.000000 429.907124 h636.800000\" /><text class=\"\" x=\"-5\" y=\"433.407123601\">400</text><title>400</title></g><g class=\"guides\"><path class=\"guide line\" d=\"M0.000000 380.052993 h636.800000\" /><text class=\"\" x=\"-5\" y=\"383.552993094\">600</text><title>600</title></g><g class=\"guides\"><path class=\"guide line\" d=\"M0.000000 330.198863 h636.800000\" /><text class=\"\" x=\"-5\" y=\"333.698862587\">800</text><title>800</title></g><g class=\"guides\"><path class=\"major guide line\" d=\"M0.000000 280.344732 h636.800000\" /><text class=\"major\" x=\"-5\" y=\"283.84473208\">1000</text><title>1000</title></g><g class=\"guides\"><path class=\"guide line\" d=\"M0.000000 230.490602 h636.800000\" /><text class=\"\" x=\"-5\" y=\"233.990601573\">1200</text><title>1200</title></g><g class=\"guides\"><path class=\"guide line\" d=\"M0.000000 180.636471 h636.800000\" /><text class=\"\" x=\"-5\" y=\"184.136471066\">1400</text><title>1400</title></g><g class=\"guides\"><path class=\"guide line\" d=\"M0.000000 130.782341 h636.800000\" /><text class=\"\" x=\"-5\" y=\"134.282340559\">1600</text><title>1600</title></g><g class=\"guides\"><path class=\"guide line\" d=\"M0.000000 80.928210 h636.800000\" /><text class=\"\" x=\"-5\" y=\"84.4282100521\">1800</text><title>1800</title></g><g class=\"guides\"><path class=\"major guide line\" d=\"M0.000000 31.074080 h636.800000\" /><text class=\"major\" x=\"-5\" y=\"34.574079545\">2000</text><title>2000</title></g></g><g class=\"axis x\"><path class=\"line\" d=\"M0.000000 0.000000 v540.000000\" /><g class=\"guides\"><path class=\"guide line\" d=\"M27.553846 0.000000 v540.000000\" /><text class=\"\" x=\"27.55384615384615\" y=\"555.0\">11207</text></g><g class=\"guides\"><path class=\"guide line\" d=\"M58.169231 0.000000 v540.000000\" /><text class=\"\" x=\"58.169230769230765\" y=\"555.0\">11101</text></g><g class=\"guides\"><path class=\"guide line\" d=\"M88.784615 0.000000 v540.000000\" /><text class=\"\" x=\"88.78461538461536\" y=\"555.0\">10019</text></g><g class=\"guides\"><path class=\"guide line\" d=\"M119.400000 0.000000 v540.000000\" /><text class=\"\" x=\"119.39999999999998\" y=\"555.0\">11201</text></g><g class=\"guides\"><path class=\"guide line\" d=\"M150.015385 0.000000 v540.000000\" /><text class=\"\" x=\"150.0153846153846\" y=\"555.0\">10016</text></g><g class=\"guides\"><path class=\"guide line\" d=\"M180.630769 0.000000 v540.000000\" /><text class=\"\" x=\"180.63076923076926\" y=\"555.0\">10022</text></g><g class=\"guides\"><path class=\"guide line\" d=\"M211.246154 0.000000 v540.000000\" /><text class=\"\" x=\"211.24615384615385\" y=\"555.0\">10036</text></g><g class=\"guides\"><path class=\"guide line\" d=\"M241.861538 0.000000 v540.000000\" /><text class=\"\" x=\"241.86153846153846\" y=\"555.0\">11236</text></g><g class=\"guides\"><path class=\"guide line\" d=\"M272.476923 0.000000 v540.000000\" /><text class=\"\" x=\"272.4769230769231\" y=\"555.0\">11234</text></g><g class=\"guides\"><path class=\"guide line\" d=\"M303.092308 0.000000 v540.000000\" /><text class=\"\" x=\"303.09230769230766\" y=\"555.0\">10001</text></g><g class=\"guides\"><path class=\"guide line\" d=\"M333.707692 0.000000 v540.000000\" /><text class=\"\" x=\"333.7076923076923\" y=\"555.0\">11226</text></g><g class=\"guides\"><path class=\"guide line\" d=\"M364.323077 0.000000 v540.000000\" /><text class=\"\" x=\"364.3230769230769\" y=\"555.0\">11203</text></g><g class=\"guides\"><path class=\"guide line\" d=\"M394.938462 0.000000 v540.000000\" /><text class=\"\" x=\"394.9384615384615\" y=\"555.0\">11385</text></g><g class=\"guides\"><path class=\"guide line\" d=\"M425.553846 0.000000 v540.000000\" /><text class=\"\" x=\"425.55384615384617\" y=\"555.0\">11434</text></g><g class=\"guides\"><path class=\"guide line\" d=\"M456.169231 0.000000 v540.000000\" /><text class=\"\" x=\"456.1692307692307\" y=\"555.0\">10013</text></g><g class=\"guides\"><path class=\"guide line\" d=\"M486.784615 0.000000 v540.000000\" /><text class=\"\" x=\"486.78461538461534\" y=\"555.0\">10002</text></g><g class=\"guides\"><path class=\"guide line\" d=\"M517.400000 0.000000 v540.000000\" /><text class=\"\" x=\"517.3999999999999\" y=\"555.0\">11208</text></g><g class=\"guides\"><path class=\"guide line\" d=\"M548.015385 0.000000 v540.000000\" /><text class=\"\" x=\"548.0153846153845\" y=\"555.0\">11212</text></g><g class=\"guides\"><path class=\"guide line\" d=\"M578.630769 0.000000 v540.000000\" /><text class=\"\" x=\"578.6307692307691\" y=\"555.0\">11233</text></g><g class=\"guides\"><path class=\"guide line\" d=\"M609.246154 0.000000 v540.000000\" /><text class=\"\" x=\"609.2461538461538\" y=\"555.0\">11206</text></g></g><g class=\"series serie-0 color-0\"><g class=\"bars\"><g class=\"bar\"><rect class=\"rect reactive tooltip-trigger\" height=\"519.230769231\" rx=\"0\" ry=\"0\" width=\"23.70855384615384\" x=\"15.699569230769228\" y=\"10.3846153846\" /><desc class=\"value\">2083</desc><desc class=\"x centered\">27.55384615384615</desc><desc class=\"y centered\">270.0</desc><desc class=\"x_label\">11207</desc></g><g class=\"bar\"><rect class=\"rect reactive tooltip-trigger\" height=\"404.566269065\" rx=\"0\" ry=\"0\" width=\"23.70855384615384\" x=\"46.31495384615384\" y=\"125.049115551\" /><desc class=\"value\">1623</desc><desc class=\"x centered\">58.169230769230765</desc><desc class=\"y centered\">327.332250083</desc><desc class=\"x_label\">11101</desc></g><g class=\"bar\"><rect class=\"rect reactive tooltip-trigger\" height=\"391.35492448\" rx=\"0\" ry=\"0\" width=\"23.70855384615384\" x=\"76.93033846153845\" y=\"138.260460135\" /><desc class=\"value\">1570</desc><desc class=\"x centered\">88.78461538461538</desc><desc class=\"y centered\">333.937922375</desc><desc class=\"x_label\">10019</desc></g><g class=\"bar\"><rect class=\"rect reactive tooltip-trigger\" height=\"380.885557074\" rx=\"0\" ry=\"0\" width=\"23.70855384615384\" x=\"107.54572307692305\" y=\"148.729827542\" /><desc class=\"value\">1528</desc><desc class=\"x centered\">119.39999999999998</desc><desc class=\"y centered\">339.172606079</desc><desc class=\"x_label\">11201</desc></g><g class=\"bar\"><rect class=\"rect reactive tooltip-trigger\" height=\"380.387015769\" rx=\"0\" ry=\"0\" width=\"23.70855384615384\" x=\"138.1611076923077\" y=\"149.228368847\" /><desc class=\"value\">1526</desc><desc class=\"x centered\">150.01538461538462</desc><desc class=\"y centered\">339.421876731</desc><desc class=\"x_label\">10016</desc></g><g class=\"bar\"><rect class=\"rect reactive tooltip-trigger\" height=\"375.401602718\" rx=\"0\" ry=\"0\" width=\"23.70855384615384\" x=\"168.7764923076923\" y=\"154.213781897\" /><desc class=\"value\">1506</desc><desc class=\"x centered\">180.63076923076923</desc><desc class=\"y centered\">341.914583256</desc><desc class=\"x_label\">10022</desc></g><g class=\"bar\"><rect class=\"rect reactive tooltip-trigger\" height=\"355.95849182\" rx=\"0\" ry=\"0\" width=\"23.70855384615384\" x=\"199.39187692307692\" y=\"173.656892795\" /><desc class=\"value\">1428</desc><desc class=\"x centered\">211.24615384615385</desc><desc class=\"y centered\">351.636138705</desc><desc class=\"x_label\">10036</desc></g><g class=\"bar\"><rect class=\"rect reactive tooltip-trigger\" height=\"353.715055947\" rx=\"0\" ry=\"0\" width=\"23.70855384615384\" x=\"230.00726153846153\" y=\"175.900328668\" /><desc class=\"value\">1419</desc><desc class=\"x centered\">241.86153846153846</desc><desc class=\"y centered\">352.757856642</desc><desc class=\"x_label\">11236</desc></g><g class=\"bar\"><rect class=\"rect reactive tooltip-trigger\" height=\"345.738395066\" rx=\"0\" ry=\"0\" width=\"23.70855384615384\" x=\"260.6226461538461\" y=\"183.876989549\" /><desc class=\"value\">1387</desc><desc class=\"x centered\">272.476923076923</desc><desc class=\"y centered\">356.746187082</desc><desc class=\"x_label\">11234</desc></g><g class=\"bar\"><rect class=\"rect reactive tooltip-trigger\" height=\"342.497876583\" rx=\"0\" ry=\"0\" width=\"23.70855384615384\" x=\"291.23803076923076\" y=\"187.117508032\" /><desc class=\"value\">1374</desc><desc class=\"x centered\">303.09230769230766</desc><desc class=\"y centered\">358.366446324</desc><desc class=\"x_label\">10001</desc></g><g class=\"bar\"><rect class=\"rect reactive tooltip-trigger\" height=\"335.518298312\" rx=\"0\" ry=\"0\" width=\"23.70855384615384\" x=\"321.85341538461535\" y=\"194.097086303\" /><desc class=\"value\">1346</desc><desc class=\"x centered\">333.70769230769224</desc><desc class=\"y centered\">361.856235459</desc><desc class=\"x_label\">11226</desc></g><g class=\"bar\"><rect class=\"rect reactive tooltip-trigger\" height=\"331.529967872\" rx=\"0\" ry=\"0\" width=\"23.70855384615384\" x=\"352.4688\" y=\"198.085416744\" /><desc class=\"value\">1330</desc><desc class=\"x centered\">364.3230769230769</desc><desc class=\"y centered\">363.850400679</desc><desc class=\"x_label\">11203</desc></g><g class=\"bar\"><rect class=\"rect reactive tooltip-trigger\" height=\"321.55914177\" rx=\"0\" ry=\"0\" width=\"23.70855384615384\" x=\"383.0841846153846\" y=\"208.056242845\" /><desc class=\"value\">1290</desc><desc class=\"x centered\">394.93846153846147</desc><desc class=\"y centered\">368.83581373</desc><desc class=\"x_label\">11385</desc></g><g class=\"bar\"><rect class=\"rect reactive tooltip-trigger\" height=\"321.309871118\" rx=\"0\" ry=\"0\" width=\"23.70855384615384\" x=\"413.6995692307692\" y=\"208.305513498\" /><desc class=\"value\">1289</desc><desc class=\"x centered\">425.5538461538461</desc><desc class=\"y centered\">368.960449056</desc><desc class=\"x_label\">11434</desc></g><g class=\"bar\"><rect class=\"rect reactive tooltip-trigger\" height=\"320.312788508\" rx=\"0\" ry=\"0\" width=\"23.70855384615384\" x=\"444.31495384615374\" y=\"209.302596108\" /><desc class=\"value\">1285</desc><desc class=\"x centered\">456.16923076923064</desc><desc class=\"y centered\">369.458990362</desc><desc class=\"x_label\">10013</desc></g><g class=\"bar\"><rect class=\"rect reactive tooltip-trigger\" height=\"312.336127627\" rx=\"0\" ry=\"0\" width=\"23.70855384615384\" x=\"474.9303384615384\" y=\"217.279256989\" /><desc class=\"value\">1253</desc><desc class=\"x centered\">486.7846153846153</desc><desc class=\"y centered\">373.447320802</desc><desc class=\"x_label\">10002</desc></g><g class=\"bar\"><rect class=\"rect reactive tooltip-trigger\" height=\"310.341962406\" rx=\"0\" ry=\"0\" width=\"23.70855384615384\" x=\"505.5457230769231\" y=\"219.273422209\" /><desc class=\"value\">1245</desc><desc class=\"x centered\">517.4</desc><desc class=\"y centered\">374.444403412</desc><desc class=\"x_label\">11208</desc></g><g class=\"bar\"><rect class=\"rect reactive tooltip-trigger\" height=\"303.362384135\" rx=\"0\" ry=\"0\" width=\"23.70855384615384\" x=\"536.1611076923076\" y=\"226.25300048\" /><desc class=\"value\">1217</desc><desc class=\"x centered\">548.0153846153845</desc><desc class=\"y centered\">377.934192548</desc><desc class=\"x_label\">11212</desc></g><g class=\"bar\"><rect class=\"rect reactive tooltip-trigger\" height=\"288.406144983\" rx=\"0\" ry=\"0\" width=\"23.70855384615384\" x=\"566.7764923076923\" y=\"241.209239632\" /><desc class=\"value\">1157</desc><desc class=\"x centered\">578.6307692307691</desc><desc class=\"y centered\">385.412312124</desc><desc class=\"x_label\">11233</desc></g><g class=\"bar\"><rect class=\"rect reactive tooltip-trigger\" height=\"288.406144983\" rx=\"0\" ry=\"0\" width=\"23.70855384615384\" x=\"597.3918769230768\" y=\"241.209239632\" /><desc class=\"value\">1157</desc><desc class=\"x centered\">609.2461538461537</desc><desc class=\"y centered\">385.412312124</desc><desc class=\"x_label\">11206</desc></g></g></g></g><g class=\"titles\" /><g class=\"plot overlay\" transform=\"translate(143, 20)\"><g class=\"series serie-0 color-0\" /></g><g class=\"plot text-overlay\" transform=\"translate(143, 20)\"><g class=\"series serie-0 color-0\" /></g><g class=\"plot tooltip-overlay\" transform=\"translate(143, 20)\"><g class=\"tooltip\" style=\"opacity: 0\" transform=\"translate(0 0)\"><rect class=\"tooltip-box\" height=\"0\" rx=\"0\" ry=\"0\" width=\"0\" /><g class=\"text\" /></g></g><g class=\"legends\" transform=\"translate(10, 30)\"><g class=\"legend reactive activate-serie\" id=\"activate-serie-0\"><rect class=\"color-0 reactive\" height=\"12\" width=\"12\" x=\"0.0\" y=\"1.0\" /><text x=\"17.0\" y=\"11.2\">Zip Code</text></g></g><g class=\"legends\" transform=\"translate(790, 30)\" /></g></svg>"
      ],
      "text/plain": [
       "<pygal.graph.bar.Bar at 0x12ec033c8>"
      ]
     },
     "execution_count": 110,
     "metadata": {},
     "output_type": "execute_result"
    }
   ],
   "source": [
    "line_chart = pygal.Bar()\n",
    "# line_chart.title = 'Browser usage evolution (in %)'\n",
    "line_chart.x_labels = top_zips.index.values\n",
    "line_chart.add('Zip Code', top_zips['COLLISIONS'].values)\n",
    "\n",
    "line_chart"
   ]
  },
  {
   "cell_type": "markdown",
   "metadata": {
    "collapsed": true,
    "deletable": true,
    "editable": true
   },
   "source": [
    "`pygal`\n",
    "\n",
    "Advantages\n",
    "* Simple API."
   ]
  },
  {
   "cell_type": "markdown",
   "metadata": {
    "deletable": true,
    "editable": true
   },
   "source": [
    "## ggplot"
   ]
  },
  {
   "cell_type": "code",
   "execution_count": 13,
   "metadata": {
    "collapsed": true,
    "deletable": true,
    "editable": true
   },
   "outputs": [],
   "source": [
    "from ggplot import *"
   ]
  },
  {
   "cell_type": "code",
   "execution_count": 22,
   "metadata": {
    "collapsed": false,
    "deletable": true,
    "editable": true
   },
   "outputs": [
    {
     "data": {
      "text/html": [
       "<div>\n",
       "<table border=\"1\" class=\"dataframe\">\n",
       "  <thead>\n",
       "    <tr style=\"text-align: right;\">\n",
       "      <th></th>\n",
       "      <th>COLLISIONS</th>\n",
       "    </tr>\n",
       "    <tr>\n",
       "      <th>ZIP CODE</th>\n",
       "      <th></th>\n",
       "    </tr>\n",
       "  </thead>\n",
       "  <tbody>\n",
       "    <tr>\n",
       "      <th>11207.0</th>\n",
       "      <td>2083</td>\n",
       "    </tr>\n",
       "    <tr>\n",
       "      <th>11101.0</th>\n",
       "      <td>1623</td>\n",
       "    </tr>\n",
       "    <tr>\n",
       "      <th>10019.0</th>\n",
       "      <td>1570</td>\n",
       "    </tr>\n",
       "  </tbody>\n",
       "</table>\n",
       "</div>"
      ],
      "text/plain": [
       "          COLLISIONS\n",
       "ZIP CODE            \n",
       "11207.0         2083\n",
       "11101.0         1623\n",
       "10019.0         1570"
      ]
     },
     "execution_count": 22,
     "metadata": {},
     "output_type": "execute_result"
    }
   ],
   "source": [
    "top_zips.head(3)"
   ]
  },
  {
   "cell_type": "code",
   "execution_count": 21,
   "metadata": {
    "collapsed": false,
    "deletable": true,
    "editable": true,
    "scrolled": true
   },
   "outputs": [
    {
     "data": {
      "text/html": [
       "<div>\n",
       "<table border=\"1\" class=\"dataframe\">\n",
       "  <thead>\n",
       "    <tr style=\"text-align: right;\">\n",
       "      <th></th>\n",
       "      <th>name</th>\n",
       "      <th>mpg</th>\n",
       "      <th>cyl</th>\n",
       "      <th>disp</th>\n",
       "      <th>hp</th>\n",
       "      <th>drat</th>\n",
       "      <th>wt</th>\n",
       "      <th>qsec</th>\n",
       "      <th>vs</th>\n",
       "      <th>am</th>\n",
       "      <th>gear</th>\n",
       "      <th>carb</th>\n",
       "    </tr>\n",
       "  </thead>\n",
       "  <tbody>\n",
       "    <tr>\n",
       "      <th>0</th>\n",
       "      <td>Mazda RX4</td>\n",
       "      <td>21.0</td>\n",
       "      <td>6</td>\n",
       "      <td>160.0</td>\n",
       "      <td>110</td>\n",
       "      <td>3.90</td>\n",
       "      <td>2.620</td>\n",
       "      <td>16.46</td>\n",
       "      <td>0</td>\n",
       "      <td>1</td>\n",
       "      <td>4</td>\n",
       "      <td>4</td>\n",
       "    </tr>\n",
       "    <tr>\n",
       "      <th>1</th>\n",
       "      <td>Mazda RX4 Wag</td>\n",
       "      <td>21.0</td>\n",
       "      <td>6</td>\n",
       "      <td>160.0</td>\n",
       "      <td>110</td>\n",
       "      <td>3.90</td>\n",
       "      <td>2.875</td>\n",
       "      <td>17.02</td>\n",
       "      <td>0</td>\n",
       "      <td>1</td>\n",
       "      <td>4</td>\n",
       "      <td>4</td>\n",
       "    </tr>\n",
       "    <tr>\n",
       "      <th>2</th>\n",
       "      <td>Datsun 710</td>\n",
       "      <td>22.8</td>\n",
       "      <td>4</td>\n",
       "      <td>108.0</td>\n",
       "      <td>93</td>\n",
       "      <td>3.85</td>\n",
       "      <td>2.320</td>\n",
       "      <td>18.61</td>\n",
       "      <td>1</td>\n",
       "      <td>1</td>\n",
       "      <td>4</td>\n",
       "      <td>1</td>\n",
       "    </tr>\n",
       "  </tbody>\n",
       "</table>\n",
       "</div>"
      ],
      "text/plain": [
       "            name   mpg  cyl   disp   hp  drat     wt   qsec  vs  am  gear  \\\n",
       "0      Mazda RX4  21.0    6  160.0  110  3.90  2.620  16.46   0   1     4   \n",
       "1  Mazda RX4 Wag  21.0    6  160.0  110  3.90  2.875  17.02   0   1     4   \n",
       "2     Datsun 710  22.8    4  108.0   93  3.85  2.320  18.61   1   1     4   \n",
       "\n",
       "   carb  \n",
       "0     4  \n",
       "1     4  \n",
       "2     1  "
      ]
     },
     "execution_count": 21,
     "metadata": {},
     "output_type": "execute_result"
    }
   ],
   "source": [
    "mtcars.head(3)"
   ]
  },
  {
   "cell_type": "code",
   "execution_count": 36,
   "metadata": {
    "collapsed": false,
    "deletable": true,
    "editable": true
   },
   "outputs": [
    {
     "data": {
      "text/html": [
       "<div>\n",
       "<table border=\"1\" class=\"dataframe\">\n",
       "  <thead>\n",
       "    <tr style=\"text-align: right;\">\n",
       "      <th></th>\n",
       "      <th>DATE</th>\n",
       "      <th>TIME</th>\n",
       "      <th>BOROUGH</th>\n",
       "      <th>ZIP CODE</th>\n",
       "      <th>LATITUDE</th>\n",
       "      <th>LONGITUDE</th>\n",
       "      <th>LOCATION</th>\n",
       "      <th>ON STREET NAME</th>\n",
       "      <th>CROSS STREET NAME</th>\n",
       "      <th>OFF STREET NAME</th>\n",
       "      <th>NUMBER OF PERSONS INJURED</th>\n",
       "      <th>NUMBER OF PERSONS KILLED</th>\n",
       "      <th>NUMBER OF PEDESTRIANS INJURED</th>\n",
       "      <th>NUMBER OF PEDESTRIANS KILLED</th>\n",
       "      <th>NUMBER OF CYCLIST INJURED</th>\n",
       "      <th>NUMBER OF CYCLIST KILLED</th>\n",
       "      <th>NUMBER OF MOTORIST INJURED</th>\n",
       "      <th>NUMBER OF MOTORIST KILLED</th>\n",
       "      <th>CONTRIBUTING FACTOR VEHICLE 1</th>\n",
       "      <th>CONTRIBUTING FACTOR VEHICLE 2</th>\n",
       "      <th>CONTRIBUTING FACTOR VEHICLE 3</th>\n",
       "      <th>CONTRIBUTING FACTOR VEHICLE 4</th>\n",
       "      <th>CONTRIBUTING FACTOR VEHICLE 5</th>\n",
       "      <th>UNIQUE KEY</th>\n",
       "      <th>VEHICLE TYPE CODE 1</th>\n",
       "      <th>VEHICLE TYPE CODE 2</th>\n",
       "      <th>VEHICLE TYPE CODE 3</th>\n",
       "      <th>VEHICLE TYPE CODE 4</th>\n",
       "      <th>VEHICLE TYPE CODE 5</th>\n",
       "    </tr>\n",
       "  </thead>\n",
       "  <tbody>\n",
       "    <tr>\n",
       "      <th>0</th>\n",
       "      <td>11/10/2016</td>\n",
       "      <td>15:11</td>\n",
       "      <td>NaN</td>\n",
       "      <td>NaN</td>\n",
       "      <td>NaN</td>\n",
       "      <td>NaN</td>\n",
       "      <td>NaN</td>\n",
       "      <td>MONROE STREET</td>\n",
       "      <td>NaN</td>\n",
       "      <td>NaN</td>\n",
       "      <td>0</td>\n",
       "      <td>0</td>\n",
       "      <td>0</td>\n",
       "      <td>0</td>\n",
       "      <td>0</td>\n",
       "      <td>0</td>\n",
       "      <td>0</td>\n",
       "      <td>0</td>\n",
       "      <td>Driver Inattention/Distraction</td>\n",
       "      <td>Unspecified</td>\n",
       "      <td>NaN</td>\n",
       "      <td>NaN</td>\n",
       "      <td>NaN</td>\n",
       "      <td>3559084</td>\n",
       "      <td>PASSENGER VEHICLE</td>\n",
       "      <td>NaN</td>\n",
       "      <td>NaN</td>\n",
       "      <td>NaN</td>\n",
       "      <td>NaN</td>\n",
       "    </tr>\n",
       "    <tr>\n",
       "      <th>1</th>\n",
       "      <td>04/16/2016</td>\n",
       "      <td>4:13</td>\n",
       "      <td>NaN</td>\n",
       "      <td>NaN</td>\n",
       "      <td>40.767373</td>\n",
       "      <td>-73.950057</td>\n",
       "      <td>(40.767373, -73.9500574)</td>\n",
       "      <td>EAST 68 STREET</td>\n",
       "      <td>NaN</td>\n",
       "      <td>NaN</td>\n",
       "      <td>1</td>\n",
       "      <td>0</td>\n",
       "      <td>0</td>\n",
       "      <td>0</td>\n",
       "      <td>0</td>\n",
       "      <td>0</td>\n",
       "      <td>1</td>\n",
       "      <td>0</td>\n",
       "      <td>Fatigued/Drowsy</td>\n",
       "      <td>Fatigued/Drowsy</td>\n",
       "      <td>Fatigued/Drowsy</td>\n",
       "      <td>NaN</td>\n",
       "      <td>NaN</td>\n",
       "      <td>3408932</td>\n",
       "      <td>PASSENGER VEHICLE</td>\n",
       "      <td>PASSENGER VEHICLE</td>\n",
       "      <td>PASSENGER VEHICLE</td>\n",
       "      <td>NaN</td>\n",
       "      <td>NaN</td>\n",
       "    </tr>\n",
       "    <tr>\n",
       "      <th>2</th>\n",
       "      <td>04/16/2016</td>\n",
       "      <td>4:22</td>\n",
       "      <td>NaN</td>\n",
       "      <td>NaN</td>\n",
       "      <td>NaN</td>\n",
       "      <td>NaN</td>\n",
       "      <td>NaN</td>\n",
       "      <td>BORDEN AVENUE</td>\n",
       "      <td>58TH STREET</td>\n",
       "      <td>NaN</td>\n",
       "      <td>1</td>\n",
       "      <td>0</td>\n",
       "      <td>1</td>\n",
       "      <td>0</td>\n",
       "      <td>0</td>\n",
       "      <td>0</td>\n",
       "      <td>0</td>\n",
       "      <td>0</td>\n",
       "      <td>Passenger Distraction</td>\n",
       "      <td>NaN</td>\n",
       "      <td>NaN</td>\n",
       "      <td>NaN</td>\n",
       "      <td>NaN</td>\n",
       "      <td>3425902</td>\n",
       "      <td>NaN</td>\n",
       "      <td>NaN</td>\n",
       "      <td>NaN</td>\n",
       "      <td>NaN</td>\n",
       "      <td>NaN</td>\n",
       "    </tr>\n",
       "  </tbody>\n",
       "</table>\n",
       "</div>"
      ],
      "text/plain": [
       "         DATE   TIME BOROUGH  ZIP CODE   LATITUDE  LONGITUDE  \\\n",
       "0  11/10/2016  15:11     NaN       NaN        NaN        NaN   \n",
       "1  04/16/2016   4:13     NaN       NaN  40.767373 -73.950057   \n",
       "2  04/16/2016   4:22     NaN       NaN        NaN        NaN   \n",
       "\n",
       "                   LOCATION  ON STREET NAME CROSS STREET NAME OFF STREET NAME  \\\n",
       "0                       NaN   MONROE STREET               NaN             NaN   \n",
       "1  (40.767373, -73.9500574)  EAST 68 STREET               NaN             NaN   \n",
       "2                       NaN   BORDEN AVENUE       58TH STREET             NaN   \n",
       "\n",
       "   NUMBER OF PERSONS INJURED  NUMBER OF PERSONS KILLED  \\\n",
       "0                          0                         0   \n",
       "1                          1                         0   \n",
       "2                          1                         0   \n",
       "\n",
       "   NUMBER OF PEDESTRIANS INJURED  NUMBER OF PEDESTRIANS KILLED  \\\n",
       "0                              0                             0   \n",
       "1                              0                             0   \n",
       "2                              1                             0   \n",
       "\n",
       "   NUMBER OF CYCLIST INJURED  NUMBER OF CYCLIST KILLED  \\\n",
       "0                          0                         0   \n",
       "1                          0                         0   \n",
       "2                          0                         0   \n",
       "\n",
       "   NUMBER OF MOTORIST INJURED  NUMBER OF MOTORIST KILLED  \\\n",
       "0                           0                          0   \n",
       "1                           1                          0   \n",
       "2                           0                          0   \n",
       "\n",
       "    CONTRIBUTING FACTOR VEHICLE 1 CONTRIBUTING FACTOR VEHICLE 2  \\\n",
       "0  Driver Inattention/Distraction                   Unspecified   \n",
       "1                 Fatigued/Drowsy               Fatigued/Drowsy   \n",
       "2           Passenger Distraction                           NaN   \n",
       "\n",
       "  CONTRIBUTING FACTOR VEHICLE 3 CONTRIBUTING FACTOR VEHICLE 4  \\\n",
       "0                           NaN                           NaN   \n",
       "1               Fatigued/Drowsy                           NaN   \n",
       "2                           NaN                           NaN   \n",
       "\n",
       "  CONTRIBUTING FACTOR VEHICLE 5  UNIQUE KEY VEHICLE TYPE CODE 1  \\\n",
       "0                           NaN     3559084   PASSENGER VEHICLE   \n",
       "1                           NaN     3408932   PASSENGER VEHICLE   \n",
       "2                           NaN     3425902                 NaN   \n",
       "\n",
       "  VEHICLE TYPE CODE 2 VEHICLE TYPE CODE 3 VEHICLE TYPE CODE 4  \\\n",
       "0                 NaN                 NaN                 NaN   \n",
       "1   PASSENGER VEHICLE   PASSENGER VEHICLE                 NaN   \n",
       "2                 NaN                 NaN                 NaN   \n",
       "\n",
       "  VEHICLE TYPE CODE 5  \n",
       "0                 NaN  \n",
       "1                 NaN  \n",
       "2                 NaN  "
      ]
     },
     "execution_count": 36,
     "metadata": {},
     "output_type": "execute_result"
    }
   ],
   "source": [
    "collisions.head(3)"
   ]
  },
  {
   "cell_type": "code",
   "execution_count": 42,
   "metadata": {
    "collapsed": false,
    "deletable": true,
    "editable": true
   },
   "outputs": [
    {
     "data": {
      "image/png": "[encoded data removed]",
      "text/plain": [
       "<matplotlib.figure.Figure at 0x119bc7a90>"
      ]
     },
     "metadata": {},
     "output_type": "display_data"
    },
    {
     "data": {
      "text/plain": [
       "<ggplot: (295161422)>"
      ]
     },
     "execution_count": 42,
     "metadata": {},
     "output_type": "execute_result"
    }
   ],
   "source": [
    "(\n",
    "    ggplot(aes(x='ZIP CODE', y='COLLISIONS'), \n",
    "           data=collisions[collisions['ZIP CODE'].isin(top_zips.index)].rename(columns={'BOROUGH': 'COLLISIONS'}))\n",
    "    + geom_bar()\n",
    "    + theme(axis_text_x=element_text(angle=90, hjust=1)) \n",
    ")"
   ]
  },
  {
   "cell_type": "markdown",
   "metadata": {
    "deletable": true,
    "editable": true
   },
   "source": [
    "`ggplot`\n",
    "\n",
    "Advantages:\n",
    "* Simple API.\n",
    "\n",
    "Either:\n",
    "* Grammer of Graphics design.\n",
    "\n",
    "Disadvantages:\n",
    "* Design encourages polluting the namespace with `ggplot` objects.\n",
    "* Lacks docs for certain features (like text rotation).\n",
    "\n",
    "Backend: `matplotlib`."
   ]
  },
  {
   "cell_type": "markdown",
   "metadata": {
    "deletable": true,
    "editable": true
   },
   "source": [
    "## holoviews"
   ]
  },
  {
   "cell_type": "code",
   "execution_count": 43,
   "metadata": {
    "collapsed": false,
    "deletable": true,
    "editable": true
   },
   "outputs": [
    {
     "name": "stderr",
     "output_type": "stream",
     "text": [
      "/Users/Honors/anaconda/envs/plotting-tools/lib/python3.5/site-packages/matplotlib/cbook.py:136: MatplotlibDeprecationWarning: The spectral and spectral_r colormap was deprecated in version 2.0. Use nipy_spectral and nipy_spectral_r instead.\n",
      "  warnings.warn(message, mplDeprecation, stacklevel=1)\n"
     ]
    },
    {
     "data": {
      "text/html": [
       "\n",
       "<script src=\"https://code.jquery.com/ui/1.10.4/jquery-ui.min.js\" type=\"text/javascript\"></script>\n",
       "<script type=\"text/javascript\">function HoloViewsWidget(){\n",
       "}\n",
       "\n",
       "HoloViewsWidget.prototype.init_slider = function(init_val){\n",
       "\tif(this.load_json) {\n",
       "\t\tthis.from_json()\n",
       "\t} else {\n",
       "\t\tthis.update_cache();\n",
       "\t}\n",
       "}\n",
       "\n",
       "HoloViewsWidget.prototype.populate_cache = function(idx){\n",
       "    this.cache[idx].html(this.frames[idx]);\n",
       "    if (this.embed) {\n",
       "        delete this.frames[idx];\n",
       "    }\n",
       "}\n",
       "\n",
       "HoloViewsWidget.prototype.process_error = function(msg){\n",
       "\n",
       "}\n",
       "\n",
       "HoloViewsWidget.prototype.from_json = function() {\n",
       "\tvar data_url = this.json_path + this.id + '.json';\n",
       "\t$.getJSON(data_url, $.proxy(function(json_data) {\n",
       "\t\tthis.frames = json_data;\n",
       "\t\tthis.update_cache();\n",
       "\t\tthis.update(0);\n",
       "\t}, this));\n",
       "}\n",
       "\n",
       "HoloViewsWidget.prototype.dynamic_update = function(current){\n",
       "    function callback(msg){\n",
       "        /* This callback receives data from Python as a string\n",
       "         in order to parse it correctly quotes are sliced off*/\n",
       "        var data = msg.content.data['text/plain'].slice(1, -1);\n",
       "        this.frames[current] = data;\n",
       "        this.update_cache();\n",
       "        this.update(current);\n",
       "    }\n",
       "    if(!(current in this.cache)) {\n",
       "        var kernel = IPython.notebook.kernel;\n",
       "        callbacks = {iopub: {output: $.proxy(callback, this)}};\n",
       "        var cmd = \"holoviews.plotting.widgets.NdWidget.widgets['\" + this.id + \"'].update(\" + current + \")\";\n",
       "        kernel.execute(\"import holoviews;\" + cmd, callbacks, {silent : false});\n",
       "    } else {\n",
       "        this.update(current);\n",
       "    }\n",
       "}\n",
       "\n",
       "HoloViewsWidget.prototype.update_cache = function(){\n",
       "    var frame_len = Object.keys(this.frames).length;\n",
       "    for (var i=0; i<frame_len; i++) {\n",
       "        if(!this.load_json || this.dynamic)  {\n",
       "            frame = Object.keys(this.frames)[i];\n",
       "        } else {\n",
       "            frame = i;\n",
       "        }\n",
       "        if(!(frame in this.cache)) {\n",
       "            this.cache[frame] = $('<div />').appendTo(\"#\" + this.img_id).hide();\n",
       "            var cache_id = this.img_id+\"_\"+frame;\n",
       "            this.cache[frame].attr(\"id\", cache_id);\n",
       "            this.populate_cache(frame);\n",
       "        }\n",
       "    }\n",
       "}\n",
       "\n",
       "HoloViewsWidget.prototype.update = function(current){\n",
       "    if(current in this.cache) {\n",
       "        $.each(this.cache, function(index, value) {\n",
       "            value.hide();\n",
       "        });\n",
       "        this.cache[current].show();\n",
       "\t\tthis.wait = false;\n",
       "    }\n",
       "}\n",
       "\n",
       "\n",
       "function SelectionWidget(frames, id, slider_ids, keyMap, dim_vals, notFound, load_json, mode, cached, json_path, dynamic){\n",
       "    this.frames = frames;\n",
       "    this.fig_id = \"fig_\" + id;\n",
       "    this.img_id = \"_anim_img\" + id;\n",
       "    this.id = id;\n",
       "    this.slider_ids = slider_ids;\n",
       "    this.keyMap = keyMap\n",
       "    this.current_frame = 0;\n",
       "    this.current_vals = dim_vals;\n",
       "    this.load_json = load_json;\n",
       "    this.mode = mode;\n",
       "    this.notFound = notFound;\n",
       "    this.cached = cached;\n",
       "    this.dynamic = dynamic;\n",
       "    this.cache = {};\n",
       "\tthis.json_path = json_path;\n",
       "    this.init_slider(this.current_vals[0]);\n",
       "\tthis.queue = [];\n",
       "\tthis.wait = false;\n",
       "}\n",
       "\n",
       "SelectionWidget.prototype = new HoloViewsWidget;\n",
       "\n",
       "\n",
       "SelectionWidget.prototype.get_key = function(current_vals) {\n",
       "\tvar key = \"(\";\n",
       "    for (var i=0; i<this.slider_ids.length; i++)\n",
       "    {\n",
       "        val = this.current_vals[i];\n",
       "        if (!(typeof val === 'string')) {\n",
       "            if (val % 1 === 0) { var fixed = 1;}\n",
       "            else { var fixed = 10;}\n",
       "            val = val.toFixed(fixed)\n",
       "        }\n",
       "        key += \"'\" + val + \"'\";\n",
       "        if(i != this.slider_ids.length-1) { key += ', ';}\n",
       "        else if(this.slider_ids.length == 1) { key += ',';}\n",
       "    }\n",
       "    key += \")\";\n",
       "\treturn this.keyMap[key];\n",
       "}\n",
       "\n",
       "SelectionWidget.prototype.set_frame = function(dim_val, dim_idx){\n",
       "\tthis.current_vals[dim_idx] = dim_val;\n",
       "    var current = this.get_key(this.current_vals);\n",
       "    if(current === undefined && !this.dynamic) {\n",
       "        return\n",
       "    }\n",
       "\tif (this.dynamic || !this.cached) {\n",
       "\t\tif (this.time === undefined) {\n",
       "\t\t\t// Do nothing the first time\n",
       "\t\t} else if ((this.timed === undefined) || ((this.time + this.timed) > Date.now())) {\n",
       "\t\t\tvar key = this.current_vals;\n",
       "\t\t\tif (!this.dynamic) {\n",
       "\t\t\t\tkey = this.get_key(key);\n",
       "\t\t\t}\n",
       "\t\t\tthis.queue.push(key);\n",
       "\t\t\treturn\n",
       "\t\t}\n",
       "\t}\n",
       "\tthis.queue = [];\n",
       "\tthis.time = Date.now();\n",
       "    if(this.dynamic) {\n",
       "        this.dynamic_update(this.current_vals)\n",
       "        return;\n",
       "    }\n",
       "    this.current_frame = current;\n",
       "    if(this.cached) {\n",
       "        this.update(current)\n",
       "    } else {\n",
       "        this.dynamic_update(current)\n",
       "    }\n",
       "}\n",
       "\n",
       "\n",
       "/* Define the ScrubberWidget class */\n",
       "function ScrubberWidget(frames, num_frames, id, interval, load_json, mode, cached, json_path, dynamic){\n",
       "    this.img_id = \"_anim_img\" + id;\n",
       "    this.slider_id = \"_anim_slider\" + id;\n",
       "    this.loop_select_id = \"_anim_loop_select\" + id;\n",
       "    this.id = id;\n",
       "    this.fig_id = \"fig_\" + id;\n",
       "    this.interval = interval;\n",
       "    this.current_frame = 0;\n",
       "    this.direction = 0;\n",
       "    this.dynamic = dynamic;\n",
       "    this.timer = null;\n",
       "    this.load_json = load_json;\n",
       "    this.mode = mode;\n",
       "    this.cached = cached;\n",
       "    this.frames = frames;\n",
       "    this.cache = {};\n",
       "    this.length = num_frames;\n",
       "\tthis.json_path = json_path;\n",
       "    document.getElementById(this.slider_id).max = this.length - 1;\n",
       "    this.init_slider(0);\n",
       "\tthis.wait = false;\n",
       "\tthis.queue = [];\n",
       "}\n",
       "\n",
       "ScrubberWidget.prototype = new HoloViewsWidget;\n",
       "\n",
       "ScrubberWidget.prototype.set_frame = function(frame){\n",
       "\tthis.current_frame = frame;\n",
       "\twidget = document.getElementById(this.slider_id);\n",
       "    if (widget === null) {\n",
       "        this.pause_animation();\n",
       "        return\n",
       "    }\n",
       "    widget.value = this.current_frame;\n",
       "    if(this.cached) {\n",
       "        this.update(frame)\n",
       "    } else {\n",
       "        this.dynamic_update(frame)\n",
       "    }\n",
       "}\n",
       "\n",
       "\n",
       "ScrubberWidget.prototype.process_error = function(msg){\n",
       "\tif (msg.content.ename === 'StopIteration') {\n",
       "\t\tthis.pause_animation();\n",
       "\t\tthis.stopped = true;\n",
       "\t\tvar keys = Object.keys(this.frames)\n",
       "\t\tthis.length = keys.length;\n",
       "\t\tdocument.getElementById(this.slider_id).max = this.length-1;\n",
       "\t\tdocument.getElementById(this.slider_id).value = this.length-1;\n",
       "\t\tthis.current_frame = this.length-1;\n",
       "\t}\n",
       "}\n",
       "\n",
       "\n",
       "ScrubberWidget.prototype.get_loop_state = function(){\n",
       "    var button_group = document[this.loop_select_id].state;\n",
       "    for (var i = 0; i < button_group.length; i++) {\n",
       "        var button = button_group[i];\n",
       "        if (button.checked) {\n",
       "            return button.value;\n",
       "        }\n",
       "    }\n",
       "    return undefined;\n",
       "}\n",
       "\n",
       "\n",
       "ScrubberWidget.prototype.next_frame = function() {\n",
       "\tif (this.dynamic || !this.cached) {\n",
       "\t\tif (this.wait) {\n",
       "\t\t\treturn\n",
       "\t\t}\n",
       "\t\tthis.wait = true;\n",
       "\t}\n",
       "\tif (this.dynamic && this.current_frame + 1 >= this.length) {\n",
       "\t\tthis.length += 1;\n",
       "        document.getElementById(this.slider_id).max = this.length-1;\n",
       "\t}\n",
       "    this.set_frame(Math.min(this.length - 1, this.current_frame + 1));\n",
       "}\n",
       "\n",
       "ScrubberWidget.prototype.previous_frame = function() {\n",
       "    this.set_frame(Math.max(0, this.current_frame - 1));\n",
       "}\n",
       "\n",
       "ScrubberWidget.prototype.first_frame = function() {\n",
       "    this.set_frame(0);\n",
       "}\n",
       "\n",
       "ScrubberWidget.prototype.last_frame = function() {\n",
       "    this.set_frame(this.length - 1);\n",
       "}\n",
       "\n",
       "ScrubberWidget.prototype.slower = function() {\n",
       "    this.interval /= 0.7;\n",
       "    if(this.direction > 0){this.play_animation();}\n",
       "    else if(this.direction < 0){this.reverse_animation();}\n",
       "}\n",
       "\n",
       "ScrubberWidget.prototype.faster = function() {\n",
       "    this.interval *= 0.7;\n",
       "    if(this.direction > 0){this.play_animation();}\n",
       "    else if(this.direction < 0){this.reverse_animation();}\n",
       "}\n",
       "\n",
       "ScrubberWidget.prototype.anim_step_forward = function() {\n",
       "    if(this.current_frame < this.length || (this.dynamic && !this.stopped)){\n",
       "        this.next_frame();\n",
       "    }else{\n",
       "        var loop_state = this.get_loop_state();\n",
       "        if(loop_state == \"loop\"){\n",
       "            this.first_frame();\n",
       "        }else if(loop_state == \"reflect\"){\n",
       "            this.last_frame();\n",
       "            this.reverse_animation();\n",
       "        }else{\n",
       "            this.pause_animation();\n",
       "            this.last_frame();\n",
       "        }\n",
       "    }\n",
       "}\n",
       "\n",
       "ScrubberWidget.prototype.anim_step_reverse = function() {\n",
       "    this.current_frame -= 1;\n",
       "    if(this.current_frame >= 0){\n",
       "        this.set_frame(this.current_frame);\n",
       "    } else {\n",
       "        var loop_state = this.get_loop_state();\n",
       "        if(loop_state == \"loop\"){\n",
       "            this.last_frame();\n",
       "        }else if(loop_state == \"reflect\"){\n",
       "            this.first_frame();\n",
       "            this.play_animation();\n",
       "        }else{\n",
       "            this.pause_animation();\n",
       "            this.first_frame();\n",
       "        }\n",
       "    }\n",
       "}\n",
       "\n",
       "ScrubberWidget.prototype.pause_animation = function() {\n",
       "    this.direction = 0;\n",
       "    if (this.timer){\n",
       "        clearInterval(this.timer);\n",
       "        this.timer = null;\n",
       "    }\n",
       "}\n",
       "\n",
       "ScrubberWidget.prototype.play_animation = function() {\n",
       "    this.pause_animation();\n",
       "    this.direction = 1;\n",
       "    var t = this;\n",
       "    if (!this.timer) this.timer = setInterval(function(){t.anim_step_forward();}, this.interval);\n",
       "}\n",
       "\n",
       "ScrubberWidget.prototype.reverse_animation = function() {\n",
       "    this.pause_animation();\n",
       "    this.direction = -1;\n",
       "    var t = this;\n",
       "    if (!this.timer) this.timer = setInterval(function(){t.anim_step_reverse();}, this.interval);\n",
       "}\n",
       "\n",
       "function extend(destination, source) {\n",
       "    for (var k in source) {\n",
       "        if (source.hasOwnProperty(k)) {\n",
       "            destination[k] = source[k];\n",
       "        }\n",
       "    }\n",
       "    return destination;\n",
       "}\n",
       "\n",
       "function update_widget(widget, values) {\n",
       "\tif (widget.hasClass(\"ui-slider\")) {\n",
       "\t\twidget.slider('option',\n",
       "\t\t\t\t\t  {'min': 0, 'max': values.length-1,\n",
       "\t\t\t\t\t   'dim_vals': values, 'value': 0,\n",
       "\t\t\t\t\t   'dim_labels': values})\n",
       "\t\twidget.slider('option', 'slide').call(widget, event, {'value': 0})\n",
       "\t} else {\n",
       "\t\twidget.empty();\n",
       "\t\tfor (var i=0; i<values.length; i++){\n",
       "\t\t\twidget.append($(\"<option>\", {\n",
       "\t\t\t\tvalue: i,\n",
       "\t\t\t\ttext: values[i]\n",
       "\t\t\t}))};\n",
       "\t\twidget.data('values', values);\n",
       "\t\twidget.data('value', 0);\n",
       "\t\twidget.trigger(\"change\");\n",
       "\t};\n",
       "}\n",
       "\n",
       "// Define MPL specific subclasses\n",
       "function MPLSelectionWidget() {\n",
       "\tSelectionWidget.apply(this, arguments);\n",
       "}\n",
       "\n",
       "function MPLScrubberWidget() {\n",
       "\tScrubberWidget.apply(this, arguments);\n",
       "}\n",
       "\n",
       "// Let them inherit from the baseclasses\n",
       "MPLSelectionWidget.prototype = Object.create(SelectionWidget.prototype);\n",
       "MPLScrubberWidget.prototype = Object.create(ScrubberWidget.prototype);\n",
       "\n",
       "// Define methods to override on widgets\n",
       "var MPLMethods = {\n",
       "\tinit_slider : function(init_val){\n",
       "\t\tif(this.load_json) {\n",
       "\t\t\tthis.from_json()\n",
       "\t\t} else {\n",
       "\t\t\tthis.update_cache();\n",
       "\t\t}\n",
       "\t\tthis.update(0);\n",
       "\t\tif(this.mode == 'nbagg') {\n",
       "\t\t\tthis.set_frame(init_val, 0);\n",
       "\t\t}\n",
       "\t},\n",
       "\tpopulate_cache : function(idx){\n",
       "\t\tvar cache_id = this.img_id+\"_\"+idx;\n",
       "\t\tif(this.mode == 'mpld3') {\n",
       "\t\t\tmpld3.draw_figure(cache_id, this.frames[idx]);\n",
       "\t\t} else {\n",
       "\t\t\tthis.cache[idx].html(this.frames[idx]);\n",
       "\t\t}\n",
       "\t\tif (this.embed) {\n",
       "\t\t\tdelete this.frames[idx];\n",
       "\t\t}\n",
       "\t},\n",
       "\tdynamic_update : function(current){\n",
       "\t\tif (this.dynamic) {\n",
       "\t\t\tcurrent = JSON.stringify(current);\n",
       "\t\t}\n",
       "\t\tfunction callback(msg){\n",
       "\t\t\t/* This callback receives data from Python as a string\n",
       "\t\t\t in order to parse it correctly quotes are sliced off*/\n",
       "\t\t\tif (msg.content.ename != undefined) {\n",
       "\t\t\t\tthis.process_error(msg);\n",
       "\t\t\t}\n",
       "\t\t\tif (msg.msg_type != \"execute_result\") {\n",
       "\t\t\t\tconsole.log(\"Warning: HoloViews callback returned unexpected data for key: (\", current, \") with the following content:\", msg.content)\n",
       "\t\t\t\tthis.time = undefined;\n",
       "\t\t\t\treturn\n",
       "\t\t\t}\n",
       "\t\t\tif (!(this.mode == 'nbagg')) {\n",
       "\t\t\t\tif(!(current in this.cache)) {\n",
       "\t\t\t\t\tvar data = msg.content.data['text/plain'].slice(1, -1);\n",
       "\t\t\t\t\tif(this.mode == 'mpld3'){\n",
       "\t\t\t\t\t\tdata = JSON.parse(data)[0];\n",
       "\t\t\t\t\t}\n",
       "\t\t\t\t\tthis.frames[current] = data;\n",
       "\t\t\t\t\tthis.update_cache();\n",
       "\t\t\t\t}\n",
       "\t\t\t\tthis.update(current);\n",
       "\t\t\t}\n",
       "\t\t\tthis.timed = (Date.now() - this.time) * 1.5;\n",
       "\t\t\tthis.wait = false;\n",
       "\t\t\tif (this.queue.length > 0) {\n",
       "\t\t\t\tvar current_vals = this.queue[this.queue.length-1];\n",
       "\t\t\t\tthis.time = Date.now();\n",
       "\t\t\t\tthis.dynamic_update(current_vals);\n",
       "\t\t\t\tthis.queue = [];\n",
       "\t\t\t}\n",
       "\t\t}\n",
       "\t\tvar kernel = IPython.notebook.kernel;\n",
       "\t\tcallbacks = {iopub: {output: $.proxy(callback, this)}};\n",
       "\t\tvar cmd = \"holoviews.plotting.widgets.NdWidget.widgets['\" + this.id + \"'].update(\" + current + \")\";\n",
       "\t\tkernel.execute(\"import holoviews;\" + cmd, callbacks, {silent : false});\n",
       "\t}\n",
       "}\n",
       "\n",
       "// Extend MPL widgets with backend specific methods\n",
       "extend(MPLSelectionWidget.prototype, MPLMethods);\n",
       "extend(MPLScrubberWidget.prototype, MPLMethods);\n",
       "</script>\n",
       "\n",
       "\n",
       "<link rel=\"stylesheet\" href=\"https://code.jquery.com/ui/1.10.4/themes/smoothness/jquery-ui.css\">\n",
       "<style>div.hololayout {\n",
       "    display: flex;\n",
       "    align-items: center;\n",
       "    margin: 0;\n",
       "}\n",
       "\n",
       "div.holoframe {\n",
       "\twidth: 75%;\n",
       "}\n",
       "\n",
       "div.holowell {\n",
       "    display: flex;\n",
       "    align-items: center;\n",
       "    margin: 0;\n",
       "}\n",
       "\n",
       "form.holoform {\n",
       "    background-color: #fafafa;\n",
       "    border-radius: 5px;\n",
       "    overflow: hidden;\n",
       "\tpadding-left: 0.8em;\n",
       "    padding-right: 0.8em;\n",
       "    padding-top: 0.4em;\n",
       "    padding-bottom: 0.4em;\n",
       "}\n",
       "\n",
       "div.holowidgets {\n",
       "    padding-right: 0;\n",
       "\twidth: 25%;\n",
       "}\n",
       "\n",
       "div.holoslider {\n",
       "    min-height: 0 !important;\n",
       "    height: 0.8em;\n",
       "    width: 60%;\n",
       "}\n",
       "\n",
       "div.holoformgroup {\n",
       "    padding-top: 0.5em;\n",
       "    margin-bottom: 0.5em;\n",
       "}\n",
       "\n",
       "div.hologroup {\n",
       "    padding-left: 0;\n",
       "    padding-right: 0.8em;\n",
       "    width: 50%;\n",
       "}\n",
       "\n",
       ".holoselect {\n",
       "    width: 92%;\n",
       "    margin-left: 0;\n",
       "    margin-right: 0;\n",
       "}\n",
       "\n",
       ".holotext {\n",
       "    width: 100%;\n",
       "    padding-left:  0.5em;\n",
       "    padding-right: 0;\n",
       "}\n",
       "\n",
       ".holowidgets .ui-resizable-se {\n",
       "\tvisibility: hidden\n",
       "}\n",
       "\n",
       ".holoframe > .ui-resizable-se {\n",
       "\tvisibility: hidden\n",
       "}\n",
       "\n",
       ".holowidgets .ui-resizable-s {\n",
       "\tvisibility: hidden\n",
       "}\n",
       "</style>\n",
       "\n",
       "\n",
       "<div>\n",
       "<img src='data:image/png;base64,iVBORw0KGgoAAAANSUhEUgAAABkAAAAZCAIAAABLixI0AAAACXBIWXMAAAsTAAALEwEAmpwYAAAAB3RJTUUH3wkCDDIOi3cusgAABT1JREFUOMtVlclvG2UYh3/fMovHe53FThySNHZomrRJl6QR0AJdpVblQBEHJC4ciipxAgmO3PgPEP8BQkIsRUJUSF1oqGih0JY2CtnjOLGz2Em8xPbMeL6Pw9RJOprLjPT+5tH7Pu83JE7pqeHh8wMD2evfyXMXf/nxB2FZo6dPNzVHvvr6GxMQeOEigARswNzzUgK6x8NagPzS0nqxODQ62nLn1xMnX99/eLC3sGVROj2/IBxHABKgANlzM4ACTuMRAOecNREiAWtzc0NIEu/M37zVMTWeqlrpUDg1M7NTVgdkowwvxqGRRV1CE8jOznq7uhYAi2CpXtdVVQE4QAAdCAAGwAAJyEa9Amh7PsAihBBAABrg1XUfpe3bxTXb8XR0WJa1VSzWGyAcUAEVoIAARIMOQH2HC4AA6lKW8/n9Pm/Ahl4zV8fGTg0PtzQ3K3tA3GId8AO+BqZLt8sFQKE0GouRSkWtFM63KV0Vy1rJhN44k56cFFI6exJ3MBWANACVHS63aw5QtutVVT/4xWfHv/0ylytmHvx56sIFLxACfIABGIAf8ANRn++9y5evXrkS0XWXd5dLJWRfOHwspA1tr4iFtP3gD8/apjCtSDiyQYhZKNA94wOQTCQPhfzm9FTJH8jn84Tz3SyPlEQ4vf0Dt5/MPE5vpVObzQbxqvaDdL731MnWnh5pmsxxdE3rTCZfO3u2FbL6+2+hzpcKwXA2ldrNUgAVII7TMXhkZnzcAQTgAWI6sgV7YmKivLra1tFxMJk4Ho/r5fLy3btsYS7JHL1YoeHQKldKhcLzLNcdlRDOWDgczuVyOtDt4yN9gRYVmc161TTLmYw9P9e8OHcU5dG2fa3EmhNyKjGwROmzZ8+YqlIAKsDd9jtOenIy1t8vgDJQtuvYrjRT0kMQBRIUQxqSXkSDUIO0YAulvdfxGk/u33eVZs2EeBvu6gCjtKW7Oz81xQBhI73mtATQn/BuZ6wTrezsYX+1Jn+aNR8sl9Zb47l4/O+HD2u27QDgnHUQwhvKuFmRaLS2tkZsmwJSQpqIUzHYyynndx5t/1Vy5gXyhMhorEJIKpViQB0QnFNlZzkbdExRhBAckIAFbFXFetkpg94er004WK6jCniamrRAYHlmxhXFtWTXVfW50SQYDjvVKm+YHVMR10G5VAGrcWAohkEVpbC1RRo7QN2mS0BzuQiJHziwMTurAwrgBTo95NVjnshb3XaF9q1MTM7VeWNv6kJQgAISYAAHuARUQAHA2NCZM35KJ27c6KA4YiBXJlpVro5bkaGN2mStsCy8gAXobpyU7iFhAgxQAB40jMHh4WhnJ6nVpsfGVjOZUQMhi40k9K1FqQZI4ogffd3k33GPobTb5kCIFmriEYjgnABao60KwD68eCnz5PH0vXsr4+OsVIpRvNmpnLvQEozRpm5vxAP107dx+RMlvGTcmw7Xle6DwZlsdbZY05qbAq2ta9msCkhAcM4+yv+3uFZWAA+gA5pEaUOUnpaMohb+/BK7+j76r4IliFoyAv9EjsZ4ZbMmyOKqmdvciiWTL4+OUsY8mkY554d7okGyciuHqgQFVIABlkJ9fV44FLFrz8ecuIZ3u6offzD1fSnFmJSgle35mzcdVQ1Eo23B4Eh7lJdWNgZGohM/r5QAjZEoaDzi0TfKPlFDV/KF35mqs0NN1v3iRrqqAT7Xbdti6UXPImKZaf5SQiUBtAIG0OVXXnmnDUJWb9nET7D8VPba7pAJTKRnxPUpI+v0BXlApZPrlgDaCTke1VqaaLZC/wesjSVVF5Ac7QAAAABJRU5ErkJggg=='\n",
       "     style='width:25px;height:25px; border-radius:12px;'/>\n",
       "\n",
       "HoloViewsJS successfully loaded in this cell.\n",
       "</div>\n"
      ],
      "text/plain": [
       "<IPython.core.display.HTML object>"
      ]
     },
     "metadata": {},
     "output_type": "display_data"
    }
   ],
   "source": [
    "import holoviews as hv\n",
    "\n",
    "hv.notebook_extension()"
   ]
  },
  {
   "cell_type": "code",
   "execution_count": 118,
   "metadata": {
    "collapsed": false,
    "deletable": true,
    "editable": true
   },
   "outputs": [
    {
     "data": {
      "text/html": [
       "<img src='data:image/png;base64,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' style='max-width:100%; margin: auto; display: block; '/>"
      ],
      "text/plain": [
       "b':Table   [ZIP CODE]   (COLLISIONS)'"
      ]
     },
     "execution_count": 118,
     "metadata": {},
     "output_type": "execute_result"
    }
   ],
   "source": [
    "table = hv.Table((top_zips.index.values, top_zips['COLLISIONS'].values), kdims=['ZIP CODE'], vdims=['COLLISIONS'])\n",
    "table"
   ]
  },
  {
   "cell_type": "code",
   "execution_count": 119,
   "metadata": {
    "collapsed": false,
    "deletable": true,
    "editable": true
   },
   "outputs": [
    {
     "data": {
      "text/html": [
       "<img src='data:image/png;base64,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' style='max-width:100%; margin: auto; display: block; '/>"
      ],
      "text/plain": [
       "b':Bars   [ZIP CODE]   (COLLISIONS)'"
      ]
     },
     "execution_count": 119,
     "metadata": {},
     "output_type": "execute_result"
    }
   ],
   "source": [
    "hv.Bars(table)"
   ]
  },
  {
   "cell_type": "code",
   "execution_count": 120,
   "metadata": {
    "collapsed": false,
    "deletable": true,
    "editable": true
   },
   "outputs": [
    {
     "data": {
      "text/html": [
       "<img src='data:image/png;base64,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' style='max-width:100%; margin: auto; display: block; '/>"
      ],
      "text/plain": [
       ":Layout\n",
       "   .Scatter.I :Scatter   [ZIP CODE]   (COLLISIONS)\n",
       "   .Curve.I   :Curve   [ZIP CODE]   (COLLISIONS)\n",
       "   .Bars.I    :Bars   [ZIP CODE]   (COLLISIONS)"
      ]
     },
     "execution_count": 120,
     "metadata": {},
     "output_type": "execute_result"
    }
   ],
   "source": [
    "hv.Scatter(table) + hv.Curve(table) + hv.Bars(table)"
   ]
  },
  {
   "cell_type": "markdown",
   "metadata": {
    "deletable": true,
    "editable": true
   },
   "source": [
    "`holoviews`\n",
    "\n",
    "Advantages:\n",
    "* Powerful, high-throughput API.\n",
    "\n",
    "Either:\n",
    "* Grammer of Graphics design.\n",
    "\n",
    "Disadvantages:\n",
    "* High learning curve."
   ]
  },
  {
   "cell_type": "markdown",
   "metadata": {
    "deletable": true,
    "editable": true
   },
   "source": [
    "## leather"
   ]
  },
  {
   "cell_type": "markdown",
   "metadata": {
    "deletable": true,
    "editable": true
   },
   "source": [
    "Can't even get this working...?\n",
    "\n",
    "Looks like a `pygal`-lite written by someone with no awareness of `pandas` or `numpy`. Only useful for toy examples. Don't use this."
   ]
  },
  {
   "cell_type": "code",
   "execution_count": 54,
   "metadata": {
    "collapsed": true,
    "deletable": true,
    "editable": true
   },
   "outputs": [],
   "source": [
    "# import leather"
   ]
  },
  {
   "cell_type": "code",
   "execution_count": 117,
   "metadata": {
    "collapsed": false,
    "deletable": true,
    "editable": true
   },
   "outputs": [],
   "source": [
    "# datum = top_zips.reset_index().values.T.tolist()\n",
    "# datum[0] = [str(d) for d in datum[0]]\n",
    "\n",
    "# print(datum)\n",
    "\n",
    "# chart = leather.Chart()\n",
    "# chart.add_bars(datum, x=0, y=1)\n",
    "\n",
    "# chart"
   ]
  },
  {
   "cell_type": "markdown",
   "metadata": {
    "deletable": true,
    "editable": true
   },
   "source": [
    "## bqplot"
   ]
  },
  {
   "cell_type": "code",
   "execution_count": 17,
   "metadata": {
    "collapsed": false,
    "deletable": true,
    "editable": true
   },
   "outputs": [],
   "source": [
    "from bqplot import pyplot as bqplt\n",
    "import numpy as np\n",
    "\n",
    "bqplt.figure(2, title='Line Chart')\n",
    "bqplt.bar(range(len(top_zips.index)), \n",
    "        top_zips.values,\n",
    "        tick_label=top_zips.index)\n",
    "\n",
    "bqplt.show()"
   ]
  },
  {
   "cell_type": "code",
   "execution_count": null,
   "metadata": {
    "collapsed": true,
    "deletable": true,
    "editable": true
   },
   "outputs": [],
   "source": []
  }
 ],
 "metadata": {
  "kernelspec": {
   "display_name": "Python 3",
   "language": "python",
   "name": "python3"
  },
  "language_info": {
   "codemirror_mode": {
    "name": "ipython",
    "version": 3
   },
   "file_extension": ".py",
   "mimetype": "text/x-python",
   "name": "python",
   "nbconvert_exporter": "python",
   "pygments_lexer": "ipython3",
   "version": "3.5.3"
  },
  "widgets": {
   "state": {
    "c1f759a90bad479a85a6732be7daa50e": {
     "views": [
      {
       "cell_index": 56
      }
     ]
    }
   },
   "version": "1.2.0"
  }
 },
 "nbformat": 4,
 "nbformat_minor": 2
}
