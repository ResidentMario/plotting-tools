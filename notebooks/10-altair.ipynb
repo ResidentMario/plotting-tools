{
 "cells": [
  {
   "cell_type": "markdown",
   "metadata": {
    "collapsed": true,
    "deletable": true,
    "editable": true
   },
   "source": [
    "Altair is the last library we'll cover, and also the newest. It was released late last year in 2016, and is the product of work by two leading figures in the PyData community, Brian Granger, one of the core IPython developers, and Jake VanderPlas, who, among other things, wrote `mpld3`.\n",
    "\n",
    "They wrote this visualization library to solve an (ironically posed) problem: there are too many visualization libraries!\n",
    "\n",
    "Here's a slide from Granger's talk from PyData 2016 introducing `altair`:"
   ]
  },
  {
   "cell_type": "markdown",
   "metadata": {},
   "source": [
    "*intro slide from his talk here...*"
   ]
  },
  {
   "cell_type": "code",
   "execution_count": null,
   "metadata": {
    "collapsed": true
   },
   "outputs": [],
   "source": []
  }
 ],
 "metadata": {
  "kernelspec": {
   "display_name": "Python 3",
   "language": "python",
   "name": "python3"
  },
  "language_info": {
   "codemirror_mode": {
    "name": "ipython",
    "version": 3
   },
   "file_extension": ".py",
   "mimetype": "text/x-python",
   "name": "python",
   "nbconvert_exporter": "python",
   "pygments_lexer": "ipython3",
   "version": "3.5.3"
  }
 },
 "nbformat": 4,
 "nbformat_minor": 2
}
