{
 "cells": [
  {
   "cell_type": "code",
   "execution_count": 36,
   "metadata": {
    "collapsed": false
   },
   "outputs": [
    {
     "data": {
      "image/png": "[encoded data removed]",
      "text/plain": [
       "<matplotlib.figure.Figure at 0x115fc4a20>"
      ]
     },
     "metadata": {},
     "output_type": "display_data"
    },
    {
     "data": {
      "text/plain": [
       "<ggplot: (-9223372036558772115)>"
      ]
     },
     "execution_count": 36,
     "metadata": {},
     "output_type": "execute_result"
    }
   ],
   "source": [
    "from ggplot import ggplot, aes, geom_bar, mtcars\n",
    "\n",
    "(\n",
    "    ggplot(aes(x='cyl'), data=mtcars)\n",
    "    + geom_bar()\n",
    ")"
   ]
  },
  {
   "cell_type": "code",
   "execution_count": 41,
   "metadata": {
    "collapsed": true
   },
   "outputs": [],
   "source": [
    "import pandas as pd"
   ]
  },
  {
   "cell_type": "code",
   "execution_count": 43,
   "metadata": {
    "collapsed": false
   },
   "outputs": [
    {
     "data": {
      "image/png": "[encoded data removed]",
      "text/plain": [
       "<matplotlib.figure.Figure at 0x11a6de0f0>"
      ]
     },
     "metadata": {},
     "output_type": "display_data"
    },
    {
     "data": {
      "text/plain": [
       "<ggplot: (-9223372036558625101)>"
      ]
     },
     "execution_count": 43,
     "metadata": {},
     "output_type": "execute_result"
    }
   ],
   "source": [
    "(\n",
    "    ggplot(aes(x='count(cyl)'), data=pd.DataFrame(mtcars.groupby('cyl').count()['name'].rename('count(cyl)')))\n",
    "    + geom_bar()\n",
    ")"
   ]
  },
  {
   "cell_type": "code",
   "execution_count": 32,
   "metadata": {
    "collapsed": false
   },
   "outputs": [
    {
     "data": {
      "text/plain": [
       "<matplotlib.axes._subplots.AxesSubplot at 0x1179db320>"
      ]
     },
     "execution_count": 32,
     "metadata": {},
     "output_type": "execute_result"
    },
    {
     "data": {
      "image/png": "[encoded data removed]",
      "text/plain": [
       "<matplotlib.figure.Figure at 0x117a21978>"
      ]
     },
     "metadata": {},
     "output_type": "display_data"
    }
   ],
   "source": [
    "%matplotlib inline\n",
    "\n",
    "mtcars.groupby('cyl').count()['name'].rename('count(cyl)').plot.bar(figsize=(10, 6))"
   ]
  },
  {
   "cell_type": "code",
   "execution_count": 10,
   "metadata": {
    "collapsed": false
   },
   "outputs": [
    {
     "data": {
      "text/html": [
       "<div>\n",
       "<table border=\"1\" class=\"dataframe\">\n",
       "  <thead>\n",
       "    <tr style=\"text-align: right;\">\n",
       "      <th></th>\n",
       "      <th>name</th>\n",
       "      <th>mpg</th>\n",
       "      <th>cyl</th>\n",
       "      <th>disp</th>\n",
       "      <th>hp</th>\n",
       "      <th>drat</th>\n",
       "      <th>wt</th>\n",
       "      <th>qsec</th>\n",
       "      <th>vs</th>\n",
       "      <th>am</th>\n",
       "      <th>gear</th>\n",
       "      <th>carb</th>\n",
       "    </tr>\n",
       "  </thead>\n",
       "  <tbody>\n",
       "    <tr>\n",
       "      <th>0</th>\n",
       "      <td>Mazda RX4</td>\n",
       "      <td>21.0</td>\n",
       "      <td>6</td>\n",
       "      <td>160.0</td>\n",
       "      <td>110</td>\n",
       "      <td>3.90</td>\n",
       "      <td>2.620</td>\n",
       "      <td>16.46</td>\n",
       "      <td>0</td>\n",
       "      <td>1</td>\n",
       "      <td>4</td>\n",
       "      <td>4</td>\n",
       "    </tr>\n",
       "    <tr>\n",
       "      <th>1</th>\n",
       "      <td>Mazda RX4 Wag</td>\n",
       "      <td>21.0</td>\n",
       "      <td>6</td>\n",
       "      <td>160.0</td>\n",
       "      <td>110</td>\n",
       "      <td>3.90</td>\n",
       "      <td>2.875</td>\n",
       "      <td>17.02</td>\n",
       "      <td>0</td>\n",
       "      <td>1</td>\n",
       "      <td>4</td>\n",
       "      <td>4</td>\n",
       "    </tr>\n",
       "    <tr>\n",
       "      <th>2</th>\n",
       "      <td>Datsun 710</td>\n",
       "      <td>22.8</td>\n",
       "      <td>4</td>\n",
       "      <td>108.0</td>\n",
       "      <td>93</td>\n",
       "      <td>3.85</td>\n",
       "      <td>2.320</td>\n",
       "      <td>18.61</td>\n",
       "      <td>1</td>\n",
       "      <td>1</td>\n",
       "      <td>4</td>\n",
       "      <td>1</td>\n",
       "    </tr>\n",
       "    <tr>\n",
       "      <th>3</th>\n",
       "      <td>Hornet 4 Drive</td>\n",
       "      <td>21.4</td>\n",
       "      <td>6</td>\n",
       "      <td>258.0</td>\n",
       "      <td>110</td>\n",
       "      <td>3.08</td>\n",
       "      <td>3.215</td>\n",
       "      <td>19.44</td>\n",
       "      <td>1</td>\n",
       "      <td>0</td>\n",
       "      <td>3</td>\n",
       "      <td>1</td>\n",
       "    </tr>\n",
       "    <tr>\n",
       "      <th>4</th>\n",
       "      <td>Hornet Sportabout</td>\n",
       "      <td>18.7</td>\n",
       "      <td>8</td>\n",
       "      <td>360.0</td>\n",
       "      <td>175</td>\n",
       "      <td>3.15</td>\n",
       "      <td>3.440</td>\n",
       "      <td>17.02</td>\n",
       "      <td>0</td>\n",
       "      <td>0</td>\n",
       "      <td>3</td>\n",
       "      <td>2</td>\n",
       "    </tr>\n",
       "  </tbody>\n",
       "</table>\n",
       "</div>"
      ],
      "text/plain": [
       "                name   mpg  cyl   disp   hp  drat     wt   qsec  vs  am  gear  \\\n",
       "0          Mazda RX4  21.0    6  160.0  110  3.90  2.620  16.46   0   1     4   \n",
       "1      Mazda RX4 Wag  21.0    6  160.0  110  3.90  2.875  17.02   0   1     4   \n",
       "2         Datsun 710  22.8    4  108.0   93  3.85  2.320  18.61   1   1     4   \n",
       "3     Hornet 4 Drive  21.4    6  258.0  110  3.08  3.215  19.44   1   0     3   \n",
       "4  Hornet Sportabout  18.7    8  360.0  175  3.15  3.440  17.02   0   0     3   \n",
       "\n",
       "   carb  \n",
       "0     4  \n",
       "1     4  \n",
       "2     1  \n",
       "3     1  \n",
       "4     2  "
      ]
     },
     "execution_count": 10,
     "metadata": {},
     "output_type": "execute_result"
    }
   ],
   "source": [
    "mtcars.head()"
   ]
  },
  {
   "cell_type": "code",
   "execution_count": 24,
   "metadata": {
    "collapsed": false,
    "scrolled": false
   },
   "outputs": [
    {
     "data": {
      "text/plain": [
       "cyl\n",
       "4    11\n",
       "6     7\n",
       "8    14\n",
       "Name: count(cyl), dtype: int64"
      ]
     },
     "execution_count": 24,
     "metadata": {},
     "output_type": "execute_result"
    }
   ],
   "source": [
    "mtcars.groupby('cyl').count()['name'].rename('count(cyl)')"
   ]
  },
  {
   "cell_type": "code",
   "execution_count": null,
   "metadata": {
    "collapsed": true
   },
   "outputs": [],
   "source": []
  },
  {
   "cell_type": "code",
   "execution_count": 23,
   "metadata": {
    "collapsed": false
   },
   "outputs": [
    {
     "data": {
      "text/html": [
       "<div class=\"vega-embed\" id=\"e4d63fcc-d63d-4888-a4c9-a74dfa780ce6\"></div>\n",
       "\n",
       "<style>\n",
       ".vega-embed svg, .vega-embed canvas {\n",
       "  border: 1px dotted gray;\n",
       "}\n",
       "\n",
       ".vega-embed .vega-actions a {\n",
       "  margin-right: 6px;\n",
       "}\n",
       "</style>\n"
      ]
     },
     "metadata": {
      "jupyter-vega": "#e4d63fcc-d63d-4888-a4c9-a74dfa780ce6"
     },
     "output_type": "display_data"
    },
    {
     "data": {
      "application/javascript": [
       "var spec = {\"config\": {\"cell\": {\"width\": 500, \"height\": 350}}, \"data\": {\"values\": [{\"gear\": 4, \"mpg\": 21.0, \"disp\": 160.0, \"am\": 1, \"hp\": 110, \"carb\": 4, \"wt\": 2.62, \"vs\": 0, \"drat\": 3.9, \"cyl\": 6, \"name\": \"Mazda RX4\", \"qsec\": 16.46}, {\"gear\": 4, \"mpg\": 21.0, \"disp\": 160.0, \"am\": 1, \"hp\": 110, \"carb\": 4, \"wt\": 2.875, \"vs\": 0, \"drat\": 3.9, \"cyl\": 6, \"name\": \"Mazda RX4 Wag\", \"qsec\": 17.02}, {\"gear\": 4, \"mpg\": 22.8, \"disp\": 108.0, \"am\": 1, \"hp\": 93, \"carb\": 1, \"wt\": 2.32, \"vs\": 1, \"drat\": 3.85, \"cyl\": 4, \"name\": \"Datsun 710\", \"qsec\": 18.61}, {\"gear\": 3, \"mpg\": 21.4, \"disp\": 258.0, \"am\": 0, \"hp\": 110, \"carb\": 1, \"wt\": 3.215, \"vs\": 1, \"drat\": 3.08, \"cyl\": 6, \"name\": \"Hornet 4 Drive\", \"qsec\": 19.44}, {\"gear\": 3, \"mpg\": 18.7, \"disp\": 360.0, \"am\": 0, \"hp\": 175, \"carb\": 2, \"wt\": 3.44, \"vs\": 0, \"drat\": 3.15, \"cyl\": 8, \"name\": \"Hornet Sportabout\", \"qsec\": 17.02}, {\"gear\": 3, \"mpg\": 18.1, \"disp\": 225.0, \"am\": 0, \"hp\": 105, \"carb\": 1, \"wt\": 3.46, \"vs\": 1, \"drat\": 2.76, \"cyl\": 6, \"name\": \"Valiant\", \"qsec\": 20.22}, {\"gear\": 3, \"mpg\": 14.3, \"disp\": 360.0, \"am\": 0, \"hp\": 245, \"carb\": 4, \"wt\": 3.57, \"vs\": 0, \"drat\": 3.21, \"cyl\": 8, \"name\": \"Duster 360\", \"qsec\": 15.84}, {\"gear\": 4, \"mpg\": 24.4, \"disp\": 146.7, \"am\": 0, \"hp\": 62, \"carb\": 2, \"wt\": 3.19, \"vs\": 1, \"drat\": 3.69, \"cyl\": 4, \"name\": \"Merc 240D\", \"qsec\": 20.0}, {\"gear\": 4, \"mpg\": 22.8, \"disp\": 140.8, \"am\": 0, \"hp\": 95, \"carb\": 2, \"wt\": 3.15, \"vs\": 1, \"drat\": 3.92, \"cyl\": 4, \"name\": \"Merc 230\", \"qsec\": 22.9}, {\"gear\": 4, \"mpg\": 19.2, \"disp\": 167.6, \"am\": 0, \"hp\": 123, \"carb\": 4, \"wt\": 3.44, \"vs\": 1, \"drat\": 3.92, \"cyl\": 6, \"name\": \"Merc 280\", \"qsec\": 18.3}, {\"gear\": 4, \"mpg\": 17.8, \"disp\": 167.6, \"am\": 0, \"hp\": 123, \"carb\": 4, \"wt\": 3.44, \"vs\": 1, \"drat\": 3.92, \"cyl\": 6, \"name\": \"Merc 280C\", \"qsec\": 18.9}, {\"gear\": 3, \"mpg\": 16.4, \"disp\": 275.8, \"am\": 0, \"hp\": 180, \"carb\": 3, \"wt\": 4.07, \"vs\": 0, \"drat\": 3.07, \"cyl\": 8, \"name\": \"Merc 450SE\", \"qsec\": 17.4}, {\"gear\": 3, \"mpg\": 17.3, \"disp\": 275.8, \"am\": 0, \"hp\": 180, \"carb\": 3, \"wt\": 3.73, \"vs\": 0, \"drat\": 3.07, \"cyl\": 8, \"name\": \"Merc 450SL\", \"qsec\": 17.6}, {\"gear\": 3, \"mpg\": 15.2, \"disp\": 275.8, \"am\": 0, \"hp\": 180, \"carb\": 3, \"wt\": 3.78, \"vs\": 0, \"drat\": 3.07, \"cyl\": 8, \"name\": \"Merc 450SLC\", \"qsec\": 18.0}, {\"gear\": 3, \"mpg\": 10.4, \"disp\": 472.0, \"am\": 0, \"hp\": 205, \"carb\": 4, \"wt\": 5.25, \"vs\": 0, \"drat\": 2.93, \"cyl\": 8, \"name\": \"Cadillac Fleetwood\", \"qsec\": 17.98}, {\"gear\": 3, \"mpg\": 10.4, \"disp\": 460.0, \"am\": 0, \"hp\": 215, \"carb\": 4, \"wt\": 5.4239999999999995, \"vs\": 0, \"drat\": 3.0, \"cyl\": 8, \"name\": \"Lincoln Continental\", \"qsec\": 17.82}, {\"gear\": 3, \"mpg\": 14.7, \"disp\": 440.0, \"am\": 0, \"hp\": 230, \"carb\": 4, \"wt\": 5.345, \"vs\": 0, \"drat\": 3.23, \"cyl\": 8, \"name\": \"Chrysler Imperial\", \"qsec\": 17.42}, {\"gear\": 4, \"mpg\": 32.4, \"disp\": 78.7, \"am\": 1, \"hp\": 66, \"carb\": 1, \"wt\": 2.2, \"vs\": 1, \"drat\": 4.08, \"cyl\": 4, \"name\": \"Fiat 128\", \"qsec\": 19.47}, {\"gear\": 4, \"mpg\": 30.4, \"disp\": 75.7, \"am\": 1, \"hp\": 52, \"carb\": 2, \"wt\": 1.615, \"vs\": 1, \"drat\": 4.93, \"cyl\": 4, \"name\": \"Honda Civic\", \"qsec\": 18.52}, {\"gear\": 4, \"mpg\": 33.9, \"disp\": 71.1, \"am\": 1, \"hp\": 65, \"carb\": 1, \"wt\": 1.835, \"vs\": 1, \"drat\": 4.22, \"cyl\": 4, \"name\": \"Toyota Corolla\", \"qsec\": 19.9}, {\"gear\": 3, \"mpg\": 21.5, \"disp\": 120.1, \"am\": 0, \"hp\": 97, \"carb\": 1, \"wt\": 2.465, \"vs\": 1, \"drat\": 3.7, \"cyl\": 4, \"name\": \"Toyota Corona\", \"qsec\": 20.01}, {\"gear\": 3, \"mpg\": 15.5, \"disp\": 318.0, \"am\": 0, \"hp\": 150, \"carb\": 2, \"wt\": 3.52, \"vs\": 0, \"drat\": 2.76, \"cyl\": 8, \"name\": \"Dodge Challenger\", \"qsec\": 16.87}, {\"gear\": 3, \"mpg\": 15.2, \"disp\": 304.0, \"am\": 0, \"hp\": 150, \"carb\": 2, \"wt\": 3.435, \"vs\": 0, \"drat\": 3.15, \"cyl\": 8, \"name\": \"AMC Javelin\", \"qsec\": 17.3}, {\"gear\": 3, \"mpg\": 13.3, \"disp\": 350.0, \"am\": 0, \"hp\": 245, \"carb\": 4, \"wt\": 3.84, \"vs\": 0, \"drat\": 3.73, \"cyl\": 8, \"name\": \"Camaro Z28\", \"qsec\": 15.41}, {\"gear\": 3, \"mpg\": 19.2, \"disp\": 400.0, \"am\": 0, \"hp\": 175, \"carb\": 2, \"wt\": 3.845, \"vs\": 0, \"drat\": 3.08, \"cyl\": 8, \"name\": \"Pontiac Firebird\", \"qsec\": 17.05}, {\"gear\": 4, \"mpg\": 27.3, \"disp\": 79.0, \"am\": 1, \"hp\": 66, \"carb\": 1, \"wt\": 1.935, \"vs\": 1, \"drat\": 4.08, \"cyl\": 4, \"name\": \"Fiat X1-9\", \"qsec\": 18.9}, {\"gear\": 5, \"mpg\": 26.0, \"disp\": 120.3, \"am\": 1, \"hp\": 91, \"carb\": 2, \"wt\": 2.14, \"vs\": 0, \"drat\": 4.43, \"cyl\": 4, \"name\": \"Porsche 914-2\", \"qsec\": 16.7}, {\"gear\": 5, \"mpg\": 30.4, \"disp\": 95.1, \"am\": 1, \"hp\": 113, \"carb\": 2, \"wt\": 1.5130000000000001, \"vs\": 1, \"drat\": 3.77, \"cyl\": 4, \"name\": \"Lotus Europa\", \"qsec\": 16.9}, {\"gear\": 5, \"mpg\": 15.8, \"disp\": 351.0, \"am\": 1, \"hp\": 264, \"carb\": 4, \"wt\": 3.17, \"vs\": 0, \"drat\": 4.22, \"cyl\": 8, \"name\": \"Ford Pantera L\", \"qsec\": 14.5}, {\"gear\": 5, \"mpg\": 19.7, \"disp\": 145.0, \"am\": 1, \"hp\": 175, \"carb\": 6, \"wt\": 2.77, \"vs\": 0, \"drat\": 3.62, \"cyl\": 6, \"name\": \"Ferrari Dino\", \"qsec\": 15.5}, {\"gear\": 5, \"mpg\": 15.0, \"disp\": 301.0, \"am\": 1, \"hp\": 335, \"carb\": 8, \"wt\": 3.57, \"vs\": 0, \"drat\": 3.54, \"cyl\": 8, \"name\": \"Maserati Bora\", \"qsec\": 14.6}, {\"gear\": 4, \"mpg\": 21.4, \"disp\": 121.0, \"am\": 1, \"hp\": 109, \"carb\": 2, \"wt\": 2.78, \"vs\": 1, \"drat\": 4.11, \"cyl\": 4, \"name\": \"Volvo 142E\", \"qsec\": 18.6}]}, \"encoding\": {\"x\": {\"field\": \"cyl\", \"type\": \"quantitative\"}, \"y\": {\"aggregate\": \"count\", \"field\": \"cyl\", \"type\": \"quantitative\"}}, \"mark\": \"bar\"};\n",
       "var selector = \"#e4d63fcc-d63d-4888-a4c9-a74dfa780ce6\";\n",
       "var type = \"vega-lite\";\n",
       "\n",
       "var output_area = this;\n",
       "require(['nbextensions/jupyter-vega/index'], function(vega) {\n",
       "  vega.render(selector, spec, type, output_area);\n",
       "}, function (err) {\n",
       "  if (err.requireType !== 'scripterror') {\n",
       "    throw(err);\n",
       "  }\n",
       "});\n"
      ]
     },
     "metadata": {
      "jupyter-vega": "#e4d63fcc-d63d-4888-a4c9-a74dfa780ce6"
     },
     "output_type": "display_data"
    },
    {
     "data": {
      "image/png": "[encoded data removed]"
     },
     "metadata": {
      "jupyter-vega": "#e4d63fcc-d63d-4888-a4c9-a74dfa780ce6"
     },
     "output_type": "display_data"
    }
   ],
   "source": [
    "import altair\n",
    "\n",
    "# load data as a pandas DataFrame\n",
    "altair.Chart(mtcars).mark_bar().encode(\n",
    "    x='cyl',\n",
    "    y='count(cyl)'\n",
    ")"
   ]
  }
 ],
 "metadata": {
  "kernelspec": {
   "display_name": "Python 3",
   "language": "python",
   "name": "python3"
  },
  "language_info": {
   "codemirror_mode": {
    "name": "ipython",
    "version": 3
   },
   "file_extension": ".py",
   "mimetype": "text/x-python",
   "name": "python",
   "nbconvert_exporter": "python",
   "pygments_lexer": "ipython3",
   "version": "3.5.3"
  }
 },
 "nbformat": 4,
 "nbformat_minor": 2
}
